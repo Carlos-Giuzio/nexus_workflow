{
 "cells": [
  {
   "cell_type": "markdown",
   "metadata": {
    "id": "fBYh5dui7deI"
   },
   "source": [
    "<h1>Table of Contents<span class=\"tocSkip\"></span></h1>\n",
    "<div class=\"toc\"><ul class=\"toc-item\"><li><span><a href=\"#Pre-requisites\" data-toc-modified-id=\"Pre-requisites-1\"><span class=\"toc-item-num\">1&nbsp;&nbsp;</span>Pre-requisites</a></span></li><li><span><a href=\"#Instructions\" data-toc-modified-id=\"Instructions-2\"><span class=\"toc-item-num\">2&nbsp;&nbsp;</span>Instructions</a></span></li><li><span><a href=\"#Imports-and-Constants\" data-toc-modified-id=\"Imports-and-Constants-3\"><span class=\"toc-item-num\">3&nbsp;&nbsp;</span>Imports and Constants</a></span></li><li><span><a href=\"#Validate-and-Split-Exported-TFRecords\" data-toc-modified-id=\"Validate-and-Split-Exported-TFRecords-4\"><span class=\"toc-item-num\">4&nbsp;&nbsp;</span>Validate and Split Exported TFRecords</a></span></li><li><span><a href=\"#Calculate-Mean-and-Std-Dev-for-Each-Band\" data-toc-modified-id=\"Calculate-Mean-and-Std-Dev-for-Each-Band-5\"><span class=\"toc-item-num\">5&nbsp;&nbsp;</span>Calculate Mean and Std-Dev for Each Band</a></span></li></ul></div>"
   ]
  },
  {
   "cell_type": "markdown",
   "metadata": {
    "id": "a160rIz57deN"
   },
   "source": [
    "## Pre-requisites\n",
    "\n",
    "Go through the [`preprocessing/0_export_tfrecords.ipynb`](./0_export_tfrecords.ipynb) notebook.\n",
    "\n",
    "Before running this notebook, you should have the following structure under the `data/` directory:\n",
    "\n",
    "```\n",
    "data/\n",
    "    dhs_tfrecords_raw/\n",
    "        angola_2011_00.tfrecord.gz\n",
    "        ...\n",
    "        zimbabwe_2015_XX.tfrecord.gz\n",
    "    dhsnl_tfrecords_raw/\n",
    "        angola_2010_00.tfrecord.gz\n",
    "        ...\n",
    "        zimbabwe_2016_XX.tfrecord.gz\n",
    "    lsms_tfrecords_raw/\n",
    "        ethiopia_2011_00.tfrecord.gz\n",
    "        ...\n",
    "        uganda_2013_XX.tfrecord.gz\n",
    "```\n",
    "\n",
    "## Instructions\n",
    "\n",
    "This notebook processes the exported TFRecords as follows:\n",
    "1. Verifies that the fields in the TFRecords match the original CSV files.\n",
    "2. Splits each monolithic TFRecord file exported from Google Earth Engine into one file per record.\n",
    "\n",
    "After running this notebook, you should have three new folders (`dhs_tfrecords`, `dhsnl_tfrecords`, and `lsms_tfrecords`) under `data/`:\n",
    "\n",
    "```\n",
    "data/\n",
    "    dhs_tfrecords/\n",
    "        angola_2011/\n",
    "            00000.tfrecord.gz\n",
    "            ...\n",
    "            00229.tfrecord.gz\n",
    "        ...\n",
    "        zimbabwe_2015/\n",
    "            00000.tfrecord.gz\n",
    "            ...\n",
    "            00399.tfrecord.gz\n",
    "    dhsnl_tfrecords/\n",
    "        angola_2010/\n",
    "            00000.tfrecord.gz\n",
    "            ...\n",
    "            07734.tfrecord.gz\n",
    "        zimbabwe_2016/\n",
    "            00000.tfrecord.gz\n",
    "            ...\n",
    "            03584.tfrecord.gz\n",
    "    lsms_tfrecords/\n",
    "        ethiopia_2011/\n",
    "            00000.tfrecord.gz\n",
    "            ...\n",
    "            00326.tfrecord.gz\n",
    "        uganda_2013/\n",
    "            00000.tfrecord.gz\n",
    "            ...\n",
    "            00164.tfrecord.gz\n",
    "```\n",
    "\n",
    "This notebook also calculates the mean and standard deviation of each band across each of the 3 datasets."
   ]
  },
  {
   "cell_type": "markdown",
   "metadata": {
    "id": "5OjJRuHfdNGB"
   },
   "source": [
    "## Prerequisites"
   ]
  },
  {
   "cell_type": "markdown",
   "metadata": {},
   "source": [
    "Installing Libraries "
   ]
  },
  {
   "cell_type": "code",
   "execution_count": 3,
   "metadata": {},
   "outputs": [
    {
     "name": "stdout",
     "output_type": "stream",
     "text": [
      "Collecting matplotlib\n",
      "  Using cached matplotlib-3.5.3-cp37-cp37m-manylinux_2_5_x86_64.manylinux1_x86_64.whl (11.2 MB)\n",
      "Collecting kiwisolver>=1.0.1\n",
      "  Using cached kiwisolver-1.4.4-cp37-cp37m-manylinux_2_5_x86_64.manylinux1_x86_64.whl (1.1 MB)\n",
      "Requirement already satisfied: pyparsing>=2.2.1 in /usr/local/lib/python3.7/site-packages (from matplotlib) (2.4.7)\n",
      "Requirement already satisfied: numpy>=1.17 in /usr/local/lib/python3.7/site-packages (from matplotlib) (1.18.5)\n",
      "Requirement already satisfied: packaging>=20.0 in /usr/local/lib/python3.7/site-packages (from matplotlib) (20.9)\n",
      "Collecting cycler>=0.10\n",
      "  Using cached cycler-0.11.0-py3-none-any.whl (6.4 kB)\n",
      "Requirement already satisfied: pillow>=6.2.0 in /usr/local/lib/python3.7/site-packages (from matplotlib) (8.2.0)\n",
      "Collecting fonttools>=4.22.0\n",
      "  Using cached fonttools-4.38.0-py3-none-any.whl (965 kB)\n",
      "Requirement already satisfied: python-dateutil>=2.7 in /usr/local/lib/python3.7/site-packages (from matplotlib) (2.8.2)\n",
      "Requirement already satisfied: typing-extensions in /usr/local/lib/python3.7/site-packages (from kiwisolver>=1.0.1->matplotlib) (3.7.4.3)\n",
      "Requirement already satisfied: six>=1.5 in /usr/local/lib/python3.7/site-packages (from python-dateutil>=2.7->matplotlib) (1.16.0)\n",
      "Installing collected packages: kiwisolver, fonttools, cycler, matplotlib\n",
      "Successfully installed cycler-0.11.0 fonttools-4.38.0 kiwisolver-1.4.4 matplotlib-3.5.3\n",
      "\u001b[33mWARNING: You are using pip version 21.0.1; however, version 22.3.1 is available.\n",
      "You should consider upgrading via the '/usr/local/bin/python3.7 -m pip install --upgrade pip' command.\u001b[0m\n",
      "Collecting tqdm\n",
      "  Using cached tqdm-4.64.1-py2.py3-none-any.whl (78 kB)\n",
      "Installing collected packages: tqdm\n",
      "Successfully installed tqdm-4.64.1\n",
      "\u001b[33mWARNING: You are using pip version 21.0.1; however, version 22.3.1 is available.\n",
      "You should consider upgrading via the '/usr/local/bin/python3.7 -m pip install --upgrade pip' command.\u001b[0m\n"
     ]
    }
   ],
   "source": [
    "!pip install matplotlib\n",
    "!pip install tqdm"
   ]
  },
  {
   "cell_type": "markdown",
   "metadata": {
    "id": "JW00Vwy87deO"
   },
   "source": [
    "## Imports and Constants"
   ]
  },
  {
   "cell_type": "code",
   "execution_count": 4,
   "metadata": {
    "executionInfo": {
     "elapsed": 3701,
     "status": "ok",
     "timestamp": 1667581021984,
     "user": {
      "displayName": "Rafael Araujo Coelho",
      "userId": "14667111767925500503"
     },
     "user_tz": 180
    },
    "id": "2PSaLmjy7deP"
   },
   "outputs": [
    {
     "name": "stdout",
     "output_type": "stream",
     "text": [
      "WARNING:tensorflow:From /usr/local/lib/python3.7/site-packages/tensorflow_core/__init__.py:1473: The name tf.estimator.inputs is deprecated. Please use tf.compat.v1.estimator.inputs instead.\n",
      "\n"
     ]
    },
    {
     "name": "stderr",
     "output_type": "stream",
     "text": [
      "/usr/local/lib/python3.7/site-packages/tqdm/auto.py:22: TqdmWarning: IProgress not found. Please update jupyter and ipywidgets. See https://ipywidgets.readthedocs.io/en/stable/user_install.html\n",
      "  from .autonotebook import tqdm as notebook_tqdm\n"
     ]
    }
   ],
   "source": [
    "from typing import Iterable\n",
    "from glob import glob\n",
    "from pprint import pprint\n",
    "import os\n",
    "\n",
    "import matplotlib.pyplot as plt\n",
    "import numpy as np\n",
    "import pandas as pd\n",
    "import tensorflow as tf\n",
    "from tqdm.auto import tqdm\n",
    "\n",
    "from batchers import batcher, tfrecord_paths_utils\n",
    "from preprocessing.helper import (\n",
    "    analyze_tfrecord_batch,\n",
    "    per_band_mean_std,\n",
    "    print_analysis_results)"
   ]
  },
  {
   "cell_type": "markdown",
   "metadata": {},
   "source": [
    "Image Bands, to calculate the statistics of its values"
   ]
  },
  {
   "cell_type": "code",
   "execution_count": 5,
   "metadata": {
    "executionInfo": {
     "elapsed": 12,
     "status": "ok",
     "timestamp": 1667579439747,
     "user": {
      "displayName": "Rafael Araujo Coelho",
      "userId": "14667111767925500503"
     },
     "user_tz": 180
    },
    "id": "2mqzJ2Ip7deQ"
   },
   "outputs": [],
   "source": [
    "REQUIRED_BANDS = [\n",
    "    'BLUE', 'GREEN', 'LAT', 'LON', 'NIGHTLIGHTS', 'NIR', 'RED',\n",
    "    'SWIR1', 'SWIR2', 'TEMP1']\n",
    "\n",
    "BANDS_ORDER = [\n",
    "    'BLUE', 'GREEN', 'RED', 'SWIR1', 'SWIR2', 'TEMP1', 'NIR',\n",
    "    'DMSP', 'VIIRS']"
   ]
  },
  {
   "cell_type": "markdown",
   "metadata": {},
   "source": [
    "Path to Files"
   ]
  },
  {
   "cell_type": "code",
   "execution_count": 6,
   "metadata": {
    "executionInfo": {
     "elapsed": 11,
     "status": "ok",
     "timestamp": 1667579439748,
     "user": {
      "displayName": "Rafael Araujo Coelho",
      "userId": "14667111767925500503"
     },
     "user_tz": 180
    },
    "id": "wg1bQeQGTAgJ"
   },
   "outputs": [],
   "source": [
    "BASE_PATH =  \"/root/Datasets/SelectedClusters/\"\n",
    "# csv File - Only with income Indicator\n",
    "DATASET_CSV_PATH = BASE_PATH + \"dataset_clean_2.csv\" \n",
    "# Path to raw tfrecords - Downloaded with code 01\n",
    "DHS_EXPORT_FOLDER = BASE_PATH + \"nexus_tfrecords_raw/\"\n",
    "# Path to processed tfrecords - output of this code\n",
    "DHS_PROCESSED_FOLDER = BASE_PATH + \"nexus_tfrecords_processed/\""
   ]
  },
  {
   "cell_type": "markdown",
   "metadata": {},
   "source": [
    "Checking how many countries and years are being processed\n",
    "\n",
    "In this case, only Brazil - 2010"
   ]
  },
  {
   "cell_type": "code",
   "execution_count": 7,
   "metadata": {},
   "outputs": [],
   "source": [
    "tf_paths = glob(os.path.join(DHS_EXPORT_FOLDER, 'brazil_2010*'))\n",
    "file_ids = [int(os.path.basename(file).replace('.tfrecord.gz', '')[-3:].replace('_', '')) for file in tf_paths]\n",
    "file_ids.sort()\n",
    "last_file_id = file_ids[0]\n",
    "for index, file_id in enumerate(file_ids):\n",
    "    if index != int(file_id):\n",
    "        print(index-1, last_file_id)\n",
    "        print(index, file_id)\n",
    "        break;\n",
    "    last_file_id = file_id"
   ]
  },
  {
   "cell_type": "markdown",
   "metadata": {
    "id": "9qyt52hI7deR"
   },
   "source": [
    "## Validate and Split Exported TFRecords"
   ]
  },
  {
   "cell_type": "code",
   "execution_count": 8,
   "metadata": {
    "id": "OxHadVmg7deR"
   },
   "outputs": [],
   "source": [
    "def process_dataset(csv_path: str, input_dir: str, processed_dir: str) -> None:\n",
    "    '''\n",
    "    Args\n",
    "    - csv_path: str, path to CSV of DHS or LSMS clusters\n",
    "    - input_dir: str, path to TFRecords exported from Google Earth Engine\n",
    "    - processed_dir: str, folder where to save processed TFRecords\n",
    "    '''\n",
    "    df = pd.read_csv(csv_path, float_precision='high', index_col=False)\n",
    "    surveys = list(df.groupby(['country', 'year']).groups.keys())  # (country, year) tuples\n",
    "\n",
    "    for country, year in surveys:\n",
    "        country_year = f'{country}_{year}'\n",
    "        print('Processing:', country_year)\n",
    "\n",
    "        tfrecord_paths = glob(os.path.join(input_dir, country_year + '*'))\n",
    "        out_dir = os.path.join(processed_dir, country_year)\n",
    "        os.makedirs(out_dir, exist_ok=True)\n",
    "        subset_df = df[(df['country'] == country) & (df['year'] == year)].reset_index(drop=True)\n",
    "        validate_and_split_tfrecords(\n",
    "            tfrecord_paths=tfrecord_paths, out_dir=out_dir, df=subset_df)\n",
    "\n",
    "\n",
    "def validate_and_split_tfrecords(\n",
    "        tfrecord_paths: Iterable[str],\n",
    "        out_dir: str,\n",
    "        df: pd.DataFrame\n",
    "        ) -> None:\n",
    "    '''\n",
    "    Validates and splits a list of exported TFRecord files (for a\n",
    "    given country-year survey) into individual TFrecords, one per cluster.\n",
    "\n",
    "    \"Validating\" a TFRecord comprises of 2 parts\n",
    "    1) verifying that it contains the required bands\n",
    "    2) verifying that its other features match the values from the dataset CSV\n",
    "\n",
    "    Args\n",
    "    - tfrecord_paths: str, path to exported TFRecords files\n",
    "    - out_dir: str, path to dir to save processed individual TFRecords\n",
    "    - df: pd.DataFrame, index is sequential and starts at 0\n",
    "    '''\n",
    "    # Create an iterator over the TFRecords file. The iterator yields\n",
    "    # the binary representations of Example messages as strings.\n",
    "    options = tf.io.TFRecordOptions(tf.io.TFRecordCompressionType.GZIP)\n",
    "\n",
    "    # cast float64 => float32 and str => bytes\n",
    "    for col in df.columns:\n",
    "        if df[col].dtype == np.float64:\n",
    "            df[col] = df[col].astype(np.float32)\n",
    "        elif df[col].dtype == object:  # pandas uses 'object' type for str\n",
    "            df[col] = df[col].astype(bytes)\n",
    "\n",
    "    i = 0\n",
    "    progbar = tqdm(total=len(df))\n",
    "\n",
    "    for tfrecord_path in tfrecord_paths:\n",
    "        iterator = tf.io.tf_record_iterator(tfrecord_path, options=options)\n",
    "        for record_str in iterator:\n",
    "            # parse into an actual Example message\n",
    "            ex = tf.train.Example.FromString(record_str)\n",
    "            feature_map = ex.features.feature\n",
    "\n",
    "            # Each sample feature has a point geometry and a property named 'elevation'\n",
    "            # corresponding to the band named 'elevation' of the image. If there are\n",
    "            # multiple bands they will become multiple properties. This will print:\n",
    "            #\n",
    "            # geometry: Point (-110.01, 40.00)\n",
    "            # properties:\n",
    "            #   elevation: 1639\n",
    "\n",
    "            # verify required bands exist\n",
    "            #for band in REQUIRED_BANDS:\n",
    "                #assert band in feature_map, f'Band \"{band}\" not in record {i} of {tfrecord_path}'\n",
    "\n",
    "            # compare feature map values against CSV values\n",
    "            csv_feats = df.loc[i, :].to_dict()\n",
    "            #for col, val in csv_feats.items():\n",
    "            #    ft_type = feature_map[col].WhichOneof('kind')\n",
    "            #    ex_val = feature_map[col].__getattribute__(ft_type).value[0]\n",
    "                #assert val == ex_val, f'Expected {col}={val}, but found {ex_val} instead'\n",
    "\n",
    "            # serialize to string and write to file\n",
    "            out_path = os.path.join(out_dir, f'{i:05d}.tfrecord.gz')  # all surveys have < 1e6 clusters\n",
    "            with tf.io.TFRecordWriter(out_path, options=options) as writer:\n",
    "                writer.write(ex.SerializeToString())\n",
    "\n",
    "            i += 1\n",
    "            #Sprogbar.update(1)\n",
    "    progbar.close()"
   ]
  },
  {
   "cell_type": "code",
   "execution_count": null,
   "metadata": {
    "colab": {
     "base_uri": "https://localhost:8080/",
     "height": 66,
     "referenced_widgets": [
      "300217688ee147e48a3f996ff2c8624b",
      "012907642355463087e52abcd6884165",
      "ffcdc40d9f7d47fcaffe5c0fbfacb896",
      "9f54398f1dc84ffa954a1199818cc744",
      "1fa55e418e0345bea3ffd3efdec22c6a",
      "7555321f491747b9b8613c800f093784",
      "7e1592b721fa4817a9627f90d8b8ef79",
      "b3c139fc03864f41808e069fd6848e8c",
      "6c4274087a364f98bd9a53f502d52635",
      "7e0b98531e5b49c3bfd5cd0621092539",
      "a36145b6aee04a0cb67986b4338c6dc3"
     ]
    },
    "executionInfo": {
     "elapsed": 573122,
     "status": "ok",
     "timestamp": 1667446142518,
     "user": {
      "displayName": "Rafael Araujo Coelho",
      "userId": "14667111767925500503"
     },
     "user_tz": 180
    },
    "id": "nAHOP49O7deT",
    "outputId": "b196b71a-7f86-438a-9598-7db9f7caa1d4",
    "scrolled": true
   },
   "outputs": [
    {
     "name": "stdout",
     "output_type": "stream",
     "text": [
      "Processing: brazil_2010\n"
     ]
    },
    {
     "name": "stderr",
     "output_type": "stream",
     "text": [
      "  0%|          | 0/20438 [00:00<?, ?it/s]"
     ]
    },
    {
     "name": "stdout",
     "output_type": "stream",
     "text": [
      "WARNING:tensorflow:From <ipython-input-8-1052433661f8>:56: tf_record_iterator (from tensorflow.python.lib.io.tf_record) is deprecated and will be removed in a future version.\n",
      "Instructions for updating:\n",
      "Use eager execution and: \n",
      "`tf.data.TFRecordDataset(path)`\n"
     ]
    }
   ],
   "source": [
    "process_dataset(\n",
    "    csv_path = DATASET_CSV_PATH,\n",
    "    input_dir = DHS_EXPORT_FOLDER,\n",
    "    processed_dir = DHS_PROCESSED_FOLDER)"
   ]
  },
  {
   "cell_type": "markdown",
   "metadata": {},
   "source": [
    "Verifying the amount of files created , 20438 to be exact"
   ]
  },
  {
   "cell_type": "code",
   "execution_count": null,
   "metadata": {},
   "outputs": [],
   "source": [
    "import os\n",
    "\n",
    "# folder path\n",
    "dir_path = \"/root/Datasets/SelectedClusters/nexus_tfrecords_processed_longevity/brazil_2010/\"\n",
    "count = 0\n",
    "# Iterate directory\n",
    "for path in os.listdir(dir_path):\n",
    "    # check if current path is a file\n",
    "    if os.path.isfile(os.path.join(dir_path, path)):\n",
    "        count += 1\n",
    "print('File count:', count)"
   ]
  },
  {
   "cell_type": "markdown",
   "metadata": {
    "id": "aGYn_neh7deV"
   },
   "source": [
    "## Calculate Mean and Std-Dev for Each Band\n",
    "\n",
    "The means and standard deviations calculated here are saved as constants in `batchers/dataset_constants.py` for `_MEANS_DHS`, `_STD_DEVS_DHS`, `_MEANS_LSMS`, and `_STD_DEVS_LSMS`."
   ]
  },
  {
   "cell_type": "code",
   "execution_count": null,
   "metadata": {
    "executionInfo": {
     "elapsed": 11,
     "status": "ok",
     "timestamp": 1667579439748,
     "user": {
      "displayName": "Rafael Araujo Coelho",
      "userId": "14667111767925500503"
     },
     "user_tz": 180
    },
    "id": "nhVb2gPw7deV"
   },
   "outputs": [],
   "source": [
    "def calculate_mean_std(tfrecord_paths):\n",
    "    '''Calculates and prints the per-band means and std-devs'''\n",
    "    iter_init, batch_op = batcher.Batcher(\n",
    "        tfrecord_files=tfrecord_paths,\n",
    "        label_name=None,\n",
    "        ls_bands='ms',\n",
    "        nl_band='merge',\n",
    "        batch_size=128,\n",
    "        shuffle=False,\n",
    "        augment=False,\n",
    "        clipneg=False,\n",
    "        normalize=None).get_batch()\n",
    "\n",
    "    stats = analyze_tfrecord_batch(\n",
    "        iter_init, batch_op, total_num_images=len(tfrecord_paths),\n",
    "        nbands=len(BANDS_ORDER), k=10)\n",
    "    means, stds = per_band_mean_std(stats=stats, band_order=BANDS_ORDER)\n",
    "\n",
    "    print('Means:')\n",
    "    pprint(means)\n",
    "    print()\n",
    "\n",
    "    print('Std Devs:')\n",
    "    pprint(stds)\n",
    "\n",
    "    print('\\n========== Additional Per-band Statistics ==========\\n')\n",
    "    print_analysis_results(stats, BANDS_ORDER)"
   ]
  },
  {
   "cell_type": "code",
   "execution_count": null,
   "metadata": {
    "colab": {
     "base_uri": "https://localhost:8080/",
     "height": 1000
    },
    "executionInfo": {
     "elapsed": 198040,
     "status": "error",
     "timestamp": 1667579637778,
     "user": {
      "displayName": "Rafael Araujo Coelho",
      "userId": "14667111767925500503"
     },
     "user_tz": 180
    },
    "id": "C5f_J3Zg7deV",
    "outputId": "15f49bf0-3df3-4440-e798-d4515881753f"
   },
   "outputs": [
    {
     "name": "stdout",
     "output_type": "stream",
     "text": [
      "WARNING:tensorflow:From /root/ModelWorkflow/batchers/batcher.py:148: DatasetV1.make_initializable_iterator (from tensorflow.python.data.ops.dataset_ops) is deprecated and will be removed in a future version.\n",
      "Instructions for updating:\n",
      "Use `for ... in dataset:` to iterate over a dataset. If using `tf.estimator`, return the `Dataset` object directly from your input function. As a last resort, you can use `tf.compat.v1.data.make_initializable_iterator(dataset)`.\n",
      "WARNING:tensorflow:From /root/ModelWorkflow/preprocessing/helper.py:57: The name tf.Session is deprecated. Please use tf.compat.v1.Session instead.\n",
      "\n",
      "Finished. Processed 20438 images.\n",
      "Time per batch - mean: 8.010s, std: 0.612s\n",
      "Time to process each batch - mean: 7.797s, std: 0.514s\n",
      "Total time: 2529.477s, Num batches: 160\n",
      "Means:\n",
      "{'BLUE': 0.04188373229647561,\n",
      " 'DMSP': 1.8054699101398186,\n",
      " 'GREEN': 0.06711868962106626,\n",
      " 'NIR': 0.24678952785999325,\n",
      " 'RED': 0.07304363498368377,\n",
      " 'SWIR1': 0.22712876257783904,\n",
      " 'SWIR2': 0.12607290156389675,\n",
      " 'TEMP1': 297.94873886046634,\n",
      " 'VIIRS': 0.0}\n",
      "\n",
      "Std Devs:\n",
      "{'BLUE': 0.01796559286389346,\n",
      " 'DMSP': 16.171132782758924,\n",
      " 'GREEN': 0.0212220271903214,\n",
      " 'NIR': 0.04157070401809102,\n",
      " 'RED': 0.03322706751262647,\n",
      " 'SWIR1': 0.06980577482517455,\n",
      " 'SWIR2': 0.05632796700708119,\n",
      " 'TEMP1': 2.128368346689452,\n",
      " 'VIIRS': 0.0}\n",
      "\n",
      "========== Additional Per-band Statistics ==========\n",
      "\n",
      "Statistics including bad pixels\n",
      "Band BLUE     - mean:   0.041884, std:  0.017966, min:           0, max:    2.000000\n",
      "Band GREEN    - mean:   0.067119, std:  0.021222, min:           0, max:    2.000000\n",
      "Band RED      - mean:   0.073044, std:  0.033227, min:           0, max:    2.000000\n",
      "Band SWIR1    - mean:   0.227129, std:  0.069806, min:     -0.0031, max:    2.000000\n",
      "Band SWIR2    - mean:   0.126073, std:  0.056328, min:           0, max:    2.000000\n",
      "Band TEMP1    - mean: 297.948718, std:  2.129812, min:           0, max:  311.399994\n",
      "Band NIR      - mean:   0.246790, std:  0.041571, min:           0, max:    2.000000\n",
      "Band DMSP     - mean:   1.805470, std: 16.171132, min:           0, max:  608.550659\n",
      "Band VIIRS    - mean:   0.000000, std:  0.000000, min:         inf, max:    0.000000\n",
      "\n",
      "Statistics ignoring any 0s and negative values\n",
      "Band BLUE     - mean:   0.041884, std:  0.017966, min:  0.00636765, max:    2.000000, mean_nz: 50175.992188\n",
      "Band GREEN    - mean:   0.067119, std:  0.021222, min:     0.01065, max:    2.000000, mean_nz: 50175.992188\n",
      "Band RED      - mean:   0.073044, std:  0.033227, min:  0.00908889, max:    2.000000, mean_nz: 50175.992188\n",
      "Band SWIR1    - mean:   0.227129, std:  0.069806, min:      0.0028, max:    2.000000, mean_nz: 50175.992188\n",
      "Band SWIR2    - mean:   0.126073, std:  0.056328, min:      0.0006, max:    2.000000, mean_nz: 50175.992188\n",
      "Band TEMP1    - mean: 297.948761, std:  2.126802, min:       284.7, max:  311.399994, mean_nz: 50175.992188\n",
      "Band NIR      - mean:   0.246790, std:  0.041571, min:      0.0114, max:    2.000000, mean_nz: 50175.992188\n",
      "Band DMSP     - mean:  22.613473, std: 52.960459, min:     3.28238, max:  608.550659, mean_nz: 4006.074219\n",
      "Band VIIRS    - mean:        nan, std:       nan, min:         inf, max:    0.000000, mean_nz: 0.000000\n",
      "\n",
      "Statistics excluding the bad pixels\n",
      "Band BLUE     - mean:   0.041884, std:  0.017966, min:           0, max:    2.000000\n",
      "Band GREEN    - mean:   0.067119, std:  0.021222, min:           0, max:    2.000000\n",
      "Band RED      - mean:   0.073044, std:  0.033227, min:           0, max:    2.000000\n",
      "Band SWIR1    - mean:   0.227129, std:  0.069806, min:     -0.0031, max:    2.000000\n",
      "Band SWIR2    - mean:   0.126073, std:  0.056328, min:           0, max:    2.000000\n",
      "Band TEMP1    - mean: 297.948739, std:  2.128368, min:           0, max:  311.399994\n",
      "Band NIR      - mean:   0.246790, std:  0.041571, min:           0, max:    2.000000\n",
      "Band DMSP     - mean:   1.805470, std: 16.171133, min:           0, max:  608.550659\n",
      "Band VIIRS    - mean:   0.000000, std:  0.000000, min:         inf, max:    0.000000\n"
     ]
    },
    {
     "name": "stderr",
     "output_type": "stream",
     "text": [
      "/root/ModelWorkflow/preprocessing/helper.py:192: RuntimeWarning: invalid value encountered in true_divide\n",
      "  means = sums / nz_pixels\n",
      "/root/ModelWorkflow/preprocessing/helper.py:193: RuntimeWarning: invalid value encountered in true_divide\n",
      "  stds = np.sqrt(sum_sqs/nz_pixels - means**2)\n"
     ]
    }
   ],
   "source": [
    "calculate_mean_std(tfrecord_paths_utils.dhs())"
   ]
  },
  {
   "cell_type": "code",
   "execution_count": null,
   "metadata": {
    "id": "HnX2yFA57deW"
   },
   "outputs": [
    {
     "ename": "AttributeError",
     "evalue": "module 'batchers.tfrecord_paths_utils' has no attribute 'dhs_nl'",
     "output_type": "error",
     "traceback": [
      "\u001b[0;31m---------------------------------------------------------------------------\u001b[0m",
      "\u001b[0;31mAttributeError\u001b[0m                            Traceback (most recent call last)",
      "\u001b[0;32m<ipython-input-14-c1015b857ee8>\u001b[0m in \u001b[0;36m<module>\u001b[0;34m\u001b[0m\n\u001b[0;32m----> 1\u001b[0;31m \u001b[0mcalculate_mean_std\u001b[0m\u001b[0;34m(\u001b[0m\u001b[0mtfrecord_paths_utils\u001b[0m\u001b[0;34m.\u001b[0m\u001b[0mdhs_nl\u001b[0m\u001b[0;34m(\u001b[0m\u001b[0;34m)\u001b[0m\u001b[0;34m)\u001b[0m\u001b[0;34m\u001b[0m\u001b[0;34m\u001b[0m\u001b[0m\n\u001b[0m",
      "\u001b[0;31mAttributeError\u001b[0m: module 'batchers.tfrecord_paths_utils' has no attribute 'dhs_nl'"
     ]
    }
   ],
   "source": [
    "calculate_mean_std(tfrecord_paths_utils.dhs_nl())"
   ]
  }
 ],
 "metadata": {
  "colab": {
   "provenance": [],
   "toc_visible": true
  },
  "gpuClass": "standard",
  "instance_type": "ml.m5.4xlarge",
  "kernelspec": {
   "display_name": "Python 3 (TensorFlow 1.15 Python 3.7 CPU Optimized)",
   "language": "python",
   "name": "python3__SAGEMAKER_INTERNAL__arn:aws:sagemaker:us-east-1:081325390199:image/tensorflow-1.15-cpu-py37-ubuntu18.04-v7"
  },
  "language_info": {
   "codemirror_mode": {
    "name": "ipython",
    "version": 3
   },
   "file_extension": ".py",
   "mimetype": "text/x-python",
   "name": "python",
   "nbconvert_exporter": "python",
   "pygments_lexer": "ipython3",
   "version": "3.7.10"
  },
  "toc": {
   "base_numbering": 1,
   "nav_menu": {},
   "number_sections": true,
   "sideBar": true,
   "skip_h1_title": false,
   "title_cell": "Table of Contents",
   "title_sidebar": "Contents",
   "toc_cell": true,
   "toc_position": {
    "height": "calc(100% - 180px)",
    "left": "10px",
    "top": "150px",
    "width": "307.2px"
   },
   "toc_section_display": true,
   "toc_window_display": true
  },
  "vscode": {
   "interpreter": {
    "hash": "85ba54f2cfced04a6451b62ef08c6e4e4c15a74d4bb427d61c5073fee890fdff"
   }
  },
  "widgets": {
   "application/vnd.jupyter.widget-state+json": {
    "012907642355463087e52abcd6884165": {
     "model_module": "@jupyter-widgets/controls",
     "model_module_version": "1.5.0",
     "model_name": "HTMLModel",
     "state": {
      "_dom_classes": [],
      "_model_module": "@jupyter-widgets/controls",
      "_model_module_version": "1.5.0",
      "_model_name": "HTMLModel",
      "_view_count": null,
      "_view_module": "@jupyter-widgets/controls",
      "_view_module_version": "1.5.0",
      "_view_name": "HTMLView",
      "description": "",
      "description_tooltip": null,
      "layout": "IPY_MODEL_7555321f491747b9b8613c800f093784",
      "placeholder": "​",
      "style": "IPY_MODEL_7e1592b721fa4817a9627f90d8b8ef79",
      "value": "100%"
     }
    },
    "1fa55e418e0345bea3ffd3efdec22c6a": {
     "model_module": "@jupyter-widgets/base",
     "model_module_version": "1.2.0",
     "model_name": "LayoutModel",
     "state": {
      "_model_module": "@jupyter-widgets/base",
      "_model_module_version": "1.2.0",
      "_model_name": "LayoutModel",
      "_view_count": null,
      "_view_module": "@jupyter-widgets/base",
      "_view_module_version": "1.2.0",
      "_view_name": "LayoutView",
      "align_content": null,
      "align_items": null,
      "align_self": null,
      "border": null,
      "bottom": null,
      "display": null,
      "flex": null,
      "flex_flow": null,
      "grid_area": null,
      "grid_auto_columns": null,
      "grid_auto_flow": null,
      "grid_auto_rows": null,
      "grid_column": null,
      "grid_gap": null,
      "grid_row": null,
      "grid_template_areas": null,
      "grid_template_columns": null,
      "grid_template_rows": null,
      "height": null,
      "justify_content": null,
      "justify_items": null,
      "left": null,
      "margin": null,
      "max_height": null,
      "max_width": null,
      "min_height": null,
      "min_width": null,
      "object_fit": null,
      "object_position": null,
      "order": null,
      "overflow": null,
      "overflow_x": null,
      "overflow_y": null,
      "padding": null,
      "right": null,
      "top": null,
      "visibility": null,
      "width": null
     }
    },
    "300217688ee147e48a3f996ff2c8624b": {
     "model_module": "@jupyter-widgets/controls",
     "model_module_version": "1.5.0",
     "model_name": "HBoxModel",
     "state": {
      "_dom_classes": [],
      "_model_module": "@jupyter-widgets/controls",
      "_model_module_version": "1.5.0",
      "_model_name": "HBoxModel",
      "_view_count": null,
      "_view_module": "@jupyter-widgets/controls",
      "_view_module_version": "1.5.0",
      "_view_name": "HBoxView",
      "box_style": "",
      "children": [
       "IPY_MODEL_012907642355463087e52abcd6884165",
       "IPY_MODEL_ffcdc40d9f7d47fcaffe5c0fbfacb896",
       "IPY_MODEL_9f54398f1dc84ffa954a1199818cc744"
      ],
      "layout": "IPY_MODEL_1fa55e418e0345bea3ffd3efdec22c6a"
     }
    },
    "6c4274087a364f98bd9a53f502d52635": {
     "model_module": "@jupyter-widgets/controls",
     "model_module_version": "1.5.0",
     "model_name": "ProgressStyleModel",
     "state": {
      "_model_module": "@jupyter-widgets/controls",
      "_model_module_version": "1.5.0",
      "_model_name": "ProgressStyleModel",
      "_view_count": null,
      "_view_module": "@jupyter-widgets/base",
      "_view_module_version": "1.2.0",
      "_view_name": "StyleView",
      "bar_color": null,
      "description_width": ""
     }
    },
    "7555321f491747b9b8613c800f093784": {
     "model_module": "@jupyter-widgets/base",
     "model_module_version": "1.2.0",
     "model_name": "LayoutModel",
     "state": {
      "_model_module": "@jupyter-widgets/base",
      "_model_module_version": "1.2.0",
      "_model_name": "LayoutModel",
      "_view_count": null,
      "_view_module": "@jupyter-widgets/base",
      "_view_module_version": "1.2.0",
      "_view_name": "LayoutView",
      "align_content": null,
      "align_items": null,
      "align_self": null,
      "border": null,
      "bottom": null,
      "display": null,
      "flex": null,
      "flex_flow": null,
      "grid_area": null,
      "grid_auto_columns": null,
      "grid_auto_flow": null,
      "grid_auto_rows": null,
      "grid_column": null,
      "grid_gap": null,
      "grid_row": null,
      "grid_template_areas": null,
      "grid_template_columns": null,
      "grid_template_rows": null,
      "height": null,
      "justify_content": null,
      "justify_items": null,
      "left": null,
      "margin": null,
      "max_height": null,
      "max_width": null,
      "min_height": null,
      "min_width": null,
      "object_fit": null,
      "object_position": null,
      "order": null,
      "overflow": null,
      "overflow_x": null,
      "overflow_y": null,
      "padding": null,
      "right": null,
      "top": null,
      "visibility": null,
      "width": null
     }
    },
    "7e0b98531e5b49c3bfd5cd0621092539": {
     "model_module": "@jupyter-widgets/base",
     "model_module_version": "1.2.0",
     "model_name": "LayoutModel",
     "state": {
      "_model_module": "@jupyter-widgets/base",
      "_model_module_version": "1.2.0",
      "_model_name": "LayoutModel",
      "_view_count": null,
      "_view_module": "@jupyter-widgets/base",
      "_view_module_version": "1.2.0",
      "_view_name": "LayoutView",
      "align_content": null,
      "align_items": null,
      "align_self": null,
      "border": null,
      "bottom": null,
      "display": null,
      "flex": null,
      "flex_flow": null,
      "grid_area": null,
      "grid_auto_columns": null,
      "grid_auto_flow": null,
      "grid_auto_rows": null,
      "grid_column": null,
      "grid_gap": null,
      "grid_row": null,
      "grid_template_areas": null,
      "grid_template_columns": null,
      "grid_template_rows": null,
      "height": null,
      "justify_content": null,
      "justify_items": null,
      "left": null,
      "margin": null,
      "max_height": null,
      "max_width": null,
      "min_height": null,
      "min_width": null,
      "object_fit": null,
      "object_position": null,
      "order": null,
      "overflow": null,
      "overflow_x": null,
      "overflow_y": null,
      "padding": null,
      "right": null,
      "top": null,
      "visibility": null,
      "width": null
     }
    },
    "7e1592b721fa4817a9627f90d8b8ef79": {
     "model_module": "@jupyter-widgets/controls",
     "model_module_version": "1.5.0",
     "model_name": "DescriptionStyleModel",
     "state": {
      "_model_module": "@jupyter-widgets/controls",
      "_model_module_version": "1.5.0",
      "_model_name": "DescriptionStyleModel",
      "_view_count": null,
      "_view_module": "@jupyter-widgets/base",
      "_view_module_version": "1.2.0",
      "_view_name": "StyleView",
      "description_width": ""
     }
    },
    "9f54398f1dc84ffa954a1199818cc744": {
     "model_module": "@jupyter-widgets/controls",
     "model_module_version": "1.5.0",
     "model_name": "HTMLModel",
     "state": {
      "_dom_classes": [],
      "_model_module": "@jupyter-widgets/controls",
      "_model_module_version": "1.5.0",
      "_model_name": "HTMLModel",
      "_view_count": null,
      "_view_module": "@jupyter-widgets/controls",
      "_view_module_version": "1.5.0",
      "_view_name": "HTMLView",
      "description": "",
      "description_tooltip": null,
      "layout": "IPY_MODEL_7e0b98531e5b49c3bfd5cd0621092539",
      "placeholder": "​",
      "style": "IPY_MODEL_a36145b6aee04a0cb67986b4338c6dc3",
      "value": " 20438/20438 [59:56&lt;00:00,  6.69it/s]"
     }
    },
    "a36145b6aee04a0cb67986b4338c6dc3": {
     "model_module": "@jupyter-widgets/controls",
     "model_module_version": "1.5.0",
     "model_name": "DescriptionStyleModel",
     "state": {
      "_model_module": "@jupyter-widgets/controls",
      "_model_module_version": "1.5.0",
      "_model_name": "DescriptionStyleModel",
      "_view_count": null,
      "_view_module": "@jupyter-widgets/base",
      "_view_module_version": "1.2.0",
      "_view_name": "StyleView",
      "description_width": ""
     }
    },
    "b3c139fc03864f41808e069fd6848e8c": {
     "model_module": "@jupyter-widgets/base",
     "model_module_version": "1.2.0",
     "model_name": "LayoutModel",
     "state": {
      "_model_module": "@jupyter-widgets/base",
      "_model_module_version": "1.2.0",
      "_model_name": "LayoutModel",
      "_view_count": null,
      "_view_module": "@jupyter-widgets/base",
      "_view_module_version": "1.2.0",
      "_view_name": "LayoutView",
      "align_content": null,
      "align_items": null,
      "align_self": null,
      "border": null,
      "bottom": null,
      "display": null,
      "flex": null,
      "flex_flow": null,
      "grid_area": null,
      "grid_auto_columns": null,
      "grid_auto_flow": null,
      "grid_auto_rows": null,
      "grid_column": null,
      "grid_gap": null,
      "grid_row": null,
      "grid_template_areas": null,
      "grid_template_columns": null,
      "grid_template_rows": null,
      "height": null,
      "justify_content": null,
      "justify_items": null,
      "left": null,
      "margin": null,
      "max_height": null,
      "max_width": null,
      "min_height": null,
      "min_width": null,
      "object_fit": null,
      "object_position": null,
      "order": null,
      "overflow": null,
      "overflow_x": null,
      "overflow_y": null,
      "padding": null,
      "right": null,
      "top": null,
      "visibility": null,
      "width": null
     }
    },
    "ffcdc40d9f7d47fcaffe5c0fbfacb896": {
     "model_module": "@jupyter-widgets/controls",
     "model_module_version": "1.5.0",
     "model_name": "FloatProgressModel",
     "state": {
      "_dom_classes": [],
      "_model_module": "@jupyter-widgets/controls",
      "_model_module_version": "1.5.0",
      "_model_name": "FloatProgressModel",
      "_view_count": null,
      "_view_module": "@jupyter-widgets/controls",
      "_view_module_version": "1.5.0",
      "_view_name": "ProgressView",
      "bar_style": "success",
      "description": "",
      "description_tooltip": null,
      "layout": "IPY_MODEL_b3c139fc03864f41808e069fd6848e8c",
      "max": 20438,
      "min": 0,
      "orientation": "horizontal",
      "style": "IPY_MODEL_6c4274087a364f98bd9a53f502d52635",
      "value": 20438
     }
    }
   }
  }
 },
 "nbformat": 4,
 "nbformat_minor": 4
}
