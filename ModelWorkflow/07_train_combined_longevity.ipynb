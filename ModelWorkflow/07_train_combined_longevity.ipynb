{
 "cells": [
  {
   "cell_type": "markdown",
   "id": "fdfa09e0",
   "metadata": {},
   "source": [
    "## Pre-requisites\n",
    "\n",
    "Before running this notebook, you should have already used the `extract_features.py` script to extract features from models trained on DHS data. You should have the following structure under the `outputs/` directory:\n",
    "\n",
    "```\n",
    "dhs_ooc/\n",
    "    DHS_OOC_A_ms_samescaled_b64_fc01_conv01_lr0001/\n",
    "        features.npz\n",
    "    ...\n",
    "    DHS_OOC_E_rgb_same_b64_fc001_conv001_lr0001/\n",
    "        features.npz\n",
    "dhs_incountry/\n",
    "    DHS_Incountry_A_ms_samescaled_b64_fc01_conv01_lr001/\n",
    "        features.npz\n",
    "    ...\n",
    "    DHS_Incountry_E_nl_random_b64_fc01_conv01_lr001/\n",
    "        features.npz\n",
    "transfer/\n",
    "    transfer_nlcenter_ms_b64_fc001_conv001_lr0001/\n",
    "        features.npz\n",
    "    transfer_nlcenter_rgb_b64_fc001_conv001_lr0001/\n",
    "        features.npz\n",
    "        \n",
    "\n",
    "TODO: update when keep-frac models are added\n",
    "```\n",
    "\n",
    "## Instructions\n",
    "\n",
    "This notebook essentially performs fine-tuning of the final-layer of the Resnet-18 models. However, instead of directly fine-tuning the Resnet-18 models in TensorFlow, we train ridge-regression models using the extracted features. We take this approach for two reasons:\n",
    "\n",
    "1. It is easier to perform leave-one-group-out (\"logo\") cross-validated ridge regression using scikit-learn, as opposed to TensorFlow. For out-of-country (OOC) experiments, the left-out group is the test country. For in-country experiments, the left-out group is the test split.\n",
    "2. We can concatenate the 512-dim features from the RGB/MS CNN models with the 512-dim features from the NL CNN models to form a larger 1024-dim feature vector capturing RGB/MS + NL imagery information. We do this instead of training a CNN with the MS+NL imagery stacked together as an input because we found it to result in better performance.\n",
    "\n",
    "Because of the extensive cross-validation, each \"logo\" CV run may take ~2-4 hours. In total, this notebook may take upwards of 15 hours to complete.\n",
    "\n",
    "After you complete this notebook, use the `model_analysis/dhs_ooc.ipynb` and `model_analysis/dhs_incountry.ipynb` (TODO) notebooks to analyze the final performance of the fine-tuned Resnet-18 models."
   ]
  },
  {
   "cell_type": "markdown",
   "id": "eab72771",
   "metadata": {},
   "source": [
    "## Imports and Constants"
   ]
  },
  {
   "cell_type": "code",
   "execution_count": 1,
   "id": "e83bcd05",
   "metadata": {},
   "outputs": [
    {
     "name": "stdout",
     "output_type": "stream",
     "text": [
      "/home/abenabbes/Ali-a\n",
      "/home/abenabbes/Ali-a\n"
     ]
    }
   ],
   "source": [
    "%cd '/hdd/home/abenabbes/Ali-a/'\n",
    "%load_ext autoreload\n",
    "%autoreload 2\n",
    "%matplotlib inline\n",
    "!pwd"
   ]
  },
  {
   "cell_type": "code",
   "execution_count": 3,
   "id": "e068c575-6f1d-4f6c-ace9-9b181a3401b2",
   "metadata": {},
   "outputs": [
    {
     "name": "stdout",
     "output_type": "stream",
     "text": [
      "Requirement already satisfied: matplotlib in /usr/local/lib/python3.7/site-packages (3.5.3)\n",
      "Requirement already satisfied: cycler>=0.10 in /usr/local/lib/python3.7/site-packages (from matplotlib) (0.11.0)\n",
      "Requirement already satisfied: kiwisolver>=1.0.1 in /usr/local/lib/python3.7/site-packages (from matplotlib) (1.4.4)\n",
      "Requirement already satisfied: numpy>=1.17 in /usr/local/lib/python3.7/site-packages (from matplotlib) (1.18.5)\n",
      "Requirement already satisfied: pillow>=6.2.0 in /usr/local/lib/python3.7/site-packages (from matplotlib) (7.2.0)\n",
      "Requirement already satisfied: python-dateutil>=2.7 in /usr/local/lib/python3.7/site-packages (from matplotlib) (2.8.2)\n",
      "Requirement already satisfied: pyparsing>=2.2.1 in /usr/local/lib/python3.7/site-packages (from matplotlib) (2.4.7)\n",
      "Requirement already satisfied: fonttools>=4.22.0 in /usr/local/lib/python3.7/site-packages (from matplotlib) (4.38.0)\n",
      "Requirement already satisfied: packaging>=20.0 in /usr/local/lib/python3.7/site-packages (from matplotlib) (20.9)\n",
      "Requirement already satisfied: typing-extensions in /usr/local/lib/python3.7/site-packages (from kiwisolver>=1.0.1->matplotlib) (3.7.4.3)\n",
      "Requirement already satisfied: six>=1.5 in /usr/local/lib/python3.7/site-packages (from python-dateutil>=2.7->matplotlib) (1.16.0)\n",
      "\u001b[33mWARNING: You are using pip version 21.0.1; however, version 22.3.1 is available.\n",
      "You should consider upgrading via the '/usr/local/bin/python3.7 -m pip install --upgrade pip' command.\u001b[0m\n"
     ]
    }
   ],
   "source": [
    "!pip install matplotlib"
   ]
  },
  {
   "cell_type": "code",
   "execution_count": 2,
   "id": "1da8d689",
   "metadata": {},
   "outputs": [],
   "source": [
    "from __future__ import annotations\n",
    "\n",
    "from collections.abc import Iterable\n",
    "import os\n",
    "import pickle\n",
    "\n",
    "import numpy as np\n",
    "import pandas as pd\n",
    "\n",
    "from batchers import dataset_constants\n",
    "from models.linear_model import ridge_cv\n",
    "from utils.general import load_npz"
   ]
  },
  {
   "cell_type": "code",
   "execution_count": 3,
   "id": "b5b6ac0d",
   "metadata": {},
   "outputs": [],
   "source": [
    "FOLDS = ['A', 'B', 'C', 'D', 'E']\n",
    "SPLITS = ['train', 'val', 'test']\n",
    "label = 'longevity'\n",
    "OUTPUTS_ROOT_DIR = f'/root/logs/{label}'\n",
    "INPUTS_ROOT_DIR = f'/root/final_ex/{label}'\n",
    "COUNTRIES = dataset_constants.DHS_COUNTRIES\n",
    "\n",
    "KEEPS = [0.05, 0.1, 0.25, 0.5]\n",
    "SEEDS = [123, 456, 789]"
   ]
  },
  {
   "cell_type": "markdown",
   "id": "7d83ec40",
   "metadata": {},
   "source": [
    "## Load data"
   ]
  },
  {
   "cell_type": "code",
   "execution_count": 4,
   "id": "bfacca95",
   "metadata": {},
   "outputs": [],
   "source": [
    "MODEL_DIRS = {\n",
    "    #Incountry models - NightLight\n",
    "    \n",
    "    'incountry_resnet_nl_A':'DHS_Incountry_A_nl_random_b64_fc1.0_conv1.0_lr0001',\n",
    "    'incountry_resnet_nl_B':'DHS_Incountry_B_nl_random_b64_fc1.0_conv1.0_lr0001',\n",
    "    'incountry_resnet_nl_C':'DHS_Incountry_C_nl_random_b64_fc1.0_conv1.0_lr0001',\n",
    "    'incountry_resnet_nl_D':'DHS_Incountry_D_nl_random_b64_fc1.0_conv1.0_lr0001',\n",
    "    'incountry_resnet_nl_E':'DHS_Incountry_E_nl_random_b64_fc1_conv1.0_lr001',\n",
    "    \n",
    "    #Incountry models - MultiSpectral\n",
    "    \n",
    "    'incountry_resnet_ms_A':'DHS_Incountry_A_ms_samescaled_200_b64_fc01_conv01_lr001',\n",
    "    'incountry_resnet_ms_B':'DHS_Incountry_B_ms_samescaled_200_b64_fc1_conv1_lr001',\n",
    "    'incountry_resnet_ms_C':'DHS_Incountry_C_ms_samescaled_200_b64_fc1.0_conv1.0_lr0001',\n",
    "    'incountry_resnet_ms_D':'DHS_Incountry_D_ms_samescaled_200_b64_fc001_conv1.0_lr0001',\n",
    "    'incountry_resnet_ms_E':'DHS_Incountry_E_ms_samescaled_200_b64_fc001_conv001_lr0001',\n",
    "    \n",
    "}"
   ]
  },
  {
   "cell_type": "markdown",
   "id": "90f40d29",
   "metadata": {},
   "source": [
    "`country_labels` is a `np.ndarray` that shows which country each cluster belongs to. Countries are indexed by their position in `dataset_constants.DHS_COUNTRIES`.\n",
    "```python\n",
    "array([ 0,  0,  0, ..., 22, 22, 22])\n",
    "```\n",
    "\n",
    "`incountry_group_labels` is a `np.ndarray` that shows which \"test\" fold each cluster belongs to. The first cluster belongs to the \"test\" split of fold \"B\" (folds here are 0-indexed).\n",
    "```python\n",
    "array([1, 1, 4, ..., 1, 0, 3])\n",
    "```"
   ]
  },
  {
   "cell_type": "code",
   "execution_count": 5,
   "id": "aa8f0208",
   "metadata": {},
   "outputs": [
    {
     "name": "stdout",
     "output_type": "stream",
     "text": [
      "1\n"
     ]
    }
   ],
   "source": [
    "countries=[\"brazil\"]\n",
    "\n",
    "print(len(countries))"
   ]
  },
  {
   "cell_type": "code",
   "execution_count": 6,
   "id": "e061cc11",
   "metadata": {},
   "outputs": [
    {
     "name": "stdout",
     "output_type": "stream",
     "text": [
      "[0.62848234 0.52086043 0.58054364 ... 0.39499784 0.5965954  0.42051378]\n",
      "[0.76833475 0.7585517  0.78156924 ... 0.77831715 0.7430432  0.8276139 ]\n",
      "[0.9635056  0.90334564 0.92679846 ... 0.8781472  0.9634995  0.8127828 ]\n"
     ]
    }
   ],
   "source": [
    "FOLDS = [\"A\", \"B\", \"C\", \"D\", \"E\"]\n",
    "indicators = ['income','longevity','literacy']\n",
    "for label in indicators:\n",
    "    df = pd.read_csv('/root/Datasets/SelectedClusters/dataset_clean.csv', float_precision='high', index_col=False)\n",
    "    labels = df[label].to_numpy(dtype=np.float32)\n",
    "    print(labels)"
   ]
  },
  {
   "cell_type": "code",
   "execution_count": 7,
   "id": "ab7cb5f6",
   "metadata": {},
   "outputs": [
    {
     "name": "stdout",
     "output_type": "stream",
     "text": [
      "for label income\n",
      "[0.62848234 0.52086043 0.58054364 ... 0.39499784 0.5965954  0.42051378]\n",
      "20438\n",
      "[0 0 0 ... 0 0 0]\n",
      "for label longevity\n",
      "[0.76833475 0.7585517  0.78156924 ... 0.77831715 0.7430432  0.8276139 ]\n",
      "20438\n",
      "[0 0 0 ... 0 0 0]\n",
      "for label literacy\n",
      "[0.9635056  0.90334564 0.92679846 ... 0.8781472  0.9634995  0.8127828 ]\n",
      "20438\n",
      "[0 0 0 ... 0 0 0]\n",
      "[    1     2     3 ... 20433 20434 20437]\n",
      "0\n",
      "[   22    23    42 ... 20414 20416 20424]\n",
      "1\n",
      "[    0     4     5 ... 20418 20419 20429]\n",
      "2\n",
      "[   27    29    32 ... 20423 20435 20436]\n",
      "3\n",
      "[   13    14    30 ... 20426 20431 20432]\n",
      "4\n"
     ]
    }
   ],
   "source": [
    "indicators = ['income','longevity','literacy']\n",
    "for label in indicators:\n",
    "    print(f'for label {label}')\n",
    "    df = pd.read_csv('/root/Datasets/SelectedClusters/dataset_clean.csv', float_precision='high', index_col=False)\n",
    "    labels = df[label].to_numpy(dtype=np.float32)\n",
    "    print(labels)\n",
    "    print(len(labels))\n",
    "    locs = df[['lat', 'lon']].to_numpy(dtype=np.float32)\n",
    "    country_labels = df['country'].map(countries.index).to_numpy()\n",
    "    print(country_labels)\n",
    "\n",
    "with open('/root/Datasets/SelectedClusters/dhs_incountry_co.pkl', 'rb') as f:\n",
    "    incountry_folds = pickle.load(f)\n",
    "incountry_group_labels = np.zeros(len(df), dtype=np.int64)\n",
    "for i, fold in enumerate(FOLDS):\n",
    "    test_indices = incountry_folds[fold]['test']\n",
    "    print(test_indices)\n",
    "    incountry_group_labels[test_indices] = i\n",
    "    print(i)\n"
   ]
  },
  {
   "cell_type": "code",
   "execution_count": 8,
   "id": "6c29877b-82b4-46fb-9b90-8bf361395d7d",
   "metadata": {},
   "outputs": [
    {
     "name": "stdout",
     "output_type": "stream",
     "text": [
      "for label longevity\n",
      "image_hists: dtype=int64, shape=(20438, 8, 102)\n",
      "labels: dtype=float32, shape=(20438,)\n",
      "locs: dtype=float32, shape=(20438, 2)\n",
      "years: dtype=int32, shape=(20438,)\n",
      "nls_center: dtype=float32, shape=(20438,)\n",
      "nls_mean: dtype=float32, shape=(20438,)\n",
      "[0.85707    0.6969067  0.5205223  ... 0.7833033  0.68333334 0.71666664]\n",
      "20438\n",
      "[0 0 0 ... 0 0 0]\n",
      "[    1     2     3 ... 20433 20434 20437]\n",
      "0\n",
      "[   22    23    42 ... 20414 20416 20424]\n",
      "1\n",
      "[    0     4     5 ... 20418 20419 20429]\n",
      "2\n",
      "[   27    29    32 ... 20423 20435 20436]\n",
      "3\n",
      "[   13    14    30 ... 20426 20431 20432]\n",
      "4\n"
     ]
    }
   ],
   "source": [
    "label = 'longevity'\n",
    "\n",
    "print(f'for label {label}')\n",
    "df = pd.read_csv('/root/Datasets/SelectedClusters/dataset_clean.csv', float_precision='high', index_col=False)\n",
    "npz = load_npz(f'/root/Datasets/SelectedClusters/dhs_co_{label}.npz')\n",
    "labels = npz['labels']\n",
    "print(labels)\n",
    "print(len(labels))\n",
    "locs = npz['locs']\n",
    "country_labels = df['country'].map(countries.index).to_numpy()\n",
    "print(country_labels)\n",
    "\n",
    "with open('/root/Datasets/SelectedClusters/dhs_incountry_co.pkl', 'rb') as f:\n",
    "    incountry_folds = pickle.load(f)\n",
    "incountry_group_labels = np.zeros(len(df), dtype=np.int64)\n",
    "for i, fold in enumerate(FOLDS):\n",
    "    test_indices = incountry_folds[fold]['test']\n",
    "    print(test_indices)\n",
    "    incountry_group_labels[test_indices] = i\n",
    "    print(i)"
   ]
  },
  {
   "cell_type": "markdown",
   "id": "0030a57e",
   "metadata": {},
   "source": [
    "## Incountry"
   ]
  },
  {
   "cell_type": "code",
   "execution_count": 9,
   "id": "4aaf9dc2",
   "metadata": {},
   "outputs": [],
   "source": [
    "def ridgecv_incountry_wrapper(model_name: str, savedir: str) -> None:\n",
    "    '''\n",
    "    Args\n",
    "    - model_name: str, corresponds to keys in MODEL_DIRS (without the fold suffix)\n",
    "    - savedir: str, path to directory for saving ridge regression weights and predictions\n",
    "    '''\n",
    "    features_dict = {}\n",
    "    for f in FOLDS:\n",
    "        model_fold_name = f'{model_name}_{f}'\n",
    "        print(model_fold_name)\n",
    "        model_dir = MODEL_DIRS[model_fold_name]\n",
    "        npz_path = os.path.join(INPUTS_ROOT_DIR, 'dhsincountry', model_dir, 'features.npz')\n",
    "        print(labels)\n",
    "        npz = load_npz(npz_path, check={'labels': labels})\n",
    "        features_dict[f] = npz['features']\n",
    "\n",
    "    ridge_cv(\n",
    "        features=features_dict,\n",
    "        labels=labels,\n",
    "        group_labels=incountry_group_labels,\n",
    "        group_names=FOLDS,\n",
    "        do_plot=True,\n",
    "        savedir=savedir,\n",
    "        save_weights=True,\n",
    "        verbose=True)"
   ]
  },
  {
   "cell_type": "code",
   "execution_count": 10,
   "id": "0d565189-63ac-45c4-8908-c67344840177",
   "metadata": {},
   "outputs": [
    {
     "name": "stdout",
     "output_type": "stream",
     "text": [
      "incountry_resnet_nl_A\n",
      "[0.85707    0.6969067  0.5205223  ... 0.7833033  0.68333334 0.71666664]\n",
      "features: dtype=float32, shape=(20438, 512)\n",
      "preds: dtype=float32, shape=(20438,)\n",
      "labels: dtype=float32, shape=(20438,)\n",
      "locs: dtype=float32, shape=(20438, 2)\n",
      "years: dtype=int32, shape=(20438,)\n",
      "incountry_resnet_nl_B\n",
      "[0.85707    0.6969067  0.5205223  ... 0.7833033  0.68333334 0.71666664]\n",
      "features: dtype=float32, shape=(20438, 512)\n",
      "preds: dtype=float32, shape=(20438,)\n",
      "labels: dtype=float32, shape=(20438,)\n",
      "locs: dtype=float32, shape=(20438, 2)\n",
      "years: dtype=int32, shape=(20438,)\n",
      "incountry_resnet_nl_C\n",
      "[0.85707    0.6969067  0.5205223  ... 0.7833033  0.68333334 0.71666664]\n",
      "features: dtype=float32, shape=(20438, 512)\n",
      "preds: dtype=float32, shape=(20438,)\n",
      "labels: dtype=float32, shape=(20438,)\n",
      "locs: dtype=float32, shape=(20438, 2)\n",
      "years: dtype=int32, shape=(20438,)\n",
      "incountry_resnet_nl_D\n",
      "[0.85707    0.6969067  0.5205223  ... 0.7833033  0.68333334 0.71666664]\n",
      "features: dtype=float32, shape=(20438, 512)\n",
      "preds: dtype=float32, shape=(20438,)\n",
      "labels: dtype=float32, shape=(20438,)\n",
      "locs: dtype=float32, shape=(20438, 2)\n",
      "years: dtype=int32, shape=(20438,)\n",
      "incountry_resnet_nl_E\n",
      "[0.85707    0.6969067  0.5205223  ... 0.7833033  0.68333334 0.71666664]\n",
      "features: dtype=float32, shape=(20438, 512)\n",
      "preds: dtype=float32, shape=(20438,)\n",
      "labels: dtype=float32, shape=(20438,)\n",
      "locs: dtype=float32, shape=(20438, 2)\n",
      "years: dtype=int32, shape=(20438,)\n",
      "Group: A\n",
      "Alpha: 17179869184.0 (14/14)\n"
     ]
    },
    {
     "data": {
      "image/png": "[encoded data removed]",
      "text/plain": [
       "<Figure size 432x216 with 1 Axes>"
      ]
     },
     "metadata": {
      "needs_background": "light"
     },
     "output_type": "display_data"
    },
    {
     "name": "stdout",
     "output_type": "stream",
     "text": [
      "best val mse: 0.028, best alpha: 0.03125, test mse: 0.026\n",
      "Group: B\n",
      "Alpha: 17179869184.0 (14/14)\n",
      "best val mse: 0.027, best alpha: 0.03125, test mse: 0.028\n",
      "Group: C\n",
      "Alpha: 17179869184.0 (14/14)\n",
      "best val mse: 0.027, best alpha: 0.03125, test mse: 0.029\n",
      "Group: D\n",
      "Alpha: 17179869184.0 (14/14)\n",
      "best val mse: 0.027, best alpha: 0.03125, test mse: 0.028\n",
      "Group: E\n",
      "Alpha: 17179869184.0 (14/14)\n",
      "best val mse: 0.028, best alpha: 0.03125, test mse: 0.026\n",
      "saving test preds to: /root/logs/longevity/resnet_nl/test_preds.npz\n",
      "saving ridge_weights to: /root/logs/longevity/resnet_nl/ridge_weights.npz\n"
     ]
    }
   ],
   "source": [
    "model_name = 'incountry_resnet_nl'\n",
    "savedir = os.path.join(OUTPUTS_ROOT_DIR, 'resnet_nl')\n",
    "ridgecv_incountry_wrapper(model_name, savedir)"
   ]
  },
  {
   "cell_type": "code",
   "execution_count": 12,
   "id": "7f7b54a2",
   "metadata": {},
   "outputs": [
    {
     "name": "stdout",
     "output_type": "stream",
     "text": [
      "incountry_resnet_ms_A\n",
      "[0.85707    0.6969067  0.5205223  ... 0.7833033  0.68333334 0.71666664]\n",
      "features: dtype=float32, shape=(20438, 512)\n",
      "preds: dtype=float32, shape=(20438,)\n",
      "labels: dtype=float32, shape=(20438,)\n",
      "locs: dtype=float32, shape=(20438, 2)\n",
      "years: dtype=int32, shape=(20438,)\n",
      "incountry_resnet_ms_B\n",
      "[0.85707    0.6969067  0.5205223  ... 0.7833033  0.68333334 0.71666664]\n",
      "features: dtype=float32, shape=(20438, 512)\n",
      "preds: dtype=float32, shape=(20438,)\n",
      "labels: dtype=float32, shape=(20438,)\n",
      "locs: dtype=float32, shape=(20438, 2)\n",
      "years: dtype=int32, shape=(20438,)\n",
      "incountry_resnet_ms_C\n",
      "[0.85707    0.6969067  0.5205223  ... 0.7833033  0.68333334 0.71666664]\n",
      "features: dtype=float32, shape=(20438, 512)\n",
      "preds: dtype=float32, shape=(20438,)\n",
      "labels: dtype=float32, shape=(20438,)\n",
      "locs: dtype=float32, shape=(20438, 2)\n",
      "years: dtype=int32, shape=(20438,)\n",
      "incountry_resnet_ms_D\n",
      "[0.85707    0.6969067  0.5205223  ... 0.7833033  0.68333334 0.71666664]\n",
      "features: dtype=float32, shape=(20438, 512)\n",
      "preds: dtype=float32, shape=(20438,)\n",
      "labels: dtype=float32, shape=(20438,)\n",
      "locs: dtype=float32, shape=(20438, 2)\n",
      "years: dtype=int32, shape=(20438,)\n",
      "incountry_resnet_ms_E\n",
      "[0.85707    0.6969067  0.5205223  ... 0.7833033  0.68333334 0.71666664]\n",
      "features: dtype=float32, shape=(20438, 512)\n",
      "preds: dtype=float32, shape=(20438,)\n",
      "labels: dtype=float32, shape=(20438,)\n",
      "locs: dtype=float32, shape=(20438, 2)\n",
      "years: dtype=int32, shape=(20438,)\n",
      "Group: A\n",
      "Alpha: 17179869184.0 (14/14)\n"
     ]
    },
    {
     "data": {
      "image/png": "[encoded data removed]",
      "text/plain": [
       "<Figure size 432x216 with 1 Axes>"
      ]
     },
     "metadata": {
      "needs_background": "light"
     },
     "output_type": "display_data"
    },
    {
     "name": "stdout",
     "output_type": "stream",
     "text": [
      "best val mse: 0.021, best alpha: 0.03125, test mse: 0.022\n",
      "Group: B\n",
      "Alpha: 17179869184.0 (14/14)\n",
      "best val mse: 0.026, best alpha: 0.03125, test mse: 0.026\n",
      "Group: C\n",
      "Alpha: 17179869184.0 (14/14)\n",
      "best val mse: 0.022, best alpha: 2.0, test mse: 0.024\n",
      "Group: D\n",
      "Alpha: 17179869184.0 (14/14)\n",
      "best val mse: 0.022, best alpha: 0.03125, test mse: 0.023\n",
      "Group: E\n",
      "Alpha: 17179869184.0 (14/14)\n",
      "best val mse: 0.021, best alpha: 2.0, test mse: 0.021\n",
      "saving test preds to: /root/logs/longevity/resnet_ms/test_preds.npz\n",
      "saving ridge_weights to: /root/logs/longevity/resnet_ms/ridge_weights.npz\n"
     ]
    }
   ],
   "source": [
    "model_name = 'incountry_resnet_ms'\n",
    "savedir = os.path.join(OUTPUTS_ROOT_DIR, 'resnet_ms')\n",
    "ridgecv_incountry_wrapper(model_name, savedir)"
   ]
  },
  {
   "cell_type": "markdown",
   "id": "ac8e8a5f",
   "metadata": {},
   "source": [
    "### Concatenated MS + NL Features"
   ]
  },
  {
   "cell_type": "code",
   "execution_count": 13,
   "id": "0e524416",
   "metadata": {},
   "outputs": [],
   "source": [
    "def ridgecv_incountry_concat_wrapper(model_names: Iterable[str], savedir: str) -> None:\n",
    "    '''\n",
    "    Args\n",
    "    - model_names: list of str, correspond to keys in MODEL_DIRS (without the fold suffix)\n",
    "    - savedir: str, path to directory for saving ridge regression weights and predictions\n",
    "    '''\n",
    "    features_dict = {}\n",
    "    for i, f in enumerate(FOLDS):\n",
    "        concat_features = []  # list of np.array, each shape [N, D_i]\n",
    "        for model_name in model_names:\n",
    "            print(model_name)\n",
    "            model_dir = MODEL_DIRS[f'{model_name}_{f}']\n",
    "            npz_path = os.path.join(INPUTS_ROOT_DIR, 'dhsincountry', model_dir, 'features.npz')\n",
    "            npz = load_npz(npz_path, check={'labels': labels})\n",
    "            concat_features.append(npz['features'])\n",
    "        concat_features = np.concatenate(concat_features, axis=1)  # shape [N, D_1 + ... + D_m]\n",
    "        features_dict[f] = concat_features\n",
    "\n",
    "    ridge_cv(\n",
    "        features=features_dict,\n",
    "        labels=labels,\n",
    "        group_labels=incountry_group_labels,\n",
    "        group_names=FOLDS,\n",
    "        do_plot=True,\n",
    "        savedir=savedir,\n",
    "        save_weights=True,\n",
    "        verbose=True)"
   ]
  },
  {
   "cell_type": "code",
   "execution_count": 14,
   "id": "7db2d57b",
   "metadata": {},
   "outputs": [
    {
     "name": "stdout",
     "output_type": "stream",
     "text": [
      "incountry_resnet_ms\n",
      "features: dtype=float32, shape=(20438, 512)\n",
      "preds: dtype=float32, shape=(20438,)\n",
      "labels: dtype=float32, shape=(20438,)\n",
      "locs: dtype=float32, shape=(20438, 2)\n",
      "years: dtype=int32, shape=(20438,)\n",
      "incountry_resnet_nl\n",
      "features: dtype=float32, shape=(20438, 512)\n",
      "preds: dtype=float32, shape=(20438,)\n",
      "labels: dtype=float32, shape=(20438,)\n",
      "locs: dtype=float32, shape=(20438, 2)\n",
      "years: dtype=int32, shape=(20438,)\n",
      "incountry_resnet_ms\n",
      "features: dtype=float32, shape=(20438, 512)\n",
      "preds: dtype=float32, shape=(20438,)\n",
      "labels: dtype=float32, shape=(20438,)\n",
      "locs: dtype=float32, shape=(20438, 2)\n",
      "years: dtype=int32, shape=(20438,)\n",
      "incountry_resnet_nl\n",
      "features: dtype=float32, shape=(20438, 512)\n",
      "preds: dtype=float32, shape=(20438,)\n",
      "labels: dtype=float32, shape=(20438,)\n",
      "locs: dtype=float32, shape=(20438, 2)\n",
      "years: dtype=int32, shape=(20438,)\n",
      "incountry_resnet_ms\n",
      "features: dtype=float32, shape=(20438, 512)\n",
      "preds: dtype=float32, shape=(20438,)\n",
      "labels: dtype=float32, shape=(20438,)\n",
      "locs: dtype=float32, shape=(20438, 2)\n",
      "years: dtype=int32, shape=(20438,)\n",
      "incountry_resnet_nl\n",
      "features: dtype=float32, shape=(20438, 512)\n",
      "preds: dtype=float32, shape=(20438,)\n",
      "labels: dtype=float32, shape=(20438,)\n",
      "locs: dtype=float32, shape=(20438, 2)\n",
      "years: dtype=int32, shape=(20438,)\n",
      "incountry_resnet_ms\n",
      "features: dtype=float32, shape=(20438, 512)\n",
      "preds: dtype=float32, shape=(20438,)\n",
      "labels: dtype=float32, shape=(20438,)\n",
      "locs: dtype=float32, shape=(20438, 2)\n",
      "years: dtype=int32, shape=(20438,)\n",
      "incountry_resnet_nl\n",
      "features: dtype=float32, shape=(20438, 512)\n",
      "preds: dtype=float32, shape=(20438,)\n",
      "labels: dtype=float32, shape=(20438,)\n",
      "locs: dtype=float32, shape=(20438, 2)\n",
      "years: dtype=int32, shape=(20438,)\n",
      "incountry_resnet_ms\n",
      "features: dtype=float32, shape=(20438, 512)\n",
      "preds: dtype=float32, shape=(20438,)\n",
      "labels: dtype=float32, shape=(20438,)\n",
      "locs: dtype=float32, shape=(20438, 2)\n",
      "years: dtype=int32, shape=(20438,)\n",
      "incountry_resnet_nl\n",
      "features: dtype=float32, shape=(20438, 512)\n",
      "preds: dtype=float32, shape=(20438,)\n",
      "labels: dtype=float32, shape=(20438,)\n",
      "locs: dtype=float32, shape=(20438, 2)\n",
      "years: dtype=int32, shape=(20438,)\n",
      "Group: A\n",
      "Alpha: 17179869184.0 (14/14)\n"
     ]
    },
    {
     "data": {
      "image/png": "[encoded data removed]",
      "text/plain": [
       "<Figure size 432x216 with 1 Axes>"
      ]
     },
     "metadata": {
      "needs_background": "light"
     },
     "output_type": "display_data"
    },
    {
     "name": "stdout",
     "output_type": "stream",
     "text": [
      "best val mse: 0.021, best alpha: 0.03125, test mse: 0.022\n",
      "Group: B\n",
      "Alpha: 17179869184.0 (14/14)\n",
      "best val mse: 0.026, best alpha: 0.03125, test mse: 0.026\n",
      "Group: C\n",
      "Alpha: 17179869184.0 (14/14)\n",
      "best val mse: 0.022, best alpha: 16.0, test mse: 0.024\n",
      "Group: D\n",
      "Alpha: 17179869184.0 (14/14)\n",
      "best val mse: 0.022, best alpha: 0.03125, test mse: 0.023\n",
      "Group: E\n",
      "Alpha: 17179869184.0 (14/14)\n",
      "best val mse: 0.021, best alpha: 2.0, test mse: 0.021\n",
      "saving test preds to: /root/logs/longevity/resnet_msnl_concat/test_preds.npz\n",
      "saving ridge_weights to: /root/logs/longevity/resnet_msnl_concat/ridge_weights.npz\n"
     ]
    }
   ],
   "source": [
    "model_names = ['incountry_resnet_ms', 'incountry_resnet_nl']\n",
    "savedir = os.path.join(OUTPUTS_ROOT_DIR, 'resnet_msnl_concat')\n",
    "ridgecv_incountry_concat_wrapper(model_names, savedir)"
   ]
  },
  {
   "cell_type": "markdown",
   "id": "b2e3531c",
   "metadata": {},
   "source": [
    "### Transfer"
   ]
  },
  {
   "cell_type": "code",
   "execution_count": null,
   "id": "fc54b9f3",
   "metadata": {},
   "outputs": [],
   "source": [
    "DHS_Incountry_A_ms_samescaled_b64_fc01_conv01_lr001"
   ]
  },
  {
   "cell_type": "code",
   "execution_count": null,
   "id": "ca7bd3c3",
   "metadata": {},
   "outputs": [],
   "source": [
    "def ridgecv_incountry_transfer_wrapper(model_name: str, savedir: str) -> None:\n",
    "    '''\n",
    "    Args\n",
    "    - model_name: str, corresponds to keys in MODEL_DIRS (without the fold suffix)\n",
    "    - savedir: str, path to directory for saving ridge regression weights and predictions\n",
    "    '''\n",
    "    model_dir = MODEL_DIRS[model_name]\n",
    "    npz_path = os.path.join(OUTPUTS_ROOT_DIR, 'transfer', model_dir, 'features.npz')\n",
    "    features = load_npz(npz_path, check={'labels': labels})['features']\n",
    "    ridge_cv(\n",
    "        features=features,\n",
    "        labels=labels,\n",
    "        group_labels=incountry_group_labels,\n",
    "        group_names=FOLDS,\n",
    "        do_plot=True,\n",
    "        savedir=savedir,\n",
    "        save_weights=False)"
   ]
  },
  {
   "cell_type": "code",
   "execution_count": null,
   "id": "3db423cc",
   "metadata": {},
   "outputs": [],
   "source": [
    "model_name = 'transfer_resnet_ms'\n",
    "savedir = os.path.join(OUTPUTS_ROOT_DIR, 'transfer', MODEL_DIRS[model_name])\n",
    "ridgecv_incountry_transfer_wrapper(model_name, savedir)"
   ]
  },
  {
   "cell_type": "code",
   "execution_count": null,
   "id": "d4c2e6fe",
   "metadata": {},
   "outputs": [],
   "source": [
    "model_name = 'transfer_resnet_rgb'\n",
    "savedir = os.path.join(OUTPUTS_ROOT_DIR, 'transfer', MODEL_DIRS[model_name])\n",
    "ridgecv_incountry_transfer_wrapper(model_name, savedir)"
   ]
  }
 ],
 "metadata": {
  "instance_type": "ml.g5.8xlarge",
  "kernelspec": {
   "display_name": "Python 3 (TensorFlow 1.15 Python 3.7 GPU Optimized)",
   "language": "python",
   "name": "python3__SAGEMAKER_INTERNAL__arn:aws:sagemaker:us-east-1:081325390199:image/tensorflow-1.15-gpu-py37-cu110-ubuntu18.04-v8"
  },
  "language_info": {
   "codemirror_mode": {
    "name": "ipython",
    "version": 3
   },
   "file_extension": ".py",
   "mimetype": "text/x-python",
   "name": "python",
   "nbconvert_exporter": "python",
   "pygments_lexer": "ipython3",
   "version": "3.7.10"
  },
  "toc-autonumbering": false,
  "toc-showcode": false,
  "toc-showmarkdowntxt": false,
  "toc-showtags": false
 },
 "nbformat": 4,
 "nbformat_minor": 5
}
