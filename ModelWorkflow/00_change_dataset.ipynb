{
 "cells": [
  {
   "cell_type": "markdown",
   "id": "ae80f4bf-4001-4a93-8cbe-4d44339d16cd",
   "metadata": {},
   "source": [
    "## Prerequisites\n",
    "Loading the pandas Library"
   ]
  },
  {
   "cell_type": "code",
   "execution_count": 2,
   "id": "cdae46ca-1be3-41d2-bb5b-6c74821bbdff",
   "metadata": {},
   "outputs": [],
   "source": [
    "import pandas as pd"
   ]
  },
  {
   "cell_type": "markdown",
   "id": "9cfc5b25-95e0-4051-b8f1-90ac93b2f357",
   "metadata": {
    "tags": []
   },
   "source": [
    "## Changing the DataFrame for the INcome Indicator"
   ]
  },
  {
   "cell_type": "markdown",
   "id": "ad227e11-d5fa-403f-821f-caa25ad334dd",
   "metadata": {},
   "source": [
    "Loading the original .csv File"
   ]
  },
  {
   "cell_type": "code",
   "execution_count": 7,
   "id": "5ad851d2-bccb-4ca7-896e-360f5ccd26e6",
   "metadata": {},
   "outputs": [],
   "source": [
    "DHS_CSV_PATH = '/root/Datasets/SelectedClusters/dataset_clean.csv'"
   ]
  },
  {
   "cell_type": "markdown",
   "id": "f6a3f692-9878-420c-bdd6-daa67a0ecde5",
   "metadata": {},
   "source": [
    "Changing the .csv File (income -> wealthpooled , deleting literacy and longevity)"
   ]
  },
  {
   "cell_type": "code",
   "execution_count": 8,
   "id": "738046e0-2d04-4959-85fb-2ff7ab82b8df",
   "metadata": {},
   "outputs": [],
   "source": [
    "dhs_df = pd.read_csv(DHS_CSV_PATH, float_precision='high')\n",
    "dhs_df = dhs_df.drop(columns = ['literacy','longevity'])\n",
    "dhs_df = dhs_df.rename(columns = {'income':'wealthpooled'})"
   ]
  },
  {
   "cell_type": "markdown",
   "id": "28dad160-0ab2-495c-9162-4c3e2303e804",
   "metadata": {},
   "source": [
    "Verifying the new DataFrame Created"
   ]
  },
  {
   "cell_type": "code",
   "execution_count": 9,
   "id": "ca8f78b1-6ba5-45a9-a384-f722083717b4",
   "metadata": {},
   "outputs": [
    {
     "name": "stdout",
     "output_type": "stream",
     "text": [
      "<class 'pandas.core.frame.DataFrame'>\n",
      "RangeIndex: 20438 entries, 0 to 20437\n",
      "Data columns (total 6 columns):\n",
      "country         20438 non-null object\n",
      "lon             20438 non-null float64\n",
      "lat             20438 non-null float64\n",
      "wealthpooled    20438 non-null float64\n",
      "year            20438 non-null int64\n",
      "TYPE            20438 non-null object\n",
      "dtypes: float64(3), int64(1), object(2)\n",
      "memory usage: 958.2+ KB\n"
     ]
    }
   ],
   "source": [
    "dhs_df.info()"
   ]
  },
  {
   "cell_type": "code",
   "execution_count": 10,
   "id": "bc0e8677-03b9-49bd-9476-4ff7a3be457f",
   "metadata": {},
   "outputs": [
    {
     "data": {
      "text/html": [
       "<div>\n",
       "<style scoped>\n",
       "    .dataframe tbody tr th:only-of-type {\n",
       "        vertical-align: middle;\n",
       "    }\n",
       "\n",
       "    .dataframe tbody tr th {\n",
       "        vertical-align: top;\n",
       "    }\n",
       "\n",
       "    .dataframe thead th {\n",
       "        text-align: right;\n",
       "    }\n",
       "</style>\n",
       "<table border=\"1\" class=\"dataframe\">\n",
       "  <thead>\n",
       "    <tr style=\"text-align: right;\">\n",
       "      <th></th>\n",
       "      <th>country</th>\n",
       "      <th>lon</th>\n",
       "      <th>lat</th>\n",
       "      <th>wealthpooled</th>\n",
       "      <th>year</th>\n",
       "      <th>TYPE</th>\n",
       "    </tr>\n",
       "  </thead>\n",
       "  <tbody>\n",
       "    <tr>\n",
       "      <th>0</th>\n",
       "      <td>brazil</td>\n",
       "      <td>-60.100669</td>\n",
       "      <td>-12.772811</td>\n",
       "      <td>0.628482</td>\n",
       "      <td>2010</td>\n",
       "      <td>URBAN</td>\n",
       "    </tr>\n",
       "    <tr>\n",
       "      <th>1</th>\n",
       "      <td>brazil</td>\n",
       "      <td>-48.270235</td>\n",
       "      <td>-7.218174</td>\n",
       "      <td>0.520860</td>\n",
       "      <td>2010</td>\n",
       "      <td>URBAN</td>\n",
       "    </tr>\n",
       "    <tr>\n",
       "      <th>2</th>\n",
       "      <td>brazil</td>\n",
       "      <td>-48.210048</td>\n",
       "      <td>-7.157114</td>\n",
       "      <td>0.580544</td>\n",
       "      <td>2010</td>\n",
       "      <td>URBAN</td>\n",
       "    </tr>\n",
       "    <tr>\n",
       "      <th>3</th>\n",
       "      <td>brazil</td>\n",
       "      <td>-49.162132</td>\n",
       "      <td>-11.892742</td>\n",
       "      <td>0.476975</td>\n",
       "      <td>2010</td>\n",
       "      <td>URBAN</td>\n",
       "    </tr>\n",
       "    <tr>\n",
       "      <th>4</th>\n",
       "      <td>brazil</td>\n",
       "      <td>-48.468856</td>\n",
       "      <td>-8.062309</td>\n",
       "      <td>0.543212</td>\n",
       "      <td>2010</td>\n",
       "      <td>URBAN</td>\n",
       "    </tr>\n",
       "  </tbody>\n",
       "</table>\n",
       "</div>"
      ],
      "text/plain": [
       "  country        lon        lat  wealthpooled  year   TYPE\n",
       "0  brazil -60.100669 -12.772811      0.628482  2010  URBAN\n",
       "1  brazil -48.270235  -7.218174      0.520860  2010  URBAN\n",
       "2  brazil -48.210048  -7.157114      0.580544  2010  URBAN\n",
       "3  brazil -49.162132 -11.892742      0.476975  2010  URBAN\n",
       "4  brazil -48.468856  -8.062309      0.543212  2010  URBAN"
      ]
     },
     "execution_count": 10,
     "metadata": {},
     "output_type": "execute_result"
    }
   ],
   "source": [
    "dhs_df.head()"
   ]
  },
  {
   "cell_type": "markdown",
   "id": "405ef8eb-8eae-4f0e-adeb-a71dd60c3d9d",
   "metadata": {},
   "source": [
    "Saving the new .csv file (dataset_clean_2.csv -> only income indicator)"
   ]
  },
  {
   "cell_type": "code",
   "execution_count": 24,
   "id": "efffd203-d6a6-4f19-80ff-81a960dc8c20",
   "metadata": {},
   "outputs": [],
   "source": [
    "dhs_df.to_csv(\"dataset_clean_2.csv\",index=False)"
   ]
  },
  {
   "cell_type": "code",
   "execution_count": 25,
   "id": "dd5b4020-16e3-4ab0-8369-e477d7e9425d",
   "metadata": {},
   "outputs": [],
   "source": [
    "!mv dataset_clean_2.csv \"/root/Datasets/SelectedClusters/\""
   ]
  },
  {
   "cell_type": "markdown",
   "id": "a5b16da1-660f-4991-b7d6-44ba294caf8e",
   "metadata": {},
   "source": [
    "## Repeating the Process for Longevity"
   ]
  },
  {
   "cell_type": "code",
   "execution_count": 16,
   "id": "175ea0ea-fa39-4606-b719-7a59cace3195",
   "metadata": {},
   "outputs": [],
   "source": [
    "DHS_CSV_PATH = '/root/Datasets/SelectedClusters/dataset_clean.csv'"
   ]
  },
  {
   "cell_type": "code",
   "execution_count": null,
   "id": "9482b175-18b0-486b-aef9-2347fbd9db02",
   "metadata": {},
   "outputs": [],
   "source": [
    "dhs_df = pd.read_csv(DHS_CSV_PATH, float_precision='high')\n",
    "dhs_df = dhs_df.drop(columns = ['literacy','income'])\n",
    "dhs_df = dhs_df.rename(columns = {'longevity':'wealthpooled'})"
   ]
  },
  {
   "cell_type": "code",
   "execution_count": 17,
   "id": "d29c612f-f99f-4bea-bcda-c1e56a108fa2",
   "metadata": {},
   "outputs": [],
   "source": [
    "dhs_df.to_csv(\"dataset_clean_3.csv\",index=False)"
   ]
  },
  {
   "cell_type": "code",
   "execution_count": 18,
   "id": "b737c2a7-112d-48b4-aa02-cd0deccf27de",
   "metadata": {},
   "outputs": [],
   "source": [
    "!mv dataset_clean_3.csv \"/root/Datasets/SelectedClusters/\""
   ]
  },
  {
   "cell_type": "markdown",
   "id": "01c00536-da72-468f-bb84-82e1b7447d08",
   "metadata": {},
   "source": [
    "## Repeating the Process for Literacy"
   ]
  },
  {
   "cell_type": "code",
   "execution_count": 13,
   "id": "2b410bad-6f1a-4081-b40a-d5ca65440f9a",
   "metadata": {},
   "outputs": [],
   "source": [
    "DHS_CSV_PATH = '/root/Datasets/SelectedClusters/dataset_clean.csv'\n",
    "dhs_df = pd.read_csv(DHS_CSV_PATH, float_precision='high')\n",
    "dhs_df = dhs_df.drop(columns = ['longevity','income'])\n",
    "dhs_df = dhs_df.rename(columns = {'literacy':'wealthpooled'})"
   ]
  },
  {
   "cell_type": "code",
   "execution_count": 14,
   "id": "5a6408ef-a03f-42a9-ab49-4457b5285d5f",
   "metadata": {},
   "outputs": [],
   "source": [
    "dhs_df.to_csv(\"dataset_clean_4.csv\",index=False)"
   ]
  },
  {
   "cell_type": "code",
   "execution_count": 15,
   "id": "69651cc8-ca2e-4a80-b12f-037b11222599",
   "metadata": {},
   "outputs": [],
   "source": [
    "!mv dataset_clean_4.csv \"/root/Datasets/SelectedClusters/\""
   ]
  }
 ],
 "metadata": {
  "instance_type": "ml.m5.4xlarge",
  "kernelspec": {
   "display_name": "Python 3 (TensorFlow 1.15 Python 3.7 CPU Optimized)",
   "language": "python",
   "name": "python3__SAGEMAKER_INTERNAL__arn:aws:sagemaker:us-east-1:081325390199:image/tensorflow-1.15-cpu-py37-ubuntu18.04-v7"
  },
  "language_info": {
   "codemirror_mode": {
    "name": "ipython",
    "version": 3
   },
   "file_extension": ".py",
   "mimetype": "text/x-python",
   "name": "python",
   "nbconvert_exporter": "python",
   "pygments_lexer": "ipython3",
   "version": "3.7.10"
  }
 },
 "nbformat": 4,
 "nbformat_minor": 5
}
