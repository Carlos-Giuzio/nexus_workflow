{
 "cells": [
  {
   "cell_type": "markdown",
   "id": "fdfa09e0",
   "metadata": {},
   "source": [
    "## Pre-requisites\n",
    "\n",
    "Before running this notebook, you should have already used the `extract_features.py` script to extract features from models trained on DHS data. You should have the following structure under the `outputs/` directory:\n",
    "\n",
    "```\n",
    "dhs_ooc/\n",
    "    DHS_OOC_A_ms_samescaled_b64_fc01_conv01_lr0001/\n",
    "        features.npz\n",
    "    ...\n",
    "    DHS_OOC_E_rgb_same_b64_fc001_conv001_lr0001/\n",
    "        features.npz\n",
    "dhs_incountry/\n",
    "    DHS_Incountry_A_ms_samescaled_b64_fc01_conv01_lr001/\n",
    "        features.npz\n",
    "    ...\n",
    "    DHS_Incountry_E_nl_random_b64_fc01_conv01_lr001/\n",
    "        features.npz\n",
    "transfer/\n",
    "    transfer_nlcenter_ms_b64_fc001_conv001_lr0001/\n",
    "        features.npz\n",
    "    transfer_nlcenter_rgb_b64_fc001_conv001_lr0001/\n",
    "        features.npz\n",
    "        \n",
    "\n",
    "TODO: update when keep-frac models are added\n",
    "```\n",
    "\n",
    "## Instructions\n",
    "\n",
    "This notebook essentially performs fine-tuning of the final-layer of the Resnet-18 models. However, instead of directly fine-tuning the Resnet-18 models in TensorFlow, we train ridge-regression models using the extracted features. We take this approach for two reasons:\n",
    "\n",
    "1. It is easier to perform leave-one-group-out (\"logo\") cross-validated ridge regression using scikit-learn, as opposed to TensorFlow. For out-of-country (OOC) experiments, the left-out group is the test country. For in-country experiments, the left-out group is the test split.\n",
    "2. We can concatenate the 512-dim features from the RGB/MS CNN models with the 512-dim features from the NL CNN models to form a larger 1024-dim feature vector capturing RGB/MS + NL imagery information. We do this instead of training a CNN with the MS+NL imagery stacked together as an input because we found it to result in better performance.\n",
    "\n",
    "Because of the extensive cross-validation, each \"logo\" CV run may take ~2-4 hours. In total, this notebook may take upwards of 15 hours to complete.\n",
    "\n",
    "After you complete this notebook, use the `model_analysis/dhs_ooc.ipynb` and `model_analysis/dhs_incountry.ipynb` (TODO) notebooks to analyze the final performance of the fine-tuned Resnet-18 models."
   ]
  },
  {
   "cell_type": "markdown",
   "id": "eab72771",
   "metadata": {},
   "source": [
    "## Imports and Constants"
   ]
  },
  {
   "cell_type": "code",
   "execution_count": 1,
   "id": "e83bcd05",
   "metadata": {},
   "outputs": [
    {
     "name": "stdout",
     "output_type": "stream",
     "text": [
      "/home/abenabbes/Ali-a\n",
      "/home/abenabbes/Ali-a\n"
     ]
    }
   ],
   "source": [
    "%cd '/hdd/home/abenabbes/Ali-a/'\n",
    "%load_ext autoreload\n",
    "%autoreload 2\n",
    "%matplotlib inline\n",
    "!pwd"
   ]
  },
  {
   "cell_type": "code",
   "execution_count": 3,
   "id": "e068c575-6f1d-4f6c-ace9-9b181a3401b2",
   "metadata": {},
   "outputs": [
    {
     "name": "stdout",
     "output_type": "stream",
     "text": [
      "Collecting matplotlib\n",
      "  Using cached matplotlib-3.5.3-cp37-cp37m-manylinux_2_5_x86_64.manylinux1_x86_64.whl (11.2 MB)\n",
      "Collecting cycler>=0.10\n",
      "  Using cached cycler-0.11.0-py3-none-any.whl (6.4 kB)\n",
      "Requirement already satisfied: packaging>=20.0 in /usr/local/lib/python3.7/site-packages (from matplotlib) (20.9)\n",
      "Requirement already satisfied: pillow>=6.2.0 in /usr/local/lib/python3.7/site-packages (from matplotlib) (8.2.0)\n",
      "Collecting kiwisolver>=1.0.1\n",
      "  Using cached kiwisolver-1.4.4-cp37-cp37m-manylinux_2_5_x86_64.manylinux1_x86_64.whl (1.1 MB)\n",
      "Requirement already satisfied: numpy>=1.17 in /usr/local/lib/python3.7/site-packages (from matplotlib) (1.18.5)\n",
      "Collecting fonttools>=4.22.0\n",
      "  Using cached fonttools-4.38.0-py3-none-any.whl (965 kB)\n",
      "Requirement already satisfied: python-dateutil>=2.7 in /usr/local/lib/python3.7/site-packages (from matplotlib) (2.8.2)\n",
      "Requirement already satisfied: pyparsing>=2.2.1 in /usr/local/lib/python3.7/site-packages (from matplotlib) (2.4.7)\n",
      "Requirement already satisfied: typing-extensions in /usr/local/lib/python3.7/site-packages (from kiwisolver>=1.0.1->matplotlib) (3.7.4.3)\n",
      "Requirement already satisfied: six>=1.5 in /usr/local/lib/python3.7/site-packages (from python-dateutil>=2.7->matplotlib) (1.16.0)\n",
      "Installing collected packages: kiwisolver, fonttools, cycler, matplotlib\n",
      "Successfully installed cycler-0.11.0 fonttools-4.38.0 kiwisolver-1.4.4 matplotlib-3.5.3\n",
      "\u001b[33mWARNING: You are using pip version 21.0.1; however, version 22.3.1 is available.\n",
      "You should consider upgrading via the '/usr/local/bin/python3.7 -m pip install --upgrade pip' command.\u001b[0m\n"
     ]
    }
   ],
   "source": [
    "!pip install matplotlib"
   ]
  },
  {
   "cell_type": "code",
   "execution_count": 2,
   "id": "1da8d689",
   "metadata": {},
   "outputs": [
    {
     "ename": "ModuleNotFoundError",
     "evalue": "No module named 'matplotlib'",
     "output_type": "error",
     "traceback": [
      "\u001b[0;31m---------------------------------------------------------------------------\u001b[0m",
      "\u001b[0;31mModuleNotFoundError\u001b[0m                       Traceback (most recent call last)",
      "\u001b[0;32m<ipython-input-2-543fea8afb79>\u001b[0m in \u001b[0;36m<module>\u001b[0;34m\u001b[0m\n\u001b[1;32m      9\u001b[0m \u001b[0;34m\u001b[0m\u001b[0m\n\u001b[1;32m     10\u001b[0m \u001b[0;32mfrom\u001b[0m \u001b[0mbatchers\u001b[0m \u001b[0;32mimport\u001b[0m \u001b[0mdataset_constants\u001b[0m\u001b[0;34m\u001b[0m\u001b[0;34m\u001b[0m\u001b[0m\n\u001b[0;32m---> 11\u001b[0;31m \u001b[0;32mfrom\u001b[0m \u001b[0mmodels\u001b[0m\u001b[0;34m.\u001b[0m\u001b[0mlinear_model\u001b[0m \u001b[0;32mimport\u001b[0m \u001b[0mridge_cv\u001b[0m\u001b[0;34m\u001b[0m\u001b[0;34m\u001b[0m\u001b[0m\n\u001b[0m\u001b[1;32m     12\u001b[0m \u001b[0;32mfrom\u001b[0m \u001b[0mutils\u001b[0m\u001b[0;34m.\u001b[0m\u001b[0mgeneral\u001b[0m \u001b[0;32mimport\u001b[0m \u001b[0mload_npz\u001b[0m\u001b[0;34m\u001b[0m\u001b[0;34m\u001b[0m\u001b[0m\n",
      "\u001b[0;32m~/ModelWorkflow/models/linear_model.py\u001b[0m in \u001b[0;36m<module>\u001b[0;34m\u001b[0m\n\u001b[1;32m      6\u001b[0m \u001b[0;34m\u001b[0m\u001b[0m\n\u001b[1;32m      7\u001b[0m \u001b[0;32mimport\u001b[0m \u001b[0mnumpy\u001b[0m \u001b[0;32mas\u001b[0m \u001b[0mnp\u001b[0m\u001b[0;34m\u001b[0m\u001b[0;34m\u001b[0m\u001b[0m\n\u001b[0;32m----> 8\u001b[0;31m \u001b[0;32mimport\u001b[0m \u001b[0mmatplotlib\u001b[0m\u001b[0;34m.\u001b[0m\u001b[0mcm\u001b[0m \u001b[0;32mas\u001b[0m \u001b[0mcm\u001b[0m\u001b[0;34m\u001b[0m\u001b[0;34m\u001b[0m\u001b[0m\n\u001b[0m\u001b[1;32m      9\u001b[0m \u001b[0;32mimport\u001b[0m \u001b[0mmatplotlib\u001b[0m\u001b[0;34m.\u001b[0m\u001b[0mpyplot\u001b[0m \u001b[0;32mas\u001b[0m \u001b[0mplt\u001b[0m\u001b[0;34m\u001b[0m\u001b[0;34m\u001b[0m\u001b[0m\n\u001b[1;32m     10\u001b[0m \u001b[0;32mimport\u001b[0m \u001b[0msklearn\u001b[0m\u001b[0;34m.\u001b[0m\u001b[0mlinear_model\u001b[0m\u001b[0;34m\u001b[0m\u001b[0;34m\u001b[0m\u001b[0m\n",
      "\u001b[0;31mModuleNotFoundError\u001b[0m: No module named 'matplotlib'"
     ]
    }
   ],
   "source": [
    "from __future__ import annotations\n",
    "\n",
    "from collections.abc import Iterable\n",
    "import os\n",
    "import pickle\n",
    "\n",
    "import numpy as np\n",
    "import pandas as pd\n",
    "\n",
    "from batchers import dataset_constants\n",
    "from models.linear_model import ridge_cv\n",
    "from utils.general import load_npz"
   ]
  },
  {
   "cell_type": "code",
   "execution_count": 9,
   "id": "b5b6ac0d",
   "metadata": {},
   "outputs": [],
   "source": [
    "FOLDS = ['A', 'B', 'C', 'D', 'E']\n",
    "SPLITS = ['train', 'val', 'test']\n",
    "label = 'income'\n",
    "OUTPUTS_ROOT_DIR = f'/root/logs/{label}'\n",
    "INPUTS_ROOT_DIR = f'/root/final_ex/{label}'\n",
    "COUNTRIES = dataset_constants.DHS_COUNTRIES\n",
    "\n",
    "KEEPS = [0.05, 0.1, 0.25, 0.5]\n",
    "SEEDS = [123, 456, 789]"
   ]
  },
  {
   "cell_type": "markdown",
   "id": "7d83ec40",
   "metadata": {},
   "source": [
    "## Load data"
   ]
  },
  {
   "cell_type": "code",
   "execution_count": 4,
   "id": "bfacca95",
   "metadata": {},
   "outputs": [],
   "source": [
    "MODEL_DIRS = {\n",
    "    #Incountry models - NightLight\n",
    "    \n",
    "    'incountry_resnet_nl_A':'DHS_Incountry_A_nl_random_b64_fc1.0_conv1.0_lr0001',\n",
    "    'incountry_resnet_nl_B':'DHS_Incountry_B_nl_random_b64_fc1.0_conv1.0_lr0001',\n",
    "    'incountry_resnet_nl_C':'DHS_Incountry_C_nl_random_b64_fc1.0_conv1.0_lr0001',\n",
    "    'incountry_resnet_nl_D':'DHS_Incountry_D_nl_random_b64_fc1.0_conv1.0_lr0001',\n",
    "    'incountry_resnet_nl_E':'DHS_Incountry_E_nl_random_b64_fc1_conv1.0_lr001',\n",
    "    \n",
    "    #Incountry models - MultiSpectral\n",
    "    \n",
    "    'incountry_resnet_ms_A':'DHS_Incountry_A_ms_samescaled_200_b64_fc01_conv01_lr001',\n",
    "    'incountry_resnet_ms_B':'DHS_Incountry_B_ms_samescaled_200_b64_fc1_conv1_lr001',\n",
    "    'incountry_resnet_ms_C':'DHS_Incountry_C_ms_samescaled_200_b64_fc1.0_conv1.0_lr0001',\n",
    "    'incountry_resnet_ms_D':'DHS_Incountry_D_ms_samescaled_200_b64_fc001_conv1.0_lr0001',\n",
    "    'incountry_resnet_ms_E':'DHS_Incountry_E_ms_samescaled_200_b64_fc001_conv001_lr0001',\n",
    "    \n",
    "}"
   ]
  },
  {
   "cell_type": "markdown",
   "id": "90f40d29",
   "metadata": {},
   "source": [
    "`country_labels` is a `np.ndarray` that shows which country each cluster belongs to. Countries are indexed by their position in `dataset_constants.DHS_COUNTRIES`.\n",
    "```python\n",
    "array([ 0,  0,  0, ..., 22, 22, 22])\n",
    "```\n",
    "\n",
    "`incountry_group_labels` is a `np.ndarray` that shows which \"test\" fold each cluster belongs to. The first cluster belongs to the \"test\" split of fold \"B\" (folds here are 0-indexed).\n",
    "```python\n",
    "array([1, 1, 4, ..., 1, 0, 3])\n",
    "```"
   ]
  },
  {
   "cell_type": "code",
   "execution_count": 5,
   "id": "aa8f0208",
   "metadata": {},
   "outputs": [],
   "source": [
    "countries=[\"brazil\"]\n",
    "\n",
    "print(len(countries))"
   ]
  },
  {
   "cell_type": "code",
   "execution_count": 6,
   "id": "e061cc11",
   "metadata": {},
   "outputs": [],
   "source": [
    "FOLDS = [\"A\", \"B\", \"C\", \"D\", \"E\"]\n",
    "indicators = ['income','longevity','literacy']\n",
    "for label in indicators:\n",
    "    df = pd.read_csv('/root/Datasets/SelectedClusters/dataset_clean.csv', float_precision='high', index_col=False)\n",
    "    labels = df[label].to_numpy(dtype=np.float32)\n",
    "    print(labels)"
   ]
  },
  {
   "cell_type": "code",
   "execution_count": 8,
   "id": "ab7cb5f6",
   "metadata": {},
   "outputs": [
    {
     "name": "stdout",
     "output_type": "stream",
     "text": [
      "[ 2.3127568   2.010293    0.87774396 ... -0.26969486  1.3907564\n",
      " -0.016828  ]\n",
      "36182\n",
      "[ 0  0  0 ... 23 23 23]\n",
      "[    0     1    14 ... 36154 36157 36163]\n",
      "0\n",
      "[   20    21    24 ... 36177 36179 36180]\n",
      "1\n",
      "[   10    11    12 ... 36141 36164 36167]\n",
      "2\n",
      "[    6     7     8 ... 36165 36176 36181]\n",
      "3\n",
      "[    2     3     4 ... 36170 36173 36178]\n",
      "4\n"
     ]
    }
   ],
   "source": [
    "indicators = ['income','longevity','literacy']\n",
    "for label in indicators:\n",
    "    print(f'for label {label}')\n",
    "    df = pd.read_csv('/root/Datasets/SelectedClusters/dataset_clean.csv', float_precision='high', index_col=False)\n",
    "    labels = df[label].to_numpy(dtype=np.float32)\n",
    "    print(labels)\n",
    "    print(len(labels))\n",
    "    locs = df[['lat', 'lon']].to_numpy(dtype=np.float32)\n",
    "    country_labels = df['country'].map(countries.index).to_numpy()\n",
    "    print(country_labels)\n",
    "\n",
    "with open('/root/Datasets/SelectedClusters/dhs_incountry_co.pkl', 'rb') as f:\n",
    "    incountry_folds = pickle.load(f)\n",
    "incountry_group_labels = np.zeros(len(df), dtype=np.int64)\n",
    "for i, fold in enumerate(FOLDS):\n",
    "    test_indices = incountry_folds[fold]['test']\n",
    "    print(test_indices)\n",
    "    incountry_group_labels[test_indices] = i\n",
    "    print(i)\n"
   ]
  },
  {
   "cell_type": "code",
   "execution_count": null,
   "id": "6c29877b-82b4-46fb-9b90-8bf361395d7d",
   "metadata": {},
   "outputs": [],
   "source": [
    "label = 'income'\n",
    "\n",
    "print(f'for label {label}')\n",
    "df = pd.read_csv('/root/Datasets/SelectedClusters/dataset_clean.csv', float_precision='high', index_col=False)\n",
    "labels = df[label].to_numpy(dtype=np.float32)\n",
    "print(labels)\n",
    "print(len(labels))\n",
    "locs = df[['lat', 'lon']].to_numpy(dtype=np.float32)\n",
    "country_labels = df['country'].map(countries.index).to_numpy()\n",
    "print(country_labels)\n",
    "\n",
    "with open('/root/Datasets/SelectedClusters/dhs_incountry_co.pkl', 'rb') as f:\n",
    "    incountry_folds = pickle.load(f)\n",
    "incountry_group_labels = np.zeros(len(df), dtype=np.int64)\n",
    "for i, fold in enumerate(FOLDS):\n",
    "    test_indices = incountry_folds[fold]['test']\n",
    "    print(test_indices)\n",
    "    incountry_group_labels[test_indices] = i\n",
    "    print(i)"
   ]
  },
  {
   "cell_type": "markdown",
   "id": "0030a57e",
   "metadata": {},
   "source": [
    "## Incountry"
   ]
  },
  {
   "cell_type": "code",
   "execution_count": null,
   "id": "4aaf9dc2",
   "metadata": {},
   "outputs": [],
   "source": [
    "def ridgecv_incountry_wrapper(model_name: str, savedir: str) -> None:\n",
    "    '''\n",
    "    Args\n",
    "    - model_name: str, corresponds to keys in MODEL_DIRS (without the fold suffix)\n",
    "    - savedir: str, path to directory for saving ridge regression weights and predictions\n",
    "    '''\n",
    "    features_dict = {}\n",
    "    for f in FOLDS:\n",
    "        model_fold_name = f'{model_name}_{f}'\n",
    "        print(model_fold_name)\n",
    "        print(labels)\n",
    "        model_dir = MODEL_DIRS[model_fold_name]\n",
    "        npz_path = os.path.join(INPUTS_ROOT_DIR, 'dhsincountry', model_dir, 'features.npz')\n",
    "        print(labels)\n",
    "        npz = load_npz(npz_path, check={'labels': labels})\n",
    "        features_dict[f] = npz['features']\n",
    "\n",
    "    ridge_cv(\n",
    "        features=features_dict,\n",
    "        labels=labels,\n",
    "        group_labels=incountry_group_labels,\n",
    "        group_names=FOLDS,\n",
    "        do_plot=True,\n",
    "        savedir=savedir,\n",
    "        save_weights=True,\n",
    "        verbose=True)"
   ]
  },
  {
   "cell_type": "code",
   "execution_count": 25,
   "id": "7f7b54a2",
   "metadata": {},
   "outputs": [
    {
     "name": "stdout",
     "output_type": "stream",
     "text": [
      "incountry_resnet_ms_A\n",
      "[ 2.3127568   2.010293    0.87774396 ... -0.26969486  1.3907564\n",
      " -0.016828  ]\n",
      "[ 2.3127568   2.010293    0.87774396 ... -0.26969486  1.3907564\n",
      " -0.016828  ]\n",
      "features: dtype=float32, shape=(36182, 512)\n",
      "preds: dtype=float32, shape=(36182,)\n",
      "labels: dtype=float32, shape=(36182,)\n",
      "locs: dtype=float32, shape=(36182, 2)\n",
      "years: dtype=int32, shape=(36182,)\n",
      "incountry_resnet_ms_B\n",
      "[ 2.3127568   2.010293    0.87774396 ... -0.26969486  1.3907564\n",
      " -0.016828  ]\n",
      "[ 2.3127568   2.010293    0.87774396 ... -0.26969486  1.3907564\n",
      " -0.016828  ]\n",
      "features: dtype=float32, shape=(36182, 512)\n",
      "preds: dtype=float32, shape=(36182,)\n",
      "labels: dtype=float32, shape=(36182,)\n",
      "locs: dtype=float32, shape=(36182, 2)\n",
      "years: dtype=int32, shape=(36182,)\n",
      "incountry_resnet_ms_C\n",
      "[ 2.3127568   2.010293    0.87774396 ... -0.26969486  1.3907564\n",
      " -0.016828  ]\n",
      "[ 2.3127568   2.010293    0.87774396 ... -0.26969486  1.3907564\n",
      " -0.016828  ]\n",
      "features: dtype=float32, shape=(36182, 512)\n",
      "preds: dtype=float32, shape=(36182,)\n",
      "labels: dtype=float32, shape=(36182,)\n",
      "locs: dtype=float32, shape=(36182, 2)\n",
      "years: dtype=int32, shape=(36182,)\n",
      "incountry_resnet_ms_D\n",
      "[ 2.3127568   2.010293    0.87774396 ... -0.26969486  1.3907564\n",
      " -0.016828  ]\n",
      "[ 2.3127568   2.010293    0.87774396 ... -0.26969486  1.3907564\n",
      " -0.016828  ]\n",
      "features: dtype=float32, shape=(36182, 512)\n",
      "preds: dtype=float32, shape=(36182,)\n",
      "labels: dtype=float32, shape=(36182,)\n",
      "locs: dtype=float32, shape=(36182, 2)\n",
      "years: dtype=int32, shape=(36182,)\n",
      "incountry_resnet_ms_E\n",
      "[ 2.3127568   2.010293    0.87774396 ... -0.26969486  1.3907564\n",
      " -0.016828  ]\n",
      "[ 2.3127568   2.010293    0.87774396 ... -0.26969486  1.3907564\n",
      " -0.016828  ]\n",
      "features: dtype=float32, shape=(36182, 512)\n",
      "preds: dtype=float32, shape=(36182,)\n",
      "labels: dtype=float32, shape=(36182,)\n",
      "locs: dtype=float32, shape=(36182, 2)\n",
      "years: dtype=int32, shape=(36182,)\n",
      "Group: A\n",
      "Alpha: 0.03125 (1/14)"
     ]
    },
    {
     "name": "stderr",
     "output_type": "stream",
     "text": [
      "/home/abenabbes/anaconda3/envs/py24/lib/python3.7/site-packages/sklearn/linear_model/_ridge.py:148: LinAlgWarning: Ill-conditioned matrix (rcond=3.81991e-08): result may not be accurate.\n",
      "  overwrite_a=True).T\n",
      "/home/abenabbes/anaconda3/envs/py24/lib/python3.7/site-packages/sklearn/linear_model/_ridge.py:148: LinAlgWarning: Ill-conditioned matrix (rcond=4.01937e-08): result may not be accurate.\n",
      "  overwrite_a=True).T\n",
      "/home/abenabbes/anaconda3/envs/py24/lib/python3.7/site-packages/sklearn/linear_model/_ridge.py:148: LinAlgWarning: Ill-conditioned matrix (rcond=2.64177e-08): result may not be accurate.\n",
      "  overwrite_a=True).T\n",
      "/home/abenabbes/anaconda3/envs/py24/lib/python3.7/site-packages/sklearn/linear_model/_ridge.py:148: LinAlgWarning: Ill-conditioned matrix (rcond=4.16817e-08): result may not be accurate.\n",
      "  overwrite_a=True).T\n"
     ]
    },
    {
     "name": "stdout",
     "output_type": "stream",
     "text": [
      "Alpha: 17179869184.0 (14/14)\n"
     ]
    },
    {
     "data": {
      "image/png": "[encoded data removed]",
      "text/plain": [
       "<Figure size 432x216 with 1 Axes>"
      ]
     },
     "metadata": {
      "needs_background": "light"
     },
     "output_type": "display_data"
    },
    {
     "name": "stderr",
     "output_type": "stream",
     "text": [
      "/home/abenabbes/anaconda3/envs/py24/lib/python3.7/site-packages/sklearn/linear_model/_ridge.py:148: LinAlgWarning: Ill-conditioned matrix (rcond=2.8457e-08): result may not be accurate.\n",
      "  overwrite_a=True).T\n",
      "/home/abenabbes/anaconda3/envs/py24/lib/python3.7/site-packages/sklearn/linear_model/_ridge.py:148: LinAlgWarning: Ill-conditioned matrix (rcond=2.58273e-08): result may not be accurate.\n",
      "  overwrite_a=True).T\n",
      "/home/abenabbes/anaconda3/envs/py24/lib/python3.7/site-packages/sklearn/linear_model/_ridge.py:148: LinAlgWarning: Ill-conditioned matrix (rcond=2.39221e-08): result may not be accurate.\n",
      "  overwrite_a=True).T\n"
     ]
    },
    {
     "name": "stdout",
     "output_type": "stream",
     "text": [
      "best val mse: 0.191, best alpha: 0.03125, test mse: 0.233\n",
      "Group: B\n",
      "Alpha: 0.03125 (1/14)"
     ]
    },
    {
     "name": "stderr",
     "output_type": "stream",
     "text": [
      "/home/abenabbes/anaconda3/envs/py24/lib/python3.7/site-packages/sklearn/linear_model/_ridge.py:148: LinAlgWarning: Ill-conditioned matrix (rcond=2.61745e-08): result may not be accurate.\n",
      "  overwrite_a=True).T\n",
      "/home/abenabbes/anaconda3/envs/py24/lib/python3.7/site-packages/sklearn/linear_model/_ridge.py:148: LinAlgWarning: Ill-conditioned matrix (rcond=2.5861e-08): result may not be accurate.\n",
      "  overwrite_a=True).T\n"
     ]
    },
    {
     "name": "stdout",
     "output_type": "stream",
     "text": [
      "Alpha: 17179869184.0 (14/14)\n",
      "best val mse: 0.227, best alpha: 0.03125, test mse: 0.252\n",
      "Group: C\n",
      "Alpha: 0.03125 (1/14)"
     ]
    },
    {
     "name": "stderr",
     "output_type": "stream",
     "text": [
      "/home/abenabbes/anaconda3/envs/py24/lib/python3.7/site-packages/sklearn/linear_model/_ridge.py:148: LinAlgWarning: Ill-conditioned matrix (rcond=1.91168e-08): result may not be accurate.\n",
      "  overwrite_a=True).T\n",
      "/home/abenabbes/anaconda3/envs/py24/lib/python3.7/site-packages/sklearn/linear_model/_ridge.py:148: LinAlgWarning: Ill-conditioned matrix (rcond=3.10185e-09): result may not be accurate.\n",
      "  overwrite_a=True).T\n",
      "/home/abenabbes/anaconda3/envs/py24/lib/python3.7/site-packages/sklearn/linear_model/_ridge.py:148: LinAlgWarning: Ill-conditioned matrix (rcond=3.53579e-09): result may not be accurate.\n",
      "  overwrite_a=True).T\n",
      "/home/abenabbes/anaconda3/envs/py24/lib/python3.7/site-packages/sklearn/linear_model/_ridge.py:148: LinAlgWarning: Ill-conditioned matrix (rcond=7.44027e-09): result may not be accurate.\n",
      "  overwrite_a=True).T\n",
      "/home/abenabbes/anaconda3/envs/py24/lib/python3.7/site-packages/sklearn/linear_model/_ridge.py:148: LinAlgWarning: Ill-conditioned matrix (rcond=3.37613e-09): result may not be accurate.\n",
      "  overwrite_a=True).T\n",
      "/home/abenabbes/anaconda3/envs/py24/lib/python3.7/site-packages/sklearn/linear_model/_ridge.py:148: LinAlgWarning: Ill-conditioned matrix (rcond=3.60099e-08): result may not be accurate.\n",
      "  overwrite_a=True).T\n"
     ]
    },
    {
     "name": "stdout",
     "output_type": "stream",
     "text": [
      "Alpha: 0.25 (2/14)"
     ]
    },
    {
     "name": "stderr",
     "output_type": "stream",
     "text": [
      "/home/abenabbes/anaconda3/envs/py24/lib/python3.7/site-packages/sklearn/linear_model/_ridge.py:148: LinAlgWarning: Ill-conditioned matrix (rcond=3.70931e-08): result may not be accurate.\n",
      "  overwrite_a=True).T\n",
      "/home/abenabbes/anaconda3/envs/py24/lib/python3.7/site-packages/sklearn/linear_model/_ridge.py:148: LinAlgWarning: Ill-conditioned matrix (rcond=3.76789e-08): result may not be accurate.\n",
      "  overwrite_a=True).T\n",
      "/home/abenabbes/anaconda3/envs/py24/lib/python3.7/site-packages/sklearn/linear_model/_ridge.py:148: LinAlgWarning: Ill-conditioned matrix (rcond=3.66989e-08): result may not be accurate.\n",
      "  overwrite_a=True).T\n"
     ]
    },
    {
     "name": "stdout",
     "output_type": "stream",
     "text": [
      "Alpha: 17179869184.0 (14/14)\n",
      "best val mse: 0.213, best alpha: 0.03125, test mse: 0.248\n",
      "Group: D\n",
      "Alpha: 0.03125 (1/14)"
     ]
    },
    {
     "name": "stderr",
     "output_type": "stream",
     "text": [
      "/home/abenabbes/anaconda3/envs/py24/lib/python3.7/site-packages/sklearn/linear_model/_ridge.py:148: LinAlgWarning: Ill-conditioned matrix (rcond=1.80113e-09): result may not be accurate.\n",
      "  overwrite_a=True).T\n"
     ]
    },
    {
     "name": "stdout",
     "output_type": "stream",
     "text": [
      "Alpha: 17179869184.0 (14/14)\n",
      "best val mse: 0.212, best alpha: 0.03125, test mse: 0.215\n",
      "Group: E\n",
      "Alpha: 0.03125 (1/14)"
     ]
    },
    {
     "name": "stderr",
     "output_type": "stream",
     "text": [
      "/home/abenabbes/anaconda3/envs/py24/lib/python3.7/site-packages/sklearn/linear_model/_ridge.py:148: LinAlgWarning: Ill-conditioned matrix (rcond=2.67712e-09): result may not be accurate.\n",
      "  overwrite_a=True).T\n",
      "/home/abenabbes/anaconda3/envs/py24/lib/python3.7/site-packages/sklearn/linear_model/_ridge.py:148: LinAlgWarning: Ill-conditioned matrix (rcond=2.72917e-09): result may not be accurate.\n",
      "  overwrite_a=True).T\n",
      "/home/abenabbes/anaconda3/envs/py24/lib/python3.7/site-packages/sklearn/linear_model/_ridge.py:148: LinAlgWarning: Ill-conditioned matrix (rcond=2.7068e-09): result may not be accurate.\n",
      "  overwrite_a=True).T\n",
      "/home/abenabbes/anaconda3/envs/py24/lib/python3.7/site-packages/sklearn/linear_model/_ridge.py:148: LinAlgWarning: Ill-conditioned matrix (rcond=2.74493e-09): result may not be accurate.\n",
      "  overwrite_a=True).T\n",
      "/home/abenabbes/anaconda3/envs/py24/lib/python3.7/site-packages/sklearn/linear_model/_ridge.py:148: LinAlgWarning: Ill-conditioned matrix (rcond=2.25048e-08): result may not be accurate.\n",
      "  overwrite_a=True).T\n",
      "/home/abenabbes/anaconda3/envs/py24/lib/python3.7/site-packages/sklearn/linear_model/_ridge.py:148: LinAlgWarning: Ill-conditioned matrix (rcond=2.8507e-08): result may not be accurate.\n",
      "  overwrite_a=True).T\n"
     ]
    },
    {
     "name": "stdout",
     "output_type": "stream",
     "text": [
      "Alpha: 0.25 (2/14)"
     ]
    },
    {
     "name": "stderr",
     "output_type": "stream",
     "text": [
      "/home/abenabbes/anaconda3/envs/py24/lib/python3.7/site-packages/sklearn/linear_model/_ridge.py:148: LinAlgWarning: Ill-conditioned matrix (rcond=2.48116e-08): result may not be accurate.\n",
      "  overwrite_a=True).T\n",
      "/home/abenabbes/anaconda3/envs/py24/lib/python3.7/site-packages/sklearn/linear_model/_ridge.py:148: LinAlgWarning: Ill-conditioned matrix (rcond=2.23297e-08): result may not be accurate.\n",
      "  overwrite_a=True).T\n"
     ]
    },
    {
     "name": "stdout",
     "output_type": "stream",
     "text": [
      "Alpha: 17179869184.0 (14/14)\n",
      "best val mse: 0.192, best alpha: 2.0, test mse: 0.228\n",
      "saving test preds to: /home/abenabbes/final_ex/dhsincountry/resnet_ms/test_preds.npz\n",
      "saving ridge_weights to: /home/abenabbes/final_ex/dhsincountry/resnet_ms/ridge_weights.npz\n"
     ]
    }
   ],
   "source": [
    "model_name = 'incountry_resnet_ms'\n",
    "savedir = os.path.join(OUTPUTS_ROOT_DIR, 'resnet_ms')\n",
    "ridgecv_incountry_wrapper(model_name, savedir)"
   ]
  },
  {
   "cell_type": "markdown",
   "id": "ac8e8a5f",
   "metadata": {},
   "source": [
    "### Concatenated MS + NL Features"
   ]
  },
  {
   "cell_type": "code",
   "execution_count": 26,
   "id": "0e524416",
   "metadata": {},
   "outputs": [],
   "source": [
    "def ridgecv_incountry_concat_wrapper(model_names: Iterable[str], savedir: str) -> None:\n",
    "    '''\n",
    "    Args\n",
    "    - model_names: list of str, correspond to keys in MODEL_DIRS (without the fold suffix)\n",
    "    - savedir: str, path to directory for saving ridge regression weights and predictions\n",
    "    '''\n",
    "    features_dict = {}\n",
    "    for i, f in enumerate(FOLDS):\n",
    "        concat_features = []  # list of np.array, each shape [N, D_i]\n",
    "        for model_name in model_names:\n",
    "            print(model_name)\n",
    "            model_dir = MODEL_DIRS[f'{model_name}_{f}']\n",
    "            npz_path = os.path.join(INPUTS_ROOT_DIR, 'dhsincountry', model_dir, 'features.npz')\n",
    "            npz = load_npz(npz_path, check={'labels': labels})\n",
    "            concat_features.append(npz['features'])\n",
    "        concat_features = np.concatenate(concat_features, axis=1)  # shape [N, D_1 + ... + D_m]\n",
    "        features_dict[f] = concat_features\n",
    "\n",
    "    ridge_cv(\n",
    "        features=features_dict,\n",
    "        labels=labels,\n",
    "        group_labels=incountry_group_labels,\n",
    "        group_names=FOLDS,\n",
    "        do_plot=True,\n",
    "        savedir=savedir,\n",
    "        save_weights=True,\n",
    "        verbose=True)"
   ]
  },
  {
   "cell_type": "code",
   "execution_count": 28,
   "id": "7db2d57b",
   "metadata": {},
   "outputs": [
    {
     "name": "stdout",
     "output_type": "stream",
     "text": [
      "incountry_resnet_ms\n",
      "features: dtype=float32, shape=(36182, 512)\n",
      "preds: dtype=float32, shape=(36182,)\n",
      "labels: dtype=float32, shape=(36182,)\n",
      "locs: dtype=float32, shape=(36182, 2)\n",
      "years: dtype=int32, shape=(36182,)\n",
      "incountry_resnet_nl\n",
      "features: dtype=float32, shape=(36182, 512)\n",
      "preds: dtype=float32, shape=(36182,)\n",
      "labels: dtype=float32, shape=(36182,)\n",
      "locs: dtype=float32, shape=(36182, 2)\n",
      "years: dtype=int32, shape=(36182,)\n",
      "incountry_resnet_ms\n",
      "features: dtype=float32, shape=(36182, 512)\n",
      "preds: dtype=float32, shape=(36182,)\n",
      "labels: dtype=float32, shape=(36182,)\n",
      "locs: dtype=float32, shape=(36182, 2)\n",
      "years: dtype=int32, shape=(36182,)\n",
      "incountry_resnet_nl\n",
      "features: dtype=float32, shape=(36182, 512)\n",
      "preds: dtype=float32, shape=(36182,)\n",
      "labels: dtype=float32, shape=(36182,)\n",
      "locs: dtype=float32, shape=(36182, 2)\n",
      "years: dtype=int32, shape=(36182,)\n",
      "incountry_resnet_ms\n",
      "features: dtype=float32, shape=(36182, 512)\n",
      "preds: dtype=float32, shape=(36182,)\n",
      "labels: dtype=float32, shape=(36182,)\n",
      "locs: dtype=float32, shape=(36182, 2)\n",
      "years: dtype=int32, shape=(36182,)\n",
      "incountry_resnet_nl\n",
      "features: dtype=float32, shape=(36182, 512)\n",
      "preds: dtype=float32, shape=(36182,)\n",
      "labels: dtype=float32, shape=(36182,)\n",
      "locs: dtype=float32, shape=(36182, 2)\n",
      "years: dtype=int32, shape=(36182,)\n",
      "incountry_resnet_ms\n",
      "features: dtype=float32, shape=(36182, 512)\n",
      "preds: dtype=float32, shape=(36182,)\n",
      "labels: dtype=float32, shape=(36182,)\n",
      "locs: dtype=float32, shape=(36182, 2)\n",
      "years: dtype=int32, shape=(36182,)\n",
      "incountry_resnet_nl\n",
      "features: dtype=float32, shape=(36182, 512)\n",
      "preds: dtype=float32, shape=(36182,)\n",
      "labels: dtype=float32, shape=(36182,)\n",
      "locs: dtype=float32, shape=(36182, 2)\n",
      "years: dtype=int32, shape=(36182,)\n",
      "incountry_resnet_ms\n",
      "features: dtype=float32, shape=(36182, 512)\n",
      "preds: dtype=float32, shape=(36182,)\n",
      "labels: dtype=float32, shape=(36182,)\n",
      "locs: dtype=float32, shape=(36182, 2)\n",
      "years: dtype=int32, shape=(36182,)\n",
      "incountry_resnet_nl\n",
      "features: dtype=float32, shape=(36182, 512)\n",
      "preds: dtype=float32, shape=(36182,)\n",
      "labels: dtype=float32, shape=(36182,)\n",
      "locs: dtype=float32, shape=(36182, 2)\n",
      "years: dtype=int32, shape=(36182,)\n",
      "Group: A\n",
      "Alpha: 0.25 (2/14)14)"
     ]
    },
    {
     "name": "stderr",
     "output_type": "stream",
     "text": [
      "/home/abenabbes/anaconda3/envs/py24/lib/python3.7/site-packages/sklearn/linear_model/_ridge.py:148: LinAlgWarning: Ill-conditioned matrix (rcond=8.44618e-09): result may not be accurate.\n",
      "  overwrite_a=True).T\n",
      "/home/abenabbes/anaconda3/envs/py24/lib/python3.7/site-packages/sklearn/linear_model/_ridge.py:148: LinAlgWarning: Ill-conditioned matrix (rcond=9.80823e-09): result may not be accurate.\n",
      "  overwrite_a=True).T\n",
      "/home/abenabbes/anaconda3/envs/py24/lib/python3.7/site-packages/sklearn/linear_model/_ridge.py:148: LinAlgWarning: Ill-conditioned matrix (rcond=1.18885e-08): result may not be accurate.\n",
      "  overwrite_a=True).T\n",
      "/home/abenabbes/anaconda3/envs/py24/lib/python3.7/site-packages/sklearn/linear_model/_ridge.py:148: LinAlgWarning: Ill-conditioned matrix (rcond=9.34062e-09): result may not be accurate.\n",
      "  overwrite_a=True).T\n"
     ]
    },
    {
     "name": "stdout",
     "output_type": "stream",
     "text": [
      "Alpha: 17179869184.0 (14/14)\n"
     ]
    },
    {
     "data": {
      "image/png": "[encoded data removed]",
      "text/plain": [
       "<Figure size 432x216 with 1 Axes>"
      ]
     },
     "metadata": {
      "needs_background": "light"
     },
     "output_type": "display_data"
    },
    {
     "name": "stdout",
     "output_type": "stream",
     "text": [
      "best val mse: 0.183, best alpha: 0.03125, test mse: 0.217\n",
      "Group: B\n",
      "Alpha: 0.25 (2/14)14)"
     ]
    },
    {
     "name": "stderr",
     "output_type": "stream",
     "text": [
      "/home/abenabbes/anaconda3/envs/py24/lib/python3.7/site-packages/sklearn/linear_model/_ridge.py:148: LinAlgWarning: Ill-conditioned matrix (rcond=1.44132e-08): result may not be accurate.\n",
      "  overwrite_a=True).T\n",
      "/home/abenabbes/anaconda3/envs/py24/lib/python3.7/site-packages/sklearn/linear_model/_ridge.py:148: LinAlgWarning: Ill-conditioned matrix (rcond=1.80021e-08): result may not be accurate.\n",
      "  overwrite_a=True).T\n",
      "/home/abenabbes/anaconda3/envs/py24/lib/python3.7/site-packages/sklearn/linear_model/_ridge.py:148: LinAlgWarning: Ill-conditioned matrix (rcond=1.30794e-08): result may not be accurate.\n",
      "  overwrite_a=True).T\n",
      "/home/abenabbes/anaconda3/envs/py24/lib/python3.7/site-packages/sklearn/linear_model/_ridge.py:148: LinAlgWarning: Ill-conditioned matrix (rcond=1.46423e-08): result may not be accurate.\n",
      "  overwrite_a=True).T\n"
     ]
    },
    {
     "name": "stdout",
     "output_type": "stream",
     "text": [
      "Alpha: 17179869184.0 (14/14)\n",
      "best val mse: 0.209, best alpha: 0.03125, test mse: 0.225\n",
      "Group: C\n",
      "Alpha: 0.25 (2/14)14)"
     ]
    },
    {
     "name": "stderr",
     "output_type": "stream",
     "text": [
      "/home/abenabbes/anaconda3/envs/py24/lib/python3.7/site-packages/sklearn/linear_model/_ridge.py:148: LinAlgWarning: Ill-conditioned matrix (rcond=8.57309e-09): result may not be accurate.\n",
      "  overwrite_a=True).T\n",
      "/home/abenabbes/anaconda3/envs/py24/lib/python3.7/site-packages/sklearn/linear_model/_ridge.py:148: LinAlgWarning: Ill-conditioned matrix (rcond=8.86025e-09): result may not be accurate.\n",
      "  overwrite_a=True).T\n",
      "/home/abenabbes/anaconda3/envs/py24/lib/python3.7/site-packages/sklearn/linear_model/_ridge.py:148: LinAlgWarning: Ill-conditioned matrix (rcond=6.64414e-09): result may not be accurate.\n",
      "  overwrite_a=True).T\n",
      "/home/abenabbes/anaconda3/envs/py24/lib/python3.7/site-packages/sklearn/linear_model/_ridge.py:148: LinAlgWarning: Ill-conditioned matrix (rcond=7.52172e-09): result may not be accurate.\n",
      "  overwrite_a=True).T\n"
     ]
    },
    {
     "name": "stdout",
     "output_type": "stream",
     "text": [
      "Alpha: 17179869184.0 (14/14)\n",
      "best val mse: 0.196, best alpha: 0.03125, test mse: 0.216\n",
      "Group: D\n",
      "Alpha: 0.25 (2/14)14)"
     ]
    },
    {
     "name": "stderr",
     "output_type": "stream",
     "text": [
      "/home/abenabbes/anaconda3/envs/py24/lib/python3.7/site-packages/sklearn/linear_model/_ridge.py:148: LinAlgWarning: Ill-conditioned matrix (rcond=2.8886e-08): result may not be accurate.\n",
      "  overwrite_a=True).T\n",
      "/home/abenabbes/anaconda3/envs/py24/lib/python3.7/site-packages/sklearn/linear_model/_ridge.py:148: LinAlgWarning: Ill-conditioned matrix (rcond=1.20177e-08): result may not be accurate.\n",
      "  overwrite_a=True).T\n",
      "/home/abenabbes/anaconda3/envs/py24/lib/python3.7/site-packages/sklearn/linear_model/_ridge.py:148: LinAlgWarning: Ill-conditioned matrix (rcond=1.35586e-08): result may not be accurate.\n",
      "  overwrite_a=True).T\n",
      "/home/abenabbes/anaconda3/envs/py24/lib/python3.7/site-packages/sklearn/linear_model/_ridge.py:148: LinAlgWarning: Ill-conditioned matrix (rcond=1.49345e-08): result may not be accurate.\n",
      "  overwrite_a=True).T\n"
     ]
    },
    {
     "name": "stdout",
     "output_type": "stream",
     "text": [
      "Alpha: 17179869184.0 (14/14)\n",
      "best val mse: 0.196, best alpha: 0.03125, test mse: 0.192\n",
      "Group: E\n",
      "Alpha: 0.03125 (1/14)"
     ]
    },
    {
     "name": "stderr",
     "output_type": "stream",
     "text": [
      "/home/abenabbes/anaconda3/envs/py24/lib/python3.7/site-packages/sklearn/linear_model/_ridge.py:148: LinAlgWarning: Ill-conditioned matrix (rcond=1.1801e-09): result may not be accurate.\n",
      "  overwrite_a=True).T\n",
      "/home/abenabbes/anaconda3/envs/py24/lib/python3.7/site-packages/sklearn/linear_model/_ridge.py:148: LinAlgWarning: Ill-conditioned matrix (rcond=9.68403e-10): result may not be accurate.\n",
      "  overwrite_a=True).T\n",
      "/home/abenabbes/anaconda3/envs/py24/lib/python3.7/site-packages/sklearn/linear_model/_ridge.py:148: LinAlgWarning: Ill-conditioned matrix (rcond=9.6048e-10): result may not be accurate.\n",
      "  overwrite_a=True).T\n",
      "/home/abenabbes/anaconda3/envs/py24/lib/python3.7/site-packages/sklearn/linear_model/_ridge.py:148: LinAlgWarning: Ill-conditioned matrix (rcond=9.36558e-10): result may not be accurate.\n",
      "  overwrite_a=True).T\n"
     ]
    },
    {
     "name": "stdout",
     "output_type": "stream",
     "text": [
      "Alpha: 0.25 (2/14)"
     ]
    },
    {
     "name": "stderr",
     "output_type": "stream",
     "text": [
      "/home/abenabbes/anaconda3/envs/py24/lib/python3.7/site-packages/sklearn/linear_model/_ridge.py:148: LinAlgWarning: Ill-conditioned matrix (rcond=9.99403e-09): result may not be accurate.\n",
      "  overwrite_a=True).T\n",
      "/home/abenabbes/anaconda3/envs/py24/lib/python3.7/site-packages/sklearn/linear_model/_ridge.py:148: LinAlgWarning: Ill-conditioned matrix (rcond=9.91229e-09): result may not be accurate.\n",
      "  overwrite_a=True).T\n",
      "/home/abenabbes/anaconda3/envs/py24/lib/python3.7/site-packages/sklearn/linear_model/_ridge.py:148: LinAlgWarning: Ill-conditioned matrix (rcond=1.00915e-08): result may not be accurate.\n",
      "  overwrite_a=True).T\n",
      "/home/abenabbes/anaconda3/envs/py24/lib/python3.7/site-packages/sklearn/linear_model/_ridge.py:148: LinAlgWarning: Ill-conditioned matrix (rcond=9.91447e-09): result may not be accurate.\n",
      "  overwrite_a=True).T\n"
     ]
    },
    {
     "name": "stdout",
     "output_type": "stream",
     "text": [
      "Alpha: 17179869184.0 (14/14)\n",
      "best val mse: 0.184, best alpha: 2.0, test mse: 0.205\n",
      "saving test preds to: /home/abenabbes/final_ex/dhsincountry/resnet_msnl_concat/test_preds.npz\n",
      "saving ridge_weights to: /home/abenabbes/final_ex/dhsincountry/resnet_msnl_concat/ridge_weights.npz\n"
     ]
    }
   ],
   "source": [
    "model_names = ['incountry_resnet_ms', 'incountry_resnet_nl']\n",
    "savedir = os.path.join(OUTPUTS_ROOT_DIR, 'resnet_msnl_concat')\n",
    "ridgecv_incountry_concat_wrapper(model_names, savedir)"
   ]
  },
  {
   "cell_type": "markdown",
   "id": "b2e3531c",
   "metadata": {},
   "source": [
    "### Transfer"
   ]
  },
  {
   "cell_type": "code",
   "execution_count": null,
   "id": "fc54b9f3",
   "metadata": {},
   "outputs": [],
   "source": [
    "DHS_Incountry_A_ms_samescaled_b64_fc01_conv01_lr001"
   ]
  },
  {
   "cell_type": "code",
   "execution_count": null,
   "id": "ca7bd3c3",
   "metadata": {},
   "outputs": [],
   "source": [
    "def ridgecv_incountry_transfer_wrapper(model_name: str, savedir: str) -> None:\n",
    "    '''\n",
    "    Args\n",
    "    - model_name: str, corresponds to keys in MODEL_DIRS (without the fold suffix)\n",
    "    - savedir: str, path to directory for saving ridge regression weights and predictions\n",
    "    '''\n",
    "    model_dir = MODEL_DIRS[model_name]\n",
    "    npz_path = os.path.join(OUTPUTS_ROOT_DIR, 'transfer', model_dir, 'features.npz')\n",
    "    features = load_npz(npz_path, check={'labels': labels})['features']\n",
    "    ridge_cv(\n",
    "        features=features,\n",
    "        labels=labels,\n",
    "        group_labels=incountry_group_labels,\n",
    "        group_names=FOLDS,\n",
    "        do_plot=True,\n",
    "        savedir=savedir,\n",
    "        save_weights=False)"
   ]
  },
  {
   "cell_type": "code",
   "execution_count": null,
   "id": "3db423cc",
   "metadata": {},
   "outputs": [],
   "source": [
    "model_name = 'transfer_resnet_ms'\n",
    "savedir = os.path.join(OUTPUTS_ROOT_DIR, 'transfer', MODEL_DIRS[model_name])\n",
    "ridgecv_incountry_transfer_wrapper(model_name, savedir)"
   ]
  },
  {
   "cell_type": "code",
   "execution_count": null,
   "id": "d4c2e6fe",
   "metadata": {},
   "outputs": [],
   "source": [
    "model_name = 'transfer_resnet_rgb'\n",
    "savedir = os.path.join(OUTPUTS_ROOT_DIR, 'transfer', MODEL_DIRS[model_name])\n",
    "ridgecv_incountry_transfer_wrapper(model_name, savedir)"
   ]
  }
 ],
 "metadata": {
  "instance_type": "ml.m5.4xlarge",
  "kernelspec": {
   "display_name": "Python 3 (TensorFlow 1.15 Python 3.7 CPU Optimized)",
   "language": "python",
   "name": "python3__SAGEMAKER_INTERNAL__arn:aws:sagemaker:us-east-1:081325390199:image/tensorflow-1.15-cpu-py37-ubuntu18.04-v7"
  },
  "language_info": {
   "codemirror_mode": {
    "name": "ipython",
    "version": 3
   },
   "file_extension": ".py",
   "mimetype": "text/x-python",
   "name": "python",
   "nbconvert_exporter": "python",
   "pygments_lexer": "ipython3",
   "version": "3.7.10"
  },
  "toc-autonumbering": false,
  "toc-showcode": false,
  "toc-showmarkdowntxt": false,
  "toc-showtags": false
 },
 "nbformat": 4,
 "nbformat_minor": 5
}
