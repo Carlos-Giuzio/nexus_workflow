{
 "cells": [
  {
   "cell_type": "markdown",
   "metadata": {
    "id": "CNtlikIqcmcr"
   },
   "source": [
    "<h1>Table of Contents<span class=\"tocSkip\"></span></h1>\n",
    "<div class=\"toc\"><ul class=\"toc-item\"><li><span><a href=\"#Imports-and-Constants\" data-toc-modified-id=\"Imports-and-Constants-1\"><span class=\"toc-item-num\">1&nbsp;&nbsp;</span>Imports and Constants</a></span></li><li><span><a href=\"#Load-histograms-(or-create-if-needed)\" data-toc-modified-id=\"Load-histograms-(or-create-if-needed)-2\"><span class=\"toc-item-num\">2&nbsp;&nbsp;</span>Load histograms (or create if needed)</a></span><ul class=\"toc-item\"><li><span><a href=\"#Split-NL-band\" data-toc-modified-id=\"Split-NL-band-2.1\"><span class=\"toc-item-num\">2.1&nbsp;&nbsp;</span>Split NL band</a></span></li><li><span><a href=\"#Plot-histograms\" data-toc-modified-id=\"Plot-histograms-2.2\"><span class=\"toc-item-num\">2.2&nbsp;&nbsp;</span>Plot histograms</a></span></li></ul></li><li><span><a href=\"#Load-folds\" data-toc-modified-id=\"Load-folds-3\"><span class=\"toc-item-num\">3&nbsp;&nbsp;</span>Load folds</a></span><ul class=\"toc-item\"><li><span><a href=\"#Incountry-folds-+-loc_dict\" data-toc-modified-id=\"Incountry-folds-+-loc_dict-3.1\"><span class=\"toc-item-num\">3.1&nbsp;&nbsp;</span>Incountry folds + loc_dict</a></span></li><li><span><a href=\"#country_indices-and-country_labels\" data-toc-modified-id=\"country_indices-and-country_labels-3.2\"><span class=\"toc-item-num\">3.2&nbsp;&nbsp;</span><code>country_indices</code> and <code>country_labels</code></a></span></li><li><span><a href=\"#OOC-folds\" data-toc-modified-id=\"OOC-folds-3.3\"><span class=\"toc-item-num\">3.3&nbsp;&nbsp;</span>OOC folds</a></span></li><li><span><a href=\"#Urban-v.-Rural\" data-toc-modified-id=\"Urban-v.-Rural-3.4\"><span class=\"toc-item-num\">3.4&nbsp;&nbsp;</span>Urban v. Rural</a></span></li></ul></li><li><span><a href=\"#Dumb-Baseline-Models\" data-toc-modified-id=\"Dumb-Baseline-Models-4\"><span class=\"toc-item-num\">4&nbsp;&nbsp;</span>Dumb Baseline Models</a></span><ul class=\"toc-item\"><li><span><a href=\"#Incountry:-predict-country-mean\" data-toc-modified-id=\"Incountry:-predict-country-mean-4.1\"><span class=\"toc-item-num\">4.1&nbsp;&nbsp;</span>Incountry: predict country mean</a></span></li><li><span><a href=\"#Linear-Nightlights\" data-toc-modified-id=\"Linear-Nightlights-4.2\"><span class=\"toc-item-num\">4.2&nbsp;&nbsp;</span>Linear Nightlights</a></span></li><li><span><a href=\"#KNN-on-Nightlights\" data-toc-modified-id=\"KNN-on-Nightlights-4.3\"><span class=\"toc-item-num\">4.3&nbsp;&nbsp;</span>KNN on Nightlights</a></span><ul class=\"toc-item\"><li><span><a href=\"#OOC\" data-toc-modified-id=\"OOC-4.3.1\"><span class=\"toc-item-num\">4.3.1&nbsp;&nbsp;</span>OOC</a></span></li><li><span><a href=\"#OOC-Keep\" data-toc-modified-id=\"OOC-Keep-4.3.2\"><span class=\"toc-item-num\">4.3.2&nbsp;&nbsp;</span>OOC Keep</a></span></li><li><span><a href=\"#Incountry\" data-toc-modified-id=\"Incountry-4.3.3\"><span class=\"toc-item-num\">4.3.3&nbsp;&nbsp;</span>Incountry</a></span></li></ul></li><li><span><a href=\"#GBT-on-NL\" data-toc-modified-id=\"GBT-on-NL-4.4\"><span class=\"toc-item-num\">4.4&nbsp;&nbsp;</span>GBT on NL</a></span></li></ul></li><li><span><a href=\"#Ridge-Regression-on-Histograms\" data-toc-modified-id=\"Ridge-Regression-on-Histograms-5\"><span class=\"toc-item-num\">5&nbsp;&nbsp;</span>Ridge Regression on Histograms</a></span><ul class=\"toc-item\"><li><span><a href=\"#OOC\" data-toc-modified-id=\"OOC-5.1\"><span class=\"toc-item-num\">5.1&nbsp;&nbsp;</span>OOC</a></span></li><li><span><a href=\"#Incountry\" data-toc-modified-id=\"Incountry-5.2\"><span class=\"toc-item-num\">5.2&nbsp;&nbsp;</span>Incountry</a></span></li></ul></li><li><span><a href=\"#KNN-on-Histograms\" data-toc-modified-id=\"KNN-on-Histograms-6\"><span class=\"toc-item-num\">6&nbsp;&nbsp;</span>KNN on Histograms</a></span><ul class=\"toc-item\"><li><span><a href=\"#OOC\" data-toc-modified-id=\"OOC-6.1\"><span class=\"toc-item-num\">6.1&nbsp;&nbsp;</span>OOC</a></span></li><li><span><a href=\"#Incountry\" data-toc-modified-id=\"Incountry-6.2\"><span class=\"toc-item-num\">6.2&nbsp;&nbsp;</span>Incountry</a></span></li></ul></li></ul></div>"
   ]
  },
  {
   "cell_type": "markdown",
   "metadata": {
    "id": "5_b_PLEpcmdU"
   },
   "source": [
    "Prerequisites:\n",
    "1. Run `preprocessing/analyze_tfrecords_dhs.ipynb`.\n",
    "2. Run `data_analysis/dhs.ipynb` to create the `dhs_loc_dict.pkl` and `dhs_incountry_folds.pkl`."
   ]
  },
  {
   "cell_type": "markdown",
   "metadata": {
    "id": "WGnNuC_VdWOF",
    "jp-MarkdownHeadingCollapsed": true,
    "tags": []
   },
   "source": [
    "# Same code as 4.1"
   ]
  },
  {
   "cell_type": "markdown",
   "metadata": {},
   "source": [
    "Downloading Libraries"
   ]
  },
  {
   "cell_type": "code",
   "execution_count": 2,
   "metadata": {},
   "outputs": [
    {
     "name": "stdout",
     "output_type": "stream",
     "text": [
      "Requirement already satisfied: matplotlib in /usr/local/lib/python3.7/site-packages (3.5.3)\n",
      "Requirement already satisfied: numpy>=1.17 in /usr/local/lib/python3.7/site-packages (from matplotlib) (1.18.5)\n",
      "Requirement already satisfied: cycler>=0.10 in /usr/local/lib/python3.7/site-packages (from matplotlib) (0.11.0)\n",
      "Requirement already satisfied: pyparsing>=2.2.1 in /usr/local/lib/python3.7/site-packages (from matplotlib) (2.4.7)\n",
      "Requirement already satisfied: packaging>=20.0 in /usr/local/lib/python3.7/site-packages (from matplotlib) (20.9)\n",
      "Requirement already satisfied: kiwisolver>=1.0.1 in /usr/local/lib/python3.7/site-packages (from matplotlib) (1.4.4)\n",
      "Requirement already satisfied: python-dateutil>=2.7 in /usr/local/lib/python3.7/site-packages (from matplotlib) (2.8.2)\n",
      "Requirement already satisfied: pillow>=6.2.0 in /usr/local/lib/python3.7/site-packages (from matplotlib) (7.2.0)\n",
      "Requirement already satisfied: fonttools>=4.22.0 in /usr/local/lib/python3.7/site-packages (from matplotlib) (4.38.0)\n",
      "Requirement already satisfied: typing-extensions in /usr/local/lib/python3.7/site-packages (from kiwisolver>=1.0.1->matplotlib) (3.7.4.3)\n",
      "Requirement already satisfied: six>=1.5 in /usr/local/lib/python3.7/site-packages (from python-dateutil>=2.7->matplotlib) (1.16.0)\n",
      "\u001b[33mWARNING: You are using pip version 21.0.1; however, version 22.3.1 is available.\n",
      "You should consider upgrading via the '/usr/local/bin/python3.7 -m pip install --upgrade pip' command.\u001b[0m\n",
      "Requirement already satisfied: seaborn in /usr/local/lib/python3.7/site-packages (0.12.1)\n",
      "Requirement already satisfied: typing_extensions in /usr/local/lib/python3.7/site-packages (from seaborn) (3.7.4.3)\n",
      "Requirement already satisfied: pandas>=0.25 in /usr/local/lib/python3.7/site-packages (from seaborn) (1.1.0)\n",
      "Requirement already satisfied: matplotlib!=3.6.1,>=3.1 in /usr/local/lib/python3.7/site-packages (from seaborn) (3.5.3)\n",
      "Requirement already satisfied: numpy>=1.17 in /usr/local/lib/python3.7/site-packages (from seaborn) (1.18.5)\n",
      "Requirement already satisfied: python-dateutil>=2.7 in /usr/local/lib/python3.7/site-packages (from matplotlib!=3.6.1,>=3.1->seaborn) (2.8.2)\n",
      "Requirement already satisfied: cycler>=0.10 in /usr/local/lib/python3.7/site-packages (from matplotlib!=3.6.1,>=3.1->seaborn) (0.11.0)\n",
      "Requirement already satisfied: kiwisolver>=1.0.1 in /usr/local/lib/python3.7/site-packages (from matplotlib!=3.6.1,>=3.1->seaborn) (1.4.4)\n",
      "Requirement already satisfied: pillow>=6.2.0 in /usr/local/lib/python3.7/site-packages (from matplotlib!=3.6.1,>=3.1->seaborn) (7.2.0)\n",
      "Requirement already satisfied: packaging>=20.0 in /usr/local/lib/python3.7/site-packages (from matplotlib!=3.6.1,>=3.1->seaborn) (20.9)\n",
      "Requirement already satisfied: fonttools>=4.22.0 in /usr/local/lib/python3.7/site-packages (from matplotlib!=3.6.1,>=3.1->seaborn) (4.38.0)\n",
      "Requirement already satisfied: pyparsing>=2.2.1 in /usr/local/lib/python3.7/site-packages (from matplotlib!=3.6.1,>=3.1->seaborn) (2.4.7)\n",
      "Requirement already satisfied: pytz>=2017.2 in /usr/local/lib/python3.7/site-packages (from pandas>=0.25->seaborn) (2021.1)\n",
      "Requirement already satisfied: six>=1.5 in /usr/local/lib/python3.7/site-packages (from python-dateutil>=2.7->matplotlib!=3.6.1,>=3.1->seaborn) (1.16.0)\n",
      "\u001b[33mWARNING: You are using pip version 21.0.1; however, version 22.3.1 is available.\n",
      "You should consider upgrading via the '/usr/local/bin/python3.7 -m pip install --upgrade pip' command.\u001b[0m\n"
     ]
    }
   ],
   "source": [
    "!pip install matplotlib\n",
    "!pip install seaborn"
   ]
  },
  {
   "cell_type": "markdown",
   "metadata": {
    "id": "usgAJBsucmdV"
   },
   "source": [
    "## Imports and Constants"
   ]
  },
  {
   "cell_type": "code",
   "execution_count": 3,
   "metadata": {
    "colab": {
     "base_uri": "https://localhost:8080/"
    },
    "executionInfo": {
     "elapsed": 17996,
     "status": "ok",
     "timestamp": 1667581673841,
     "user": {
      "displayName": "Rafael Araujo Coelho",
      "userId": "14667111767925500503"
     },
     "user_tz": 180
    },
    "id": "eY9c9weqcmdY",
    "outputId": "9b3d6138-ccdc-429d-9f30-7ceacbad9268"
   },
   "outputs": [
    {
     "name": "stdout",
     "output_type": "stream",
     "text": [
      "WARNING:tensorflow:From /usr/local/lib/python3.7/site-packages/tensorflow_core/__init__.py:1473: The name tf.estimator.inputs is deprecated. Please use tf.compat.v1.estimator.inputs instead.\n",
      "\n",
      "/root/Datasets/SelectedClusters/nexus_tfrecords_processed_new/\n"
     ]
    }
   ],
   "source": [
    "from collections import defaultdict\n",
    "import os\n",
    "import pickle\n",
    "import sys\n",
    "\n",
    "import matplotlib.pyplot as plt\n",
    "import numpy as np\n",
    "import pandas as pd\n",
    "import sklearn.ensemble\n",
    "import sklearn.neighbors\n",
    "\n",
    "from batchers import batcher1, dataset_constants\n",
    "from models.histograms import (\n",
    "    get_per_image_histograms,\n",
    "    plot_band_hists,\n",
    "    plot_label_hist,\n",
    "    split_nl_hist)\n",
    "from models.linear_model import ridge_cv\n",
    "from models.knn import knn_cv_opt\n",
    "from utils.analysis import calc_score, evaluate\n",
    "from utils.general import load_npz\n",
    "from utils.plot import scatter_preds"
   ]
  },
  {
   "cell_type": "code",
   "execution_count": 4,
   "metadata": {
    "colab": {
     "base_uri": "https://localhost:8080/"
    },
    "executionInfo": {
     "elapsed": 16,
     "status": "ok",
     "timestamp": 1667581673842,
     "user": {
      "displayName": "Rafael Araujo Coelho",
      "userId": "14667111767925500503"
     },
     "user_tz": 180
    },
    "id": "nzQCUALDcmdY",
    "outputId": "c5b4a884-7db8-4519-d382-bac01dc5b7df"
   },
   "outputs": [
    {
     "name": "stdout",
     "output_type": "stream",
     "text": [
      "['brazil']\n",
      "/root/logs/longevity\n"
     ]
    }
   ],
   "source": [
    "#os.environ['CUDA_VISIBLE_DEVICES'] = ''\n",
    "\n",
    "DATASET_NAME = 'DHS_OOC_A'\n",
    "LABEL_NAME = 'longevity'\n",
    "\n",
    "FOLDS = ['A', 'B', 'C', 'D', 'E']\n",
    "SPLITS = ['train', 'val', 'test']\n",
    "COUNTRIES = dataset_constants.DHS_COUNTRIES\n",
    "print(COUNTRIES)\n",
    "\n",
    "MEANS = dataset_constants.MEANS_DICT[DATASET_NAME]\n",
    "STD_DEVS = dataset_constants.STD_DEVS_DICT[DATASET_NAME]\n",
    "s = dataset_constants.SURVEY_NAMES[DATASET_NAME]\n",
    "\n",
    "LOGS_ROOT_DIR = f\"/root/logs/{LABEL_NAME}\" \n",
    "print(LOGS_ROOT_DIR)"
   ]
  },
  {
   "cell_type": "markdown",
   "metadata": {
    "id": "rO2aFMzwcmdZ"
   },
   "source": [
    "## Load histograms (or create if needed)"
   ]
  },
  {
   "cell_type": "code",
   "execution_count": 5,
   "metadata": {
    "executionInfo": {
     "elapsed": 15,
     "status": "ok",
     "timestamp": 1667581673843,
     "user": {
      "displayName": "Rafael Araujo Coelho",
      "userId": "14667111767925500503"
     },
     "user_tz": 180
    },
    "id": "t9KFd5fdcmdZ"
   },
   "outputs": [],
   "source": [
    "# BAND_BIN_EDGES = [-10^5, -5.0, -4.9, -4.8, ..., 4.8, 4.9, 5.0, 10^5]\n",
    "# BAND_BIN_CENTERS = [-5.05, -4.95, -4.85, ..., 4.85, 4.95, 5.05]\n",
    "BAND_BIN_EDGES = np.concatenate([\n",
    "    [-1e5],\n",
    "    np.arange(-5.0, 5.1, 0.1),\n",
    "    [1e5]\n",
    "])\n",
    "BAND_BIN_CENTERS = np.arange(-5.05, 5.15, 0.1)\n",
    "\n",
    "# LABEL_BIN_EDGES = [-2.0, -1.9, ..., 2.8, 2.9]\n",
    "# LABEL_BIN_CENTERS = [-1.95, -1.85, ..., 2.75, 2.85]\n",
    "LABEL_BIN_EDGES = np.arange(-2.0, 3.0, 0.1)\n",
    "LABEL_BIN_CENTERS = np.arange(-1.95, 2.95, 0.1)\n",
    "\n",
    "# band name => color for plotting\n",
    "BAND_COLORS = {\n",
    "    'BLUE'  : 'blue',\n",
    "    'GREEN' : 'green',\n",
    "    'RED'   : 'red',\n",
    "    'SWIR1' : 'purple',\n",
    "    'SWIR2' : 'brown',\n",
    "    'TEMP1' : 'orange',\n",
    "    'NIR'   : 'pink',\n",
    "    'NIGHTLIGHTS': 'black',\n",
    "    'DMSP'  : 'black',\n",
    "    'VIIRS' : 'gray',\n",
    "}\n",
    "BAND_ORDER = ['BLUE', 'GREEN', 'RED', 'SWIR1', 'SWIR2', 'TEMP1', 'NIR', 'NIGHTLIGHTS']\n",
    "BAND_ORDER_NLSPLIT = ['BLUE', 'GREEN', 'RED', 'SWIR1', 'SWIR2', 'TEMP1', 'NIR', 'DMSP', 'VIIRS']\n",
    "\n",
    "BANDS_DICT = {\n",
    "    'rgb': [0, 1, 2],\n",
    "    'rgbnl': [0, 1, 2, 7, 8],\n",
    "    'ms': [0, 1, 2, 3, 4, 5, 6],\n",
    "    'msnl': [0, 1, 2, 3, 4, 5, 6, 7, 8],\n",
    "    'nl': [7, 8],\n",
    "}"
   ]
  },
  {
   "cell_type": "code",
   "execution_count": 6,
   "metadata": {
    "executionInfo": {
     "elapsed": 13,
     "status": "ok",
     "timestamp": 1667581673843,
     "user": {
      "displayName": "Rafael Araujo Coelho",
      "userId": "14667111767925500503"
     },
     "user_tz": 180
    },
    "id": "uw9E2n74cmda"
   },
   "outputs": [],
   "source": [
    "def get_batcher(tfrecord_files):\n",
    "    return batcher1.Batcher(\n",
    "        tfrecord_files=tfrecord_files,\n",
    "        dataset=DATASET_NAME,\n",
    "        batch_size=128,\n",
    "        ls_bands='ms',\n",
    "        nl_band='merge',\n",
    "        label_name=LABEL_NAME,\n",
    "        shuffle=False,\n",
    "        augment=False,\n",
    "        negatives='zero',\n",
    "        normalize=True)"
   ]
  },
  {
   "cell_type": "code",
   "execution_count": 7,
   "metadata": {
    "colab": {
     "base_uri": "https://localhost:8080/",
     "height": 0
    },
    "executionInfo": {
     "elapsed": 232430,
     "status": "error",
     "timestamp": 1667581906261,
     "user": {
      "displayName": "Rafael Araujo Coelho",
      "userId": "14667111767925500503"
     },
     "user_tz": 180
    },
    "id": "gqwswJg4cmdb",
    "outputId": "796b030e-7b54-4729-b110-7d4ceb776851"
   },
   "outputs": [
    {
     "name": "stdout",
     "output_type": "stream",
     "text": [
      "/root/Datasets/SelectedClusters/dhs_co_wealthpooled.npz\n"
     ]
    }
   ],
   "source": [
    "file_path =f\"/root/Datasets/SelectedClusters/dhs_co_{LABEL_NAME}.npz\"\n",
    "print(file_path)\n",
    "\n",
    "if not os.path.exists(file_path):\n",
    "    # THIS REQUIRES >= 35 GB RAM\n",
    "    tfrecord_paths = batcher1.get_tfrecord_paths(dataset=DATASET_NAME, split='all')\n",
    "    init_iter, batch_op = get_batcher(tfrecord_paths).get_batch()\n",
    "    results = get_per_image_histograms(init_iter, batch_op, band_bin_edges=BAND_BIN_EDGES)\n",
    "    print(results)\n",
    "    print('Saving image histograms to', file_path)\n",
    "    np.savez_compressed(file_path, **results)"
   ]
  },
  {
   "cell_type": "code",
   "execution_count": 7,
   "metadata": {},
   "outputs": [
    {
     "name": "stdout",
     "output_type": "stream",
     "text": [
      "/root/Datasets/SelectedClusters/dhs_co_longevity.npz\n"
     ]
    }
   ],
   "source": [
    "file_path =f\"/root/Datasets/SelectedClusters/dhs_co_{LABEL_NAME}.npz\"\n",
    "print(file_path)"
   ]
  },
  {
   "cell_type": "code",
   "execution_count": 8,
   "metadata": {
    "executionInfo": {
     "elapsed": 32,
     "status": "aborted",
     "timestamp": 1667581906266,
     "user": {
      "displayName": "Rafael Araujo Coelho",
      "userId": "14667111767925500503"
     },
     "user_tz": 180
    },
    "id": "nqiq98ficmdb"
   },
   "outputs": [
    {
     "name": "stdout",
     "output_type": "stream",
     "text": [
      "image_hists: dtype=int64, shape=(20438, 8, 102)\n",
      "labels: dtype=float32, shape=(20438,)\n",
      "locs: dtype=float32, shape=(20438, 2)\n",
      "years: dtype=int32, shape=(20438,)\n",
      "nls_center: dtype=float32, shape=(20438,)\n",
      "nls_mean: dtype=float32, shape=(20438,)\n"
     ]
    }
   ],
   "source": [
    "result = load_npz(file_path)\n",
    "image_hists = result['image_hists']\n",
    "labels = result['labels']\n",
    "\n",
    "locs = result['locs']\n",
    "years = result['years']\n",
    "nls_center = result[\"nls_center\"]\n",
    "\n",
    "nls_mean = result['nls_mean']\n",
    "\n",
    "dmsp_mask = years < 2012\n",
    "viirs_mask = ~dmsp_mask"
   ]
  },
  {
   "cell_type": "code",
   "execution_count": 9,
   "metadata": {},
   "outputs": [
    {
     "name": "stdout",
     "output_type": "stream",
     "text": [
      "[ True  True  True ...  True  True  True]\n"
     ]
    }
   ],
   "source": [
    "print(dmsp_mask)"
   ]
  },
  {
   "cell_type": "markdown",
   "metadata": {
    "id": "ZVM5Syjlcmdc"
   },
   "source": [
    "## Split NL band"
   ]
  },
  {
   "cell_type": "code",
   "execution_count": 10,
   "metadata": {
    "executionInfo": {
     "elapsed": 35,
     "status": "aborted",
     "timestamp": 1667581906270,
     "user": {
      "displayName": "Rafael Araujo Coelho",
      "userId": "14667111767925500503"
     },
     "user_tz": 180
    },
    "id": "-nAPYCYZcmdc"
   },
   "outputs": [
    {
     "name": "stdout",
     "output_type": "stream",
     "text": [
      "[[[0.0000e+00 0.0000e+00 0.0000e+00 ... 3.7000e+01 3.4000e+01 6.0500e+02]\n",
      "  [0.0000e+00 0.0000e+00 0.0000e+00 ... 4.1000e+01 3.4000e+01 4.1900e+02]\n",
      "  [0.0000e+00 0.0000e+00 0.0000e+00 ... 1.3000e+01 1.1000e+01 1.0800e+02]\n",
      "  ...\n",
      "  [8.9000e+01 3.9000e+01 2.7000e+01 ... 0.0000e+00 0.0000e+00 0.0000e+00]\n",
      "  [0.0000e+00 0.0000e+00 0.0000e+00 ... 0.0000e+00 0.0000e+00 5.0176e+04]\n",
      "  [0.0000e+00 0.0000e+00 0.0000e+00 ... 0.0000e+00 0.0000e+00 0.0000e+00]]\n",
      "\n",
      " [[0.0000e+00 0.0000e+00 0.0000e+00 ... 0.0000e+00 0.0000e+00 0.0000e+00]\n",
      "  [0.0000e+00 0.0000e+00 0.0000e+00 ... 0.0000e+00 0.0000e+00 0.0000e+00]\n",
      "  [0.0000e+00 0.0000e+00 0.0000e+00 ... 0.0000e+00 0.0000e+00 0.0000e+00]\n",
      "  ...\n",
      "  [0.0000e+00 0.0000e+00 0.0000e+00 ... 0.0000e+00 0.0000e+00 0.0000e+00]\n",
      "  [0.0000e+00 0.0000e+00 0.0000e+00 ... 0.0000e+00 0.0000e+00 0.0000e+00]\n",
      "  [0.0000e+00 0.0000e+00 0.0000e+00 ... 0.0000e+00 0.0000e+00 0.0000e+00]]\n",
      "\n",
      " [[0.0000e+00 0.0000e+00 0.0000e+00 ... 0.0000e+00 0.0000e+00 0.0000e+00]\n",
      "  [0.0000e+00 0.0000e+00 0.0000e+00 ... 0.0000e+00 0.0000e+00 2.0000e+00]\n",
      "  [0.0000e+00 0.0000e+00 0.0000e+00 ... 0.0000e+00 0.0000e+00 2.0000e+00]\n",
      "  ...\n",
      "  [1.8500e+02 3.2000e+01 2.7000e+01 ... 0.0000e+00 0.0000e+00 0.0000e+00]\n",
      "  [0.0000e+00 0.0000e+00 0.0000e+00 ... 0.0000e+00 0.0000e+00 0.0000e+00]\n",
      "  [0.0000e+00 0.0000e+00 0.0000e+00 ... 0.0000e+00 0.0000e+00 0.0000e+00]]\n",
      "\n",
      " ...\n",
      "\n",
      " [[0.0000e+00 0.0000e+00 0.0000e+00 ... 0.0000e+00 0.0000e+00 0.0000e+00]\n",
      "  [0.0000e+00 0.0000e+00 0.0000e+00 ... 0.0000e+00 0.0000e+00 0.0000e+00]\n",
      "  [0.0000e+00 0.0000e+00 0.0000e+00 ... 0.0000e+00 0.0000e+00 0.0000e+00]\n",
      "  ...\n",
      "  [0.0000e+00 0.0000e+00 0.0000e+00 ... 0.0000e+00 0.0000e+00 0.0000e+00]\n",
      "  [0.0000e+00 0.0000e+00 0.0000e+00 ... 0.0000e+00 0.0000e+00 0.0000e+00]\n",
      "  [0.0000e+00 0.0000e+00 0.0000e+00 ... 0.0000e+00 0.0000e+00 0.0000e+00]]\n",
      "\n",
      " [[0.0000e+00 0.0000e+00 0.0000e+00 ... 0.0000e+00 0.0000e+00 0.0000e+00]\n",
      "  [0.0000e+00 0.0000e+00 0.0000e+00 ... 0.0000e+00 0.0000e+00 0.0000e+00]\n",
      "  [0.0000e+00 0.0000e+00 0.0000e+00 ... 0.0000e+00 0.0000e+00 0.0000e+00]\n",
      "  ...\n",
      "  [0.0000e+00 0.0000e+00 0.0000e+00 ... 0.0000e+00 0.0000e+00 0.0000e+00]\n",
      "  [0.0000e+00 0.0000e+00 0.0000e+00 ... 0.0000e+00 0.0000e+00 0.0000e+00]\n",
      "  [0.0000e+00 0.0000e+00 0.0000e+00 ... 0.0000e+00 0.0000e+00 0.0000e+00]]\n",
      "\n",
      " [[0.0000e+00 0.0000e+00 0.0000e+00 ... 0.0000e+00 0.0000e+00 0.0000e+00]\n",
      "  [0.0000e+00 0.0000e+00 0.0000e+00 ... 0.0000e+00 0.0000e+00 0.0000e+00]\n",
      "  [0.0000e+00 0.0000e+00 0.0000e+00 ... 0.0000e+00 0.0000e+00 0.0000e+00]\n",
      "  ...\n",
      "  [7.2000e+01 2.0000e+01 1.5000e+01 ... 0.0000e+00 0.0000e+00 0.0000e+00]\n",
      "  [0.0000e+00 0.0000e+00 0.0000e+00 ... 0.0000e+00 0.0000e+00 0.0000e+00]\n",
      "  [0.0000e+00 0.0000e+00 0.0000e+00 ... 0.0000e+00 0.0000e+00 0.0000e+00]]]\n",
      "[2010 2010 2010 ... 2010 2010 2010]\n"
     ]
    }
   ],
   "source": [
    "# split NL band\n",
    "image_hists = split_nl_hist(image_hists, years)\n",
    "print(image_hists)\n",
    "print(years)"
   ]
  },
  {
   "cell_type": "markdown",
   "metadata": {
    "id": "AR1SAU-zcmdd"
   },
   "source": [
    "## Plot histograms"
   ]
  },
  {
   "cell_type": "code",
   "execution_count": 11,
   "metadata": {
    "executionInfo": {
     "elapsed": 35,
     "status": "aborted",
     "timestamp": 1667581906271,
     "user": {
      "displayName": "Rafael Araujo Coelho",
      "userId": "14667111767925500503"
     },
     "user_tz": 180
    },
    "id": "YCDD1F8Hcmdd",
    "scrolled": true
   },
   "outputs": [
    {
     "data": {
      "image/png": "[encoded data removed]",
      "text/plain": [
       "<Figure size 720x288 with 1 Axes>"
      ]
     },
     "metadata": {
      "needs_background": "light"
     },
     "output_type": "display_data"
    },
    {
     "data": {
      "image/png": "[encoded data removed]",
      "text/plain": [
       "<Figure size 360x216 with 1 Axes>"
      ]
     },
     "metadata": {
      "needs_background": "light"
     },
     "output_type": "display_data"
    }
   ],
   "source": [
    "band_hists = np.sum(image_hists, axis=0, dtype=np.int64)  # shape [C, nbins]\n",
    "plot_band_hists(\n",
    "    band_hists,\n",
    "    BAND_ORDER_NLSPLIT,\n",
    "    band_colors=BAND_COLORS,\n",
    "    bin_centers=BAND_BIN_CENTERS,\n",
    "    xlabel='normalized pixel value',\n",
    "    ylabel='count',\n",
    "    title='pixel distributions - all',\n",
    "    yscale='log')\n",
    "plot_label_hist(\n",
    "    labels=labels,\n",
    "    bin_edges=LABEL_BIN_EDGES,\n",
    "    title=f'label distributions - {LABEL_NAME}',\n",
    "    figsize=(5, 3))"
   ]
  },
  {
   "cell_type": "markdown",
   "metadata": {
    "id": "cq38F4ZNcmdd"
   },
   "source": [
    "# Load folds"
   ]
  },
  {
   "cell_type": "markdown",
   "metadata": {
    "id": "-q4SXMgvcmde"
   },
   "source": [
    "## Incountry folds + loc_dict\n",
    "\n",
    "`loc_dict` has the format:\n",
    "```python\n",
    "{\n",
    "    (lat, lon): {\n",
    "        'cluster': 1,\n",
    "        'country': 'malawi',\n",
    "        'country_year': 'malawi_2012',  # surveyID\n",
    "        'households': 25,\n",
    "        'urban': False,\n",
    "        'wealth': -0.513607621192932,\n",
    "        'wealthpooled': -0.732255101203918,\n",
    "        'year': 2012\n",
    "    }, ...\n",
    "}\n",
    "```\n",
    "\n",
    "NOTE: `year` and `country_year` might differ in the year. `country_year` is the survey ID, which says which year the survey started. However, sometimes the DHS surveys cross the year-boundary, in which case `country_year` will remain the same but `year` will be the next year."
   ]
  },
  {
   "cell_type": "code",
   "execution_count": 12,
   "metadata": {
    "executionInfo": {
     "elapsed": 35,
     "status": "aborted",
     "timestamp": 1667581906272,
     "user": {
      "displayName": "Rafael Araujo Coelho",
      "userId": "14667111767925500503"
     },
     "user_tz": 180
    },
    "id": "v8C8nB5lcmde"
   },
   "outputs": [
    {
     "name": "stdout",
     "output_type": "stream",
     "text": [
      "{'A': {'test': array([    1,     2,     3, ..., 20433, 20434, 20437]), 'val': array([   22,    23,    42, ..., 20414, 20416, 20424]), 'train': array([    0,     4,     5, ..., 20432, 20435, 20436])}, 'B': {'test': array([   22,    23,    42, ..., 20414, 20416, 20424]), 'val': array([    0,     4,     5, ..., 20418, 20419, 20429]), 'train': array([    1,     2,     3, ..., 20435, 20436, 20437])}, 'C': {'test': array([    0,     4,     5, ..., 20418, 20419, 20429]), 'val': array([   27,    29,    32, ..., 20423, 20435, 20436]), 'train': array([    1,     2,     3, ..., 20433, 20434, 20437])}, 'D': {'test': array([   27,    29,    32, ..., 20423, 20435, 20436]), 'val': array([   13,    14,    30, ..., 20426, 20431, 20432]), 'train': array([    0,     1,     2, ..., 20433, 20434, 20437])}, 'E': {'test': array([   13,    14,    30, ..., 20426, 20431, 20432]), 'val': array([    1,     2,     3, ..., 20433, 20434, 20437]), 'train': array([    0,     4,     5, ..., 20429, 20435, 20436])}}\n"
     ]
    }
   ],
   "source": [
    "with open('/root/Datasets/SelectedClusters/dhs_incountry_co.pkl', 'rb') as f:\n",
    "    incountry_folds = pickle.load(f)\n",
    "    print(incountry_folds)\n",
    "\n",
    "with open(f'/root/Datasets/SelectedClusters/loc_dict_brazil_2010_{LABEL_NAME}.pkl', 'rb') as f:\n",
    "    loc_dict = pickle.load(f)\n",
    "    \n",
    "\n",
    "incountry_group_labels = np.zeros_like(labels, dtype=np.int32)\n",
    "for i, f in enumerate(FOLDS):\n",
    "    test_indices = incountry_folds[f]['test']\n",
    "    incountry_group_labels[test_indices] = i"
   ]
  },
  {
   "cell_type": "markdown",
   "metadata": {
    "id": "egK9nYrzcmdf"
   },
   "source": [
    "## `country_indices` and `country_labels`\n",
    "\n",
    "`country_indices` is a dictionary that maps a country name to a sorted `np.array` of its indices\n",
    "```python\n",
    "{ 'malawi': np.array([ 8530,  8531,  8532, ..., 10484, 10485, 10486]), ... }\n",
    "```\n",
    "\n",
    "`country_labels` is a `np.array` that shows which country each example belongs to\n",
    "```python\n",
    "np.array([0, 0, 0, 0, ..., 22, 22, 22])\n",
    "```\n",
    "where countries are indexed by their position in `dataset_constants.DHS_COUNTRIES`"
   ]
  },
  {
   "cell_type": "code",
   "execution_count": 13,
   "metadata": {
    "executionInfo": {
     "elapsed": 36,
     "status": "aborted",
     "timestamp": 1667581906273,
     "user": {
      "displayName": "Rafael Araujo Coelho",
      "userId": "14667111767925500503"
     },
     "user_tz": 180
    },
    "id": "p3FILsTUcmdf"
   },
   "outputs": [
    {
     "name": "stdout",
     "output_type": "stream",
     "text": [
      "brazil\n"
     ]
    }
   ],
   "source": [
    "country_indices = defaultdict(list)  # country => np.array of indices\n",
    "country_labels = np.zeros(len(locs), dtype=np.int32)  # np.array of country labels\n",
    "households = np.zeros(len(locs), dtype=np.int32)  # np.array of household counts\n",
    "\n",
    "for i, loc in enumerate(locs):\n",
    "    country = loc_dict[tuple(loc)]['country']\n",
    "    country_indices[country].append(i)\n",
    "#values = [\"angola\", \"benin\", \"malawi\"]\n",
    "\n",
    "\n",
    "values=[\"brazil\"]\n",
    "\n",
    "for i, country in enumerate(values):\n",
    "    country_indices[country] = np.asarray(country_indices[country])\n",
    "    indices = country_indices[country]\n",
    "    country_labels[indices] = i\n",
    "    print(country)\n",
    "    \n",
    "   "
   ]
  },
  {
   "cell_type": "markdown",
   "metadata": {
    "id": "-t-uSu0Ecmdh"
   },
   "source": [
    "## Urban v. Rural"
   ]
  },
  {
   "cell_type": "code",
   "execution_count": 14,
   "metadata": {
    "executionInfo": {
     "elapsed": 35,
     "status": "aborted",
     "timestamp": 1667581906275,
     "user": {
      "displayName": "Rafael Araujo Coelho",
      "userId": "14667111767925500503"
     },
     "user_tz": 180
    },
    "id": "pLKaIjJ2cmdi"
   },
   "outputs": [
    {
     "name": "stdout",
     "output_type": "stream",
     "text": [
      "num urban: 438\t num rural: 20000\n"
     ]
    }
   ],
   "source": [
    "def get_urban_rural_indices(locs, loc_dict):\n",
    "    '''\n",
    "    Args\n",
    "    - locs: np.array, shape [N, 2]\n",
    "    - loc_dict: dict, (lat, lon) => dict\n",
    "\n",
    "    Returns\n",
    "    - urban_indices: np.array, shape [num_urban]\n",
    "    - rural_indices: np.array, shape [num_rural]\n",
    "    '''\n",
    "    urban_indices = []\n",
    "    rural_indices = []\n",
    "\n",
    "    for i, loc in enumerate(locs):\n",
    "        loc = tuple(loc)\n",
    "        if loc_dict[loc]['urban'] == 'RURAL':\n",
    "            rural_indices.append(i)\n",
    "        else:\n",
    "            urban_indices.append(i)\n",
    "    urban_indices = np.asarray(urban_indices)\n",
    "    rural_indices = np.asarray(rural_indices)\n",
    "    print(f'num urban: {len(urban_indices)}\\t num rural: {len(rural_indices)}')\n",
    "    return urban_indices, rural_indices\n",
    "\n",
    "urban_indices, rural_indices = get_urban_rural_indices(locs, loc_dict)"
   ]
  },
  {
   "cell_type": "markdown",
   "metadata": {
    "id": "Pap_Je04cmdi"
   },
   "source": [
    "# Dumb Baseline Models"
   ]
  },
  {
   "cell_type": "markdown",
   "metadata": {
    "id": "p4uoPTCdcmdi"
   },
   "source": [
    "## Incountry: predict country mean"
   ]
  },
  {
   "cell_type": "code",
   "execution_count": 15,
   "metadata": {
    "executionInfo": {
     "elapsed": 34,
     "status": "aborted",
     "timestamp": 1667581906275,
     "user": {
      "displayName": "Rafael Araujo Coelho",
      "userId": "14667111767925500503"
     },
     "user_tz": 180
    },
    "id": "GladoYCKcmdj"
   },
   "outputs": [
    {
     "name": "stdout",
     "output_type": "stream",
     "text": [
      "r^2: nan, R^2: 0.000, mse: 0.028, rank: nan\n"
     ]
    },
    {
     "name": "stderr",
     "output_type": "stream",
     "text": [
      "/usr/local/lib/python3.7/site-packages/scipy/stats/stats.py:3845: PearsonRConstantInputWarning: An input array is constant; the correlation coefficent is not defined.\n",
      "  warnings.warn(PearsonRConstantInputWarning())\n",
      "/usr/local/lib/python3.7/site-packages/scipy/stats/stats.py:4196: SpearmanRConstantInputWarning: An input array is constant; the correlation coefficent is not defined.\n",
      "  warnings.warn(SpearmanRConstantInputWarning())\n"
     ]
    }
   ],
   "source": [
    "values=[\"brazil\"]\n",
    "\n",
    "mean_preds = np.zeros_like(labels)\n",
    "for i, country in enumerate(values):\n",
    "    indices = np.where(country_labels == i)[0]\n",
    "    mean_preds[indices] = np.mean(labels[indices])\n",
    "r2, _, _, _ = evaluate(labels, mean_preds, do_print=True)"
   ]
  },
  {
   "cell_type": "code",
   "execution_count": 16,
   "metadata": {
    "executionInfo": {
     "elapsed": 34,
     "status": "aborted",
     "timestamp": 1667581906276,
     "user": {
      "displayName": "Rafael Araujo Coelho",
      "userId": "14667111767925500503"
     },
     "user_tz": 180
    },
    "id": "2AtcrWGZcmdj"
   },
   "outputs": [
    {
     "name": "stderr",
     "output_type": "stream",
     "text": [
      "/usr/local/lib/python3.7/site-packages/scipy/stats/stats.py:3845: PearsonRConstantInputWarning: An input array is constant; the correlation coefficent is not defined.\n",
      "  warnings.warn(PearsonRConstantInputWarning())\n"
     ]
    },
    {
     "data": {
      "image/png": "[encoded data removed]",
      "text/plain": [
       "<Figure size 360x360 with 1 Axes>"
      ]
     },
     "metadata": {
      "needs_background": "light"
     },
     "output_type": "display_data"
    }
   ],
   "source": [
    "scatter_preds(labels, preds=mean_preds, by_name='country', by_col=np.asarray(values)[country_labels])"
   ]
  },
  {
   "cell_type": "markdown",
   "metadata": {
    "id": "67bC93dycmdj"
   },
   "source": [
    "## Linear Nightlights"
   ]
  },
  {
   "cell_type": "code",
   "execution_count": 17,
   "metadata": {
    "executionInfo": {
     "elapsed": 34,
     "status": "aborted",
     "timestamp": 1667581906277,
     "user": {
      "displayName": "Rafael Araujo Coelho",
      "userId": "14667111767925500503"
     },
     "user_tz": 180
    },
    "id": "8WXgkFwkcmdj"
   },
   "outputs": [
    {
     "ename": "ZeroDivisionError",
     "evalue": "Weights sum to zero, can't be normalized",
     "output_type": "error",
     "traceback": [
      "\u001b[0;31m---------------------------------------------------------------------------\u001b[0m",
      "\u001b[0;31mZeroDivisionError\u001b[0m                         Traceback (most recent call last)",
      "\u001b[0;32m<ipython-input-17-5a335e800f52>\u001b[0m in \u001b[0;36m<module>\u001b[0;34m\u001b[0m\n\u001b[1;32m     12\u001b[0m     \u001b[0mdisplay\u001b[0m\u001b[0;34m(\u001b[0m\u001b[0mlinear_nl_df\u001b[0m\u001b[0;34m)\u001b[0m\u001b[0;34m\u001b[0m\u001b[0;34m\u001b[0m\u001b[0m\n\u001b[1;32m     13\u001b[0m \u001b[0;34m\u001b[0m\u001b[0m\n\u001b[0;32m---> 14\u001b[0;31m \u001b[0mlinear_nl\u001b[0m\u001b[0;34m(\u001b[0m\u001b[0;34m)\u001b[0m\u001b[0;34m\u001b[0m\u001b[0;34m\u001b[0m\u001b[0m\n\u001b[0m",
      "\u001b[0;32m<ipython-input-17-5a335e800f52>\u001b[0m in \u001b[0;36mlinear_nl\u001b[0;34m()\u001b[0m\n\u001b[1;32m      9\u001b[0m                     \u001b[0mw\u001b[0m \u001b[0;34m=\u001b[0m \u001b[0mw\u001b[0m\u001b[0;34m[\u001b[0m\u001b[0mmask\u001b[0m\u001b[0;34m]\u001b[0m\u001b[0;34m\u001b[0m\u001b[0;34m\u001b[0m\u001b[0m\n\u001b[1;32m     10\u001b[0m                 linear_nl_df.loc[(sensor, nl_type, weighted)] = calc_score(\n\u001b[0;32m---> 11\u001b[0;31m                     labels[mask], nls[mask], metric='r2', weights=w)\n\u001b[0m\u001b[1;32m     12\u001b[0m     \u001b[0mdisplay\u001b[0m\u001b[0;34m(\u001b[0m\u001b[0mlinear_nl_df\u001b[0m\u001b[0;34m)\u001b[0m\u001b[0;34m\u001b[0m\u001b[0;34m\u001b[0m\u001b[0m\n\u001b[1;32m     13\u001b[0m \u001b[0;34m\u001b[0m\u001b[0m\n",
      "\u001b[0;32m~/ModelWorkflow/utils/analysis.py\u001b[0m in \u001b[0;36mcalc_score\u001b[0;34m(labels, preds, metric, weights)\u001b[0m\n\u001b[1;32m     27\u001b[0m             \u001b[0;32mreturn\u001b[0m \u001b[0mscipy\u001b[0m\u001b[0;34m.\u001b[0m\u001b[0mstats\u001b[0m\u001b[0;34m.\u001b[0m\u001b[0mpearsonr\u001b[0m\u001b[0;34m(\u001b[0m\u001b[0mlabels\u001b[0m\u001b[0;34m,\u001b[0m \u001b[0mpreds\u001b[0m\u001b[0;34m)\u001b[0m\u001b[0;34m[\u001b[0m\u001b[0;36m0\u001b[0m\u001b[0;34m]\u001b[0m \u001b[0;34m**\u001b[0m \u001b[0;36m2\u001b[0m\u001b[0;34m\u001b[0m\u001b[0;34m\u001b[0m\u001b[0m\n\u001b[1;32m     28\u001b[0m         \u001b[0;32melse\u001b[0m\u001b[0;34m:\u001b[0m\u001b[0;34m\u001b[0m\u001b[0;34m\u001b[0m\u001b[0m\n\u001b[0;32m---> 29\u001b[0;31m             \u001b[0mmx\u001b[0m \u001b[0;34m=\u001b[0m \u001b[0mnp\u001b[0m\u001b[0;34m.\u001b[0m\u001b[0maverage\u001b[0m\u001b[0;34m(\u001b[0m\u001b[0mpreds\u001b[0m\u001b[0;34m,\u001b[0m \u001b[0mweights\u001b[0m\u001b[0;34m=\u001b[0m\u001b[0mweights\u001b[0m\u001b[0;34m)\u001b[0m\u001b[0;34m\u001b[0m\u001b[0;34m\u001b[0m\u001b[0m\n\u001b[0m\u001b[1;32m     30\u001b[0m             \u001b[0mmy\u001b[0m \u001b[0;34m=\u001b[0m \u001b[0mnp\u001b[0m\u001b[0;34m.\u001b[0m\u001b[0maverage\u001b[0m\u001b[0;34m(\u001b[0m\u001b[0mlabels\u001b[0m\u001b[0;34m,\u001b[0m \u001b[0mweights\u001b[0m\u001b[0;34m=\u001b[0m\u001b[0mweights\u001b[0m\u001b[0;34m)\u001b[0m\u001b[0;34m\u001b[0m\u001b[0;34m\u001b[0m\u001b[0m\n\u001b[1;32m     31\u001b[0m             \u001b[0mcov_xy\u001b[0m \u001b[0;34m=\u001b[0m \u001b[0mnp\u001b[0m\u001b[0;34m.\u001b[0m\u001b[0maverage\u001b[0m\u001b[0;34m(\u001b[0m\u001b[0;34m(\u001b[0m\u001b[0mpreds\u001b[0m \u001b[0;34m-\u001b[0m \u001b[0mmx\u001b[0m\u001b[0;34m)\u001b[0m \u001b[0;34m*\u001b[0m \u001b[0;34m(\u001b[0m\u001b[0mlabels\u001b[0m \u001b[0;34m-\u001b[0m \u001b[0mmy\u001b[0m\u001b[0;34m)\u001b[0m\u001b[0;34m,\u001b[0m \u001b[0mweights\u001b[0m\u001b[0;34m=\u001b[0m\u001b[0mweights\u001b[0m\u001b[0;34m)\u001b[0m\u001b[0;34m\u001b[0m\u001b[0;34m\u001b[0m\u001b[0m\n",
      "\u001b[0;32m<__array_function__ internals>\u001b[0m in \u001b[0;36maverage\u001b[0;34m(*args, **kwargs)\u001b[0m\n",
      "\u001b[0;32m/usr/local/lib/python3.7/site-packages/numpy/lib/function_base.py\u001b[0m in \u001b[0;36maverage\u001b[0;34m(a, axis, weights, returned)\u001b[0m\n\u001b[1;32m    421\u001b[0m         \u001b[0;32mif\u001b[0m \u001b[0mnp\u001b[0m\u001b[0;34m.\u001b[0m\u001b[0many\u001b[0m\u001b[0;34m(\u001b[0m\u001b[0mscl\u001b[0m \u001b[0;34m==\u001b[0m \u001b[0;36m0.0\u001b[0m\u001b[0;34m)\u001b[0m\u001b[0;34m:\u001b[0m\u001b[0;34m\u001b[0m\u001b[0;34m\u001b[0m\u001b[0m\n\u001b[1;32m    422\u001b[0m             raise ZeroDivisionError(\n\u001b[0;32m--> 423\u001b[0;31m                 \"Weights sum to zero, can't be normalized\")\n\u001b[0m\u001b[1;32m    424\u001b[0m \u001b[0;34m\u001b[0m\u001b[0m\n\u001b[1;32m    425\u001b[0m         \u001b[0mavg\u001b[0m \u001b[0;34m=\u001b[0m \u001b[0mnp\u001b[0m\u001b[0;34m.\u001b[0m\u001b[0mmultiply\u001b[0m\u001b[0;34m(\u001b[0m\u001b[0ma\u001b[0m\u001b[0;34m,\u001b[0m \u001b[0mwgt\u001b[0m\u001b[0;34m,\u001b[0m \u001b[0mdtype\u001b[0m\u001b[0;34m=\u001b[0m\u001b[0mresult_dtype\u001b[0m\u001b[0;34m)\u001b[0m\u001b[0;34m.\u001b[0m\u001b[0msum\u001b[0m\u001b[0;34m(\u001b[0m\u001b[0maxis\u001b[0m\u001b[0;34m)\u001b[0m\u001b[0;34m/\u001b[0m\u001b[0mscl\u001b[0m\u001b[0;34m\u001b[0m\u001b[0;34m\u001b[0m\u001b[0m\n",
      "\u001b[0;31mZeroDivisionError\u001b[0m: Weights sum to zero, can't be normalized"
     ]
    }
   ],
   "source": [
    "def linear_nl():\n",
    "    linear_nl_df = pd.DataFrame(columns=['sensor', 'nl_type', 'weighted', 'r2'])\n",
    "    linear_nl_df.set_index(['sensor', 'nl_type', 'weighted'], inplace=True)\n",
    "\n",
    "    for sensor, mask in [('dmsp', dmsp_mask)]:\n",
    "        for nl_type, nls in [('center', nls_center), ('mean', nls_mean)]:\n",
    "            for weighted, w in [(False, None), (True, households)]:\n",
    "                if weighted:\n",
    "                    w = w[mask]\n",
    "                linear_nl_df.loc[(sensor, nl_type, weighted)] = calc_score(\n",
    "                    labels[mask], nls[mask], metric='r2', weights=w)\n",
    "    display(linear_nl_df)\n",
    "\n",
    "linear_nl()"
   ]
  },
  {
   "cell_type": "markdown",
   "metadata": {
    "id": "CQsuQzfIcmdk"
   },
   "source": [
    "## KNN on Nightlights\n",
    "\n",
    "The following section uses leave-one-fold-out CV. This is fine for \"incountry\" training, but is different from the leave-one-country-out CV used for our other OOC training. For the leave-one-country-out OOC results, see the section \"KNN on Histograms\" below."
   ]
  },
  {
   "cell_type": "code",
   "execution_count": 18,
   "metadata": {
    "executionInfo": {
     "elapsed": 34,
     "status": "aborted",
     "timestamp": 1667581906277,
     "user": {
      "displayName": "Rafael Araujo Coelho",
      "userId": "14667111767925500503"
     },
     "user_tz": 180
    },
    "id": "NR4kRWd3cmdk"
   },
   "outputs": [],
   "source": [
    "def knn_nl_scalar(labels, years, nls_center, train_idxs, test_idxs, k=5):\n",
    "    '''\n",
    "    Args\n",
    "    - labels: np.array, shape [N]\n",
    "    - years: np.array, shape [N]\n",
    "    - nls_center: np.array, shape [N]\n",
    "    - splits: dict, split (str) => np.array\n",
    "    - k: int, k for KNN\n",
    "    '''\n",
    "    train_nls = nls_center[train_idxs]\n",
    "\n",
    "    # test\n",
    "    test_nls = nls_center[test_idxs]\n",
    "  \n",
    "    test_labels = labels[test_idxs]\n",
    "  \n",
    "    preds = np.zeros_like(test_labels)\n",
    "    knn_dmsp = sklearn.neighbors.KNeighborsRegressor(k)\n",
    "    knn_viirs = sklearn.neighbors.KNeighborsRegressor(k)\n",
    "\n",
    "    dmsp_mask = years < 2012\n",
    "    viirs_mask = ~dmsp_mask\n",
    "\n",
    "    for mask, model in [(dmsp_mask, knn_dmsp)]:\n",
    "        train_mask = mask[train_idxs]\n",
    "        test_mask = mask[test_idxs]\n",
    "\n",
    "        # assign each unique NL value the same label\n",
    "        u, indices = np.unique(train_nls[train_mask], return_inverse=True)\n",
    "        \n",
    "        mean_labels = np.zeros_like(u)\n",
    "        for i, nl in enumerate(u):\n",
    "            mean_labels[i] = np.mean(labels[nls_center == nl])\n",
    "\n",
    "        model.fit(X=train_nls[train_mask].reshape(-1, 1), y=mean_labels[indices])\n",
    "        preds[test_mask] = model.predict(X=test_nls[test_mask].reshape(-1, 1))\n",
    "\n",
    "    return preds, knn_dmsp, knn_viirs"
   ]
  },
  {
   "cell_type": "code",
   "execution_count": 19,
   "metadata": {
    "executionInfo": {
     "elapsed": 34,
     "status": "aborted",
     "timestamp": 1667581906278,
     "user": {
      "displayName": "Rafael Araujo Coelho",
      "userId": "14667111767925500503"
     },
     "user_tz": 180
    },
    "id": "ozeMln2wcmdk"
   },
   "outputs": [],
   "source": [
    "def knn_cv_wrapper(labels, years, nls, folds, keep=1.0, seed=None, savepath=None, verbose=False):\n",
    "    '''\n",
    "    Args\n",
    "    - labels: np.array, shape [N]\n",
    "    - years: np.array, shape [N]\n",
    "    - nls: np.array, shape [N]\n",
    "    - folds: dict, folds[f][split] is a np.array of indices\n",
    "    - keep: float, fraction of training and validation data to use\n",
    "    - seed: int, random seed\n",
    "    - savepath: str, path to save predictions\n",
    "    - verbose: bool, whether to print out validation performance on each fold\n",
    "\n",
    "    Returns\n",
    "    - best_models: tuple of sklearn.neighbors.KNeighborsRegressor\n",
    "        best models from the last fold\n",
    "    - test_preds: np.array, shape [N]\n",
    "    - ks: np.array, shape [K]\n",
    "    - r2s: np.array, shape [K]\n",
    "    - R2s: np.array, shape [K]\n",
    "    - savepath: str, path to save npz file\n",
    "    '''\n",
    "    N = len(labels)\n",
    "    assert len(years) == N\n",
    "    assert len(nls) == N\n",
    "    if savepath is not None:\n",
    "        assert not os.path.exists(savepath)\n",
    "\n",
    "    test_preds = np.zeros_like(labels)\n",
    "    ks = np.asarray([1, 2, 5, 10, 30, 50, 100, 200, 500, 1000])\n",
    "    fold_keys = sorted(folds.keys())\n",
    "    r2s = np.zeros([len(fold_keys), len(ks)])\n",
    "    R2s = np.zeros([len(fold_keys), len(ks)])\n",
    "\n",
    "    dmsp_mask = years < 2012\n",
    "    viirs_mask = ~dmsp_mask\n",
    "\n",
    "    for i, f in enumerate(fold_keys):\n",
    "        if verbose:\n",
    "            print(f'Runing fold {f}...')\n",
    "        test_idxs = folds[f]['test']\n",
    "        best_models = None\n",
    "\n",
    "        for j, k in enumerate(ks):\n",
    "            train_idxs = folds[f]['train']\n",
    "            val_idxs = folds[f]['val']\n",
    "\n",
    "            if keep < 1:\n",
    "                if seed is not None:\n",
    "                    np.random.seed(seed)\n",
    "                num_train = int(len(train_idxs) * keep)\n",
    "                num_val = int(len(val_idxs) * keep)\n",
    "                if num_train < k or num_val < k:\n",
    "                    continue\n",
    "                train_idxs = np.random.choice(\n",
    "                    train_idxs, size=num_train, replace=False)\n",
    "                val_tfrecord_paths = np.random.choice(\n",
    "                    val_idxs, size=num_val, replace=False)\n",
    "\n",
    "            val_preds, knn_dmsp, knn_viirs = knn_nl_scalar(\n",
    "                labels, years, nls, train_idxs=train_idxs,\n",
    "                test_idxs=val_idxs, k=k)\n",
    "                \n",
    "            r2 = calc_score(labels=labels[val_idxs], preds=val_preds, metric='r2')\n",
    "            R2 = calc_score(labels=labels[val_idxs], preds=val_preds, metric='R2')\n",
    "            if R2 > np.max(R2s[i]):\n",
    "                best_models = (knn_dmsp, knn_viirs)\n",
    "            r2s[i, j], R2s[i, j] = r2, R2\n",
    "            if verbose:\n",
    "                print(f'fold={f}, k={k:4d}, val_r2={r2:0.4f}, val_R2={R2:0.4f}')\n",
    "\n",
    "        for i, mask in enumerate([dmsp_mask]):\n",
    "            subset_indices = np.intersect1d(np.nonzero(mask)[0], test_idxs)\n",
    "            test_preds[subset_indices] = best_models[i].predict(nls[subset_indices].reshape(-1, 1))\n",
    "\n",
    "    evaluate(labels=labels, preds=test_preds, do_print=True, title='test preds')\n",
    "\n",
    "    if savepath is not None:\n",
    "        os.makedirs(os.path.dirname(savepath), exist_ok=True)\n",
    "        np.savez_compressed(savepath, test_preds=test_preds, labels=labels)\n",
    "        \n",
    "    return best_models, test_preds, ks, r2s, R2s\n",
    "\n",
    "def plot_knn_val_performance(nl_result, labels, title):\n",
    "    '''\n",
    "    Args\n",
    "    - nl_result: tuple (models, ks, r2s, R2s), output of knn_cv_wrapper\n",
    "    - labels: np.array\n",
    "    - title: str\n",
    "    '''\n",
    "    _, test_preds, ks, r2s, R2s = nl_result\n",
    "    fig, axs = plt.subplots(1, 2, sharey=True, figsize=(6, 3))\n",
    "    for i, f in enumerate(FOLDS):\n",
    "        print(f'fold {f}, chosen k:', ks[np.argmax(R2s[i])])\n",
    "        axs[0].plot(ks, r2s[i], label=f'fold={f}, $r^2$')\n",
    "        axs[1].plot(ks, R2s[i], label=f'fold={f}, $R^2$')\n",
    "    for ax in axs:\n",
    "        ax.legend()\n",
    "        ax.grid()\n",
    "        ax.set(xlabel='k', xscale='log')\n",
    "    axs[0].set(ylabel='score')\n",
    "    fig.suptitle(f'{title} validation KNN performance vs. K', y=1.02)\n",
    "    fig.tight_layout()\n",
    "    plt.show()\n",
    "\n",
    "def plot_knn_test(nls_center_result, nls_mean_result, labels,\n",
    "                  nl0_center_mask, nl0_mean_mask, title):\n",
    "    '''\n",
    "    Args\n",
    "    - *_result: tuple (models, ks, r2s, R2s), output of knn_cv_wrapper\n",
    "    - labels: np.array, shape [N]\n",
    "    - *_mask: np.array, shape [N]\n",
    "    - title: str\n",
    "    '''\n",
    "    fig, axs = plt.subplots(1, 2, sharey=True, figsize=(6, 3))\n",
    "    results = [nls_center_result, nls_mean_result]\n",
    "    nl0_masks = [nl0_center_mask, nl0_mean_mask]\n",
    "    for result, nl0_mask, ax in zip(results, nl0_masks, axs):\n",
    "        _, test_preds, ks, r2s, R2s = result\n",
    "        scatter_preds(labels, test_preds, ax=ax)\n",
    "        ax.scatter(x=labels[nl0_mask], y=test_preds[nl0_mask], c='red', s=2, label='NL = 0')\n",
    "        ax.legend()\n",
    "    axs[0].set_title(f'KNN on NL Center ({title})')\n",
    "    axs[1].set_title(f'KNN on NL Mean ({title})')\n",
    "    fig.tight_layout()\n",
    "    plt.show()"
   ]
  },
  {
   "cell_type": "code",
   "execution_count": 20,
   "metadata": {
    "executionInfo": {
     "elapsed": 33,
     "status": "aborted",
     "timestamp": 1667581906278,
     "user": {
      "displayName": "Rafael Araujo Coelho",
      "userId": "14667111767925500503"
     },
     "user_tz": 180
    },
    "id": "BtArVgkecmdl"
   },
   "outputs": [],
   "source": [
    "def knn_wrapper_single(labels, years, nls, folds):\n",
    "    '''\n",
    "    Args\n",
    "    - labels: np.array, shape [N]\n",
    "    - years: np.array, shape [N]\n",
    "    - nls: np.array, shape [N]\n",
    "    - folds: dict, folds[f][split] is a np.array of indices\n",
    "\n",
    "    Returns\n",
    "    - best_model: sklearn.neighbors.KNeighborsRegressor\n",
    "    - best_test_preds: np.array, shape [N]\n",
    "    - ks: np.array, shape [K]\n",
    "    - r2s: np.array, shape [K]\n",
    "    - R2s: np.array, shape [K]\n",
    "    '''\n",
    "    test_preds = np.zeros_like(labels)\n",
    "    ks = np.asarray([1, 2, 5, 10, 30, 50, 100, 200, 500, 1000])\n",
    "    r2s = np.zeros(len(ks))\n",
    "    R2s = np.zeros(len(ks))\n",
    "    best_test_preds = None\n",
    "\n",
    "    for i, k in enumerate(ks):\n",
    "        for f in FOLDS:\n",
    "            print(f)\n",
    "            train_idxs = np.concatenate([folds[f]['train'], folds[f]['val']])\n",
    "            test_idxs = folds[f]['test']\n",
    "            preds, model = knn_nl(labels, years, nls, k=k, train_idxs=train_idxs, test_idxs=test_idxs)\n",
    "            test_preds[test_idxs] = preds\n",
    "\n",
    "        print(f'k={k}, overall - ', end='')\n",
    "        r2, R2, _, _ = evaluate(labels=labels, preds=test_preds, do_print=True)\n",
    "        if r2 > np.max(r2s):\n",
    "            best_test_preds = np.array(test_preds)  # make a copy\n",
    "            best_model = model\n",
    "        r2s[i], R2s[i] = r2, R2\n",
    "\n",
    "    return best_model, best_test_preds, ks, r2s, R2s"
   ]
  },
  {
   "cell_type": "code",
   "execution_count": 21,
   "metadata": {},
   "outputs": [],
   "source": [
    "DMSP0 = -MEANS['DMSP'] / STD_DEVS['DMSP']\n",
    "nl0_center_mask = dmsp_mask\n",
    "nl0_mean_mask = dmsp_mask"
   ]
  },
  {
   "cell_type": "markdown",
   "metadata": {
    "id": "6vEx0Yk8cmdo"
   },
   "source": [
    "### Incountry"
   ]
  },
  {
   "cell_type": "code",
   "execution_count": 23,
   "metadata": {},
   "outputs": [
    {
     "name": "stdout",
     "output_type": "stream",
     "text": [
      "/root/logs/longevity\n"
     ]
    }
   ],
   "source": [
    "print(LOGS_ROOT_DIR)"
   ]
  },
  {
   "cell_type": "code",
   "execution_count": 24,
   "metadata": {
    "executionInfo": {
     "elapsed": 36,
     "status": "aborted",
     "timestamp": 1667581906285,
     "user": {
      "displayName": "Rafael Araujo Coelho",
      "userId": "14667111767925500503"
     },
     "user_tz": 180
    },
    "id": "btW1oMLgcmdo",
    "scrolled": true
   },
   "outputs": [
    {
     "name": "stdout",
     "output_type": "stream",
     "text": [
      "test preds\t- r^2: 0.006, R^2: 0.006, mse: 0.028, rank: 0.039\n",
      "test preds\t- r^2: 0.020, R^2: 0.020, mse: 0.027, rank: 0.144\n"
     ]
    }
   ],
   "source": [
    "nls_center_result = knn_cv_wrapper(\n",
    "    labels=labels, years=years, nls=nls_center, folds=incountry_folds,\n",
    "    savepath= LOGS_ROOT_DIR + '/dhs_knn/' +  'incountry_nls_center/' + 'test_preds.npz')\n",
    "\n",
    "nls_mean_result = knn_cv_wrapper(\n",
    "    labels=labels, years=years, nls=nls_mean, folds=incountry_folds,\n",
    "    savepath=LOGS_ROOT_DIR + '/dhs_knn/' +  'incountry_nls_mean/' + 'test_preds.npz')"
   ]
  },
  {
   "cell_type": "code",
   "execution_count": 25,
   "metadata": {
    "executionInfo": {
     "elapsed": 349889,
     "status": "aborted",
     "timestamp": 1667581906285,
     "user": {
      "displayName": "Rafael Araujo Coelho",
      "userId": "14667111767925500503"
     },
     "user_tz": 180
    },
    "id": "me9lEfSxcmdp"
   },
   "outputs": [
    {
     "name": "stdout",
     "output_type": "stream",
     "text": [
      "fold A, chosen k: 500\n",
      "fold B, chosen k: 500\n",
      "fold C, chosen k: 30\n",
      "fold D, chosen k: 500\n",
      "fold E, chosen k: 200\n"
     ]
    },
    {
     "data": {
      "image/png": "[encoded data removed]",
      "text/plain": [
       "<Figure size 432x216 with 2 Axes>"
      ]
     },
     "metadata": {
      "needs_background": "light"
     },
     "output_type": "display_data"
    },
    {
     "name": "stdout",
     "output_type": "stream",
     "text": [
      "fold A, chosen k: 200\n",
      "fold B, chosen k: 200\n",
      "fold C, chosen k: 100\n",
      "fold D, chosen k: 200\n",
      "fold E, chosen k: 200\n"
     ]
    },
    {
     "data": {
      "image/png": "[encoded data removed]",
      "text/plain": [
       "<Figure size 432x216 with 2 Axes>"
      ]
     },
     "metadata": {
      "needs_background": "light"
     },
     "output_type": "display_data"
    }
   ],
   "source": [
    "plot_knn_val_performance(nls_center_result, labels, title='NL center')\n",
    "plot_knn_val_performance(nls_mean_result, labels, title='NL mean')"
   ]
  },
  {
   "cell_type": "code",
   "execution_count": 26,
   "metadata": {
    "executionInfo": {
     "elapsed": 349887,
     "status": "aborted",
     "timestamp": 1667581906286,
     "user": {
      "displayName": "Rafael Araujo Coelho",
      "userId": "14667111767925500503"
     },
     "user_tz": 180
    },
    "id": "IRTyYnfycmdp"
   },
   "outputs": [
    {
     "data": {
      "image/png": "[encoded data removed]",
      "text/plain": [
       "<Figure size 432x216 with 2 Axes>"
      ]
     },
     "metadata": {
      "needs_background": "light"
     },
     "output_type": "display_data"
    }
   ],
   "source": [
    "plot_knn_test(nls_center_result, nls_mean_result, labels,\n",
    "              nl0_center_mask, nl0_mean_mask, title='Incountry')"
   ]
  },
  {
   "cell_type": "code",
   "execution_count": 27,
   "metadata": {
    "executionInfo": {
     "elapsed": 349886,
     "status": "aborted",
     "timestamp": 1667581906286,
     "user": {
      "displayName": "Rafael Araujo Coelho",
      "userId": "14667111767925500503"
     },
     "user_tz": 180
    },
    "id": "FwCbj5NRcmdp"
   },
   "outputs": [
    {
     "name": "stderr",
     "output_type": "stream",
     "text": [
      "No artists with labels found to put in legend.  Note that artists whose label start with an underscore are ignored when legend() is called with no argument.\n"
     ]
    },
    {
     "data": {
      "image/png": "[encoded data removed]",
      "text/plain": [
       "<Figure size 720x216 with 2 Axes>"
      ]
     },
     "metadata": {
      "needs_background": "light"
     },
     "output_type": "display_data"
    }
   ],
   "source": [
    "fig, axs = plt.subplots(1, 2, figsize=(10, 3), sharey=True)\n",
    "for result, title in [(nls_center_result, 'NL center'),\n",
    "                      (nls_mean_result, 'NL mean')]:\n",
    "    models = result[0]\n",
    "    masks = [dmsp_mask]\n",
    "    for i in range(1):\n",
    "        ax, mask, model = axs[i], masks[i], models[i]\n",
    "        nls = np.arange(-0.5, 8, 0.05)\n",
    "        preds = model.predict(nls.reshape(-1, 1))\n",
    "        ax.plot(nls, preds, linewidth=2, label=title)\n",
    "\n",
    "axs[0].set(xlabel='DMSP', ylabel='KNN pred')\n",
    "\n",
    "for ax in axs:\n",
    "    ax.grid(True)\n",
    "    ax.legend()\n",
    "fig.suptitle('Fold E Incountry', y=1.02)\n",
    "fig.tight_layout()\n",
    "plt.show()"
   ]
  },
  {
   "cell_type": "markdown",
   "metadata": {
    "id": "u9dUJ-NGcmdq"
   },
   "source": [
    "## GBT on NL\n",
    "\n",
    "As with the KNN section above, this section uses leave-one-fold-out OOC training, which is not directly comparable to our other leave-one-country-out OOC results."
   ]
  },
  {
   "cell_type": "code",
   "execution_count": 28,
   "metadata": {
    "executionInfo": {
     "elapsed": 349884,
     "status": "aborted",
     "timestamp": 1667581906287,
     "user": {
      "displayName": "Rafael Araujo Coelho",
      "userId": "14667111767925500503"
     },
     "user_tz": 180
    },
    "id": "a4qG58iWcmdq"
   },
   "outputs": [],
   "source": [
    "def gbt_nl(labels, years, nls_center, train_idxs, test_idxs, max_depth, lr):\n",
    "    '''\n",
    "    Args\n",
    "    - labels: np.array, shape [N]\n",
    "    - years: np.array, shape [N]\n",
    "    - nls_center: np.array, shape [N]\n",
    "    - splits: dict, split (str) => np.array\n",
    "    - max_depth: int\n",
    "    - lr: float, learning rate\n",
    "    '''\n",
    "    train_nls = nls_center[train_idxs]\n",
    "\n",
    "    # test\n",
    "    test_nls = nls_center[test_idxs]\n",
    "    test_labels = labels[test_idxs]\n",
    "    preds = np.zeros_like(test_labels)\n",
    "\n",
    "    params = {\n",
    "        'n_estimators': 50,\n",
    "        'max_depth': max_depth,\n",
    "        'min_samples_split': 2,\n",
    "        'learning_rate': lr,\n",
    "        'loss': 'ls'\n",
    "    }\n",
    "    gbt_dmsp = sklearn.ensemble.GradientBoostingRegressor(**params)\n",
    "    gbt_viirs = sklearn.ensemble.GradientBoostingRegressor(**params)\n",
    "\n",
    "    dmsp_mask = years < 2012\n",
    "    viirs_mask = ~dmsp_mask\n",
    "\n",
    "    for mask, model in [(dmsp_mask, gbt_dmsp)]:\n",
    "        train_mask = mask[train_idxs]\n",
    "        test_mask = mask[test_idxs]\n",
    "\n",
    "        # assign each unique NL value the same label\n",
    "        u, indices = np.unique(train_nls[train_mask], return_inverse=True)\n",
    "        mean_labels = np.zeros_like(u)\n",
    "        for i, nl in enumerate(u):\n",
    "            mean_labels[i] = np.mean(labels[nls_center == nl])\n",
    "\n",
    "        model.fit(X=train_nls[train_mask].reshape(-1, 1), y=mean_labels[indices])\n",
    "        preds[test_mask] = model.predict(X=test_nls[test_mask].reshape(-1, 1))\n",
    "\n",
    "    return preds, gbt_dmsp, gbt_viirs"
   ]
  },
  {
   "cell_type": "code",
   "execution_count": 29,
   "metadata": {
    "executionInfo": {
     "elapsed": 349882,
     "status": "aborted",
     "timestamp": 1667581906287,
     "user": {
      "displayName": "Rafael Araujo Coelho",
      "userId": "14667111767925500503"
     },
     "user_tz": 180
    },
    "id": "-UkCVTWJcmdq"
   },
   "outputs": [],
   "source": [
    "def gbt_cv_wrapper(labels, years, nls, folds, keep=1.0, seed=None, savepath=None, verbose=False):\n",
    "    '''\n",
    "    Args\n",
    "    - labels: np.array, shape [N]\n",
    "    - years: np.array, shape [N]\n",
    "    - nls: np.array, shape [N]\n",
    "    - folds: dict, folds[f][split] is a np.array of indices\n",
    "    - keep: float, fraction of training and validation data to use\n",
    "    - seed: int, random seed\n",
    "    - savepath: str, path to save predictions\n",
    "    - verbose: bool, whether to print out validation performance on each fold\n",
    "\n",
    "    Returns\n",
    "    - best_models: tuple of sklearn.neighbors.KNeighborsRegressor\n",
    "        best models from the last fold\n",
    "    - test_preds: np.array, shape [N]\n",
    "    - ks: np.array, shape [K]\n",
    "    - r2s: np.array, shape [K]\n",
    "    - R2s: np.array, shape [K]\n",
    "    - savepath: str, path to save npz file\n",
    "    '''\n",
    "    N = len(labels)\n",
    "    assert len(years) == N\n",
    "    assert len(nls) == N\n",
    "    if savepath is not None:\n",
    "        assert not os.path.exists(savepath)\n",
    "\n",
    "    test_preds = np.zeros_like(labels)\n",
    "    max_depths = [2, 3, 4, 5, 6]\n",
    "    lrs = [5e-1, 1e-1, 5e-2, 1e-2, 5e-3, 1e-3]\n",
    "    fold_keys = sorted(folds.keys())\n",
    "    print(fold_keys)\n",
    "    r2s = np.zeros([len(fold_keys), len(max_depths), len(lrs)])\n",
    "    R2s = np.zeros([len(fold_keys), len(max_depths), len(lrs)])\n",
    "\n",
    "    dmsp_mask = years < 2012\n",
    "    viirs_mask = ~dmsp_mask\n",
    "\n",
    "    for i, f in enumerate(fold_keys):\n",
    "        if verbose:\n",
    "            print(f'Runing fold {f}...')\n",
    "        test_idxs = folds[f]['test']\n",
    "        best_models = None\n",
    "\n",
    "        for j, d in enumerate(max_depths):\n",
    "            for k, lr in enumerate(lrs):\n",
    "                train_idxs = folds[f]['train']\n",
    "                val_idxs = folds[f]['val']\n",
    "\n",
    "                if keep < 1:\n",
    "                    if seed is not None:\n",
    "                        np.random.seed(seed)\n",
    "                    num_train = int(len(train_idxs) * keep)\n",
    "                    num_val = int(len(val_idxs) * keep)\n",
    "                    if num_train < k or num_val < k:\n",
    "                        continue\n",
    "                    train_idxs = np.random.choice(\n",
    "                        train_idxs, size=num_train, replace=False)\n",
    "                    val_tfrecord_paths = np.random.choice(\n",
    "                        val_idxs, size=num_val, replace=False)\n",
    "\n",
    "                val_preds, gbt_dmsp, gbt_viirs = gbt_nl(\n",
    "                    labels, years, nls, train_idxs=train_idxs,\n",
    "                    test_idxs=val_idxs, max_depth=d, lr=lr)\n",
    "                r2 = calc_score(labels=labels[val_idxs], preds=val_preds, metric='r2')\n",
    "                R2 = calc_score(labels=labels[val_idxs], preds=val_preds, metric='R2')\n",
    "                if R2 > np.max(R2s[i]):\n",
    "                    best_models = (gbt_dmsp, gbt_viirs)\n",
    "                r2s[i, j, k], R2s[i, j, k] = r2, R2\n",
    "                if verbose:\n",
    "                    print(f'fold={f}, depth={d:4d}, lr={lr:0.4f} val_r2={r2:0.4f}, val_R2={R2:0.4f}')\n",
    "\n",
    "        for i, mask in enumerate([dmsp_mask]):\n",
    "            subset_indices = np.intersect1d(np.nonzero(mask)[0], test_idxs)\n",
    "            test_preds[subset_indices] = best_models[i].predict(nls[subset_indices].reshape(-1, 1))\n",
    "\n",
    "    evaluate(labels=labels, preds=test_preds, do_print=True, title='test preds')\n",
    "\n",
    "    if savepath is not None:\n",
    "        os.makedirs(os.path.dirname(savepath), exist_ok=True)\n",
    "        np.savez_compressed(savepath, test_preds=test_preds, labels=labels)\n",
    "        \n",
    "    return best_models, test_preds, max_depths, lrs, r2s, R2s\n",
    "\n",
    "def plot_depth_v_lr(depths, lrs, r2s, folds, title=None):\n",
    "    '''\n",
    "    Args\n",
    "    - depths: list of int, length num_depths\n",
    "    - lrs: list of float, length num_lrs\n",
    "    - r2s: np.array, shape [num_folds, num_depths, num_lrs]\n",
    "    - folds: list of str, names of folds\n",
    "    - title: str\n",
    "    '''\n",
    "    lrs, depths = np.meshgrid(lrs, depths)\n",
    "    lrs = lrs.flatten()\n",
    "    depths = depths.flatten()\n",
    "\n",
    "    vmin, vmax = r2s.min(), r2s.max()\n",
    "\n",
    "    fig, axs = plt.subplots(nrows=1, ncols=len(folds), figsize=[10, 3])\n",
    "    for i, ax in enumerate(axs):\n",
    "        f = folds[i]\n",
    "        j, k = np.nonzero(r2s[i] == np.max(r2s[i]))\n",
    "        j, k = j[0], k[0]\n",
    "        d = depths[j]\n",
    "        lr = lrs[k]\n",
    "        print(f'fold {f}, chosen depth: {d}, lr: {lr}')\n",
    "        cax = ax.scatter(x=lrs, y=depths, s=30, c=r2s[i].flatten(), vmin=vmin, vmax=vmax)\n",
    "        ax.set_title(f'{title}, Fold {f} r^2')\n",
    "\n",
    "    for ax in axs:\n",
    "        ax.set_xscale('log')\n",
    "        ax.set_xlim(left=np.min(lrs)/2, right=np.max(lrs)*2)\n",
    "        ax.set_xlabel('learning_rate')\n",
    "        ax.set_ylabel('max_depth')\n",
    "        ax.grid(True)\n",
    "\n",
    "    cbar = fig.colorbar(cax)\n",
    "    fig.tight_layout()\n",
    "    plt.show()"
   ]
  },
  {
   "cell_type": "markdown",
   "metadata": {
    "id": "Z0-XldBTcmds"
   },
   "source": [
    "# Ridge Regression on Histograms\n",
    "\n",
    "- set \"missing\" DMSP and VIIRS values to 0 (i.e. the mean)\n",
    "- not sure if this is the most \"correct\" thing to do, but it's somewhat reasonable approximation"
   ]
  },
  {
   "cell_type": "code",
   "execution_count": 31,
   "metadata": {
    "executionInfo": {
     "elapsed": 349876,
     "status": "aborted",
     "timestamp": 1667581906289,
     "user": {
      "displayName": "Rafael Araujo Coelho",
      "userId": "14667111767925500503"
     },
     "user_tz": 180
    },
    "id": "9DUWtp_5cmds"
   },
   "outputs": [
    {
     "name": "stdout",
     "output_type": "stream",
     "text": [
      "(20438, 9, 102)\n"
     ]
    }
   ],
   "source": [
    "# standardize to 0 mean and unit variance\n",
    "num_examples = len(image_hists)\n",
    "image_hists_mean = np.mean(image_hists, axis=0, dtype=np.float64)\n",
    "image_hists_std = np.std(image_hists, axis=0, dtype=np.float64)\n",
    "\n",
    "image_hists_mean[7] = np.mean(image_hists[dmsp_mask, 7], axis=0, dtype=np.float64)\n",
    "#image_hists_mean[8] = np.mean(image_hists[viirs_mask, 8], axis=0, dtype=np.float64)\n",
    "\n",
    "image_hists_std[7] = np.std(image_hists[dmsp_mask, 7], axis=0, dtype=np.float64)\n",
    "#image_hists_std[8] = np.std(image_hists[viirs_mask, 8], axis=0, dtype=np.float64)\n",
    "\n",
    "standardized_image_hists = np.zeros(image_hists.shape, dtype=np.float64)\n",
    "for mask in [dmsp_mask, viirs_mask]:\n",
    "    standardized_image_hists[mask] = (image_hists[mask] - image_hists_mean) / (image_hists_std + 1e-6)\n",
    "\n",
    "print(standardized_image_hists.shape)"
   ]
  },
  {
   "cell_type": "code",
   "execution_count": 32,
   "metadata": {
    "executionInfo": {
     "elapsed": 349874,
     "status": "aborted",
     "timestamp": 1667581906289,
     "user": {
      "displayName": "Rafael Araujo Coelho",
      "userId": "14667111767925500503"
     },
     "user_tz": 180
    },
    "id": "5gyH1u6zcmdt"
   },
   "outputs": [],
   "source": [
    "def split_nls(nls, years):\n",
    "    '''\n",
    "    Args\n",
    "    - nls: np.array, shape [N]\n",
    "    - years: np.array, shape [N]\n",
    "\n",
    "    Returns\n",
    "    - nls_split: np.array, shape [N, 2]\n",
    "    '''\n",
    "    N = len(nls)\n",
    "    dmsp_mask = years < 2012\n",
    "    viirs_mask = ~dmsp_mask\n",
    "    nls_split = np.zeros([N, 2], dtype=np.float32)\n",
    "    nls_split[dmsp_mask, 0] = nls[dmsp_mask]\n",
    "    nls_split[viirs_mask, 1] = nls[viirs_mask]\n",
    "    return nls_split"
   ]
  },
  {
   "cell_type": "code",
   "execution_count": 33,
   "metadata": {
    "executionInfo": {
     "elapsed": 349872,
     "status": "aborted",
     "timestamp": 1667581906290,
     "user": {
      "displayName": "Rafael Araujo Coelho",
      "userId": "14667111767925500503"
     },
     "user_tz": 180
    },
    "id": "hHPdpJX3cmdt"
   },
   "outputs": [
    {
     "name": "stderr",
     "output_type": "stream",
     "text": [
      "/usr/local/lib/python3.7/site-packages/numpy/core/fromnumeric.py:3335: RuntimeWarning: Mean of empty slice.\n",
      "  out=out, **kwargs)\n",
      "/usr/local/lib/python3.7/site-packages/numpy/core/_methods.py:161: RuntimeWarning: invalid value encountered in true_divide\n",
      "  ret = ret.dtype.type(ret / rcount)\n",
      "/usr/local/lib/python3.7/site-packages/numpy/core/_methods.py:217: RuntimeWarning: Degrees of freedom <= 0 for slice\n",
      "  keepdims=keepdims)\n",
      "/usr/local/lib/python3.7/site-packages/numpy/core/_methods.py:186: RuntimeWarning: invalid value encountered in true_divide\n",
      "  arrmean, rcount, out=arrmean, casting='unsafe', subok=False)\n",
      "/usr/local/lib/python3.7/site-packages/numpy/core/_methods.py:209: RuntimeWarning: invalid value encountered in true_divide\n",
      "  ret = ret.dtype.type(ret / rcount)\n"
     ]
    }
   ],
   "source": [
    "standardized_nls_center = split_nls(nls_center, years)\n",
    "for i, mask in enumerate([dmsp_mask, viirs_mask]):\n",
    "    standardized_nls_center[mask, i] -= np.mean(standardized_nls_center[mask, i])\n",
    "    standardized_nls_center[mask, i] -= np.std(standardized_nls_center[mask, i])\n",
    "\n",
    "standardized_nls_mean = split_nls(nls_mean, years)\n",
    "for i, mask in enumerate([dmsp_mask, viirs_mask]):\n",
    "    standardized_nls_mean[mask, i] -= np.mean(standardized_nls_mean[mask, i])\n",
    "    standardized_nls_mean[mask, i] -= np.std(standardized_nls_mean[mask, i])"
   ]
  },
  {
   "cell_type": "markdown",
   "metadata": {
    "id": "qEp_avwJcmdz"
   },
   "source": [
    "## Incountry"
   ]
  },
  {
   "cell_type": "code",
   "execution_count": 34,
   "metadata": {
    "executionInfo": {
     "elapsed": 26,
     "status": "aborted",
     "timestamp": 1667581907160,
     "user": {
      "displayName": "Rafael Araujo Coelho",
      "userId": "14667111767925500503"
     },
     "user_tz": 180
    },
    "id": "qfNcrhiOcmdz"
   },
   "outputs": [],
   "source": [
    "def ridge_incountry_wrapper(img_hists, model_name):\n",
    "    print(model_name)\n",
    "    ridge_cv(\n",
    "        features=img_hists.reshape(num_examples, -1), labels=labels,\n",
    "        group_labels=incountry_group_labels, group_names=FOLDS,\n",
    "        savedir=os.path.join(LOGS_ROOT_DIR, 'dhs_ridge', model_name))\n",
    "    print(f'== {model_name} urban ==')\n",
    "    ridge_cv(\n",
    "        features=img_hists.reshape(num_examples, -1), labels=labels,\n",
    "        group_labels=incountry_group_labels, group_names=FOLDS,\n",
    "        savedir=os.path.join(LOGS_ROOT_DIR, 'dhs_ridge', model_name),\n",
    "        subset_indices=urban_indices, subset_name='urban')\n",
    "    print(f'== {model_name} rural ==')\n",
    "    ridge_cv(\n",
    "        features=img_hists.reshape(num_examples, -1), labels=labels,\n",
    "        group_labels=incountry_group_labels, group_names=FOLDS,\n",
    "        savedir=os.path.join(LOGS_ROOT_DIR, 'dhs_ridge', model_name),\n",
    "        subset_indices=rural_indices, subset_name='rural')"
   ]
  },
  {
   "cell_type": "code",
   "execution_count": 35,
   "metadata": {
    "executionInfo": {
     "elapsed": 26,
     "status": "aborted",
     "timestamp": 1667581907160,
     "user": {
      "displayName": "Rafael Araujo Coelho",
      "userId": "14667111767925500503"
     },
     "user_tz": 180
    },
    "id": "hWEb08UEcmdz",
    "scrolled": true
   },
   "outputs": [
    {
     "name": "stdout",
     "output_type": "stream",
     "text": [
      "incountry_nlcenter_scalar\n",
      "Group: A\n",
      "best val mse: 0.028, best alpha: 1024.0, test mse: 0.027\n",
      "Group: B\n",
      "best val mse: 0.028, best alpha: 1024.0, test mse: 0.028\n",
      "Group: C\n",
      "best val mse: 0.027, best alpha: 128.0, test mse: 0.029\n",
      "Group: D\n",
      "best val mse: 0.027, best alpha: 1024.0, test mse: 0.028\n",
      "Group: E\n",
      "best val mse: 0.028, best alpha: 1024.0, test mse: 0.026\n",
      "saving test preds to: /root/logs/longevity/dhs_ridge/incountry_nlcenter_scalar/test_preds.npz\n",
      "== incountry_nlcenter_scalar urban ==\n",
      "Group: A\n",
      "best val mse: 0.009, best alpha: 1024.0, test mse: 0.003\n",
      "Group: B\n",
      "best val mse: 0.007, best alpha: 1024.0, test mse: 0.009\n",
      "Group: C\n",
      "best val mse: 0.007, best alpha: 128.0, test mse: 0.011\n",
      "Group: D\n",
      "best val mse: 0.007, best alpha: 1024.0, test mse: 0.010\n",
      "Group: E\n",
      "best val mse: 0.008, best alpha: 1024.0, test mse: 0.004\n",
      "saving test preds to: /root/logs/longevity/dhs_ridge/incountry_nlcenter_scalar/test_preds_urban.npz\n",
      "== incountry_nlcenter_scalar rural ==\n",
      "Group: A\n",
      "best val mse: 0.028, best alpha: 16.0, test mse: 0.027\n",
      "Group: B\n",
      "best val mse: 0.028, best alpha: 2.0, test mse: 0.028\n",
      "Group: C\n",
      "best val mse: 0.028, best alpha: 2.0, test mse: 0.029\n",
      "Group: D\n",
      "best val mse: 0.028, best alpha: 16.0, test mse: 0.029\n",
      "Group: E\n",
      "best val mse: 0.028, best alpha: 16.0, test mse: 0.027\n",
      "saving test preds to: /root/logs/longevity/dhs_ridge/incountry_nlcenter_scalar/test_preds_rural.npz\n"
     ]
    }
   ],
   "source": [
    "model_name = 'incountry_nlcenter_scalar'\n",
    "ridge_incountry_wrapper(model_name=model_name, img_hists=standardized_nls_center)"
   ]
  },
  {
   "cell_type": "code",
   "execution_count": 36,
   "metadata": {
    "executionInfo": {
     "elapsed": 26,
     "status": "aborted",
     "timestamp": 1667581907161,
     "user": {
      "displayName": "Rafael Araujo Coelho",
      "userId": "14667111767925500503"
     },
     "user_tz": 180
    },
    "id": "PEXWkdBqcmd0",
    "scrolled": true
   },
   "outputs": [
    {
     "name": "stdout",
     "output_type": "stream",
     "text": [
      "incountry_nlmean_scalar\n",
      "Group: A\n",
      "best val mse: 0.028, best alpha: 1024.0, test mse: 0.027\n",
      "Group: B\n",
      "best val mse: 0.028, best alpha: 1024.0, test mse: 0.028\n",
      "Group: C\n",
      "best val mse: 0.027, best alpha: 128.0, test mse: 0.029\n",
      "Group: D\n",
      "best val mse: 0.027, best alpha: 1024.0, test mse: 0.028\n",
      "Group: E\n",
      "best val mse: 0.028, best alpha: 1024.0, test mse: 0.026\n",
      "saving test preds to: /root/logs/longevity/dhs_ridge/incountry_nlmean_scalar/test_preds.npz\n",
      "== incountry_nlmean_scalar urban ==\n",
      "Group: A\n",
      "best val mse: 0.009, best alpha: 1024.0, test mse: 0.003\n",
      "Group: B\n",
      "best val mse: 0.007, best alpha: 1024.0, test mse: 0.009\n",
      "Group: C\n",
      "best val mse: 0.007, best alpha: 1024.0, test mse: 0.011\n",
      "Group: D\n",
      "best val mse: 0.007, best alpha: 1024.0, test mse: 0.010\n",
      "Group: E\n",
      "best val mse: 0.008, best alpha: 1024.0, test mse: 0.004\n",
      "saving test preds to: /root/logs/longevity/dhs_ridge/incountry_nlmean_scalar/test_preds_urban.npz\n",
      "== incountry_nlmean_scalar rural ==\n",
      "Group: A\n",
      "best val mse: 0.028, best alpha: 128.0, test mse: 0.027\n",
      "Group: B\n",
      "best val mse: 0.028, best alpha: 2.0, test mse: 0.028\n",
      "Group: C\n",
      "best val mse: 0.028, best alpha: 128.0, test mse: 0.030\n",
      "Group: D\n",
      "best val mse: 0.028, best alpha: 128.0, test mse: 0.029\n",
      "Group: E\n",
      "best val mse: 0.028, best alpha: 128.0, test mse: 0.027\n",
      "saving test preds to: /root/logs/longevity/dhs_ridge/incountry_nlmean_scalar/test_preds_rural.npz\n"
     ]
    }
   ],
   "source": [
    "model_name = 'incountry_nlmean_scalar'\n",
    "ridge_incountry_wrapper(model_name=model_name, img_hists=standardized_nls_mean)"
   ]
  },
  {
   "cell_type": "code",
   "execution_count": 37,
   "metadata": {
    "executionInfo": {
     "elapsed": 26,
     "status": "aborted",
     "timestamp": 1667581907161,
     "user": {
      "displayName": "Rafael Araujo Coelho",
      "userId": "14667111767925500503"
     },
     "user_tz": 180
    },
    "id": "0nwl4dt6cmd0",
    "scrolled": true
   },
   "outputs": [
    {
     "name": "stdout",
     "output_type": "stream",
     "text": [
      "incountry_rgb_hist\n",
      "Group: A\n",
      "best val mse: 0.026, best alpha: 1024.0, test mse: 0.024\n",
      "Group: B\n",
      "best val mse: 0.026, best alpha: 1024.0, test mse: 0.026\n",
      "Group: C\n",
      "best val mse: 0.025, best alpha: 1024.0, test mse: 0.027\n",
      "Group: D\n",
      "best val mse: 0.026, best alpha: 1024.0, test mse: 0.026\n",
      "Group: E\n",
      "best val mse: 0.026, best alpha: 1024.0, test mse: 0.024\n",
      "saving test preds to: /root/logs/longevity/dhs_ridge/incountry_rgb_hist/test_preds.npz\n",
      "== incountry_rgb_hist urban ==\n",
      "Group: A\n",
      "best val mse: 0.009, best alpha: 65536.0, test mse: 0.003\n",
      "Group: B\n",
      "best val mse: 0.007, best alpha: 8192.0, test mse: 0.009\n",
      "Group: C\n",
      "best val mse: 0.007, best alpha: 8192.0, test mse: 0.012\n",
      "Group: D\n",
      "best val mse: 0.007, best alpha: 8192.0, test mse: 0.010\n",
      "Group: E\n",
      "best val mse: 0.008, best alpha: 8192.0, test mse: 0.004\n",
      "saving test preds to: /root/logs/longevity/dhs_ridge/incountry_rgb_hist/test_preds_urban.npz\n",
      "== incountry_rgb_hist rural ==\n",
      "Group: A\n",
      "best val mse: 0.026, best alpha: 1024.0, test mse: 0.025\n",
      "Group: B\n",
      "best val mse: 0.026, best alpha: 1024.0, test mse: 0.026\n",
      "Group: C\n",
      "best val mse: 0.026, best alpha: 1024.0, test mse: 0.028\n",
      "Group: D\n",
      "best val mse: 0.026, best alpha: 1024.0, test mse: 0.026\n",
      "Group: E\n",
      "best val mse: 0.026, best alpha: 1024.0, test mse: 0.025\n",
      "saving test preds to: /root/logs/longevity/dhs_ridge/incountry_rgb_hist/test_preds_rural.npz\n"
     ]
    }
   ],
   "source": [
    "model_name = 'incountry_rgb_hist'\n",
    "ridge_incountry_wrapper(model_name=model_name, img_hists=standardized_image_hists[:, :3, :])"
   ]
  },
  {
   "cell_type": "code",
   "execution_count": 38,
   "metadata": {
    "executionInfo": {
     "elapsed": 26,
     "status": "aborted",
     "timestamp": 1667581907162,
     "user": {
      "displayName": "Rafael Araujo Coelho",
      "userId": "14667111767925500503"
     },
     "user_tz": 180
    },
    "id": "eqZ0Uc7Ecmd0",
    "scrolled": true
   },
   "outputs": [
    {
     "name": "stdout",
     "output_type": "stream",
     "text": [
      "incountry_rgbnl_hist\n",
      "Group: A\n",
      "best val mse: 0.026, best alpha: 1024.0, test mse: 0.024\n",
      "Group: B\n",
      "best val mse: 0.025, best alpha: 1024.0, test mse: 0.026\n",
      "Group: C\n",
      "best val mse: 0.025, best alpha: 1024.0, test mse: 0.027\n",
      "Group: D\n",
      "best val mse: 0.025, best alpha: 1024.0, test mse: 0.026\n",
      "Group: E\n",
      "best val mse: 0.026, best alpha: 1024.0, test mse: 0.024\n",
      "saving test preds to: /root/logs/longevity/dhs_ridge/incountry_rgbnl_hist/test_preds.npz\n",
      "== incountry_rgbnl_hist urban ==\n",
      "Group: A\n",
      "best val mse: 0.009, best alpha: 65536.0, test mse: 0.003\n",
      "Group: B\n",
      "best val mse: 0.007, best alpha: 524288.0, test mse: 0.009\n",
      "Group: C\n",
      "best val mse: 0.007, best alpha: 65536.0, test mse: 0.011\n",
      "Group: D\n",
      "best val mse: 0.007, best alpha: 65536.0, test mse: 0.010\n",
      "Group: E\n",
      "best val mse: 0.008, best alpha: 8192.0, test mse: 0.005\n",
      "saving test preds to: /root/logs/longevity/dhs_ridge/incountry_rgbnl_hist/test_preds_urban.npz\n",
      "== incountry_rgbnl_hist rural ==\n",
      "Group: A\n",
      "best val mse: 0.026, best alpha: 1024.0, test mse: 0.025\n",
      "Group: B\n",
      "best val mse: 0.026, best alpha: 1024.0, test mse: 0.026\n",
      "Group: C\n",
      "best val mse: 0.025, best alpha: 1024.0, test mse: 0.028\n",
      "Group: D\n",
      "best val mse: 0.026, best alpha: 1024.0, test mse: 0.026\n",
      "Group: E\n",
      "best val mse: 0.026, best alpha: 1024.0, test mse: 0.025\n",
      "saving test preds to: /root/logs/longevity/dhs_ridge/incountry_rgbnl_hist/test_preds_rural.npz\n"
     ]
    }
   ],
   "source": [
    "model_name = 'incountry_rgbnl_hist'\n",
    "bands = [0, 1, 2, -2, -1]\n",
    "ridge_incountry_wrapper(model_name=model_name, img_hists=standardized_image_hists[:, bands, :])"
   ]
  },
  {
   "cell_type": "code",
   "execution_count": 39,
   "metadata": {
    "executionInfo": {
     "elapsed": 26,
     "status": "aborted",
     "timestamp": 1667581907162,
     "user": {
      "displayName": "Rafael Araujo Coelho",
      "userId": "14667111767925500503"
     },
     "user_tz": 180
    },
    "id": "vSzKQz3rcmd1",
    "scrolled": true
   },
   "outputs": [
    {
     "name": "stdout",
     "output_type": "stream",
     "text": [
      "incountry_ms_hist\n",
      "Group: A\n",
      "best val mse: 0.025, best alpha: 1024.0, test mse: 0.024\n",
      "Group: B\n",
      "best val mse: 0.025, best alpha: 1024.0, test mse: 0.025\n",
      "Group: C\n",
      "best val mse: 0.024, best alpha: 1024.0, test mse: 0.026\n",
      "Group: D\n",
      "best val mse: 0.025, best alpha: 1024.0, test mse: 0.025\n",
      "Group: E\n",
      "best val mse: 0.025, best alpha: 1024.0, test mse: 0.023\n",
      "saving test preds to: /root/logs/longevity/dhs_ridge/incountry_ms_hist/test_preds.npz\n",
      "== incountry_ms_hist urban ==\n",
      "Group: A\n",
      "best val mse: 0.009, best alpha: 8192.0, test mse: 0.003\n",
      "Group: B\n",
      "best val mse: 0.007, best alpha: 65536.0, test mse: 0.009\n",
      "Group: C\n",
      "best val mse: 0.006, best alpha: 1024.0, test mse: 0.012\n",
      "Group: D\n",
      "best val mse: 0.007, best alpha: 65536.0, test mse: 0.010\n",
      "Group: E\n",
      "best val mse: 0.008, best alpha: 8192.0, test mse: 0.004\n",
      "saving test preds to: /root/logs/longevity/dhs_ridge/incountry_ms_hist/test_preds_urban.npz\n",
      "== incountry_ms_hist rural ==\n",
      "Group: A\n",
      "best val mse: 0.025, best alpha: 1024.0, test mse: 0.024\n",
      "Group: B\n",
      "best val mse: 0.025, best alpha: 1024.0, test mse: 0.025\n",
      "Group: C\n",
      "best val mse: 0.025, best alpha: 1024.0, test mse: 0.027\n",
      "Group: D\n",
      "best val mse: 0.025, best alpha: 1024.0, test mse: 0.026\n",
      "Group: E\n",
      "best val mse: 0.026, best alpha: 1024.0, test mse: 0.024\n",
      "saving test preds to: /root/logs/longevity/dhs_ridge/incountry_ms_hist/test_preds_rural.npz\n"
     ]
    }
   ],
   "source": [
    "model_name = 'incountry_ms_hist'\n",
    "ridge_incountry_wrapper(model_name=model_name, img_hists=standardized_image_hists[:, :7, :])"
   ]
  },
  {
   "cell_type": "code",
   "execution_count": 40,
   "metadata": {
    "executionInfo": {
     "elapsed": 26,
     "status": "aborted",
     "timestamp": 1667581907163,
     "user": {
      "displayName": "Rafael Araujo Coelho",
      "userId": "14667111767925500503"
     },
     "user_tz": 180
    },
    "id": "CqSf7c-ecmd1",
    "scrolled": true
   },
   "outputs": [
    {
     "name": "stdout",
     "output_type": "stream",
     "text": [
      "incountry_msnl_hist\n",
      "Group: A\n",
      "best val mse: 0.025, best alpha: 1024.0, test mse: 0.024\n",
      "Group: B\n",
      "best val mse: 0.025, best alpha: 1024.0, test mse: 0.025\n",
      "Group: C\n",
      "best val mse: 0.024, best alpha: 1024.0, test mse: 0.026\n",
      "Group: D\n",
      "best val mse: 0.025, best alpha: 1024.0, test mse: 0.025\n",
      "Group: E\n",
      "best val mse: 0.025, best alpha: 1024.0, test mse: 0.023\n",
      "saving test preds to: /root/logs/longevity/dhs_ridge/incountry_msnl_hist/test_preds.npz\n",
      "== incountry_msnl_hist urban ==\n",
      "Group: A\n",
      "best val mse: 0.009, best alpha: 8192.0, test mse: 0.003\n",
      "Group: B\n",
      "best val mse: 0.007, best alpha: 524288.0, test mse: 0.009\n",
      "Group: C\n",
      "best val mse: 0.007, best alpha: 65536.0, test mse: 0.012\n",
      "Group: D\n",
      "best val mse: 0.007, best alpha: 65536.0, test mse: 0.009\n",
      "Group: E\n",
      "best val mse: 0.008, best alpha: 8192.0, test mse: 0.005\n",
      "saving test preds to: /root/logs/longevity/dhs_ridge/incountry_msnl_hist/test_preds_urban.npz\n",
      "== incountry_msnl_hist rural ==\n",
      "Group: A\n",
      "best val mse: 0.025, best alpha: 1024.0, test mse: 0.024\n",
      "Group: B\n",
      "best val mse: 0.025, best alpha: 1024.0, test mse: 0.025\n",
      "Group: C\n",
      "best val mse: 0.025, best alpha: 1024.0, test mse: 0.026\n",
      "Group: D\n",
      "best val mse: 0.025, best alpha: 1024.0, test mse: 0.026\n",
      "Group: E\n",
      "best val mse: 0.026, best alpha: 1024.0, test mse: 0.024\n",
      "saving test preds to: /root/logs/longevity/dhs_ridge/incountry_msnl_hist/test_preds_rural.npz\n"
     ]
    }
   ],
   "source": [
    "model_name = 'incountry_msnl_hist'\n",
    "ridge_incountry_wrapper(model_name=model_name, img_hists=standardized_image_hists)"
   ]
  },
  {
   "cell_type": "code",
   "execution_count": 41,
   "metadata": {
    "executionInfo": {
     "elapsed": 27,
     "status": "aborted",
     "timestamp": 1667581907164,
     "user": {
      "displayName": "Rafael Araujo Coelho",
      "userId": "14667111767925500503"
     },
     "user_tz": 180
    },
    "id": "PsRfaYv4cmd1",
    "scrolled": true
   },
   "outputs": [
    {
     "name": "stdout",
     "output_type": "stream",
     "text": [
      "incountry_nl_hist\n",
      "Group: A\n",
      "best val mse: 0.028, best alpha: 1024.0, test mse: 0.026\n",
      "Group: B\n",
      "best val mse: 0.027, best alpha: 1024.0, test mse: 0.028\n",
      "Group: C\n",
      "best val mse: 0.027, best alpha: 1024.0, test mse: 0.029\n",
      "Group: D\n",
      "best val mse: 0.027, best alpha: 1024.0, test mse: 0.028\n",
      "Group: E\n",
      "best val mse: 0.028, best alpha: 1024.0, test mse: 0.026\n",
      "saving test preds to: /root/logs/longevity/dhs_ridge/incountry_nl_hist/test_preds.npz\n",
      "== incountry_nl_hist urban ==\n",
      "Group: A\n",
      "best val mse: 0.009, best alpha: 524288.0, test mse: 0.003\n",
      "Group: B\n",
      "best val mse: 0.007, best alpha: 17179869184.0, test mse: 0.009\n",
      "Group: C\n",
      "best val mse: 0.007, best alpha: 17179869184.0, test mse: 0.012\n",
      "Group: D\n",
      "best val mse: 0.007, best alpha: 17179869184.0, test mse: 0.010\n",
      "Group: E\n",
      "best val mse: 0.008, best alpha: 8192.0, test mse: 0.005\n",
      "saving test preds to: /root/logs/longevity/dhs_ridge/incountry_nl_hist/test_preds_urban.npz\n",
      "== incountry_nl_hist rural ==\n",
      "Group: A\n",
      "best val mse: 0.028, best alpha: 1024.0, test mse: 0.027\n",
      "Group: B\n",
      "best val mse: 0.028, best alpha: 1024.0, test mse: 0.028\n",
      "Group: C\n",
      "best val mse: 0.027, best alpha: 1024.0, test mse: 0.029\n",
      "Group: D\n",
      "best val mse: 0.028, best alpha: 1024.0, test mse: 0.029\n",
      "Group: E\n",
      "best val mse: 0.028, best alpha: 1024.0, test mse: 0.027\n",
      "saving test preds to: /root/logs/longevity/dhs_ridge/incountry_nl_hist/test_preds_rural.npz\n"
     ]
    }
   ],
   "source": [
    "model_name = 'incountry_nl_hist'\n",
    "ridge_incountry_wrapper(model_name=model_name, img_hists=standardized_image_hists[:, -2:, :])"
   ]
  },
  {
   "cell_type": "code",
   "execution_count": 42,
   "metadata": {
    "executionInfo": {
     "elapsed": 28,
     "status": "aborted",
     "timestamp": 1667581907165,
     "user": {
      "displayName": "Rafael Araujo Coelho",
      "userId": "14667111767925500503"
     },
     "user_tz": 180
    },
    "id": "ikD8IGALcmd2"
   },
   "outputs": [],
   "source": [
    "COUNTRIES=[\"brazil\"]"
   ]
  },
  {
   "cell_type": "markdown",
   "metadata": {
    "id": "H3a5DX6Ecmd2"
   },
   "source": [
    "# KNN on Histograms"
   ]
  },
  {
   "cell_type": "markdown",
   "metadata": {
    "id": "zhk6zNwpcmd4"
   },
   "source": [
    "## Incountry"
   ]
  },
  {
   "cell_type": "code",
   "execution_count": 43,
   "metadata": {
    "executionInfo": {
     "elapsed": 29,
     "status": "aborted",
     "timestamp": 1667581907168,
     "user": {
      "displayName": "Rafael Araujo Coelho",
      "userId": "14667111767925500503"
     },
     "user_tz": 180
    },
    "id": "X78vMIbgcmd4"
   },
   "outputs": [],
   "source": [
    "def knn_incountry_wrapper(img_hists, model_name, years=None):\n",
    "    savedir = os.path.join(LOGS_ROOT_DIR, 'dhs_knn', model_name)\n",
    "    features = img_hists.reshape(len(img_hists), -1)\n",
    "\n",
    "    print(model_name)\n",
    "    if years is None:\n",
    "        knn_cv_opt(features=features, labels=labels,\n",
    "                   group_labels=incountry_group_labels, group_names=FOLDS,\n",
    "                   savedir=savedir)\n",
    "    else:  # split DMSP and VIIRS\n",
    "        filename = 'test_preds.npz'\n",
    "        npz_path = os.path.join(savedir, filename)\n",
    "        # assert not os.path.exists(npz_path)\n",
    "\n",
    "        dmsp_mask = years < 2012\n",
    "        viirs_mask = ~dmsp_mask\n",
    "        test_preds = np.zeros(len(image_hists), dtype=np.float32)\n",
    "        for mask in [dmsp_mask]:\n",
    "            test_preds[mask] = knn_cv_opt(\n",
    "                features=features[mask], labels=labels[mask],\n",
    "                group_labels=incountry_group_labels[mask], group_names=FOLDS)\n",
    "\n",
    "        os.makedirs(savedir, exist_ok=True)\n",
    "        save_dict = {\n",
    "            'labels': labels,\n",
    "            'test_preds': test_preds\n",
    "        }\n",
    "        print('saving test preds to:', npz_path)\n",
    "        np.savez_compressed(npz_path, **save_dict)\n",
    "\n",
    "        evaluate(labels=labels, preds=test_preds, do_print=True,\n",
    "                 title='DMSP and VIIRS test preds')"
   ]
  },
  {
   "cell_type": "code",
   "execution_count": 44,
   "metadata": {
    "executionInfo": {
     "elapsed": 29,
     "status": "aborted",
     "timestamp": 1667581907169,
     "user": {
      "displayName": "Rafael Araujo Coelho",
      "userId": "14667111767925500503"
     },
     "user_tz": 180
    },
    "id": "_cwWMq90cmd4"
   },
   "outputs": [
    {
     "name": "stdout",
     "output_type": "stream",
     "text": [
      "incountry_nlcenter_scalar\n",
      "Pre-computing distance matrix... took 3.48 seconds.\n",
      "Group: A\n",
      "best val mse: 0.028, best k: 1024, test mse: 0.026\n",
      "Group: B\n",
      "best val mse: 0.028, best k: 1024, test mse: 0.028\n",
      "Group: C\n",
      "best val mse: 0.027, best k: 1024, test mse: 0.029\n",
      "Group: D\n",
      "best val mse: 0.027, best k: 1024, test mse: 0.028\n",
      "Group: E\n",
      "best val mse: 0.028, best k: 512, test mse: 0.026\n",
      "Pooled test preds\t- r^2: 0.005, R^2: 0.005, mse: 0.028, rank: 0.036\n",
      "saving test preds to: /root/logs/longevity/dhs_knn/incountry_nlcenter_scalar/test_preds.npz\n",
      "DMSP and VIIRS test preds\t- r^2: 0.005, R^2: 0.005, mse: 0.028, rank: 0.036\n"
     ]
    }
   ],
   "source": [
    "model_name = 'incountry_nlcenter_scalar'\n",
    "knn_incountry_wrapper(model_name=model_name, img_hists=nls_center, years=years)"
   ]
  },
  {
   "cell_type": "code",
   "execution_count": 45,
   "metadata": {
    "executionInfo": {
     "elapsed": 29,
     "status": "aborted",
     "timestamp": 1667581907169,
     "user": {
      "displayName": "Rafael Araujo Coelho",
      "userId": "14667111767925500503"
     },
     "user_tz": 180
    },
    "id": "gajHowUXcmd5"
   },
   "outputs": [
    {
     "name": "stdout",
     "output_type": "stream",
     "text": [
      "incountry_nlmean_scalar\n",
      "Pre-computing distance matrix... took 3.50 seconds.\n",
      "Group: A\n",
      "best val mse: 0.027, best k: 512, test mse: 0.026\n",
      "Group: B\n",
      "best val mse: 0.027, best k: 512, test mse: 0.027\n",
      "Group: C\n",
      "best val mse: 0.027, best k: 256, test mse: 0.029\n",
      "Group: D\n",
      "best val mse: 0.027, best k: 128, test mse: 0.028\n",
      "Group: E\n",
      "best val mse: 0.028, best k: 1024, test mse: 0.026\n",
      "Pooled test preds\t- r^2: 0.020, R^2: 0.020, mse: 0.027, rank: 0.115\n",
      "saving test preds to: /root/logs/longevity/dhs_knn/incountry_nlmean_scalar/test_preds.npz\n",
      "DMSP and VIIRS test preds\t- r^2: 0.020, R^2: 0.020, mse: 0.027, rank: 0.115\n"
     ]
    }
   ],
   "source": [
    "model_name = 'incountry_nlmean_scalar'\n",
    "knn_incountry_wrapper(model_name=model_name, img_hists=nls_mean, years=years)"
   ]
  },
  {
   "cell_type": "code",
   "execution_count": 46,
   "metadata": {
    "executionInfo": {
     "elapsed": 30,
     "status": "aborted",
     "timestamp": 1667581907170,
     "user": {
      "displayName": "Rafael Araujo Coelho",
      "userId": "14667111767925500503"
     },
     "user_tz": 180
    },
    "id": "hPVrvVRvcmd5"
   },
   "outputs": [
    {
     "name": "stdout",
     "output_type": "stream",
     "text": [
      "incountry_nl_hist\n",
      "Pre-computing distance matrix... took 26.40 seconds.\n",
      "Group: A\n",
      "best val mse: 0.027, best k: 512, test mse: 0.026\n",
      "Group: B\n",
      "best val mse: 0.027, best k: 256, test mse: 0.027\n",
      "Group: C\n",
      "best val mse: 0.027, best k: 256, test mse: 0.029\n",
      "Group: D\n",
      "best val mse: 0.027, best k: 512, test mse: 0.028\n",
      "Group: E\n",
      "best val mse: 0.027, best k: 512, test mse: 0.026\n",
      "Pooled test preds\t- r^2: 0.020, R^2: 0.020, mse: 0.027, rank: 0.111\n",
      "saving test preds to: /root/logs/longevity/dhs_knn/incountry_nl_hist/test_preds.npz\n",
      "DMSP and VIIRS test preds\t- r^2: 0.020, R^2: 0.020, mse: 0.027, rank: 0.111\n"
     ]
    }
   ],
   "source": [
    "model_name = 'incountry_nl_hist'\n",
    "knn_incountry_wrapper(model_name=model_name, img_hists=image_hists[:, -2:, :], years=years)"
   ]
  }
 ],
 "metadata": {
  "accelerator": "GPU",
  "colab": {
   "provenance": [],
   "toc_visible": true
  },
  "gpuClass": "standard",
  "instance_type": "ml.g5.2xlarge",
  "kernelspec": {
   "display_name": "Python 3 (TensorFlow 1.15 Python 3.7 GPU Optimized)",
   "language": "python",
   "name": "python3__SAGEMAKER_INTERNAL__arn:aws:sagemaker:us-east-1:081325390199:image/tensorflow-1.15-gpu-py37-cu110-ubuntu18.04-v8"
  },
  "language_info": {
   "codemirror_mode": {
    "name": "ipython",
    "version": 3
   },
   "file_extension": ".py",
   "mimetype": "text/x-python",
   "name": "python",
   "nbconvert_exporter": "python",
   "pygments_lexer": "ipython3",
   "version": "3.7.10"
  },
  "toc": {
   "base_numbering": 1,
   "nav_menu": {},
   "number_sections": true,
   "sideBar": true,
   "skip_h1_title": false,
   "title_cell": "Table of Contents",
   "title_sidebar": "Contents",
   "toc_cell": true,
   "toc_position": {
    "height": "calc(100% - 180px)",
    "left": "10px",
    "top": "150px",
    "width": "307.2px"
   },
   "toc_section_display": true,
   "toc_window_display": true
  }
 },
 "nbformat": 4,
 "nbformat_minor": 4
}
