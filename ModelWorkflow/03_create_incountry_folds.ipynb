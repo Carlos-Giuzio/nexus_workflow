{
 "cells": [
  {
   "cell_type": "markdown",
   "metadata": {
    "id": "NDduisSvGppY",
    "toc": true
   },
   "source": [
    "<h1>Table of Contents<span class=\"tocSkip\"></span></h1>\n",
    "<div class=\"toc\"><ul class=\"toc-item\"><li><span><a href=\"#Pre-requisites\" data-toc-modified-id=\"Pre-requisites-1\"><span class=\"toc-item-num\">1&nbsp;&nbsp;</span>Pre-requisites</a></span></li><li><span><a href=\"#Instructions\" data-toc-modified-id=\"Instructions-2\"><span class=\"toc-item-num\">2&nbsp;&nbsp;</span>Instructions</a></span></li><li><span><a href=\"#Imports-and-Constants\" data-toc-modified-id=\"Imports-and-Constants-3\"><span class=\"toc-item-num\">3&nbsp;&nbsp;</span>Imports and Constants</a></span></li><li><span><a href=\"#Calculate-Locations-Statistics\" data-toc-modified-id=\"Calculate-Locations-Statistics-4\"><span class=\"toc-item-num\">4&nbsp;&nbsp;</span>Calculate Locations Statistics</a></span></li><li><span><a href=\"#Create-In-country-Folds\" data-toc-modified-id=\"Create-In-country-Folds-5\"><span class=\"toc-item-num\">5&nbsp;&nbsp;</span>Create In-country Folds</a></span></li></ul></div>"
   ]
  },
  {
   "cell_type": "markdown",
   "metadata": {
    "id": "uKcpMjDXGppZ"
   },
   "source": [
    "## Pre-requisites\n",
    "\n",
    "None\n",
    "\n",
    "## Instructions\n",
    "\n",
    "Households surveyed by DHS and LSMS are grouped into clusters (roughly villages). Our goal is to train models to predict the average cluster wealth-index given a satellite image of the cluster. To train our models, we assign the clusters into training (`train`), validation (`val`), and test (`test`) splits.\n",
    "\n",
    "However, we do not arbitrarily assign clusters to splits because many clusters are located very close to each other such that their satellite images overlap. If one cluster was put in `train` and a nearby cluster was put into `test`, this may constitute \"peaking\" at the test set. This is not what we want. Instead, we want our model to be generalizable, able to estimate the cluster wealth-index in grographic regions that the model has not necessarily seen before.\n",
    "\n",
    "Thus, we have to take special care that the satellite images between splits do not overlap. We do this through 2 separate approaches: \"out-of-country\" and \"in-country\". For \"**out-of-country**\" splits, we assign entire countries to a split, so naturally there is no overlap between splits. For \"**in-country**\" splits, we allow different clusters within the same country to be assigned to different splits, taking care that their satellite images have no overlap. **The point of this notebook is to create the in-country splits.**\n",
    "\n",
    "Because the survey data is fairly limited (~20K DHS clusters, ~3K LSMS clusters), we actually use cross-validated training. We assign the clusters to 1 of 5 folds labeled `['A', 'B', 'C', 'D', 'E']` such that the folds are non-overlapping. Given the 5 folds, we create 5 different sets of train/val/test splits, where each set is labeled by the name of its `test` fold:\n",
    "\n",
    "```\n",
    "A) test  = {A}\n",
    "   val   = {B}\n",
    "   train = {C, D, E}\n",
    "\n",
    "B) test  = {B}\n",
    "   val   = {C}\n",
    "   train = {D, E, A}\n",
    "\n",
    "...\n",
    "\n",
    "E) test  = {E}\n",
    "   val   = {A}\n",
    "   train = {B, C, D}\n",
    "```\n",
    "\n",
    "This notebook creates 2 Python pickle files: `data/dhs_incountry_folds.pkl` and `data/lsms_incountry_folds.pkl`. Each of these files contains a pickle'd Python dictionary which can be loaded as follows:\n",
    "\n",
    "```python\n",
    "with open('data/dhs_incountry_folds.pkl', 'rb') as f:\n",
    "    dhs_incountry_folds = pickle.load(f)\n",
    "```\n",
    "\n",
    "The dictionary has type `Dict[str, Dict[str, np.ndarray]` such that `dhs_incountry_folds[f][s]` returns an array of indices corresponding to split `s` of fold `f`. The indices correspond to 0-indexed rows from `data/dhs_clusters.csv` and `data/lsms_clusters.csv`.\n",
    "\n",
    "```python\n",
    "dhs_incountry_folds = {\n",
    "    'A': {'test':  array([   28,    29,    35, ..., 19662, 19664, 19667]),\n",
    "          'train': array([    2,     3,     4, ..., 19663, 19665, 19668]),\n",
    "          'val':   array([    0,     1,     8, ..., 19643, 19659, 19666])},\n",
    "    ...\n",
    "    'E': {'test':  array([    2,     3,     4, ..., 19653, 19656, 19663]),\n",
    "          'train': array([    0,     1,     6, ..., 19665, 19666, 19668]),\n",
    "          'val':   array([   28,    29,    35, ..., 19662, 19664, 19667])}}\n",
    "```"
   ]
  },
  {
   "cell_type": "markdown",
   "metadata": {
    "id": "m4pCpEb0Gppc"
   },
   "source": [
    "## Imports and Constants"
   ]
  },
  {
   "cell_type": "markdown",
   "metadata": {},
   "source": [
    "Downloading the Libraries"
   ]
  },
  {
   "cell_type": "code",
   "execution_count": 3,
   "metadata": {
    "colab": {
     "base_uri": "https://localhost:8080/"
    },
    "executionInfo": {
     "elapsed": 127669,
     "status": "ok",
     "timestamp": 1667446553686,
     "user": {
      "displayName": "Rafael Araujo Coelho",
      "userId": "14667111767925500503"
     },
     "user_tz": 180
    },
    "id": "72wpq_GNOJYe",
    "outputId": "14fa6acb-f31e-4e11-b701-83aebcc4b0d6"
   },
   "outputs": [
    {
     "name": "stdout",
     "output_type": "stream",
     "text": [
      "Reading package lists... Done\n",
      "Building dependency tree       \n",
      "Reading state information... Done\n",
      "The following additional packages will be installed:\n",
      "  libproj15\n",
      "The following NEW packages will be installed:\n",
      "  libproj-dev libproj15 proj-bin proj-data\n",
      "0 upgraded, 4 newly installed, 0 to remove and 0 not upgraded.\n",
      "Need to get 9752 kB of archives.\n",
      "After this operation, 35.7 MB of additional disk space will be used.\n",
      "Get:1 http://archive.ubuntu.com/ubuntu focal/universe amd64 proj-data all 6.3.1-1 [7647 kB]\n",
      "Get:2 http://archive.ubuntu.com/ubuntu focal/universe amd64 libproj15 amd64 6.3.1-1 [925 kB]\n",
      "Get:3 http://archive.ubuntu.com/ubuntu focal/universe amd64 libproj-dev amd64 6.3.1-1 [1092 kB]\n",
      "Get:4 http://archive.ubuntu.com/ubuntu focal/universe amd64 proj-bin amd64 6.3.1-1 [88.8 kB]\n",
      "Fetched 9752 kB in 1s (8386 kB/s)\n",
      "debconf: delaying package configuration, since apt-utils is not installed\n",
      "Selecting previously unselected package proj-data.\n",
      "(Reading database ... 41409 files and directories currently installed.)\n",
      "Preparing to unpack .../proj-data_6.3.1-1_all.deb ...\n",
      "Unpacking proj-data (6.3.1-1) ...\n",
      "Selecting previously unselected package libproj15:amd64.\n",
      "Preparing to unpack .../libproj15_6.3.1-1_amd64.deb ...\n",
      "Unpacking libproj15:amd64 (6.3.1-1) ...\n",
      "Selecting previously unselected package libproj-dev:amd64.\n",
      "Preparing to unpack .../libproj-dev_6.3.1-1_amd64.deb ...\n",
      "Unpacking libproj-dev:amd64 (6.3.1-1) ...\n",
      "Selecting previously unselected package proj-bin.\n",
      "Preparing to unpack .../proj-bin_6.3.1-1_amd64.deb ...\n",
      "Unpacking proj-bin (6.3.1-1) ...\n",
      "Setting up proj-data (6.3.1-1) ...\n",
      "Setting up libproj15:amd64 (6.3.1-1) ...\n",
      "Setting up proj-bin (6.3.1-1) ...\n",
      "Setting up libproj-dev:amd64 (6.3.1-1) ...\n",
      "Processing triggers for libc-bin (2.31-0ubuntu9.2) ...\n",
      "Reading package lists... Done\n",
      "Building dependency tree       \n",
      "Reading state information... Done\n",
      "The following additional packages will be installed:\n",
      "  libgeos-3.8.0 libgeos-c1v5\n",
      "Suggested packages:\n",
      "  libgdal-doc\n",
      "The following NEW packages will be installed:\n",
      "  libgeos-3.8.0 libgeos-c1v5 libgeos-dev\n",
      "0 upgraded, 3 newly installed, 0 to remove and 0 not upgraded.\n",
      "Need to get 697 kB of archives.\n",
      "After this operation, 3218 kB of additional disk space will be used.\n",
      "Get:1 http://archive.ubuntu.com/ubuntu focal/universe amd64 libgeos-3.8.0 amd64 3.8.0-1build1 [535 kB]\n",
      "Get:2 http://archive.ubuntu.com/ubuntu focal/universe amd64 libgeos-c1v5 amd64 3.8.0-1build1 [69.9 kB]\n",
      "Get:3 http://archive.ubuntu.com/ubuntu focal/universe amd64 libgeos-dev amd64 3.8.0-1build1 [92.3 kB]\n",
      "Fetched 697 kB in 0s (5773 kB/s)  \n",
      "debconf: delaying package configuration, since apt-utils is not installed\n",
      "Selecting previously unselected package libgeos-3.8.0:amd64.\n",
      "(Reading database ... 41515 files and directories currently installed.)\n",
      "Preparing to unpack .../libgeos-3.8.0_3.8.0-1build1_amd64.deb ...\n",
      "Unpacking libgeos-3.8.0:amd64 (3.8.0-1build1) ...\n",
      "Selecting previously unselected package libgeos-c1v5:amd64.\n",
      "Preparing to unpack .../libgeos-c1v5_3.8.0-1build1_amd64.deb ...\n",
      "Unpacking libgeos-c1v5:amd64 (3.8.0-1build1) ...\n",
      "Selecting previously unselected package libgeos-dev.\n",
      "Preparing to unpack .../libgeos-dev_3.8.0-1build1_amd64.deb ...\n",
      "Unpacking libgeos-dev (3.8.0-1build1) ...\n",
      "Setting up libgeos-3.8.0:amd64 (3.8.0-1build1) ...\n",
      "Setting up libgeos-c1v5:amd64 (3.8.0-1build1) ...\n",
      "Setting up libgeos-dev (3.8.0-1build1) ...\n",
      "Processing triggers for libc-bin (2.31-0ubuntu9.2) ...\n",
      "E: Failed to fetch http://security.ubuntu.com/ubuntu/pool/main/m/mysql-8.0/libmysqlclient21_8.0.27-0ubuntu0.20.04.1_amd64.deb  404  Not Found [IP: 185.125.190.36 80]\n",
      "E: Failed to fetch http://security.ubuntu.com/ubuntu/pool/main/m/mysql-8.0/libmysqlclient-dev_8.0.27-0ubuntu0.20.04.1_amd64.deb  404  Not Found [IP: 185.125.190.36 80]\n",
      "E: Failed to fetch http://security.ubuntu.com/ubuntu/pool/main/libj/libjpeg-turbo/libjpeg-turbo8-dev_2.0.3-0ubuntu1.20.04.1_amd64.deb  404  Not Found [IP: 185.125.190.36 80]\n",
      "E: Failed to fetch http://security.ubuntu.com/ubuntu/pool/main/c/curl/libcurl4-gnutls-dev_7.68.0-1ubuntu2.7_amd64.deb  404  Not Found [IP: 185.125.190.36 80]\n",
      "E: Failed to fetch http://security.ubuntu.com/ubuntu/pool/main/libx/libxml2/libxml2-dev_2.9.10+dfsg-5ubuntu0.20.04.1_amd64.deb  404  Not Found [IP: 185.125.190.36 80]\n",
      "E: Failed to fetch http://security.ubuntu.com/ubuntu/pool/main/n/nss/libnss3_3.49.1-1ubuntu1.6_amd64.deb  404  Not Found [IP: 185.125.190.36 80]\n",
      "E: Failed to fetch http://security.ubuntu.com/ubuntu/pool/main/p/postgresql-12/libpq5_12.9-0ubuntu0.20.04.1_amd64.deb  404  Not Found [IP: 185.125.190.36 80]\n",
      "E: Failed to fetch http://security.ubuntu.com/ubuntu/pool/main/p/postgresql-12/libpq-dev_12.9-0ubuntu0.20.04.1_amd64.deb  404  Not Found [IP: 185.125.190.36 80]\n",
      "E: Failed to fetch http://security.ubuntu.com/ubuntu/pool/main/t/tiff/libtiffxx5_4.1.0+git191117-2ubuntu0.20.04.2_amd64.deb  404  Not Found [IP: 185.125.190.36 80]\n",
      "E: Failed to fetch http://security.ubuntu.com/ubuntu/pool/main/t/tiff/libtiff-dev_4.1.0+git191117-2ubuntu0.20.04.2_amd64.deb  404  Not Found [IP: 185.125.190.36 80]\n",
      "E: Unable to fetch some archives, maybe run apt-get update or try with --fix-missing?\n",
      "Collecting cython\n",
      "  Using cached Cython-0.29.32-cp38-cp38-manylinux_2_17_x86_64.manylinux2014_x86_64.manylinux_2_24_x86_64.whl (1.9 MB)\n",
      "Installing collected packages: cython\n",
      "Successfully installed cython-0.29.32\n",
      "\u001b[33mWARNING: Running pip as the 'root' user can result in broken permissions and conflicting behaviour with the system package manager. It is recommended to use a virtual environment instead: https://pip.pypa.io/warnings/venv\u001b[0m\n",
      "\u001b[33mWARNING: You are using pip version 21.3.1; however, version 22.3.1 is available.\n",
      "You should consider upgrading via the '/usr/local/bin/python3.8 -m pip install --upgrade pip' command.\u001b[0m\n",
      "Collecting cartopy\n",
      "  Using cached Cartopy-0.21.0-cp38-cp38-linux_x86_64.whl\n",
      "Requirement already satisfied: matplotlib>=3.1 in /usr/local/lib/python3.8/site-packages (from cartopy) (3.5.0)\n",
      "Requirement already satisfied: numpy>=1.18 in /usr/local/lib/python3.8/site-packages (from cartopy) (1.19.5)\n",
      "Collecting pyproj>=3.0.0\n",
      "  Using cached pyproj-3.4.0-cp38-cp38-manylinux_2_17_x86_64.manylinux2014_x86_64.whl (7.8 MB)\n",
      "Collecting shapely<2,>=1.6.4\n",
      "  Using cached Shapely-1.8.5.post1-cp38-cp38-manylinux_2_12_x86_64.manylinux2010_x86_64.whl (2.1 MB)\n",
      "Collecting pyshp>=2.1\n",
      "  Using cached pyshp-2.3.1-py2.py3-none-any.whl (46 kB)\n",
      "Requirement already satisfied: packaging>=20.0 in /usr/local/lib/python3.8/site-packages (from matplotlib>=3.1->cartopy) (21.3)\n",
      "Requirement already satisfied: pillow>=6.2.0 in /usr/local/lib/python3.8/site-packages (from matplotlib>=3.1->cartopy) (8.3.2)\n",
      "Requirement already satisfied: pyparsing>=2.2.1 in /usr/local/lib/python3.8/site-packages (from matplotlib>=3.1->cartopy) (3.0.6)\n",
      "Requirement already satisfied: cycler>=0.10 in /usr/local/lib/python3.8/site-packages (from matplotlib>=3.1->cartopy) (0.11.0)\n",
      "Requirement already satisfied: setuptools-scm>=4 in /usr/local/lib/python3.8/site-packages (from matplotlib>=3.1->cartopy) (6.3.2)\n",
      "Requirement already satisfied: python-dateutil>=2.7 in /usr/local/lib/python3.8/site-packages (from matplotlib>=3.1->cartopy) (2.8.2)\n",
      "Requirement already satisfied: kiwisolver>=1.0.1 in /usr/local/lib/python3.8/site-packages (from matplotlib>=3.1->cartopy) (1.3.2)\n",
      "Requirement already satisfied: fonttools>=4.22.0 in /usr/local/lib/python3.8/site-packages (from matplotlib>=3.1->cartopy) (4.28.3)\n",
      "Requirement already satisfied: certifi in /usr/local/lib/python3.8/site-packages (from pyproj>=3.0.0->cartopy) (2021.10.8)\n",
      "Requirement already satisfied: six>=1.5 in /usr/local/lib/python3.8/site-packages (from python-dateutil>=2.7->matplotlib>=3.1->cartopy) (1.16.0)\n",
      "Requirement already satisfied: tomli>=1.0.0 in /usr/local/lib/python3.8/site-packages (from setuptools-scm>=4->matplotlib>=3.1->cartopy) (1.2.2)\n",
      "Requirement already satisfied: setuptools in /usr/local/lib/python3.8/site-packages (from setuptools-scm>=4->matplotlib>=3.1->cartopy) (59.5.0)\n",
      "Installing collected packages: shapely, pyshp, pyproj, cartopy\n",
      "Successfully installed cartopy-0.21.0 pyproj-3.4.0 pyshp-2.3.1 shapely-1.8.5.post1\n",
      "\u001b[33mWARNING: Running pip as the 'root' user can result in broken permissions and conflicting behaviour with the system package manager. It is recommended to use a virtual environment instead: https://pip.pypa.io/warnings/venv\u001b[0m\n",
      "\u001b[33mWARNING: You are using pip version 21.3.1; however, version 22.3.1 is available.\n",
      "You should consider upgrading via the '/usr/local/bin/python3.8 -m pip install --upgrade pip' command.\u001b[0m\n",
      "Requirement already satisfied: matplotlib in /usr/local/lib/python3.8/site-packages (3.5.0)\n",
      "Requirement already satisfied: pillow>=6.2.0 in /usr/local/lib/python3.8/site-packages (from matplotlib) (8.3.2)\n",
      "Requirement already satisfied: python-dateutil>=2.7 in /usr/local/lib/python3.8/site-packages (from matplotlib) (2.8.2)\n",
      "Requirement already satisfied: fonttools>=4.22.0 in /usr/local/lib/python3.8/site-packages (from matplotlib) (4.28.3)\n",
      "Requirement already satisfied: setuptools-scm>=4 in /usr/local/lib/python3.8/site-packages (from matplotlib) (6.3.2)\n",
      "Requirement already satisfied: pyparsing>=2.2.1 in /usr/local/lib/python3.8/site-packages (from matplotlib) (3.0.6)\n",
      "Requirement already satisfied: cycler>=0.10 in /usr/local/lib/python3.8/site-packages (from matplotlib) (0.11.0)\n",
      "Requirement already satisfied: packaging>=20.0 in /usr/local/lib/python3.8/site-packages (from matplotlib) (21.3)\n",
      "Requirement already satisfied: kiwisolver>=1.0.1 in /usr/local/lib/python3.8/site-packages (from matplotlib) (1.3.2)\n",
      "Requirement already satisfied: numpy>=1.17 in /usr/local/lib/python3.8/site-packages (from matplotlib) (1.19.5)\n",
      "Requirement already satisfied: six>=1.5 in /usr/local/lib/python3.8/site-packages (from python-dateutil>=2.7->matplotlib) (1.16.0)\n",
      "Requirement already satisfied: tomli>=1.0.0 in /usr/local/lib/python3.8/site-packages (from setuptools-scm>=4->matplotlib) (1.2.2)\n",
      "Requirement already satisfied: setuptools in /usr/local/lib/python3.8/site-packages (from setuptools-scm>=4->matplotlib) (59.5.0)\n",
      "\u001b[33mWARNING: Running pip as the 'root' user can result in broken permissions and conflicting behaviour with the system package manager. It is recommended to use a virtual environment instead: https://pip.pypa.io/warnings/venv\u001b[0m\n",
      "\u001b[33mWARNING: You are using pip version 21.3.1; however, version 22.3.1 is available.\n",
      "You should consider upgrading via the '/usr/local/bin/python3.8 -m pip install --upgrade pip' command.\u001b[0m\n"
     ]
    }
   ],
   "source": [
    "!apt-get install -y libproj-dev proj-data proj-bin\n",
    "!apt-get install -y libgeos-dev\n",
    "!apt-get install -y -qq libgdal-dev libproj-dev\n",
    "!pip install cython\n",
    "!pip install cartopy\n",
    "!pip install matplotlib"
   ]
  },
  {
   "cell_type": "code",
   "execution_count": 4,
   "metadata": {
    "executionInfo": {
     "elapsed": 2404,
     "status": "ok",
     "timestamp": 1667446556069,
     "user": {
      "displayName": "Rafael Araujo Coelho",
      "userId": "14667111767925500503"
     },
     "user_tz": 180
    },
    "id": "IOYyKzhRGppe"
   },
   "outputs": [],
   "source": [
    "import pickle\n",
    "from pprint import pprint\n",
    "\n",
    "import numpy as np\n",
    "import pandas as pd\n",
    "\n",
    "#from batchers import dataset_constants\n",
    "from preprocessing.create_folds import (\n",
    "   create_folds,\n",
    "   create_split_folds,\n",
    "   save_folds,\n",
    "   verify_folds)"
   ]
  },
  {
   "cell_type": "markdown",
   "metadata": {},
   "source": [
    "Important Constants - Fold Names and minimun distance between Folds of the same group"
   ]
  },
  {
   "cell_type": "code",
   "execution_count": 5,
   "metadata": {
    "executionInfo": {
     "elapsed": 10,
     "status": "ok",
     "timestamp": 1667446556070,
     "user": {
      "displayName": "Rafael Araujo Coelho",
      "userId": "14667111767925500503"
     },
     "user_tz": 180
    },
    "id": "ZL2Y0lzKGppf"
   },
   "outputs": [],
   "source": [
    "FOLDS = ['A', 'B', 'C', 'D', 'E']\n",
    "MIN_DIST = 0.092841  # see how this value is computed below"
   ]
  },
  {
   "cell_type": "markdown",
   "metadata": {},
   "source": [
    "Paths to Required Files"
   ]
  },
  {
   "cell_type": "code",
   "execution_count": 6,
   "metadata": {
    "executionInfo": {
     "elapsed": 10,
     "status": "ok",
     "timestamp": 1667446556071,
     "user": {
      "displayName": "Rafael Araujo Coelho",
      "userId": "14667111767925500503"
     },
     "user_tz": 180
    },
    "id": "bgY6jwCLWCKc"
   },
   "outputs": [],
   "source": [
    "BASE_PATH = \"/root/Datasets/SelectedClusters/\"\n",
    "\n",
    "# Path to the .csv File - Created in 2.1 Code\n",
    "DATASET_CSV_PATH = BASE_PATH + \"dataset_clean_2.csv\"\n",
    "# Path to the Folds File - Output of this Code\n",
    "FOLDS_PKL_OUTPUT_PATH = BASE_PATH + \"dhs_incountry_co.pkl\""
   ]
  },
  {
   "cell_type": "markdown",
   "metadata": {
    "id": "AYnkCV_zGppg"
   },
   "source": [
    "## Calculate Locations Statistics\n",
    "\n",
    "We want to group our surveyed clusters into 5 folds such that there is absolutely no overlap between the satellite images from different folds. In other words, if any part of an image *i1* covers the same geographic area as another image *i2*, then we must put the clusters corresponding to *i1* and *I2* into the same fold.\n",
    "\n",
    "We have the (lat, lon) coordinates for each cluster, so our approach is to determine the threshold \"radius\" around each cluster that would be considered part of the same fold. We know that our satellite images have 30m/px resolution, and our models use `224*224px` center crops of the images. This means that each image has a side length of 30m/px * 224px = **6.72km**. Thus, we try to convert 6.72km to degrees (lat, lon).\n",
    "\n",
    "Note that the degrees longitude corresponding to a given East-West distance (in meters) changes depends on the latitude. Thus, converting between traditional units of distance (e.g., meters) and degrees lat/lon is non-trivial. This section calculates the maximum degrees (lat, lon) equivalent to 6.72km at the location of any cluster in our dataset.\n",
    "\n",
    "The results computed should match the following:\n",
    "\n",
    "|                                                | DHS        | LSMS\n",
    "|-----------------------------------------------:|-----------:|-----------:|\n",
    "| minimum latitude                               | -30.588811 | -16.985500\n",
    "| maximum latitude                               |  16.580605 |  14.455962\n",
    "| minimum longitude                              | -17.478474 |   2.969085\n",
    "| maximum longitude                              |  47.007920 |  43.870658\n",
    "| maximum image side-length in degrees latitude  |   0.060570 |   0.060570\n",
    "| maximum image side-length in degrees longitude |   0.070361 |   0.063333\n",
    "\n",
    "This means that for the purpose of deciding image overlap, we assume each satellite image to have width=0.070361° and height=0.060570°. (We take the maximum across the DHS and LSMS datasets.) Because images may overlap in corners, we consider any two images within $$\\sqrt{0.060570^2 + 0.070361^2} = 0.092841$$ degrees (lat, lon) to be overlapping. This is the value of the `MIN_DIST` constant above."
   ]
  },
  {
   "cell_type": "code",
   "execution_count": 7,
   "metadata": {
    "executionInfo": {
     "elapsed": 10,
     "status": "ok",
     "timestamp": 1667446556072,
     "user": {
      "displayName": "Rafael Araujo Coelho",
      "userId": "14667111767925500503"
     },
     "user_tz": 180
    },
    "id": "wyJbsX_dGppg"
   },
   "outputs": [],
   "source": [
    "RADIUS_EARTH = 6356.7523  # in km, polar radius of Earth\n",
    "\n",
    "def get_lon_for_distance(lat: float, d: float) -> float:\n",
    "    '''Calculates the degrees longitude for some East-West distance at a given latitude.\n",
    "\n",
    "    Makes (imperfect) assumption that Earth is a perfect sphere.\n",
    "    Uses the smaller polar radius (instead of equatorial radius), so\n",
    "        actual degrees longitude <= returned value\n",
    "\n",
    "    Args\n",
    "    - lat: float, latitude in degrees\n",
    "    - d: float, distance in km\n",
    "\n",
    "    Returns\n",
    "    - lon: float, approximate degrees longitude\n",
    "    '''\n",
    "    lat = np.abs(lat) * np.pi / 180.0  # convert to radians\n",
    "    r = RADIUS_EARTH * np.cos(lat)  # radius at the given lat\n",
    "    lon = d / r\n",
    "    lon = lon * 180.0 / np.pi  # convert to degrees\n",
    "    return lon\n",
    "\n",
    "def get_lat_for_distance(d: float) -> float:\n",
    "    '''Calculates the degrees latitude for some North-South distance.\n",
    "\n",
    "    Makes (incorrect) assumption that Earth is a perfect sphere.\n",
    "    Uses the smaller polar radius (instead of equatorial radius), so\n",
    "        actual degrees latitude <= returned value\n",
    "\n",
    "    Args\n",
    "    - d: float, distance in km\n",
    "\n",
    "    Returns\n",
    "    - lat: float, approximate degrees latitude\n",
    "    '''\n",
    "    lat = d / RADIUS_EARTH  # in radians\n",
    "    lat = lat * 180.0 / np.pi  # convert to degrees\n",
    "    return lat\n",
    "\n",
    "def print_loc_stats(locs: np.ndarray) -> None:\n",
    "    '''\n",
    "    Args\n",
    "    - locs: np.array, shape [N, 2], each row is [lat, lon] in degrees\n",
    "        assumes lat values are + for N, - for S\n",
    "        assumes lon values are + for E, - for W\n",
    "    '''\n",
    "    min_lat, min_lon = np.min(locs, axis=0)\n",
    "    max_lat, max_lon = np.max(locs, axis=0)\n",
    "    print(f'Lat. min: {min_lat:.6f}, max: {max_lat:.6f}')\n",
    "    print(f'Lon. min: {min_lon:.6f}, max: {max_lon:.6f}')\n",
    "    print()\n",
    "\n",
    "    # get maximum lat/lon side-lengths for a 224x224 pixel image at 30m / px\n",
    "    side_distance = 224 * 30 / 1000\n",
    "    farthest_lat = max(abs(min_lat), abs(max_lat))\n",
    "    side_lat = get_lat_for_distance(d=side_distance)\n",
    "    side_lon = get_lon_for_distance(lat=farthest_lat, d=side_distance)\n",
    "    print(f'maximum side_lat: {side_lat:.6f}')\n",
    "    print(f'maximum side_lon: {side_lon:.6f}')"
   ]
  },
  {
   "cell_type": "code",
   "execution_count": 8,
   "metadata": {
    "colab": {
     "base_uri": "https://localhost:8080/"
    },
    "executionInfo": {
     "elapsed": 1310,
     "status": "ok",
     "timestamp": 1667446557373,
     "user": {
      "displayName": "Rafael Araujo Coelho",
      "userId": "14667111767925500503"
     },
     "user_tz": 180
    },
    "id": "8avX2FLQGpph",
    "outputId": "9ea592d5-a413-4938-fd56-d7f5e76829ec"
   },
   "outputs": [
    {
     "name": "stdout",
     "output_type": "stream",
     "text": [
      "Lat. min: -24.972324, max: -2.279904\n",
      "Lon. min: -60.719721, max: -35.182600\n",
      "\n",
      "maximum side_lat: 0.060570\n",
      "maximum side_lon: 0.066816\n"
     ]
    }
   ],
   "source": [
    "dhs_df = pd.read_csv(DATASET_CSV_PATH, float_precision='high', index_col=False)\n",
    "dhs_locs = dhs_df[['lat', 'lon']].values\n",
    "print_loc_stats(dhs_locs)"
   ]
  },
  {
   "cell_type": "markdown",
   "metadata": {
    "id": "8FYvvLkbGppi"
   },
   "source": [
    "## Create In-country Folds\n",
    "\n",
    "Using the DBSCAN algorithm, we group the survey clusters such that each group has a minimum distance of `MIN_DIST` from every other group. These are called \"in-country\" folds because different clusters from same country may be split across different folds. This is in contrast to the \"out-of-country\" (OOC) folds where the countries themselves are assigned to different folds."
   ]
  },
  {
   "cell_type": "code",
   "execution_count": 9,
   "metadata": {
    "colab": {
     "base_uri": "https://localhost:8080/",
     "height": 1000
    },
    "executionInfo": {
     "elapsed": 18262,
     "status": "ok",
     "timestamp": 1667446575632,
     "user": {
      "displayName": "Rafael Araujo Coelho",
      "userId": "14667111767925500503"
     },
     "user_tz": 180
    },
    "id": "v_GNd64xGppj",
    "outputId": "aeb8765a-5cb6-48b6-df34-20a265f60dec",
    "scrolled": true
   },
   "outputs": [
    {
     "name": "stdout",
     "output_type": "stream",
     "text": [
      "num clusters: 2665\n",
      "num outliers: 1911\n",
      "max cluster size (excl. outliers): 411\n"
     ]
    },
    {
     "data": {
      "image/png": "[encoded data removed]",
      "text/plain": [
       "<Figure size 288x288 with 1 Axes>"
      ]
     },
     "metadata": {
      "needs_background": "light"
     },
     "output_type": "display_data"
    },
    {
     "data": {
      "image/png": "[encoded data removed]",
      "text/plain": [
       "<Figure size 288x288 with 1 Axes>"
      ]
     },
     "metadata": {
      "needs_background": "light"
     },
     "output_type": "display_data"
    },
    {
     "data": {
      "image/png": "[encoded data removed]",
      "text/plain": [
       "<Figure size 288x288 with 1 Axes>"
      ]
     },
     "metadata": {
      "needs_background": "light"
     },
     "output_type": "display_data"
    },
    {
     "data": {
      "image/png": "[encoded data removed]",
      "text/plain": [
       "<Figure size 288x288 with 1 Axes>"
      ]
     },
     "metadata": {
      "needs_background": "light"
     },
     "output_type": "display_data"
    },
    {
     "data": {
      "image/png": "[encoded data removed]",
      "text/plain": [
       "<Figure size 288x288 with 1 Axes>"
      ]
     },
     "metadata": {
      "needs_background": "light"
     },
     "output_type": "display_data"
    },
    {
     "data": {
      "image/png": "[encoded data removed]",
      "text/plain": [
       "<Figure size 360x180 with 1 Axes>"
      ]
     },
     "metadata": {
      "needs_background": "light"
     },
     "output_type": "display_data"
    },
    {
     "name": "stdout",
     "output_type": "stream",
     "text": [
      "Size of each fold\n",
      "{'A': 4088, 'B': 4088, 'C': 4088, 'D': 4087, 'E': 4087}\n",
      "Minimum distance between each pair of folds\n",
      "A B 0.09313732879392951\n",
      "A C 0.09305296436667292\n",
      "A D 0.09444754208767747\n",
      "A E 0.09327224641443019\n",
      "B C 0.0928417126581767\n",
      "B D 0.09397281374201667\n",
      "B E 0.09323579335765393\n",
      "C D 0.0931619762092721\n",
      "C E 0.09342587617670971\n",
      "D E 0.09300226635649439\n"
     ]
    }
   ],
   "source": [
    "dhs_incountry_test_folds = create_folds(\n",
    "    locs=dhs_locs,\n",
    "    min_dist=MIN_DIST,\n",
    "    fold_names=FOLDS,\n",
    "    plot_largest_clusters=5)\n",
    "\n",
    "verify_folds(\n",
    "    folds=dhs_incountry_test_folds,\n",
    "    locs=dhs_locs,\n",
    "    min_dist=MIN_DIST,\n",
    "    max_index=len(dhs_locs))\n",
    "\n",
    "dhs_incountry_folds = create_split_folds(\n",
    "    test_folds=dhs_incountry_test_folds,\n",
    "    fold_names=FOLDS)\n",
    "\n",
    "save_folds(\n",
    "    folds_path=FOLDS_PKL_OUTPUT_PATH,\n",
    "    folds=dhs_incountry_folds,\n",
    "    check_exists=True)"
   ]
  }
 ],
 "metadata": {
  "colab": {
   "provenance": []
  },
  "instance_type": "ml.m5.4xlarge",
  "kernelspec": {
   "display_name": "Python 3 (TensorFlow 2.6 Python 3.8 CPU Optimized)",
   "language": "python",
   "name": "python3__SAGEMAKER_INTERNAL__arn:aws:sagemaker:us-east-1:081325390199:image/tensorflow-2.6-cpu-py38-ubuntu20.04-v1"
  },
  "language_info": {
   "codemirror_mode": {
    "name": "ipython",
    "version": 3
   },
   "file_extension": ".py",
   "mimetype": "text/x-python",
   "name": "python",
   "nbconvert_exporter": "python",
   "pygments_lexer": "ipython3",
   "version": "3.8.2"
  },
  "toc": {
   "base_numbering": 1,
   "nav_menu": {},
   "number_sections": true,
   "sideBar": true,
   "skip_h1_title": false,
   "title_cell": "Table of Contents",
   "title_sidebar": "Contents",
   "toc_cell": true,
   "toc_position": {},
   "toc_section_display": true,
   "toc_window_display": true
  }
 },
 "nbformat": 4,
 "nbformat_minor": 4
}
