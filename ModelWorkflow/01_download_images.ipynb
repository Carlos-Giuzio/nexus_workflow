{
 "cells": [
  {
   "cell_type": "markdown",
   "metadata": {
    "id": "zrvsrhPzgASn"
   },
   "source": [
    "## Pre-requisites"
   ]
  },
  {
   "cell_type": "markdown",
   "metadata": {
    "id": "nxMoGMcbgDVb"
   },
   "source": [
    "Register a Google account at [https://code.earthengine.google.com](https://code.earthengine.google.com)."
   ]
  },
  {
   "cell_type": "code",
   "execution_count": 2,
   "metadata": {
    "colab": {
     "base_uri": "https://localhost:8080/"
    },
    "executionInfo": {
     "elapsed": 4793,
     "status": "ok",
     "timestamp": 1667324171286,
     "user": {
      "displayName": "Igor Varela Zoeller",
      "userId": "09398303231227976175"
     },
     "user_tz": 180
    },
    "id": "1XVvwRJlgC14",
    "outputId": "8749a1e5-e87e-486d-b694-5049dba23474"
   },
   "outputs": [
    {
     "name": "stdout",
     "output_type": "stream",
     "text": [
      "Collecting earthengine-api\n",
      "  Using cached earthengine_api-0.1.332-py3-none-any.whl\n",
      "Collecting google-api-python-client>=1.12.1\n",
      "  Using cached google_api_python_client-2.66.0-py2.py3-none-any.whl (10.5 MB)\n",
      "Requirement already satisfied: six in /usr/local/lib/python3.7/site-packages (from earthengine-api) (1.16.0)\n",
      "Collecting httplib2<1dev,>=0.9.2\n",
      "  Using cached httplib2-0.21.0-py3-none-any.whl (96 kB)\n",
      "Collecting google-auth-httplib2>=0.0.3\n",
      "  Using cached google_auth_httplib2-0.1.0-py2.py3-none-any.whl (9.3 kB)\n",
      "Collecting google-cloud-storage\n",
      "  Using cached google_cloud_storage-2.6.0-py2.py3-none-any.whl (105 kB)\n",
      "Requirement already satisfied: requests in /usr/local/lib/python3.7/site-packages (from earthengine-api) (2.22.0)\n",
      "Collecting google-auth>=1.4.1\n",
      "  Using cached google_auth-2.14.1-py2.py3-none-any.whl (175 kB)\n",
      "Collecting future\n",
      "  Using cached future-0.18.2-py3-none-any.whl\n",
      "Collecting google-api-core!=2.0.*,!=2.1.*,!=2.2.*,!=2.3.0,<3.0.0dev,>=1.31.5\n",
      "  Using cached google_api_core-2.10.2-py3-none-any.whl (115 kB)\n",
      "Collecting uritemplate<5,>=3.0.1\n",
      "  Using cached uritemplate-4.1.1-py2.py3-none-any.whl (10 kB)\n",
      "Collecting protobuf!=3.20.0,!=3.20.1,!=4.21.0,!=4.21.1,!=4.21.2,!=4.21.3,!=4.21.4,!=4.21.5,<5.0.0dev,>=3.19.5\n",
      "  Using cached protobuf-4.21.9-cp37-abi3-manylinux2014_x86_64.whl (408 kB)\n",
      "Collecting googleapis-common-protos<2.0dev,>=1.56.2\n",
      "  Using cached googleapis_common_protos-1.57.0-py2.py3-none-any.whl (217 kB)\n",
      "Requirement already satisfied: rsa<5,>=3.1.4 in /usr/local/lib/python3.7/site-packages (from google-auth>=1.4.1->earthengine-api) (4.7.2)\n",
      "Collecting pyasn1-modules>=0.2.1\n",
      "  Using cached pyasn1_modules-0.2.8-py2.py3-none-any.whl (155 kB)\n",
      "Collecting cachetools<6.0,>=2.0.0\n",
      "  Using cached cachetools-5.2.0-py3-none-any.whl (9.3 kB)\n",
      "Requirement already satisfied: pyparsing!=3.0.0,!=3.0.1,!=3.0.2,!=3.0.3,<4,>=2.4.2 in /usr/local/lib/python3.7/site-packages (from httplib2<1dev,>=0.9.2->earthengine-api) (2.4.7)\n",
      "Requirement already satisfied: pyasn1<0.5.0,>=0.4.6 in /usr/local/lib/python3.7/site-packages (from pyasn1-modules>=0.2.1->google-auth>=1.4.1->earthengine-api) (0.4.8)\n",
      "Requirement already satisfied: certifi>=2017.4.17 in /usr/local/lib/python3.7/site-packages (from requests->earthengine-api) (2020.12.5)\n",
      "Requirement already satisfied: urllib3!=1.25.0,!=1.25.1,<1.26,>=1.21.1 in /usr/local/lib/python3.7/site-packages (from requests->earthengine-api) (1.25.11)\n",
      "Requirement already satisfied: chardet<3.1.0,>=3.0.2 in /usr/local/lib/python3.7/site-packages (from requests->earthengine-api) (3.0.4)\n",
      "Requirement already satisfied: idna<2.9,>=2.5 in /usr/local/lib/python3.7/site-packages (from requests->earthengine-api) (2.8)\n",
      "Collecting google-resumable-media>=2.3.2\n",
      "  Using cached google_resumable_media-2.4.0-py2.py3-none-any.whl (77 kB)\n",
      "Collecting google-cloud-core<3.0dev,>=2.3.0\n",
      "  Using cached google_cloud_core-2.3.2-py2.py3-none-any.whl (29 kB)\n",
      "Collecting google-crc32c<2.0dev,>=1.0\n",
      "  Using cached google_crc32c-1.5.0-cp37-cp37m-manylinux_2_17_x86_64.manylinux2014_x86_64.whl (32 kB)\n",
      "Installing collected packages: pyasn1-modules, protobuf, cachetools, googleapis-common-protos, google-auth, httplib2, google-crc32c, google-api-core, uritemplate, google-resumable-media, google-cloud-core, google-auth-httplib2, google-cloud-storage, google-api-python-client, future, earthengine-api\n",
      "  Attempting uninstall: protobuf\n",
      "    Found existing installation: protobuf 3.15.8\n",
      "    Uninstalling protobuf-3.15.8:\n",
      "      Successfully uninstalled protobuf-3.15.8\n",
      "Successfully installed cachetools-5.2.0 earthengine-api-0.1.332 future-0.18.2 google-api-core-2.10.2 google-api-python-client-2.66.0 google-auth-2.14.1 google-auth-httplib2-0.1.0 google-cloud-core-2.3.2 google-cloud-storage-2.6.0 google-crc32c-1.5.0 google-resumable-media-2.4.0 googleapis-common-protos-1.57.0 httplib2-0.21.0 protobuf-4.21.9 pyasn1-modules-0.2.8 uritemplate-4.1.1\n",
      "\u001b[33mWARNING: You are using pip version 21.0.1; however, version 22.3.1 is available.\n",
      "You should consider upgrading via the '/usr/local/bin/python3.7 -m pip install --upgrade pip' command.\u001b[0m\n"
     ]
    }
   ],
   "source": [
    "!pip install earthengine-api"
   ]
  },
  {
   "cell_type": "markdown",
   "metadata": {},
   "source": [
    "TQDM Library - Progression Bar"
   ]
  },
  {
   "cell_type": "code",
   "execution_count": 3,
   "metadata": {},
   "outputs": [
    {
     "name": "stdout",
     "output_type": "stream",
     "text": [
      "Collecting tqdm\n",
      "  Using cached tqdm-4.64.1-py2.py3-none-any.whl (78 kB)\n",
      "Installing collected packages: tqdm\n",
      "Successfully installed tqdm-4.64.1\n",
      "\u001b[33mWARNING: You are using pip version 21.0.1; however, version 22.3.1 is available.\n",
      "You should consider upgrading via the '/usr/local/bin/python3.7 -m pip install --upgrade pip' command.\u001b[0m\n"
     ]
    }
   ],
   "source": [
    "!pip install tqdm"
   ]
  },
  {
   "cell_type": "markdown",
   "metadata": {
    "id": "ozIo6YxeiQuS"
   },
   "source": [
    "## Google Drive"
   ]
  },
  {
   "cell_type": "markdown",
   "metadata": {
    "id": "L2JwlfD7iVnP"
   },
   "source": [
    "## Imports and Earth Engine Setup"
   ]
  },
  {
   "cell_type": "code",
   "execution_count": 4,
   "metadata": {
    "executionInfo": {
     "elapsed": 2075,
     "status": "ok",
     "timestamp": 1667441632901,
     "user": {
      "displayName": "Rafael Araujo Coelho",
      "userId": "14667111767925500503"
     },
     "user_tz": 180
    },
    "id": "ZYSdt3Mziwcs"
   },
   "outputs": [
    {
     "name": "stderr",
     "output_type": "stream",
     "text": [
      "/usr/local/lib/python3.7/site-packages/tqdm/auto.py:22: TqdmWarning: IProgress not found. Please update jupyter and ipywidgets. See https://ipywidgets.readthedocs.io/en/stable/user_install.html\n",
      "  from .autonotebook import tqdm as notebook_tqdm\n"
     ]
    }
   ],
   "source": [
    "from __future__ import annotations\n",
    "\n",
    "import math\n",
    "from typing import Any, Optional\n",
    "\n",
    "import ee\n",
    "import pandas as pd\n",
    "\n",
    "from preprocessing import ee_utils"
   ]
  },
  {
   "cell_type": "markdown",
   "metadata": {},
   "source": [
    "Authentication with the Earth Engine API"
   ]
  },
  {
   "cell_type": "code",
   "execution_count": 5,
   "metadata": {
    "colab": {
     "base_uri": "https://localhost:8080/"
    },
    "executionInfo": {
     "elapsed": 21186,
     "status": "ok",
     "timestamp": 1667324222122,
     "user": {
      "displayName": "Igor Varela Zoeller",
      "userId": "09398303231227976175"
     },
     "user_tz": 180
    },
    "id": "rV_GjJkjjeV2",
    "outputId": "e818c154-f09d-4468-dfca-7cb1314de777"
   },
   "outputs": [
    {
     "data": {
      "text/html": [
       "<p>To authorize access needed by Earth Engine, open the following\n",
       "        URL in a web browser and follow the instructions:</p>\n",
       "        <p><a href=https://code.earthengine.google.com/client-auth?scopes=https%3A//www.googleapis.com/auth/earthengine%20https%3A//www.googleapis.com/auth/devstorage.full_control&request_id=Z6B-Fslt3EUP-BUluSy96VIJ3iSlDu-lZ43Wre5E9vA&tc=ufT6W6ue5nQU6umml361Mokti6ZeGYgiVogKOE_MwQQ&cc=Gc9I_kqNrMyVfW9KMaYxxfR27Plf46-cEOWgv-XiBlU>https://code.earthengine.google.com/client-auth?scopes=https%3A//www.googleapis.com/auth/earthengine%20https%3A//www.googleapis.com/auth/devstorage.full_control&request_id=Z6B-Fslt3EUP-BUluSy96VIJ3iSlDu-lZ43Wre5E9vA&tc=ufT6W6ue5nQU6umml361Mokti6ZeGYgiVogKOE_MwQQ&cc=Gc9I_kqNrMyVfW9KMaYxxfR27Plf46-cEOWgv-XiBlU</a></p>\n",
       "        <p>The authorization workflow will generate a code, which you should paste in the box below.</p>\n",
       "        "
      ],
      "text/plain": [
       "<IPython.core.display.HTML object>"
      ]
     },
     "metadata": {},
     "output_type": "display_data"
    },
    {
     "name": "stdin",
     "output_type": "stream",
     "text": [
      "Enter verification code:  4/1AfgeXvsV7nDukcJ3Bv7zyYMCGOZwN9EmICI9yA2KeXWo01xBAZnNJ2mdZDw\n"
     ]
    },
    {
     "name": "stdout",
     "output_type": "stream",
     "text": [
      "\n",
      "Successfully saved authorization token.\n"
     ]
    }
   ],
   "source": [
    "ee.Authenticate()"
   ]
  },
  {
   "cell_type": "code",
   "execution_count": 6,
   "metadata": {
    "id": "uV4m3uoEjgjO"
   },
   "outputs": [],
   "source": [
    "ee.Initialize()"
   ]
  },
  {
   "cell_type": "markdown",
   "metadata": {
    "id": "lmz5uvUKgRXn"
   },
   "source": [
    "## Projection"
   ]
  },
  {
   "cell_type": "code",
   "execution_count": 7,
   "metadata": {
    "id": "PR0SdJ0fgQ2W"
   },
   "outputs": [],
   "source": [
    "MERCATOR_CRS = \"EPSG:3857\"   # Mercator projection CRS.\n",
    "#METRIC_CRS = \"EPSG:32634\"   # Metric CRS. Useful for calculations\n",
    "METRIC_CRS = {\"proj\":\"cea\"}\n",
    "WGS84_CRS = \"EPSG:4326\"      # World Geodetic System\n",
    "SIRGAS_CRS = \"EPSG:4674\"     # SIRGAS 2000, a projection for LATAM"
   ]
  },
  {
   "cell_type": "markdown",
   "metadata": {
    "id": "xOHoEHx1UP5X"
   },
   "source": [
    "## Constants"
   ]
  },
  {
   "cell_type": "code",
   "execution_count": 8,
   "metadata": {
    "id": "EM3_R2DVksTg"
   },
   "outputs": [],
   "source": [
    "# ========== ADAPT THESE PARAMETERS ==========\n",
    "\n",
    "# To export to Google Drive, uncomment the next 2 lines\n",
    "EXPORT = 'drive'\n",
    "BUCKET = None\n",
    "\n",
    "# export location parameters\n",
    "# Here we have to specify the full drive path, otherwise it will save using\n",
    "# the root directory.\n",
    "DHS_EXPORT_FOLDER = 'drive_igor/nexus_tfrecords_raw'\n",
    "# This Drive folder was used to store all the Clusters recieved by the EE API\n",
    "\n",
    "# Set CHUNK_SIZE to None to export a single TFRecord file per (country, year). However,\n",
    "# this may fail if it exceeds Google Earth Engine memory limits. Decrease CHUNK_SIZE\n",
    "# to a small number (<= 50) until Google Earth Engine stops reporting memory errors\n",
    "CHUNK_SIZE = 30"
   ]
  },
  {
   "cell_type": "code",
   "execution_count": 9,
   "metadata": {
    "id": "Z7guQPVtkvX9"
   },
   "outputs": [],
   "source": [
    "# input data paths\n",
    "DHS_CSV_PATH = '/root/Datasets/SelectedClusters/dataset_clean.csv'\n",
    "\n",
    "# band names\n",
    "MS_BANDS = ['BLUE', 'GREEN', 'RED', 'NIR', 'SWIR1', 'SWIR2', 'TEMP1']\n",
    "\n",
    "# image parameters\n",
    "PROJECTION = WGS84_CRS    # see Projection Section above.\n",
    "SCALE = 30                # export resolution: 30m/px\n",
    "EXPORT_TILE_RADIUS = 127  # image dimension = (2*EXPORT_TILE_RADIUS) + 1 = 255px"
   ]
  },
  {
   "cell_type": "markdown",
   "metadata": {
    "id": "U5OfJRiXUTrK"
   },
   "source": [
    "## Exporting Images"
   ]
  },
  {
   "cell_type": "code",
   "execution_count": 10,
   "metadata": {
    "id": "jqqhaWTvV1nr"
   },
   "outputs": [],
   "source": [
    "def export_images(df: pd.DataFrame,\n",
    "                  sector_type: str,\n",
    "                  year: int,\n",
    "                  export_folder: str,\n",
    "                  chunk_size: Optional[int] = None\n",
    "                  ) -> dict[tuple[str, str, int, int], ee.batch.Task]:\n",
    "    '''\n",
    "    Args\n",
    "    - df: pd.DataFrame, contains columns ['lat', 'lon', 'sector_type', 'year']\n",
    "    - sector_type: str, together with `year` determines the survey to export\n",
    "    - year: int, together with `sector_type` determines the survey to export\n",
    "    - export_folder: str, name of folder for export\n",
    "    - chunk_size: int, optionally set a limit to the # of images exported per TFRecord file\n",
    "        - set to a small number (<= 50) if Google Earth Engine reports memory errors\n",
    "\n",
    "    Returns: dict, maps task name tuple (export_folder, sector_type, year, chunk) to ee.batch.Task\n",
    "    '''\n",
    "    subset_df = df[(df['country'] == sector_type) & (df['year'] == year)].reset_index(drop=True)\n",
    "    if chunk_size is None:\n",
    "        chunk_size = len(subset_df)\n",
    "    num_chunks = int(math.ceil(len(subset_df) / chunk_size))\n",
    "    tasks = {}\n",
    "\n",
    "    for i in range(num_chunks):\n",
    "        chunk_slice = slice(i * chunk_size, (i+1) * chunk_size - 1)  # df.loc[] is inclusive\n",
    "        fc = ee_utils.df_to_fc(subset_df.loc[chunk_slice, :])\n",
    "        start_date, end_date = ee_utils.surveyyear_to_range(year)\n",
    "\n",
    "        # create 3-year Landsat composite image\n",
    "        roi = fc.geometry()\n",
    "        imgcol = ee_utils.LandsatSR(roi, start_date=start_date, end_date=end_date).merged\n",
    "        imgcol = imgcol.map(ee_utils.mask_qaclear).select(MS_BANDS)\n",
    "        img = imgcol.median()\n",
    "\n",
    "        # add nightlights, latitude, and longitude bands\n",
    "        img = ee_utils.add_latlon(img)\n",
    "        img = img.addBands(ee_utils.composite_nl(year))\n",
    "\n",
    "        fname = f'{sector_type}_{year}_{i:02d}'\n",
    "        # tasks[(export_folder, sector_type, year, i)] = ee_utils.get_array_patches(\n",
    "        #     img=img, scale=SCALE, ksize=EXPORT_TILE_RADIUS,\n",
    "        #     points=fc,\n",
    "        #     prefix=export_folder, fname=fname,\n",
    "        #     )\n",
    "        tasks[(export_folder, sector_type, year, i)] = ee_utils.get_array_patches(\n",
    "            img=img, scale=SCALE, ksize=EXPORT_TILE_RADIUS,\n",
    "            points=fc, export=EXPORT,\n",
    "            prefix=export_folder, fname=fname,\n",
    "            bucket=BUCKET)\n",
    "    return tasks"
   ]
  },
  {
   "cell_type": "code",
   "execution_count": 11,
   "metadata": {
    "id": "UAjFTqMLa2mi"
   },
   "outputs": [],
   "source": [
    "tasks: dict[tuple[str, str, int, int], ee.batch.Task] = {}"
   ]
  },
  {
   "cell_type": "markdown",
   "metadata": {},
   "source": [
    "## Verifying workflow \n",
    "We are going to drop 'literacy' and 'longevity' and 'TIPO' and renaming 'income' to 'wealthpooled' "
   ]
  },
  {
   "cell_type": "code",
   "execution_count": null,
   "metadata": {},
   "outputs": [],
   "source": [
    "dhs_df = pd.read_csv(DHS_CSV_PATH, float_precision='high')\n",
    "# dhs_df = dhs_df.head(50)\n",
    "# dhs_df.to_csv(\"dataset_test.csv\", index = False)"
   ]
  },
  {
   "cell_type": "code",
   "execution_count": 13,
   "metadata": {},
   "outputs": [],
   "source": [
    "dhs_df = dhs_df.drop(columns = ['literacy','longevity','TYPE'])\n",
    "dhs_df = dhs_df.rename(columns = {'income':'wealthpooled'})"
   ]
  },
  {
   "cell_type": "code",
   "execution_count": 14,
   "metadata": {
    "colab": {
     "base_uri": "https://localhost:8080/"
    },
    "executionInfo": {
     "elapsed": 4,
     "status": "ok",
     "timestamp": 1667324225016,
     "user": {
      "displayName": "Igor Varela Zoeller",
      "userId": "09398303231227976175"
     },
     "user_tz": 180
    },
    "id": "7AzkS4dX6MK9",
    "outputId": "0a6d8aab-e131-4a8e-96d5-3e1c0b028d8a"
   },
   "outputs": [
    {
     "data": {
      "text/plain": [
       "(20438, 5)"
      ]
     },
     "execution_count": 14,
     "metadata": {},
     "output_type": "execute_result"
    }
   ],
   "source": [
    "dhs_df.shape"
   ]
  },
  {
   "cell_type": "code",
   "execution_count": 15,
   "metadata": {
    "colab": {
     "base_uri": "https://localhost:8080/"
    },
    "executionInfo": {
     "elapsed": 3,
     "status": "ok",
     "timestamp": 1667324225016,
     "user": {
      "displayName": "Igor Varela Zoeller",
      "userId": "09398303231227976175"
     },
     "user_tz": 180
    },
    "id": "nWxZjJQJoc11",
    "outputId": "441916d5-1a34-469c-8756-beb8259fbb39"
   },
   "outputs": [
    {
     "data": {
      "text/plain": [
       "[('brazil', 2010)]"
      ]
     },
     "execution_count": 15,
     "metadata": {},
     "output_type": "execute_result"
    }
   ],
   "source": [
    "dhs_surveys = list(dhs_df.groupby(['country', 'year']).groups.keys())\n",
    "dhs_surveys"
   ]
  },
  {
   "cell_type": "markdown",
   "metadata": {},
   "source": [
    "## Downloading the Images\n",
    "Creating the tasks that export the images to Google Drive"
   ]
  },
  {
   "cell_type": "code",
   "execution_count": 16,
   "metadata": {
    "id": "h3Hsf9thj-2B"
   },
   "outputs": [],
   "source": [
    "for sector_type, year in dhs_surveys:\n",
    "    new_tasks = export_images(\n",
    "        df=dhs_df, sector_type=sector_type, year=year,\n",
    "        export_folder=DHS_EXPORT_FOLDER, chunk_size=CHUNK_SIZE)\n",
    "    tasks.update(new_tasks)"
   ]
  },
  {
   "cell_type": "code",
   "execution_count": 17,
   "metadata": {
    "colab": {
     "base_uri": "https://localhost:8080/",
     "height": 1000,
     "referenced_widgets": [
      "4bf46639f9774433b4c6a9f2033bcfd9",
      "eb4dd78f816b4fe0af235302d6e3494c",
      "1d74e92576af4913bab59ff0a6e2db69",
      "6b8de5f65a06499c9a0bf287a73c022b",
      "54fc0d71af5b4727b79a79f161cf5af6",
      "9f46ddf0aea14b0ab8f152168ab910e2",
      "ca21f6e0466c46c0a724041dfb225bb0",
      "22fd86ac0c5c4907a2cb48500fc65060",
      "24ad76b8a2b04d9196427ad61e4cef01",
      "8f3816af1c284da7b20f99c33c34eac5",
      "e8e62438e5bc483ea693a9ea907bb2be"
     ]
    },
    "executionInfo": {
     "elapsed": 7623190,
     "status": "ok",
     "timestamp": 1667354954985,
     "user": {
      "displayName": "Igor Varela Zoeller",
      "userId": "09398303231227976175"
     },
     "user_tz": 180
    },
    "id": "YA2ivJTDa8WM",
    "outputId": "384efae1-1eb6-45d0-ca54-33cdacd3e845"
   },
   "outputs": [
    {
     "name": "stderr",
     "output_type": "stream",
     "text": [
      "  0%|          | 2/682 [00:00<02:28,  4.57it/s]"
     ]
    },
    {
     "name": "stdout",
     "output_type": "stream",
     "text": [
      "Task ('drive_igor/nexus_tfrecords_raw', 'brazil', 2010, 0) finished in 0 min with state: COMPLETED\n",
      "Task ('drive_igor/nexus_tfrecords_raw', 'brazil', 2010, 1) finished in 0 min with state: COMPLETED\n"
     ]
    },
    {
     "name": "stderr",
     "output_type": "stream",
     "text": [
      "  0%|          | 3/682 [00:00<02:23,  4.73it/s]"
     ]
    },
    {
     "name": "stdout",
     "output_type": "stream",
     "text": [
      "Task ('drive_igor/nexus_tfrecords_raw', 'brazil', 2010, 2) finished in 0 min with state: COMPLETED\n"
     ]
    },
    {
     "name": "stderr",
     "output_type": "stream",
     "text": [
      "  1%|          | 5/682 [00:00<02:32,  4.44it/s]"
     ]
    },
    {
     "name": "stdout",
     "output_type": "stream",
     "text": [
      "Task ('drive_igor/nexus_tfrecords_raw', 'brazil', 2010, 3) finished in 0 min with state: COMPLETED\n",
      "Task ('drive_igor/nexus_tfrecords_raw', 'brazil', 2010, 4) finished in 0 min with state: COMPLETED\n"
     ]
    },
    {
     "name": "stderr",
     "output_type": "stream",
     "text": [
      "  1%|          | 7/682 [00:01<02:00,  5.60it/s]"
     ]
    },
    {
     "name": "stdout",
     "output_type": "stream",
     "text": [
      "Task ('drive_igor/nexus_tfrecords_raw', 'brazil', 2010, 5) finished in 0 min with state: COMPLETED\n",
      "Task ('drive_igor/nexus_tfrecords_raw', 'brazil', 2010, 6) finished in 0 min with state: COMPLETED\n"
     ]
    },
    {
     "name": "stderr",
     "output_type": "stream",
     "text": [
      "  1%|          | 8/682 [00:01<02:01,  5.56it/s]"
     ]
    },
    {
     "name": "stdout",
     "output_type": "stream",
     "text": [
      "Task ('drive_igor/nexus_tfrecords_raw', 'brazil', 2010, 7) finished in 0 min with state: COMPLETED\n"
     ]
    },
    {
     "name": "stderr",
     "output_type": "stream",
     "text": [
      "  1%|▏         | 9/682 [00:01<02:14,  5.00it/s]"
     ]
    },
    {
     "name": "stdout",
     "output_type": "stream",
     "text": [
      "Task ('drive_igor/nexus_tfrecords_raw', 'brazil', 2010, 8) finished in 0 min with state: COMPLETED\n"
     ]
    },
    {
     "name": "stderr",
     "output_type": "stream",
     "text": [
      "  2%|▏         | 11/682 [00:02<02:23,  4.69it/s]"
     ]
    },
    {
     "name": "stdout",
     "output_type": "stream",
     "text": [
      "Task ('drive_igor/nexus_tfrecords_raw', 'brazil', 2010, 9) finished in 0 min with state: COMPLETED\n",
      "Task ('drive_igor/nexus_tfrecords_raw', 'brazil', 2010, 10) finished in 0 min with state: COMPLETED\n"
     ]
    },
    {
     "name": "stderr",
     "output_type": "stream",
     "text": [
      "  2%|▏         | 12/682 [00:02<02:08,  5.21it/s]"
     ]
    },
    {
     "name": "stdout",
     "output_type": "stream",
     "text": [
      "Task ('drive_igor/nexus_tfrecords_raw', 'brazil', 2010, 11) finished in 0 min with state: COMPLETED\n"
     ]
    },
    {
     "name": "stderr",
     "output_type": "stream",
     "text": [
      "  2%|▏         | 14/682 [00:02<02:13,  4.99it/s]"
     ]
    },
    {
     "name": "stdout",
     "output_type": "stream",
     "text": [
      "Task ('drive_igor/nexus_tfrecords_raw', 'brazil', 2010, 12) finished in 1 min with state: COMPLETED\n",
      "Task ('drive_igor/nexus_tfrecords_raw', 'brazil', 2010, 13) finished in 1 min with state: COMPLETED\n"
     ]
    },
    {
     "name": "stderr",
     "output_type": "stream",
     "text": [
      "  2%|▏         | 16/682 [00:03<01:53,  5.87it/s]"
     ]
    },
    {
     "name": "stdout",
     "output_type": "stream",
     "text": [
      "Task ('drive_igor/nexus_tfrecords_raw', 'brazil', 2010, 14) finished in 1 min with state: COMPLETED\n",
      "Task ('drive_igor/nexus_tfrecords_raw', 'brazil', 2010, 15) finished in 1 min with state: COMPLETED\n"
     ]
    },
    {
     "name": "stderr",
     "output_type": "stream",
     "text": [
      "  2%|▏         | 17/682 [00:03<01:43,  6.41it/s]"
     ]
    },
    {
     "name": "stdout",
     "output_type": "stream",
     "text": [
      "Task ('drive_igor/nexus_tfrecords_raw', 'brazil', 2010, 16) finished in 1 min with state: COMPLETED\n"
     ]
    },
    {
     "name": "stderr",
     "output_type": "stream",
     "text": [
      "  3%|▎         | 19/682 [00:03<01:58,  5.60it/s]"
     ]
    },
    {
     "name": "stdout",
     "output_type": "stream",
     "text": [
      "Task ('drive_igor/nexus_tfrecords_raw', 'brazil', 2010, 17) finished in 1 min with state: COMPLETED\n",
      "Task ('drive_igor/nexus_tfrecords_raw', 'brazil', 2010, 18) finished in 2 min with state: COMPLETED\n"
     ]
    },
    {
     "name": "stderr",
     "output_type": "stream",
     "text": [
      "  3%|▎         | 21/682 [00:03<01:49,  6.05it/s]"
     ]
    },
    {
     "name": "stdout",
     "output_type": "stream",
     "text": [
      "Task ('drive_igor/nexus_tfrecords_raw', 'brazil', 2010, 19) finished in 2 min with state: COMPLETED\n",
      "Task ('drive_igor/nexus_tfrecords_raw', 'brazil', 2010, 20) finished in 2 min with state: COMPLETED\n"
     ]
    },
    {
     "name": "stderr",
     "output_type": "stream",
     "text": [
      "  3%|▎         | 22/682 [00:04<02:03,  5.33it/s]"
     ]
    },
    {
     "name": "stdout",
     "output_type": "stream",
     "text": [
      "Task ('drive_igor/nexus_tfrecords_raw', 'brazil', 2010, 21) finished in 2 min with state: COMPLETED\n"
     ]
    },
    {
     "name": "stderr",
     "output_type": "stream",
     "text": [
      "  3%|▎         | 23/682 [00:04<02:13,  4.93it/s]"
     ]
    },
    {
     "name": "stdout",
     "output_type": "stream",
     "text": [
      "Task ('drive_igor/nexus_tfrecords_raw', 'brazil', 2010, 22) finished in 2 min with state: COMPLETED\n"
     ]
    },
    {
     "name": "stderr",
     "output_type": "stream",
     "text": [
      "  4%|▎         | 24/682 [00:04<02:29,  4.39it/s]"
     ]
    },
    {
     "name": "stdout",
     "output_type": "stream",
     "text": [
      "Task ('drive_igor/nexus_tfrecords_raw', 'brazil', 2010, 23) finished in 2 min with state: COMPLETED\n"
     ]
    },
    {
     "name": "stderr",
     "output_type": "stream",
     "text": [
      "  4%|▍         | 26/682 [00:05<02:25,  4.51it/s]"
     ]
    },
    {
     "name": "stdout",
     "output_type": "stream",
     "text": [
      "Task ('drive_igor/nexus_tfrecords_raw', 'brazil', 2010, 24) finished in 2 min with state: COMPLETED\n",
      "Task ('drive_igor/nexus_tfrecords_raw', 'brazil', 2010, 25) finished in 2 min with state: COMPLETED\n"
     ]
    },
    {
     "name": "stderr",
     "output_type": "stream",
     "text": [
      "  4%|▍         | 27/682 [00:05<02:31,  4.33it/s]"
     ]
    },
    {
     "name": "stdout",
     "output_type": "stream",
     "text": [
      "Task ('drive_igor/nexus_tfrecords_raw', 'brazil', 2010, 26) finished in 3 min with state: COMPLETED\n"
     ]
    },
    {
     "name": "stderr",
     "output_type": "stream",
     "text": [
      "  4%|▍         | 28/682 [00:05<02:33,  4.27it/s]"
     ]
    },
    {
     "name": "stdout",
     "output_type": "stream",
     "text": [
      "Task ('drive_igor/nexus_tfrecords_raw', 'brazil', 2010, 27) finished in 3 min with state: COMPLETED\n"
     ]
    },
    {
     "name": "stderr",
     "output_type": "stream",
     "text": [
      "  4%|▍         | 29/682 [00:05<02:35,  4.21it/s]"
     ]
    },
    {
     "name": "stdout",
     "output_type": "stream",
     "text": [
      "Task ('drive_igor/nexus_tfrecords_raw', 'brazil', 2010, 28) finished in 3 min with state: COMPLETED\n"
     ]
    },
    {
     "name": "stderr",
     "output_type": "stream",
     "text": [
      "  5%|▍         | 31/682 [00:06<02:28,  4.39it/s]"
     ]
    },
    {
     "name": "stdout",
     "output_type": "stream",
     "text": [
      "Task ('drive_igor/nexus_tfrecords_raw', 'brazil', 2010, 29) finished in 3 min with state: COMPLETED\n",
      "Task ('drive_igor/nexus_tfrecords_raw', 'brazil', 2010, 30) finished in 3 min with state: COMPLETED\n"
     ]
    },
    {
     "name": "stderr",
     "output_type": "stream",
     "text": [
      "  5%|▍         | 32/682 [00:06<02:34,  4.22it/s]"
     ]
    },
    {
     "name": "stdout",
     "output_type": "stream",
     "text": [
      "Task ('drive_igor/nexus_tfrecords_raw', 'brazil', 2010, 31) finished in 3 min with state: COMPLETED\n"
     ]
    },
    {
     "name": "stderr",
     "output_type": "stream",
     "text": [
      "  5%|▍         | 34/682 [00:06<02:11,  4.93it/s]"
     ]
    },
    {
     "name": "stdout",
     "output_type": "stream",
     "text": [
      "Task ('drive_igor/nexus_tfrecords_raw', 'brazil', 2010, 32) finished in 3 min with state: COMPLETED\n",
      "Task ('drive_igor/nexus_tfrecords_raw', 'brazil', 2010, 33) finished in 3 min with state: COMPLETED\n"
     ]
    },
    {
     "name": "stderr",
     "output_type": "stream",
     "text": [
      "  5%|▌         | 36/682 [00:07<02:15,  4.76it/s]"
     ]
    },
    {
     "name": "stdout",
     "output_type": "stream",
     "text": [
      "Task ('drive_igor/nexus_tfrecords_raw', 'brazil', 2010, 34) finished in 3 min with state: COMPLETED\n",
      "Task ('drive_igor/nexus_tfrecords_raw', 'brazil', 2010, 35) finished in 3 min with state: COMPLETED\n"
     ]
    },
    {
     "name": "stderr",
     "output_type": "stream",
     "text": [
      "  5%|▌         | 37/682 [00:07<02:24,  4.46it/s]"
     ]
    },
    {
     "name": "stdout",
     "output_type": "stream",
     "text": [
      "Task ('drive_igor/nexus_tfrecords_raw', 'brazil', 2010, 36) finished in 4 min with state: COMPLETED\n"
     ]
    },
    {
     "name": "stderr",
     "output_type": "stream",
     "text": [
      "  6%|▌         | 39/682 [00:07<02:05,  5.11it/s]"
     ]
    },
    {
     "name": "stdout",
     "output_type": "stream",
     "text": [
      "Task ('drive_igor/nexus_tfrecords_raw', 'brazil', 2010, 37) finished in 4 min with state: COMPLETED\n",
      "Task ('drive_igor/nexus_tfrecords_raw', 'brazil', 2010, 38) finished in 4 min with state: COMPLETED\n"
     ]
    },
    {
     "name": "stderr",
     "output_type": "stream",
     "text": [
      "  6%|▌         | 41/682 [00:08<03:17,  3.24it/s]"
     ]
    },
    {
     "name": "stdout",
     "output_type": "stream",
     "text": [
      "Task ('drive_igor/nexus_tfrecords_raw', 'brazil', 2010, 40) finished in 4 min with state: COMPLETED\n",
      "Task ('drive_igor/nexus_tfrecords_raw', 'brazil', 2010, 41) finished in 4 min with state: COMPLETED\n"
     ]
    },
    {
     "name": "stderr",
     "output_type": "stream",
     "text": [
      "  6%|▌         | 42/682 [03:28<8:12:42, 46.19s/it]"
     ]
    },
    {
     "name": "stdout",
     "output_type": "stream",
     "text": [
      "Task ('drive_igor/nexus_tfrecords_raw', 'brazil', 2010, 39) finished in 4 min with state: COMPLETED\n"
     ]
    },
    {
     "name": "stderr",
     "output_type": "stream",
     "text": [
      "  6%|▋         | 43/682 [03:28<6:10:39, 34.80s/it]"
     ]
    },
    {
     "name": "stdout",
     "output_type": "stream",
     "text": [
      "Task ('drive_igor/nexus_tfrecords_raw', 'brazil', 2010, 42) finished in 4 min with state: COMPLETED\n"
     ]
    },
    {
     "name": "stderr",
     "output_type": "stream",
     "text": [
      "  6%|▋         | 44/682 [03:28<4:34:00, 25.77s/it]"
     ]
    },
    {
     "name": "stdout",
     "output_type": "stream",
     "text": [
      "Task ('drive_igor/nexus_tfrecords_raw', 'brazil', 2010, 43) finished in 4 min with state: COMPLETED\n"
     ]
    },
    {
     "name": "stderr",
     "output_type": "stream",
     "text": [
      "  7%|▋         | 45/682 [03:28<3:19:49, 18.82s/it]"
     ]
    },
    {
     "name": "stdout",
     "output_type": "stream",
     "text": [
      "Task ('drive_igor/nexus_tfrecords_raw', 'brazil', 2010, 44) finished in 4 min with state: COMPLETED\n"
     ]
    },
    {
     "name": "stderr",
     "output_type": "stream",
     "text": [
      "  7%|▋         | 46/682 [03:29<2:24:26, 13.63s/it]"
     ]
    },
    {
     "name": "stdout",
     "output_type": "stream",
     "text": [
      "Task ('drive_igor/nexus_tfrecords_raw', 'brazil', 2010, 45) finished in 4 min with state: COMPLETED\n"
     ]
    },
    {
     "name": "stderr",
     "output_type": "stream",
     "text": [
      "  7%|▋         | 47/682 [03:29<1:43:51,  9.81s/it]"
     ]
    },
    {
     "name": "stdout",
     "output_type": "stream",
     "text": [
      "Task ('drive_igor/nexus_tfrecords_raw', 'brazil', 2010, 46) finished in 4 min with state: COMPLETED\n"
     ]
    },
    {
     "name": "stderr",
     "output_type": "stream",
     "text": [
      "  7%|▋         | 48/682 [03:29<1:14:26,  7.05s/it]"
     ]
    },
    {
     "name": "stdout",
     "output_type": "stream",
     "text": [
      "Task ('drive_igor/nexus_tfrecords_raw', 'brazil', 2010, 47) finished in 4 min with state: COMPLETED\n"
     ]
    },
    {
     "name": "stderr",
     "output_type": "stream",
     "text": [
      "  7%|▋         | 50/682 [03:30<38:10,  3.62s/it]  "
     ]
    },
    {
     "name": "stdout",
     "output_type": "stream",
     "text": [
      "Task ('drive_igor/nexus_tfrecords_raw', 'brazil', 2010, 48) finished in 4 min with state: COMPLETED\n",
      "Task ('drive_igor/nexus_tfrecords_raw', 'brazil', 2010, 49) finished in 4 min with state: COMPLETED\n"
     ]
    },
    {
     "name": "stderr",
     "output_type": "stream",
     "text": [
      "  7%|▋         | 51/682 [03:30<27:31,  2.62s/it]"
     ]
    },
    {
     "name": "stdout",
     "output_type": "stream",
     "text": [
      "Task ('drive_igor/nexus_tfrecords_raw', 'brazil', 2010, 50) finished in 5 min with state: COMPLETED\n"
     ]
    },
    {
     "name": "stderr",
     "output_type": "stream",
     "text": [
      "  8%|▊         | 52/682 [03:30<20:06,  1.92s/it]"
     ]
    },
    {
     "name": "stdout",
     "output_type": "stream",
     "text": [
      "Task ('drive_igor/nexus_tfrecords_raw', 'brazil', 2010, 51) finished in 5 min with state: COMPLETED\n"
     ]
    },
    {
     "name": "stderr",
     "output_type": "stream",
     "text": [
      "  8%|▊         | 53/682 [03:30<14:53,  1.42s/it]"
     ]
    },
    {
     "name": "stdout",
     "output_type": "stream",
     "text": [
      "Task ('drive_igor/nexus_tfrecords_raw', 'brazil', 2010, 52) finished in 5 min with state: COMPLETED\n"
     ]
    },
    {
     "name": "stderr",
     "output_type": "stream",
     "text": [
      "  8%|▊         | 54/682 [03:31<11:15,  1.08s/it]"
     ]
    },
    {
     "name": "stdout",
     "output_type": "stream",
     "text": [
      "Task ('drive_igor/nexus_tfrecords_raw', 'brazil', 2010, 53) finished in 5 min with state: COMPLETED\n"
     ]
    },
    {
     "name": "stderr",
     "output_type": "stream",
     "text": [
      "  8%|▊         | 55/682 [03:31<08:41,  1.20it/s]"
     ]
    },
    {
     "name": "stdout",
     "output_type": "stream",
     "text": [
      "Task ('drive_igor/nexus_tfrecords_raw', 'brazil', 2010, 54) finished in 5 min with state: COMPLETED\n"
     ]
    },
    {
     "name": "stderr",
     "output_type": "stream",
     "text": [
      "  8%|▊         | 56/682 [03:31<06:54,  1.51it/s]"
     ]
    },
    {
     "name": "stdout",
     "output_type": "stream",
     "text": [
      "Task ('drive_igor/nexus_tfrecords_raw', 'brazil', 2010, 55) finished in 5 min with state: COMPLETED\n"
     ]
    },
    {
     "name": "stderr",
     "output_type": "stream",
     "text": [
      "  9%|▊         | 58/682 [03:31<04:28,  2.32it/s]"
     ]
    },
    {
     "name": "stdout",
     "output_type": "stream",
     "text": [
      "Task ('drive_igor/nexus_tfrecords_raw', 'brazil', 2010, 56) finished in 5 min with state: COMPLETED\n",
      "Task ('drive_igor/nexus_tfrecords_raw', 'brazil', 2010, 57) finished in 5 min with state: COMPLETED\n"
     ]
    },
    {
     "name": "stderr",
     "output_type": "stream",
     "text": [
      "  9%|▊         | 59/682 [03:32<03:43,  2.79it/s]"
     ]
    },
    {
     "name": "stdout",
     "output_type": "stream",
     "text": [
      "Task ('drive_igor/nexus_tfrecords_raw', 'brazil', 2010, 58) finished in 5 min with state: COMPLETED\n"
     ]
    },
    {
     "name": "stderr",
     "output_type": "stream",
     "text": [
      "  9%|▉         | 61/682 [03:32<02:58,  3.48it/s]"
     ]
    },
    {
     "name": "stdout",
     "output_type": "stream",
     "text": [
      "Task ('drive_igor/nexus_tfrecords_raw', 'brazil', 2010, 59) finished in 5 min with state: COMPLETED\n",
      "Task ('drive_igor/nexus_tfrecords_raw', 'brazil', 2010, 60) finished in 5 min with state: COMPLETED\n"
     ]
    },
    {
     "name": "stderr",
     "output_type": "stream",
     "text": [
      "  9%|▉         | 63/682 [03:32<02:17,  4.51it/s]"
     ]
    },
    {
     "name": "stdout",
     "output_type": "stream",
     "text": [
      "Task ('drive_igor/nexus_tfrecords_raw', 'brazil', 2010, 61) finished in 5 min with state: COMPLETED\n",
      "Task ('drive_igor/nexus_tfrecords_raw', 'brazil', 2010, 62) finished in 5 min with state: COMPLETED\n"
     ]
    },
    {
     "name": "stderr",
     "output_type": "stream",
     "text": [
      " 10%|▉         | 65/682 [03:33<02:15,  4.54it/s]"
     ]
    },
    {
     "name": "stdout",
     "output_type": "stream",
     "text": [
      "Task ('drive_igor/nexus_tfrecords_raw', 'brazil', 2010, 63) finished in 5 min with state: COMPLETED\n",
      "Task ('drive_igor/nexus_tfrecords_raw', 'brazil', 2010, 64) finished in 6 min with state: COMPLETED\n"
     ]
    },
    {
     "name": "stderr",
     "output_type": "stream",
     "text": [
      " 10%|▉         | 66/682 [03:33<02:10,  4.72it/s]"
     ]
    },
    {
     "name": "stdout",
     "output_type": "stream",
     "text": [
      "Task ('drive_igor/nexus_tfrecords_raw', 'brazil', 2010, 65) finished in 6 min with state: COMPLETED\n"
     ]
    },
    {
     "name": "stderr",
     "output_type": "stream",
     "text": [
      " 10%|▉         | 68/682 [03:34<02:14,  4.56it/s]"
     ]
    },
    {
     "name": "stdout",
     "output_type": "stream",
     "text": [
      "Task ('drive_igor/nexus_tfrecords_raw', 'brazil', 2010, 66) finished in 6 min with state: COMPLETED\n",
      "Task ('drive_igor/nexus_tfrecords_raw', 'brazil', 2010, 67) finished in 6 min with state: COMPLETED\n"
     ]
    },
    {
     "name": "stderr",
     "output_type": "stream",
     "text": [
      " 10%|█         | 69/682 [03:34<02:21,  4.33it/s]"
     ]
    },
    {
     "name": "stdout",
     "output_type": "stream",
     "text": [
      "Task ('drive_igor/nexus_tfrecords_raw', 'brazil', 2010, 68) finished in 6 min with state: COMPLETED\n"
     ]
    },
    {
     "name": "stderr",
     "output_type": "stream",
     "text": [
      " 10%|█         | 71/682 [03:34<02:15,  4.51it/s]"
     ]
    },
    {
     "name": "stdout",
     "output_type": "stream",
     "text": [
      "Task ('drive_igor/nexus_tfrecords_raw', 'brazil', 2010, 69) finished in 6 min with state: COMPLETED\n",
      "Task ('drive_igor/nexus_tfrecords_raw', 'brazil', 2010, 70) finished in 6 min with state: COMPLETED\n"
     ]
    },
    {
     "name": "stderr",
     "output_type": "stream",
     "text": [
      " 11%|█         | 72/682 [03:34<02:09,  4.71it/s]"
     ]
    },
    {
     "name": "stdout",
     "output_type": "stream",
     "text": [
      "Task ('drive_igor/nexus_tfrecords_raw', 'brazil', 2010, 71) finished in 6 min with state: COMPLETED\n"
     ]
    },
    {
     "name": "stderr",
     "output_type": "stream",
     "text": [
      " 11%|█         | 73/682 [03:35<02:20,  4.34it/s]"
     ]
    },
    {
     "name": "stdout",
     "output_type": "stream",
     "text": [
      "Task ('drive_igor/nexus_tfrecords_raw', 'brazil', 2010, 72) finished in 7 min with state: COMPLETED\n"
     ]
    },
    {
     "name": "stderr",
     "output_type": "stream",
     "text": [
      " 11%|█         | 74/682 [06:46<9:42:26, 57.48s/it]"
     ]
    },
    {
     "name": "stdout",
     "output_type": "stream",
     "text": [
      "Task ('drive_igor/nexus_tfrecords_raw', 'brazil', 2010, 73) finished in 7 min with state: COMPLETED\n"
     ]
    },
    {
     "name": "stderr",
     "output_type": "stream",
     "text": [
      " 11%|█         | 75/682 [06:46<6:47:41, 40.30s/it]"
     ]
    },
    {
     "name": "stdout",
     "output_type": "stream",
     "text": [
      "Task ('drive_igor/nexus_tfrecords_raw', 'brazil', 2010, 74) finished in 7 min with state: COMPLETED\n"
     ]
    },
    {
     "name": "stderr",
     "output_type": "stream",
     "text": [
      " 11%|█         | 76/682 [06:46<4:45:41, 28.29s/it]"
     ]
    },
    {
     "name": "stdout",
     "output_type": "stream",
     "text": [
      "Task ('drive_igor/nexus_tfrecords_raw', 'brazil', 2010, 75) finished in 7 min with state: COMPLETED\n"
     ]
    },
    {
     "name": "stderr",
     "output_type": "stream",
     "text": [
      " 11%|█▏        | 77/682 [06:46<3:20:26, 19.88s/it]"
     ]
    },
    {
     "name": "stdout",
     "output_type": "stream",
     "text": [
      "Task ('drive_igor/nexus_tfrecords_raw', 'brazil', 2010, 76) finished in 7 min with state: COMPLETED\n"
     ]
    },
    {
     "name": "stderr",
     "output_type": "stream",
     "text": [
      " 12%|█▏        | 79/682 [06:47<1:38:56,  9.84s/it]"
     ]
    },
    {
     "name": "stdout",
     "output_type": "stream",
     "text": [
      "Task ('drive_igor/nexus_tfrecords_raw', 'brazil', 2010, 77) finished in 7 min with state: COMPLETED\n",
      "Task ('drive_igor/nexus_tfrecords_raw', 'brazil', 2010, 78) finished in 8 min with state: COMPLETED\n"
     ]
    },
    {
     "name": "stderr",
     "output_type": "stream",
     "text": [
      " 12%|█▏        | 80/682 [06:47<1:09:56,  6.97s/it]"
     ]
    },
    {
     "name": "stdout",
     "output_type": "stream",
     "text": [
      "Task ('drive_igor/nexus_tfrecords_raw', 'brazil', 2010, 79) finished in 8 min with state: COMPLETED\n"
     ]
    },
    {
     "name": "stderr",
     "output_type": "stream",
     "text": [
      " 12%|█▏        | 81/682 [06:47<49:34,  4.95s/it]  "
     ]
    },
    {
     "name": "stdout",
     "output_type": "stream",
     "text": [
      "Task ('drive_igor/nexus_tfrecords_raw', 'brazil', 2010, 80) finished in 8 min with state: COMPLETED\n"
     ]
    },
    {
     "name": "stderr",
     "output_type": "stream",
     "text": [
      " 12%|█▏        | 83/682 [06:48<25:44,  2.58s/it]"
     ]
    },
    {
     "name": "stdout",
     "output_type": "stream",
     "text": [
      "Task ('drive_igor/nexus_tfrecords_raw', 'brazil', 2010, 82) finished in 8 min with state: COMPLETED\n",
      "Task ('drive_igor/nexus_tfrecords_raw', 'brazil', 2010, 83) finished in 8 min with state: COMPLETED\n"
     ]
    },
    {
     "name": "stderr",
     "output_type": "stream",
     "text": [
      " 12%|█▏        | 84/682 [06:48<18:34,  1.86s/it]"
     ]
    },
    {
     "name": "stdout",
     "output_type": "stream",
     "text": [
      "Task ('drive_igor/nexus_tfrecords_raw', 'brazil', 2010, 84) finished in 9 min with state: COMPLETED\n"
     ]
    },
    {
     "name": "stderr",
     "output_type": "stream",
     "text": [
      " 12%|█▏        | 85/682 [06:48<13:39,  1.37s/it]"
     ]
    },
    {
     "name": "stdout",
     "output_type": "stream",
     "text": [
      "Task ('drive_igor/nexus_tfrecords_raw', 'brazil', 2010, 85) finished in 9 min with state: COMPLETED\n"
     ]
    },
    {
     "name": "stderr",
     "output_type": "stream",
     "text": [
      " 13%|█▎        | 86/682 [06:49<10:21,  1.04s/it]"
     ]
    },
    {
     "name": "stdout",
     "output_type": "stream",
     "text": [
      "Task ('drive_igor/nexus_tfrecords_raw', 'brazil', 2010, 86) finished in 9 min with state: COMPLETED\n"
     ]
    },
    {
     "name": "stderr",
     "output_type": "stream",
     "text": [
      " 13%|█▎        | 87/682 [06:49<07:53,  1.26it/s]"
     ]
    },
    {
     "name": "stdout",
     "output_type": "stream",
     "text": [
      "Task ('drive_igor/nexus_tfrecords_raw', 'brazil', 2010, 87) finished in 9 min with state: COMPLETED\n"
     ]
    },
    {
     "name": "stderr",
     "output_type": "stream",
     "text": [
      " 13%|█▎        | 88/682 [06:49<06:14,  1.59it/s]"
     ]
    },
    {
     "name": "stdout",
     "output_type": "stream",
     "text": [
      "Task ('drive_igor/nexus_tfrecords_raw', 'brazil', 2010, 88) finished in 9 min with state: COMPLETED\n"
     ]
    },
    {
     "name": "stderr",
     "output_type": "stream",
     "text": [
      " 13%|█▎        | 89/682 [06:49<04:58,  1.98it/s]"
     ]
    },
    {
     "name": "stdout",
     "output_type": "stream",
     "text": [
      "Task ('drive_igor/nexus_tfrecords_raw', 'brazil', 2010, 89) finished in 9 min with state: COMPLETED\n"
     ]
    },
    {
     "name": "stderr",
     "output_type": "stream",
     "text": [
      " 13%|█▎        | 90/682 [06:50<04:16,  2.30it/s]"
     ]
    },
    {
     "name": "stdout",
     "output_type": "stream",
     "text": [
      "Task ('drive_igor/nexus_tfrecords_raw', 'brazil', 2010, 90) finished in 9 min with state: COMPLETED\n"
     ]
    },
    {
     "name": "stderr",
     "output_type": "stream",
     "text": [
      " 13%|█▎        | 92/682 [06:50<03:10,  3.09it/s]"
     ]
    },
    {
     "name": "stdout",
     "output_type": "stream",
     "text": [
      "Task ('drive_igor/nexus_tfrecords_raw', 'brazil', 2010, 91) finished in 9 min with state: COMPLETED\n",
      "Task ('drive_igor/nexus_tfrecords_raw', 'brazil', 2010, 92) finished in 9 min with state: COMPLETED\n"
     ]
    },
    {
     "name": "stderr",
     "output_type": "stream",
     "text": [
      " 14%|█▎        | 93/682 [06:50<02:32,  3.87it/s]"
     ]
    },
    {
     "name": "stdout",
     "output_type": "stream",
     "text": [
      "Task ('drive_igor/nexus_tfrecords_raw', 'brazil', 2010, 93) finished in 9 min with state: COMPLETED\n"
     ]
    },
    {
     "name": "stderr",
     "output_type": "stream",
     "text": [
      " 14%|█▍        | 94/682 [06:50<02:31,  3.89it/s]"
     ]
    },
    {
     "name": "stdout",
     "output_type": "stream",
     "text": [
      "Task ('drive_igor/nexus_tfrecords_raw', 'brazil', 2010, 94) finished in 10 min with state: COMPLETED\n"
     ]
    },
    {
     "name": "stderr",
     "output_type": "stream",
     "text": [
      " 14%|█▍        | 95/682 [06:51<02:32,  3.84it/s]"
     ]
    },
    {
     "name": "stdout",
     "output_type": "stream",
     "text": [
      "Task ('drive_igor/nexus_tfrecords_raw', 'brazil', 2010, 95) finished in 10 min with state: COMPLETED\n"
     ]
    },
    {
     "name": "stderr",
     "output_type": "stream",
     "text": [
      " 14%|█▍        | 96/682 [06:51<02:34,  3.80it/s]"
     ]
    },
    {
     "name": "stdout",
     "output_type": "stream",
     "text": [
      "Task ('drive_igor/nexus_tfrecords_raw', 'brazil', 2010, 96) finished in 10 min with state: COMPLETED\n"
     ]
    },
    {
     "name": "stderr",
     "output_type": "stream",
     "text": [
      " 14%|█▍        | 97/682 [06:51<02:29,  3.92it/s]"
     ]
    },
    {
     "name": "stdout",
     "output_type": "stream",
     "text": [
      "Task ('drive_igor/nexus_tfrecords_raw', 'brazil', 2010, 97) finished in 10 min with state: COMPLETED\n"
     ]
    },
    {
     "name": "stderr",
     "output_type": "stream",
     "text": [
      " 15%|█▍        | 99/682 [06:52<02:19,  4.18it/s]"
     ]
    },
    {
     "name": "stdout",
     "output_type": "stream",
     "text": [
      "Task ('drive_igor/nexus_tfrecords_raw', 'brazil', 2010, 98) finished in 10 min with state: COMPLETED\n",
      "Task ('drive_igor/nexus_tfrecords_raw', 'brazil', 2010, 99) finished in 10 min with state: COMPLETED\n"
     ]
    },
    {
     "name": "stderr",
     "output_type": "stream",
     "text": [
      " 15%|█▍        | 100/682 [06:52<02:11,  4.43it/s]"
     ]
    },
    {
     "name": "stdout",
     "output_type": "stream",
     "text": [
      "Task ('drive_igor/nexus_tfrecords_raw', 'brazil', 2010, 100) finished in 10 min with state: COMPLETED\n"
     ]
    },
    {
     "name": "stderr",
     "output_type": "stream",
     "text": [
      " 15%|█▍        | 102/682 [06:52<02:03,  4.71it/s]"
     ]
    },
    {
     "name": "stdout",
     "output_type": "stream",
     "text": [
      "Task ('drive_igor/nexus_tfrecords_raw', 'brazil', 2010, 101) finished in 10 min with state: COMPLETED\n",
      "Task ('drive_igor/nexus_tfrecords_raw', 'brazil', 2010, 102) finished in 10 min with state: COMPLETED\n"
     ]
    },
    {
     "name": "stderr",
     "output_type": "stream",
     "text": [
      " 15%|█▌        | 103/682 [06:53<02:12,  4.38it/s]"
     ]
    },
    {
     "name": "stdout",
     "output_type": "stream",
     "text": [
      "Task ('drive_igor/nexus_tfrecords_raw', 'brazil', 2010, 103) finished in 10 min with state: COMPLETED\n"
     ]
    },
    {
     "name": "stderr",
     "output_type": "stream",
     "text": [
      " 15%|█▌        | 104/682 [10:03<9:11:40, 57.27s/it]"
     ]
    },
    {
     "name": "stdout",
     "output_type": "stream",
     "text": [
      "Task ('drive_igor/nexus_tfrecords_raw', 'brazil', 2010, 81) finished in 13 min with state: COMPLETED\n"
     ]
    },
    {
     "name": "stderr",
     "output_type": "stream",
     "text": [
      " 15%|█▌        | 105/682 [10:03<6:26:14, 40.16s/it]"
     ]
    },
    {
     "name": "stdout",
     "output_type": "stream",
     "text": [
      "Task ('drive_igor/nexus_tfrecords_raw', 'brazil', 2010, 104) finished in 11 min with state: COMPLETED\n"
     ]
    },
    {
     "name": "stderr",
     "output_type": "stream",
     "text": [
      " 16%|█▌        | 107/682 [10:04<3:09:33, 19.78s/it]"
     ]
    },
    {
     "name": "stdout",
     "output_type": "stream",
     "text": [
      "Task ('drive_igor/nexus_tfrecords_raw', 'brazil', 2010, 105) finished in 11 min with state: COMPLETED\n",
      "Task ('drive_igor/nexus_tfrecords_raw', 'brazil', 2010, 106) finished in 11 min with state: COMPLETED\n"
     ]
    },
    {
     "name": "stderr",
     "output_type": "stream",
     "text": [
      " 16%|█▌        | 109/682 [10:04<2:12:58, 13.92s/it]"
     ]
    },
    {
     "name": "stdout",
     "output_type": "stream",
     "text": [
      "Task ('drive_igor/nexus_tfrecords_raw', 'brazil', 2010, 107) finished in 11 min with state: COMPLETED\n",
      "Task ('drive_igor/nexus_tfrecords_raw', 'brazil', 2010, 108) finished in 11 min with state: COMPLETED\n"
     ]
    },
    {
     "name": "stderr",
     "output_type": "stream",
     "text": [
      " 16%|█▌        | 110/682 [10:04<1:12:05,  7.56s/it]"
     ]
    },
    {
     "name": "stdout",
     "output_type": "stream",
     "text": [
      "Task ('drive_igor/nexus_tfrecords_raw', 'brazil', 2010, 109) finished in 11 min with state: COMPLETED\n"
     ]
    },
    {
     "name": "stderr",
     "output_type": "stream",
     "text": [
      " 16%|█▋        | 111/682 [10:04<54:43,  5.75s/it]  "
     ]
    },
    {
     "name": "stdout",
     "output_type": "stream",
     "text": [
      "Task ('drive_igor/nexus_tfrecords_raw', 'brazil', 2010, 110) finished in 12 min with state: COMPLETED\n"
     ]
    },
    {
     "name": "stderr",
     "output_type": "stream",
     "text": [
      " 16%|█▋        | 112/682 [10:05<40:58,  4.31s/it]"
     ]
    },
    {
     "name": "stdout",
     "output_type": "stream",
     "text": [
      "Task ('drive_igor/nexus_tfrecords_raw', 'brazil', 2010, 111) finished in 11 min with state: COMPLETED\n"
     ]
    },
    {
     "name": "stderr",
     "output_type": "stream",
     "text": [
      " 17%|█▋        | 113/682 [10:05<30:27,  3.21s/it]"
     ]
    },
    {
     "name": "stdout",
     "output_type": "stream",
     "text": [
      "Task ('drive_igor/nexus_tfrecords_raw', 'brazil', 2010, 112) finished in 11 min with state: COMPLETED\n"
     ]
    },
    {
     "name": "stderr",
     "output_type": "stream",
     "text": [
      " 17%|█▋        | 114/682 [10:05<22:37,  2.39s/it]"
     ]
    },
    {
     "name": "stdout",
     "output_type": "stream",
     "text": [
      "Task ('drive_igor/nexus_tfrecords_raw', 'brazil', 2010, 113) finished in 11 min with state: COMPLETED\n"
     ]
    },
    {
     "name": "stderr",
     "output_type": "stream",
     "text": [
      " 17%|█▋        | 116/682 [10:06<12:23,  1.31s/it]"
     ]
    },
    {
     "name": "stdout",
     "output_type": "stream",
     "text": [
      "Task ('drive_igor/nexus_tfrecords_raw', 'brazil', 2010, 114) finished in 12 min with state: COMPLETED\n",
      "Task ('drive_igor/nexus_tfrecords_raw', 'brazil', 2010, 115) finished in 12 min with state: COMPLETED\n"
     ]
    },
    {
     "name": "stderr",
     "output_type": "stream",
     "text": [
      " 17%|█▋        | 117/682 [10:06<09:19,  1.01it/s]"
     ]
    },
    {
     "name": "stdout",
     "output_type": "stream",
     "text": [
      "Task ('drive_igor/nexus_tfrecords_raw', 'brazil', 2010, 116) finished in 12 min with state: COMPLETED\n"
     ]
    },
    {
     "name": "stderr",
     "output_type": "stream",
     "text": [
      " 17%|█▋        | 118/682 [10:06<07:16,  1.29it/s]"
     ]
    },
    {
     "name": "stdout",
     "output_type": "stream",
     "text": [
      "Task ('drive_igor/nexus_tfrecords_raw', 'brazil', 2010, 117) finished in 12 min with state: COMPLETED\n"
     ]
    },
    {
     "name": "stderr",
     "output_type": "stream",
     "text": [
      " 17%|█▋        | 119/682 [10:06<05:52,  1.60it/s]"
     ]
    },
    {
     "name": "stdout",
     "output_type": "stream",
     "text": [
      "Task ('drive_igor/nexus_tfrecords_raw', 'brazil', 2010, 118) finished in 12 min with state: COMPLETED\n"
     ]
    },
    {
     "name": "stderr",
     "output_type": "stream",
     "text": [
      " 18%|█▊        | 120/682 [10:07<04:49,  1.94it/s]"
     ]
    },
    {
     "name": "stdout",
     "output_type": "stream",
     "text": [
      "Task ('drive_igor/nexus_tfrecords_raw', 'brazil', 2010, 119) finished in 12 min with state: COMPLETED\n"
     ]
    },
    {
     "name": "stderr",
     "output_type": "stream",
     "text": [
      " 18%|█▊        | 121/682 [10:07<04:04,  2.29it/s]"
     ]
    },
    {
     "name": "stdout",
     "output_type": "stream",
     "text": [
      "Task ('drive_igor/nexus_tfrecords_raw', 'brazil', 2010, 120) finished in 12 min with state: COMPLETED\n"
     ]
    },
    {
     "name": "stderr",
     "output_type": "stream",
     "text": [
      " 18%|█▊        | 122/682 [10:07<03:34,  2.61it/s]"
     ]
    },
    {
     "name": "stdout",
     "output_type": "stream",
     "text": [
      "Task ('drive_igor/nexus_tfrecords_raw', 'brazil', 2010, 121) finished in 12 min with state: COMPLETED\n"
     ]
    },
    {
     "name": "stderr",
     "output_type": "stream",
     "text": [
      " 18%|█▊        | 123/682 [10:07<03:12,  2.90it/s]"
     ]
    },
    {
     "name": "stdout",
     "output_type": "stream",
     "text": [
      "Task ('drive_igor/nexus_tfrecords_raw', 'brazil', 2010, 122) finished in 13 min with state: COMPLETED\n"
     ]
    },
    {
     "name": "stderr",
     "output_type": "stream",
     "text": [
      " 18%|█▊        | 124/682 [10:08<02:51,  3.26it/s]"
     ]
    },
    {
     "name": "stdout",
     "output_type": "stream",
     "text": [
      "Task ('drive_igor/nexus_tfrecords_raw', 'brazil', 2010, 123) finished in 13 min with state: COMPLETED\n"
     ]
    },
    {
     "name": "stderr",
     "output_type": "stream",
     "text": [
      " 18%|█▊        | 126/682 [10:08<02:20,  3.97it/s]"
     ]
    },
    {
     "name": "stdout",
     "output_type": "stream",
     "text": [
      "Task ('drive_igor/nexus_tfrecords_raw', 'brazil', 2010, 124) finished in 13 min with state: COMPLETED\n",
      "Task ('drive_igor/nexus_tfrecords_raw', 'brazil', 2010, 125) finished in 13 min with state: COMPLETED\n"
     ]
    },
    {
     "name": "stderr",
     "output_type": "stream",
     "text": [
      " 19%|█▊        | 127/682 [10:08<02:19,  3.97it/s]"
     ]
    },
    {
     "name": "stdout",
     "output_type": "stream",
     "text": [
      "Task ('drive_igor/nexus_tfrecords_raw', 'brazil', 2010, 126) finished in 13 min with state: COMPLETED\n"
     ]
    },
    {
     "name": "stderr",
     "output_type": "stream",
     "text": [
      " 19%|█▉        | 128/682 [10:08<02:19,  3.97it/s]"
     ]
    },
    {
     "name": "stdout",
     "output_type": "stream",
     "text": [
      "Task ('drive_igor/nexus_tfrecords_raw', 'brazil', 2010, 127) finished in 13 min with state: COMPLETED\n"
     ]
    },
    {
     "name": "stderr",
     "output_type": "stream",
     "text": [
      " 19%|█▉        | 130/682 [10:09<02:45,  3.34it/s]"
     ]
    },
    {
     "name": "stdout",
     "output_type": "stream",
     "text": [
      "Task ('drive_igor/nexus_tfrecords_raw', 'brazil', 2010, 128) finished in 13 min with state: COMPLETED\n",
      "Task ('drive_igor/nexus_tfrecords_raw', 'brazil', 2010, 129) finished in 13 min with state: COMPLETED\n"
     ]
    },
    {
     "name": "stderr",
     "output_type": "stream",
     "text": [
      " 19%|█▉        | 131/682 [10:09<02:15,  4.05it/s]"
     ]
    },
    {
     "name": "stdout",
     "output_type": "stream",
     "text": [
      "Task ('drive_igor/nexus_tfrecords_raw', 'brazil', 2010, 130) finished in 13 min with state: COMPLETED\n"
     ]
    },
    {
     "name": "stderr",
     "output_type": "stream",
     "text": [
      " 19%|█▉        | 132/682 [10:10<02:17,  4.00it/s]"
     ]
    },
    {
     "name": "stdout",
     "output_type": "stream",
     "text": [
      "Task ('drive_igor/nexus_tfrecords_raw', 'brazil', 2010, 131) finished in 13 min with state: COMPLETED\n"
     ]
    },
    {
     "name": "stderr",
     "output_type": "stream",
     "text": [
      " 20%|█▉        | 133/682 [13:12<8:21:39, 54.83s/it]"
     ]
    },
    {
     "name": "stdout",
     "output_type": "stream",
     "text": [
      "Task ('drive_igor/nexus_tfrecords_raw', 'brazil', 2010, 132) finished in 14 min with state: COMPLETED\n"
     ]
    },
    {
     "name": "stderr",
     "output_type": "stream",
     "text": [
      " 20%|█▉        | 134/682 [13:12<5:51:07, 38.44s/it]"
     ]
    },
    {
     "name": "stdout",
     "output_type": "stream",
     "text": [
      "Task ('drive_igor/nexus_tfrecords_raw', 'brazil', 2010, 133) finished in 14 min with state: COMPLETED\n"
     ]
    },
    {
     "name": "stderr",
     "output_type": "stream",
     "text": [
      " 20%|█▉        | 136/682 [13:12<2:52:26, 18.95s/it]"
     ]
    },
    {
     "name": "stdout",
     "output_type": "stream",
     "text": [
      "Task ('drive_igor/nexus_tfrecords_raw', 'brazil', 2010, 134) finished in 14 min with state: COMPLETED\n",
      "Task ('drive_igor/nexus_tfrecords_raw', 'brazil', 2010, 135) finished in 14 min with state: COMPLETED\n"
     ]
    },
    {
     "name": "stderr",
     "output_type": "stream",
     "text": [
      " 20%|██        | 137/682 [13:13<2:01:19, 13.36s/it]"
     ]
    },
    {
     "name": "stdout",
     "output_type": "stream",
     "text": [
      "Task ('drive_igor/nexus_tfrecords_raw', 'brazil', 2010, 136) finished in 14 min with state: COMPLETED\n"
     ]
    },
    {
     "name": "stderr",
     "output_type": "stream",
     "text": [
      " 20%|██        | 139/682 [13:13<59:56,  6.62s/it]  "
     ]
    },
    {
     "name": "stdout",
     "output_type": "stream",
     "text": [
      "Task ('drive_igor/nexus_tfrecords_raw', 'brazil', 2010, 137) finished in 14 min with state: COMPLETED\n",
      "Task ('drive_igor/nexus_tfrecords_raw', 'brazil', 2010, 138) finished in 15 min with state: COMPLETED\n"
     ]
    },
    {
     "name": "stderr",
     "output_type": "stream",
     "text": [
      " 21%|██        | 141/682 [13:14<30:16,  3.36s/it]"
     ]
    },
    {
     "name": "stdout",
     "output_type": "stream",
     "text": [
      "Task ('drive_igor/nexus_tfrecords_raw', 'brazil', 2010, 139) finished in 15 min with state: COMPLETED\n",
      "Task ('drive_igor/nexus_tfrecords_raw', 'brazil', 2010, 140) finished in 15 min with state: COMPLETED\n"
     ]
    },
    {
     "name": "stderr",
     "output_type": "stream",
     "text": [
      " 21%|██        | 142/682 [13:14<21:48,  2.42s/it]"
     ]
    },
    {
     "name": "stdout",
     "output_type": "stream",
     "text": [
      "Task ('drive_igor/nexus_tfrecords_raw', 'brazil', 2010, 141) finished in 15 min with state: COMPLETED\n"
     ]
    },
    {
     "name": "stderr",
     "output_type": "stream",
     "text": [
      " 21%|██        | 143/682 [13:14<15:58,  1.78s/it]"
     ]
    },
    {
     "name": "stdout",
     "output_type": "stream",
     "text": [
      "Task ('drive_igor/nexus_tfrecords_raw', 'brazil', 2010, 142) finished in 15 min with state: COMPLETED\n"
     ]
    },
    {
     "name": "stderr",
     "output_type": "stream",
     "text": [
      " 21%|██        | 144/682 [13:14<11:48,  1.32s/it]"
     ]
    },
    {
     "name": "stdout",
     "output_type": "stream",
     "text": [
      "Task ('drive_igor/nexus_tfrecords_raw', 'brazil', 2010, 143) finished in 15 min with state: COMPLETED\n"
     ]
    },
    {
     "name": "stderr",
     "output_type": "stream",
     "text": [
      " 21%|██▏       | 146/682 [13:15<06:35,  1.35it/s]"
     ]
    },
    {
     "name": "stdout",
     "output_type": "stream",
     "text": [
      "Task ('drive_igor/nexus_tfrecords_raw', 'brazil', 2010, 144) finished in 15 min with state: COMPLETED\n",
      "Task ('drive_igor/nexus_tfrecords_raw', 'brazil', 2010, 145) finished in 15 min with state: COMPLETED\n"
     ]
    },
    {
     "name": "stderr",
     "output_type": "stream",
     "text": [
      " 22%|██▏       | 147/682 [13:15<05:20,  1.67it/s]"
     ]
    },
    {
     "name": "stdout",
     "output_type": "stream",
     "text": [
      "Task ('drive_igor/nexus_tfrecords_raw', 'brazil', 2010, 146) finished in 15 min with state: COMPLETED\n"
     ]
    },
    {
     "name": "stderr",
     "output_type": "stream",
     "text": [
      " 22%|██▏       | 148/682 [13:15<04:24,  2.02it/s]"
     ]
    },
    {
     "name": "stdout",
     "output_type": "stream",
     "text": [
      "Task ('drive_igor/nexus_tfrecords_raw', 'brazil', 2010, 147) finished in 15 min with state: COMPLETED\n"
     ]
    },
    {
     "name": "stderr",
     "output_type": "stream",
     "text": [
      " 22%|██▏       | 149/682 [13:15<03:39,  2.43it/s]"
     ]
    },
    {
     "name": "stdout",
     "output_type": "stream",
     "text": [
      "Task ('drive_igor/nexus_tfrecords_raw', 'brazil', 2010, 148) finished in 15 min with state: COMPLETED\n"
     ]
    },
    {
     "name": "stderr",
     "output_type": "stream",
     "text": [
      " 22%|██▏       | 150/682 [13:16<03:11,  2.78it/s]"
     ]
    },
    {
     "name": "stdout",
     "output_type": "stream",
     "text": [
      "Task ('drive_igor/nexus_tfrecords_raw', 'brazil', 2010, 149) finished in 15 min with state: COMPLETED\n"
     ]
    },
    {
     "name": "stderr",
     "output_type": "stream",
     "text": [
      " 22%|██▏       | 151/682 [13:16<02:57,  2.99it/s]"
     ]
    },
    {
     "name": "stdout",
     "output_type": "stream",
     "text": [
      "Task ('drive_igor/nexus_tfrecords_raw', 'brazil', 2010, 150) finished in 16 min with state: COMPLETED\n"
     ]
    },
    {
     "name": "stderr",
     "output_type": "stream",
     "text": [
      " 22%|██▏       | 153/682 [13:16<02:21,  3.74it/s]"
     ]
    },
    {
     "name": "stdout",
     "output_type": "stream",
     "text": [
      "Task ('drive_igor/nexus_tfrecords_raw', 'brazil', 2010, 151) finished in 16 min with state: COMPLETED\n",
      "Task ('drive_igor/nexus_tfrecords_raw', 'brazil', 2010, 152) finished in 16 min with state: COMPLETED\n"
     ]
    },
    {
     "name": "stderr",
     "output_type": "stream",
     "text": [
      " 23%|██▎       | 154/682 [13:17<02:07,  4.14it/s]"
     ]
    },
    {
     "name": "stdout",
     "output_type": "stream",
     "text": [
      "Task ('drive_igor/nexus_tfrecords_raw', 'brazil', 2010, 153) finished in 16 min with state: COMPLETED\n"
     ]
    },
    {
     "name": "stderr",
     "output_type": "stream",
     "text": [
      " 23%|██▎       | 156/682 [13:17<01:51,  4.72it/s]"
     ]
    },
    {
     "name": "stdout",
     "output_type": "stream",
     "text": [
      "Task ('drive_igor/nexus_tfrecords_raw', 'brazil', 2010, 154) finished in 16 min with state: COMPLETED\n",
      "Task ('drive_igor/nexus_tfrecords_raw', 'brazil', 2010, 155) finished in 16 min with state: COMPLETED\n"
     ]
    },
    {
     "name": "stderr",
     "output_type": "stream",
     "text": [
      " 23%|██▎       | 157/682 [13:17<01:59,  4.41it/s]"
     ]
    },
    {
     "name": "stdout",
     "output_type": "stream",
     "text": [
      "Task ('drive_igor/nexus_tfrecords_raw', 'brazil', 2010, 156) finished in 16 min with state: COMPLETED\n"
     ]
    },
    {
     "name": "stderr",
     "output_type": "stream",
     "text": [
      " 23%|██▎       | 158/682 [13:17<02:01,  4.31it/s]"
     ]
    },
    {
     "name": "stdout",
     "output_type": "stream",
     "text": [
      "Task ('drive_igor/nexus_tfrecords_raw', 'brazil', 2010, 157) finished in 16 min with state: COMPLETED\n"
     ]
    },
    {
     "name": "stderr",
     "output_type": "stream",
     "text": [
      " 23%|██▎       | 159/682 [16:12<7:38:46, 52.63s/it]"
     ]
    },
    {
     "name": "stdout",
     "output_type": "stream",
     "text": [
      "Task ('drive_igor/nexus_tfrecords_raw', 'brazil', 2010, 158) finished in 17 min with state: COMPLETED\n"
     ]
    },
    {
     "name": "stderr",
     "output_type": "stream",
     "text": [
      " 23%|██▎       | 160/682 [16:13<5:21:11, 36.92s/it]"
     ]
    },
    {
     "name": "stdout",
     "output_type": "stream",
     "text": [
      "Task ('drive_igor/nexus_tfrecords_raw', 'brazil', 2010, 159) finished in 17 min with state: COMPLETED\n"
     ]
    },
    {
     "name": "stderr",
     "output_type": "stream",
     "text": [
      " 24%|██▎       | 161/682 [16:13<3:45:05, 25.92s/it]"
     ]
    },
    {
     "name": "stdout",
     "output_type": "stream",
     "text": [
      "Task ('drive_igor/nexus_tfrecords_raw', 'brazil', 2010, 160) finished in 17 min with state: COMPLETED\n"
     ]
    },
    {
     "name": "stderr",
     "output_type": "stream",
     "text": [
      " 24%|██▍       | 162/682 [16:13<2:37:55, 18.22s/it]"
     ]
    },
    {
     "name": "stdout",
     "output_type": "stream",
     "text": [
      "Task ('drive_igor/nexus_tfrecords_raw', 'brazil', 2010, 161) finished in 17 min with state: COMPLETED\n"
     ]
    },
    {
     "name": "stderr",
     "output_type": "stream",
     "text": [
      " 24%|██▍       | 164/682 [16:14<1:18:05,  9.05s/it]"
     ]
    },
    {
     "name": "stdout",
     "output_type": "stream",
     "text": [
      "Task ('drive_igor/nexus_tfrecords_raw', 'brazil', 2010, 162) finished in 17 min with state: COMPLETED\n",
      "Task ('drive_igor/nexus_tfrecords_raw', 'brazil', 2010, 163) finished in 17 min with state: COMPLETED\n"
     ]
    },
    {
     "name": "stderr",
     "output_type": "stream",
     "text": [
      " 24%|██▍       | 166/682 [16:14<39:05,  4.55s/it]  "
     ]
    },
    {
     "name": "stdout",
     "output_type": "stream",
     "text": [
      "Task ('drive_igor/nexus_tfrecords_raw', 'brazil', 2010, 164) finished in 17 min with state: COMPLETED\n",
      "Task ('drive_igor/nexus_tfrecords_raw', 'brazil', 2010, 165) finished in 17 min with state: COMPLETED\n"
     ]
    },
    {
     "name": "stderr",
     "output_type": "stream",
     "text": [
      " 25%|██▍       | 168/682 [16:14<20:02,  2.34s/it]"
     ]
    },
    {
     "name": "stdout",
     "output_type": "stream",
     "text": [
      "Task ('drive_igor/nexus_tfrecords_raw', 'brazil', 2010, 166) finished in 17 min with state: COMPLETED\n",
      "Task ('drive_igor/nexus_tfrecords_raw', 'brazil', 2010, 167) finished in 17 min with state: COMPLETED\n"
     ]
    },
    {
     "name": "stderr",
     "output_type": "stream",
     "text": [
      " 25%|██▍       | 169/682 [16:15<14:30,  1.70s/it]"
     ]
    },
    {
     "name": "stdout",
     "output_type": "stream",
     "text": [
      "Task ('drive_igor/nexus_tfrecords_raw', 'brazil', 2010, 168) finished in 17 min with state: COMPLETED\n"
     ]
    },
    {
     "name": "stderr",
     "output_type": "stream",
     "text": [
      " 25%|██▍       | 170/682 [16:15<10:49,  1.27s/it]"
     ]
    },
    {
     "name": "stdout",
     "output_type": "stream",
     "text": [
      "Task ('drive_igor/nexus_tfrecords_raw', 'brazil', 2010, 169) finished in 17 min with state: COMPLETED\n"
     ]
    },
    {
     "name": "stderr",
     "output_type": "stream",
     "text": [
      " 25%|██▌       | 171/682 [16:15<08:10,  1.04it/s]"
     ]
    },
    {
     "name": "stdout",
     "output_type": "stream",
     "text": [
      "Task ('drive_igor/nexus_tfrecords_raw', 'brazil', 2010, 170) finished in 18 min with state: COMPLETED\n"
     ]
    },
    {
     "name": "stderr",
     "output_type": "stream",
     "text": [
      " 25%|██▌       | 173/682 [16:16<06:15,  1.35it/s]"
     ]
    },
    {
     "name": "stdout",
     "output_type": "stream",
     "text": [
      "Task ('drive_igor/nexus_tfrecords_raw', 'brazil', 2010, 171) finished in 18 min with state: COMPLETED\n",
      "Task ('drive_igor/nexus_tfrecords_raw', 'brazil', 2010, 172) finished in 18 min with state: COMPLETED\n"
     ]
    },
    {
     "name": "stderr",
     "output_type": "stream",
     "text": [
      " 26%|██▌       | 174/682 [16:16<04:04,  2.07it/s]"
     ]
    },
    {
     "name": "stdout",
     "output_type": "stream",
     "text": [
      "Task ('drive_igor/nexus_tfrecords_raw', 'brazil', 2010, 173) finished in 18 min with state: COMPLETED\n"
     ]
    },
    {
     "name": "stderr",
     "output_type": "stream",
     "text": [
      " 26%|██▌       | 176/682 [16:16<03:03,  2.76it/s]"
     ]
    },
    {
     "name": "stdout",
     "output_type": "stream",
     "text": [
      "Task ('drive_igor/nexus_tfrecords_raw', 'brazil', 2010, 174) finished in 18 min with state: COMPLETED\n",
      "Task ('drive_igor/nexus_tfrecords_raw', 'brazil', 2010, 175) finished in 18 min with state: COMPLETED\n"
     ]
    },
    {
     "name": "stderr",
     "output_type": "stream",
     "text": [
      " 26%|██▌       | 178/682 [16:17<02:21,  3.56it/s]"
     ]
    },
    {
     "name": "stdout",
     "output_type": "stream",
     "text": [
      "Task ('drive_igor/nexus_tfrecords_raw', 'brazil', 2010, 176) finished in 18 min with state: COMPLETED\n",
      "Task ('drive_igor/nexus_tfrecords_raw', 'brazil', 2010, 177) finished in 18 min with state: COMPLETED\n"
     ]
    },
    {
     "name": "stderr",
     "output_type": "stream",
     "text": [
      " 26%|██▌       | 179/682 [16:17<02:17,  3.66it/s]"
     ]
    },
    {
     "name": "stdout",
     "output_type": "stream",
     "text": [
      "Task ('drive_igor/nexus_tfrecords_raw', 'brazil', 2010, 178) finished in 18 min with state: COMPLETED\n"
     ]
    },
    {
     "name": "stderr",
     "output_type": "stream",
     "text": [
      " 27%|██▋       | 181/682 [16:17<02:04,  4.03it/s]"
     ]
    },
    {
     "name": "stdout",
     "output_type": "stream",
     "text": [
      "Task ('drive_igor/nexus_tfrecords_raw', 'brazil', 2010, 179) finished in 18 min with state: COMPLETED\n",
      "Task ('drive_igor/nexus_tfrecords_raw', 'brazil', 2010, 180) finished in 18 min with state: COMPLETED\n"
     ]
    },
    {
     "name": "stderr",
     "output_type": "stream",
     "text": [
      " 27%|██▋       | 182/682 [16:18<02:54,  2.87it/s]"
     ]
    },
    {
     "name": "stdout",
     "output_type": "stream",
     "text": [
      "Task ('drive_igor/nexus_tfrecords_raw', 'brazil', 2010, 181) finished in 18 min with state: COMPLETED\n"
     ]
    },
    {
     "name": "stderr",
     "output_type": "stream",
     "text": [
      " 27%|██▋       | 184/682 [16:18<02:21,  3.52it/s]"
     ]
    },
    {
     "name": "stdout",
     "output_type": "stream",
     "text": [
      "Task ('drive_igor/nexus_tfrecords_raw', 'brazil', 2010, 182) finished in 18 min with state: COMPLETED\n",
      "Task ('drive_igor/nexus_tfrecords_raw', 'brazil', 2010, 183) finished in 18 min with state: COMPLETED\n"
     ]
    },
    {
     "name": "stderr",
     "output_type": "stream",
     "text": [
      " 27%|██▋       | 186/682 [16:19<02:06,  3.93it/s]"
     ]
    },
    {
     "name": "stdout",
     "output_type": "stream",
     "text": [
      "Task ('drive_igor/nexus_tfrecords_raw', 'brazil', 2010, 184) finished in 18 min with state: COMPLETED\n",
      "Task ('drive_igor/nexus_tfrecords_raw', 'brazil', 2010, 185) finished in 19 min with state: COMPLETED\n"
     ]
    },
    {
     "name": "stderr",
     "output_type": "stream",
     "text": [
      " 27%|██▋       | 187/682 [16:19<01:57,  4.22it/s]"
     ]
    },
    {
     "name": "stdout",
     "output_type": "stream",
     "text": [
      "Task ('drive_igor/nexus_tfrecords_raw', 'brazil', 2010, 186) finished in 19 min with state: COMPLETED\n"
     ]
    },
    {
     "name": "stderr",
     "output_type": "stream",
     "text": [
      " 28%|██▊       | 188/682 [19:06<6:53:08, 50.18s/it]"
     ]
    },
    {
     "name": "stdout",
     "output_type": "stream",
     "text": [
      "Task ('drive_igor/nexus_tfrecords_raw', 'brazil', 2010, 187) finished in 19 min with state: COMPLETED\n"
     ]
    },
    {
     "name": "stderr",
     "output_type": "stream",
     "text": [
      " 28%|██▊       | 189/682 [19:06<4:49:28, 35.23s/it]"
     ]
    },
    {
     "name": "stdout",
     "output_type": "stream",
     "text": [
      "Task ('drive_igor/nexus_tfrecords_raw', 'brazil', 2010, 188) finished in 19 min with state: COMPLETED\n"
     ]
    },
    {
     "name": "stderr",
     "output_type": "stream",
     "text": [
      " 28%|██▊       | 190/682 [19:07<3:22:57, 24.75s/it]"
     ]
    },
    {
     "name": "stdout",
     "output_type": "stream",
     "text": [
      "Task ('drive_igor/nexus_tfrecords_raw', 'brazil', 2010, 189) finished in 19 min with state: COMPLETED\n"
     ]
    },
    {
     "name": "stderr",
     "output_type": "stream",
     "text": [
      " 28%|██▊       | 191/682 [19:07<2:22:29, 17.41s/it]"
     ]
    },
    {
     "name": "stdout",
     "output_type": "stream",
     "text": [
      "Task ('drive_igor/nexus_tfrecords_raw', 'brazil', 2010, 190) finished in 19 min with state: COMPLETED\n"
     ]
    },
    {
     "name": "stderr",
     "output_type": "stream",
     "text": [
      " 28%|██▊       | 192/682 [19:07<1:40:05, 12.26s/it]"
     ]
    },
    {
     "name": "stdout",
     "output_type": "stream",
     "text": [
      "Task ('drive_igor/nexus_tfrecords_raw', 'brazil', 2010, 191) finished in 19 min with state: COMPLETED\n"
     ]
    },
    {
     "name": "stderr",
     "output_type": "stream",
     "text": [
      " 28%|██▊       | 193/682 [19:07<1:10:34,  8.66s/it]"
     ]
    },
    {
     "name": "stdout",
     "output_type": "stream",
     "text": [
      "Task ('drive_igor/nexus_tfrecords_raw', 'brazil', 2010, 192) finished in 19 min with state: COMPLETED\n"
     ]
    },
    {
     "name": "stderr",
     "output_type": "stream",
     "text": [
      " 28%|██▊       | 194/682 [19:08<49:56,  6.14s/it]  "
     ]
    },
    {
     "name": "stdout",
     "output_type": "stream",
     "text": [
      "Task ('drive_igor/nexus_tfrecords_raw', 'brazil', 2010, 193) finished in 19 min with state: COMPLETED\n"
     ]
    },
    {
     "name": "stderr",
     "output_type": "stream",
     "text": [
      " 29%|██▊       | 195/682 [19:08<35:28,  4.37s/it]"
     ]
    },
    {
     "name": "stdout",
     "output_type": "stream",
     "text": [
      "Task ('drive_igor/nexus_tfrecords_raw', 'brazil', 2010, 194) finished in 20 min with state: COMPLETED\n"
     ]
    },
    {
     "name": "stderr",
     "output_type": "stream",
     "text": [
      " 29%|██▊       | 196/682 [19:08<25:25,  3.14s/it]"
     ]
    },
    {
     "name": "stdout",
     "output_type": "stream",
     "text": [
      "Task ('drive_igor/nexus_tfrecords_raw', 'brazil', 2010, 195) finished in 20 min with state: COMPLETED\n"
     ]
    },
    {
     "name": "stderr",
     "output_type": "stream",
     "text": [
      " 29%|██▉       | 197/682 [19:08<18:26,  2.28s/it]"
     ]
    },
    {
     "name": "stdout",
     "output_type": "stream",
     "text": [
      "Task ('drive_igor/nexus_tfrecords_raw', 'brazil', 2010, 196) finished in 20 min with state: COMPLETED\n"
     ]
    },
    {
     "name": "stderr",
     "output_type": "stream",
     "text": [
      " 29%|██▉       | 198/682 [19:09<13:32,  1.68s/it]"
     ]
    },
    {
     "name": "stdout",
     "output_type": "stream",
     "text": [
      "Task ('drive_igor/nexus_tfrecords_raw', 'brazil', 2010, 197) finished in 20 min with state: COMPLETED\n"
     ]
    },
    {
     "name": "stderr",
     "output_type": "stream",
     "text": [
      " 29%|██▉       | 199/682 [19:09<10:05,  1.25s/it]"
     ]
    },
    {
     "name": "stdout",
     "output_type": "stream",
     "text": [
      "Task ('drive_igor/nexus_tfrecords_raw', 'brazil', 2010, 198) finished in 20 min with state: COMPLETED\n"
     ]
    },
    {
     "name": "stderr",
     "output_type": "stream",
     "text": [
      " 29%|██▉       | 200/682 [19:09<07:42,  1.04it/s]"
     ]
    },
    {
     "name": "stdout",
     "output_type": "stream",
     "text": [
      "Task ('drive_igor/nexus_tfrecords_raw', 'brazil', 2010, 199) finished in 20 min with state: COMPLETED\n"
     ]
    },
    {
     "name": "stderr",
     "output_type": "stream",
     "text": [
      " 29%|██▉       | 201/682 [19:09<05:56,  1.35it/s]"
     ]
    },
    {
     "name": "stdout",
     "output_type": "stream",
     "text": [
      "Task ('drive_igor/nexus_tfrecords_raw', 'brazil', 2010, 200) finished in 20 min with state: COMPLETED\n"
     ]
    },
    {
     "name": "stderr",
     "output_type": "stream",
     "text": [
      " 30%|██▉       | 202/682 [19:10<04:46,  1.68it/s]"
     ]
    },
    {
     "name": "stdout",
     "output_type": "stream",
     "text": [
      "Task ('drive_igor/nexus_tfrecords_raw', 'brazil', 2010, 201) finished in 20 min with state: COMPLETED\n"
     ]
    },
    {
     "name": "stderr",
     "output_type": "stream",
     "text": [
      " 30%|██▉       | 203/682 [19:10<03:56,  2.03it/s]"
     ]
    },
    {
     "name": "stdout",
     "output_type": "stream",
     "text": [
      "Task ('drive_igor/nexus_tfrecords_raw', 'brazil', 2010, 202) finished in 21 min with state: COMPLETED\n"
     ]
    },
    {
     "name": "stderr",
     "output_type": "stream",
     "text": [
      " 30%|██▉       | 204/682 [19:10<03:21,  2.37it/s]"
     ]
    },
    {
     "name": "stdout",
     "output_type": "stream",
     "text": [
      "Task ('drive_igor/nexus_tfrecords_raw', 'brazil', 2010, 203) finished in 21 min with state: COMPLETED\n"
     ]
    },
    {
     "name": "stderr",
     "output_type": "stream",
     "text": [
      " 30%|███       | 206/682 [19:11<02:29,  3.18it/s]"
     ]
    },
    {
     "name": "stdout",
     "output_type": "stream",
     "text": [
      "Task ('drive_igor/nexus_tfrecords_raw', 'brazil', 2010, 204) finished in 21 min with state: COMPLETED\n",
      "Task ('drive_igor/nexus_tfrecords_raw', 'brazil', 2010, 205) finished in 21 min with state: COMPLETED\n"
     ]
    },
    {
     "name": "stderr",
     "output_type": "stream",
     "text": [
      " 30%|███       | 207/682 [19:11<02:19,  3.41it/s]"
     ]
    },
    {
     "name": "stdout",
     "output_type": "stream",
     "text": [
      "Task ('drive_igor/nexus_tfrecords_raw', 'brazil', 2010, 206) finished in 21 min with state: COMPLETED\n"
     ]
    },
    {
     "name": "stderr",
     "output_type": "stream",
     "text": [
      " 31%|███       | 209/682 [19:11<01:56,  4.05it/s]"
     ]
    },
    {
     "name": "stdout",
     "output_type": "stream",
     "text": [
      "Task ('drive_igor/nexus_tfrecords_raw', 'brazil', 2010, 207) finished in 21 min with state: COMPLETED\n",
      "Task ('drive_igor/nexus_tfrecords_raw', 'brazil', 2010, 208) finished in 21 min with state: COMPLETED\n"
     ]
    },
    {
     "name": "stderr",
     "output_type": "stream",
     "text": [
      " 31%|███       | 210/682 [19:12<02:01,  3.88it/s]"
     ]
    },
    {
     "name": "stdout",
     "output_type": "stream",
     "text": [
      "Task ('drive_igor/nexus_tfrecords_raw', 'brazil', 2010, 209) finished in 21 min with state: COMPLETED\n"
     ]
    },
    {
     "name": "stderr",
     "output_type": "stream",
     "text": [
      " 31%|███       | 212/682 [19:12<01:39,  4.71it/s]"
     ]
    },
    {
     "name": "stdout",
     "output_type": "stream",
     "text": [
      "Task ('drive_igor/nexus_tfrecords_raw', 'brazil', 2010, 210) finished in 21 min with state: COMPLETED\n",
      "Task ('drive_igor/nexus_tfrecords_raw', 'brazil', 2010, 211) finished in 21 min with state: COMPLETED\n"
     ]
    },
    {
     "name": "stderr",
     "output_type": "stream",
     "text": [
      " 31%|███       | 213/682 [19:12<01:45,  4.44it/s]"
     ]
    },
    {
     "name": "stdout",
     "output_type": "stream",
     "text": [
      "Task ('drive_igor/nexus_tfrecords_raw', 'brazil', 2010, 212) finished in 21 min with state: COMPLETED\n"
     ]
    },
    {
     "name": "stderr",
     "output_type": "stream",
     "text": [
      " 31%|███▏      | 214/682 [19:12<01:44,  4.50it/s]"
     ]
    },
    {
     "name": "stdout",
     "output_type": "stream",
     "text": [
      "Task ('drive_igor/nexus_tfrecords_raw', 'brazil', 2010, 213) finished in 21 min with state: COMPLETED\n"
     ]
    },
    {
     "name": "stderr",
     "output_type": "stream",
     "text": [
      " 32%|███▏      | 216/682 [19:13<01:38,  4.72it/s]"
     ]
    },
    {
     "name": "stdout",
     "output_type": "stream",
     "text": [
      "Task ('drive_igor/nexus_tfrecords_raw', 'brazil', 2010, 214) finished in 21 min with state: COMPLETED\n",
      "Task ('drive_igor/nexus_tfrecords_raw', 'brazil', 2010, 215) finished in 21 min with state: COMPLETED\n"
     ]
    },
    {
     "name": "stderr",
     "output_type": "stream",
     "text": [
      " 32%|███▏      | 217/682 [19:13<01:49,  4.25it/s]"
     ]
    },
    {
     "name": "stdout",
     "output_type": "stream",
     "text": [
      "Task ('drive_igor/nexus_tfrecords_raw', 'brazil', 2010, 216) finished in 21 min with state: COMPLETED\n"
     ]
    },
    {
     "name": "stderr",
     "output_type": "stream",
     "text": [
      " 32%|███▏      | 218/682 [19:13<01:51,  4.15it/s]"
     ]
    },
    {
     "name": "stdout",
     "output_type": "stream",
     "text": [
      "Task ('drive_igor/nexus_tfrecords_raw', 'brazil', 2010, 217) finished in 21 min with state: COMPLETED\n"
     ]
    },
    {
     "name": "stderr",
     "output_type": "stream",
     "text": [
      " 32%|███▏      | 219/682 [22:00<6:26:55, 50.14s/it]"
     ]
    },
    {
     "name": "stdout",
     "output_type": "stream",
     "text": [
      "Task ('drive_igor/nexus_tfrecords_raw', 'brazil', 2010, 218) finished in 22 min with state: COMPLETED\n"
     ]
    },
    {
     "name": "stderr",
     "output_type": "stream",
     "text": [
      " 32%|███▏      | 220/682 [22:00<4:30:52, 35.18s/it]"
     ]
    },
    {
     "name": "stdout",
     "output_type": "stream",
     "text": [
      "Task ('drive_igor/nexus_tfrecords_raw', 'brazil', 2010, 219) finished in 22 min with state: COMPLETED\n"
     ]
    },
    {
     "name": "stderr",
     "output_type": "stream",
     "text": [
      " 32%|███▏      | 221/682 [22:00<3:09:47, 24.70s/it]"
     ]
    },
    {
     "name": "stdout",
     "output_type": "stream",
     "text": [
      "Task ('drive_igor/nexus_tfrecords_raw', 'brazil', 2010, 220) finished in 22 min with state: COMPLETED\n"
     ]
    },
    {
     "name": "stderr",
     "output_type": "stream",
     "text": [
      " 33%|███▎      | 223/682 [22:01<1:33:23, 12.21s/it]"
     ]
    },
    {
     "name": "stdout",
     "output_type": "stream",
     "text": [
      "Task ('drive_igor/nexus_tfrecords_raw', 'brazil', 2010, 221) finished in 22 min with state: COMPLETED\n",
      "Task ('drive_igor/nexus_tfrecords_raw', 'brazil', 2010, 222) finished in 22 min with state: COMPLETED\n"
     ]
    },
    {
     "name": "stderr",
     "output_type": "stream",
     "text": [
      " 33%|███▎      | 224/682 [22:01<1:05:40,  8.60s/it]"
     ]
    },
    {
     "name": "stdout",
     "output_type": "stream",
     "text": [
      "Task ('drive_igor/nexus_tfrecords_raw', 'brazil', 2010, 223) finished in 22 min with state: COMPLETED\n"
     ]
    },
    {
     "name": "stderr",
     "output_type": "stream",
     "text": [
      " 33%|███▎      | 226/682 [22:02<32:53,  4.33s/it]  "
     ]
    },
    {
     "name": "stdout",
     "output_type": "stream",
     "text": [
      "Task ('drive_igor/nexus_tfrecords_raw', 'brazil', 2010, 224) finished in 22 min with state: COMPLETED\n",
      "Task ('drive_igor/nexus_tfrecords_raw', 'brazil', 2010, 225) finished in 22 min with state: COMPLETED\n"
     ]
    },
    {
     "name": "stderr",
     "output_type": "stream",
     "text": [
      " 33%|███▎      | 227/682 [22:02<23:25,  3.09s/it]"
     ]
    },
    {
     "name": "stdout",
     "output_type": "stream",
     "text": [
      "Task ('drive_igor/nexus_tfrecords_raw', 'brazil', 2010, 226) finished in 22 min with state: COMPLETED\n"
     ]
    },
    {
     "name": "stderr",
     "output_type": "stream",
     "text": [
      " 34%|███▎      | 229/682 [22:02<12:17,  1.63s/it]"
     ]
    },
    {
     "name": "stdout",
     "output_type": "stream",
     "text": [
      "Task ('drive_igor/nexus_tfrecords_raw', 'brazil', 2010, 227) finished in 23 min with state: COMPLETED\n",
      "Task ('drive_igor/nexus_tfrecords_raw', 'brazil', 2010, 228) finished in 22 min with state: COMPLETED\n"
     ]
    },
    {
     "name": "stderr",
     "output_type": "stream",
     "text": [
      "                                                 "
     ]
    },
    {
     "name": "stdout",
     "output_type": "stream",
     "text": [
      "Task ('drive_igor/nexus_tfrecords_raw', 'brazil', 2010, 229) finished in 22 min with state: COMPLETED\n"
     ]
    },
    {
     "name": "stderr",
     "output_type": "stream",
     "text": [
      " 34%|███▍      | 231/682 [22:03<06:47,  1.11it/s]"
     ]
    },
    {
     "name": "stdout",
     "output_type": "stream",
     "text": [
      "Task ('drive_igor/nexus_tfrecords_raw', 'brazil', 2010, 230) finished in 23 min with state: COMPLETED\n"
     ]
    },
    {
     "name": "stderr",
     "output_type": "stream",
     "text": [
      " 34%|███▍      | 232/682 [22:03<05:11,  1.44it/s]"
     ]
    },
    {
     "name": "stdout",
     "output_type": "stream",
     "text": [
      "Task ('drive_igor/nexus_tfrecords_raw', 'brazil', 2010, 231) finished in 23 min with state: COMPLETED\n"
     ]
    },
    {
     "name": "stderr",
     "output_type": "stream",
     "text": [
      " 34%|███▍      | 233/682 [22:03<04:13,  1.77it/s]"
     ]
    },
    {
     "name": "stdout",
     "output_type": "stream",
     "text": [
      "Task ('drive_igor/nexus_tfrecords_raw', 'brazil', 2010, 232) finished in 23 min with state: COMPLETED\n"
     ]
    },
    {
     "name": "stderr",
     "output_type": "stream",
     "text": [
      " 34%|███▍      | 235/682 [22:04<03:01,  2.47it/s]"
     ]
    },
    {
     "name": "stdout",
     "output_type": "stream",
     "text": [
      "Task ('drive_igor/nexus_tfrecords_raw', 'brazil', 2010, 233) finished in 23 min with state: COMPLETED\n",
      "Task ('drive_igor/nexus_tfrecords_raw', 'brazil', 2010, 234) finished in 23 min with state: COMPLETED\n"
     ]
    },
    {
     "name": "stderr",
     "output_type": "stream",
     "text": [
      " 35%|███▍      | 236/682 [22:04<02:33,  2.90it/s]"
     ]
    },
    {
     "name": "stdout",
     "output_type": "stream",
     "text": [
      "Task ('drive_igor/nexus_tfrecords_raw', 'brazil', 2010, 235) finished in 23 min with state: COMPLETED\n"
     ]
    },
    {
     "name": "stderr",
     "output_type": "stream",
     "text": [
      " 35%|███▍      | 237/682 [22:04<02:16,  3.27it/s]"
     ]
    },
    {
     "name": "stdout",
     "output_type": "stream",
     "text": [
      "Task ('drive_igor/nexus_tfrecords_raw', 'brazil', 2010, 236) finished in 23 min with state: COMPLETED\n"
     ]
    },
    {
     "name": "stderr",
     "output_type": "stream",
     "text": [
      " 35%|███▌      | 239/682 [22:04<01:41,  4.35it/s]"
     ]
    },
    {
     "name": "stdout",
     "output_type": "stream",
     "text": [
      "Task ('drive_igor/nexus_tfrecords_raw', 'brazil', 2010, 237) finished in 23 min with state: COMPLETED\n",
      "Task ('drive_igor/nexus_tfrecords_raw', 'brazil', 2010, 238) finished in 23 min with state: COMPLETED\n"
     ]
    },
    {
     "name": "stderr",
     "output_type": "stream",
     "text": [
      " 35%|███▌      | 241/682 [22:05<01:38,  4.46it/s]"
     ]
    },
    {
     "name": "stdout",
     "output_type": "stream",
     "text": [
      "Task ('drive_igor/nexus_tfrecords_raw', 'brazil', 2010, 239) finished in 24 min with state: COMPLETED\n",
      "Task ('drive_igor/nexus_tfrecords_raw', 'brazil', 2010, 240) finished in 24 min with state: COMPLETED\n"
     ]
    },
    {
     "name": "stderr",
     "output_type": "stream",
     "text": [
      " 35%|███▌      | 242/682 [22:05<01:37,  4.50it/s]"
     ]
    },
    {
     "name": "stdout",
     "output_type": "stream",
     "text": [
      "Task ('drive_igor/nexus_tfrecords_raw', 'brazil', 2010, 241) finished in 24 min with state: COMPLETED\n"
     ]
    },
    {
     "name": "stderr",
     "output_type": "stream",
     "text": [
      " 36%|███▌      | 243/682 [22:05<01:42,  4.30it/s]"
     ]
    },
    {
     "name": "stdout",
     "output_type": "stream",
     "text": [
      "Task ('drive_igor/nexus_tfrecords_raw', 'brazil', 2010, 242) finished in 24 min with state: COMPLETED\n"
     ]
    },
    {
     "name": "stderr",
     "output_type": "stream",
     "text": [
      " 36%|███▌      | 244/682 [22:06<01:43,  4.22it/s]"
     ]
    },
    {
     "name": "stdout",
     "output_type": "stream",
     "text": [
      "Task ('drive_igor/nexus_tfrecords_raw', 'brazil', 2010, 243) finished in 24 min with state: COMPLETED\n"
     ]
    },
    {
     "name": "stderr",
     "output_type": "stream",
     "text": [
      " 36%|███▌      | 245/682 [22:06<01:46,  4.12it/s]"
     ]
    },
    {
     "name": "stdout",
     "output_type": "stream",
     "text": [
      "Task ('drive_igor/nexus_tfrecords_raw', 'brazil', 2010, 244) finished in 24 min with state: COMPLETED\n"
     ]
    },
    {
     "name": "stderr",
     "output_type": "stream",
     "text": [
      " 36%|███▌      | 246/682 [22:06<01:47,  4.06it/s]"
     ]
    },
    {
     "name": "stdout",
     "output_type": "stream",
     "text": [
      "Task ('drive_igor/nexus_tfrecords_raw', 'brazil', 2010, 245) finished in 24 min with state: COMPLETED\n"
     ]
    },
    {
     "name": "stderr",
     "output_type": "stream",
     "text": [
      " 36%|███▌      | 247/682 [22:06<01:56,  3.75it/s]"
     ]
    },
    {
     "name": "stdout",
     "output_type": "stream",
     "text": [
      "Task ('drive_igor/nexus_tfrecords_raw', 'brazil', 2010, 246) finished in 24 min with state: COMPLETED\n"
     ]
    },
    {
     "name": "stderr",
     "output_type": "stream",
     "text": [
      " 36%|███▋      | 248/682 [22:07<01:54,  3.78it/s]"
     ]
    },
    {
     "name": "stdout",
     "output_type": "stream",
     "text": [
      "Task ('drive_igor/nexus_tfrecords_raw', 'brazil', 2010, 247) finished in 24 min with state: COMPLETED\n"
     ]
    },
    {
     "name": "stderr",
     "output_type": "stream",
     "text": [
      " 37%|███▋      | 249/682 [22:07<01:57,  3.67it/s]"
     ]
    },
    {
     "name": "stdout",
     "output_type": "stream",
     "text": [
      "Task ('drive_igor/nexus_tfrecords_raw', 'brazil', 2010, 248) finished in 24 min with state: COMPLETED\n"
     ]
    },
    {
     "name": "stderr",
     "output_type": "stream",
     "text": [
      " 37%|███▋      | 250/682 [22:07<01:57,  3.68it/s]"
     ]
    },
    {
     "name": "stdout",
     "output_type": "stream",
     "text": [
      "Task ('drive_igor/nexus_tfrecords_raw', 'brazil', 2010, 249) finished in 24 min with state: COMPLETED\n"
     ]
    },
    {
     "name": "stderr",
     "output_type": "stream",
     "text": [
      " 37%|███▋      | 251/682 [22:07<01:57,  3.67it/s]"
     ]
    },
    {
     "name": "stdout",
     "output_type": "stream",
     "text": [
      "Task ('drive_igor/nexus_tfrecords_raw', 'brazil', 2010, 250) finished in 24 min with state: COMPLETED\n"
     ]
    },
    {
     "name": "stderr",
     "output_type": "stream",
     "text": [
      " 37%|███▋      | 253/682 [22:08<01:45,  4.09it/s]"
     ]
    },
    {
     "name": "stdout",
     "output_type": "stream",
     "text": [
      "Task ('drive_igor/nexus_tfrecords_raw', 'brazil', 2010, 251) finished in 24 min with state: COMPLETED\n",
      "Task ('drive_igor/nexus_tfrecords_raw', 'brazil', 2010, 252) finished in 24 min with state: COMPLETED\n"
     ]
    },
    {
     "name": "stderr",
     "output_type": "stream",
     "text": [
      " 37%|███▋      | 255/682 [22:09<02:36,  2.73it/s]"
     ]
    },
    {
     "name": "stdout",
     "output_type": "stream",
     "text": [
      "Task ('drive_igor/nexus_tfrecords_raw', 'brazil', 2010, 253) finished in 24 min with state: COMPLETED\n",
      "Task ('drive_igor/nexus_tfrecords_raw', 'brazil', 2010, 254) finished in 24 min with state: COMPLETED\n"
     ]
    },
    {
     "name": "stderr",
     "output_type": "stream",
     "text": [
      " 38%|███▊      | 256/682 [24:42<5:27:13, 46.09s/it]"
     ]
    },
    {
     "name": "stdout",
     "output_type": "stream",
     "text": [
      "Task ('drive_igor/nexus_tfrecords_raw', 'brazil', 2010, 255) finished in 25 min with state: COMPLETED\n"
     ]
    },
    {
     "name": "stderr",
     "output_type": "stream",
     "text": [
      " 38%|███▊      | 257/682 [24:42<3:49:07, 32.35s/it]"
     ]
    },
    {
     "name": "stdout",
     "output_type": "stream",
     "text": [
      "Task ('drive_igor/nexus_tfrecords_raw', 'brazil', 2010, 256) finished in 25 min with state: COMPLETED\n"
     ]
    },
    {
     "name": "stderr",
     "output_type": "stream",
     "text": [
      " 38%|███▊      | 258/682 [24:42<2:40:26, 22.70s/it]"
     ]
    },
    {
     "name": "stdout",
     "output_type": "stream",
     "text": [
      "Task ('drive_igor/nexus_tfrecords_raw', 'brazil', 2010, 257) finished in 25 min with state: COMPLETED\n"
     ]
    },
    {
     "name": "stderr",
     "output_type": "stream",
     "text": [
      " 38%|███▊      | 260/682 [24:43<1:19:02, 11.24s/it]"
     ]
    },
    {
     "name": "stdout",
     "output_type": "stream",
     "text": [
      "Task ('drive_igor/nexus_tfrecords_raw', 'brazil', 2010, 258) finished in 25 min with state: COMPLETED\n",
      "Task ('drive_igor/nexus_tfrecords_raw', 'brazil', 2010, 259) finished in 25 min with state: COMPLETED\n"
     ]
    },
    {
     "name": "stderr",
     "output_type": "stream",
     "text": [
      " 38%|███▊      | 261/682 [24:43<55:43,  7.94s/it]  "
     ]
    },
    {
     "name": "stdout",
     "output_type": "stream",
     "text": [
      "Task ('drive_igor/nexus_tfrecords_raw', 'brazil', 2010, 260) finished in 25 min with state: COMPLETED\n"
     ]
    },
    {
     "name": "stderr",
     "output_type": "stream",
     "text": [
      " 38%|███▊      | 262/682 [24:43<39:30,  5.64s/it]"
     ]
    },
    {
     "name": "stdout",
     "output_type": "stream",
     "text": [
      "Task ('drive_igor/nexus_tfrecords_raw', 'brazil', 2010, 261) finished in 25 min with state: COMPLETED\n"
     ]
    },
    {
     "name": "stderr",
     "output_type": "stream",
     "text": [
      " 39%|███▊      | 264/682 [24:44<20:00,  2.87s/it]"
     ]
    },
    {
     "name": "stdout",
     "output_type": "stream",
     "text": [
      "Task ('drive_igor/nexus_tfrecords_raw', 'brazil', 2010, 262) finished in 25 min with state: COMPLETED\n",
      "Task ('drive_igor/nexus_tfrecords_raw', 'brazil', 2010, 263) finished in 25 min with state: COMPLETED\n"
     ]
    },
    {
     "name": "stderr",
     "output_type": "stream",
     "text": [
      " 39%|███▉      | 266/682 [24:44<10:28,  1.51s/it]"
     ]
    },
    {
     "name": "stdout",
     "output_type": "stream",
     "text": [
      "Task ('drive_igor/nexus_tfrecords_raw', 'brazil', 2010, 264) finished in 25 min with state: COMPLETED\n",
      "Task ('drive_igor/nexus_tfrecords_raw', 'brazil', 2010, 265) finished in 25 min with state: COMPLETED\n"
     ]
    },
    {
     "name": "stderr",
     "output_type": "stream",
     "text": [
      " 39%|███▉      | 267/682 [24:44<07:50,  1.13s/it]"
     ]
    },
    {
     "name": "stdout",
     "output_type": "stream",
     "text": [
      "Task ('drive_igor/nexus_tfrecords_raw', 'brazil', 2010, 266) finished in 25 min with state: COMPLETED\n"
     ]
    },
    {
     "name": "stderr",
     "output_type": "stream",
     "text": [
      " 39%|███▉      | 268/682 [24:45<05:56,  1.16it/s]"
     ]
    },
    {
     "name": "stdout",
     "output_type": "stream",
     "text": [
      "Task ('drive_igor/nexus_tfrecords_raw', 'brazil', 2010, 267) finished in 26 min with state: COMPLETED\n"
     ]
    },
    {
     "name": "stderr",
     "output_type": "stream",
     "text": [
      " 40%|███▉      | 270/682 [24:45<04:39,  1.47it/s]"
     ]
    },
    {
     "name": "stdout",
     "output_type": "stream",
     "text": [
      "Task ('drive_igor/nexus_tfrecords_raw', 'brazil', 2010, 268) finished in 26 min with state: COMPLETED\n",
      "Task ('drive_igor/nexus_tfrecords_raw', 'brazil', 2010, 269) finished in 26 min with state: COMPLETED\n"
     ]
    },
    {
     "name": "stderr",
     "output_type": "stream",
     "text": [
      " 40%|███▉      | 271/682 [24:45<02:55,  2.34it/s]"
     ]
    },
    {
     "name": "stdout",
     "output_type": "stream",
     "text": [
      "Task ('drive_igor/nexus_tfrecords_raw', 'brazil', 2010, 270) finished in 26 min with state: COMPLETED\n"
     ]
    },
    {
     "name": "stderr",
     "output_type": "stream",
     "text": [
      " 40%|███▉      | 272/682 [24:45<02:33,  2.68it/s]"
     ]
    },
    {
     "name": "stdout",
     "output_type": "stream",
     "text": [
      "Task ('drive_igor/nexus_tfrecords_raw', 'brazil', 2010, 271) finished in 26 min with state: COMPLETED\n"
     ]
    },
    {
     "name": "stderr",
     "output_type": "stream",
     "text": [
      " 40%|████      | 274/682 [24:46<02:13,  3.06it/s]"
     ]
    },
    {
     "name": "stdout",
     "output_type": "stream",
     "text": [
      "Task ('drive_igor/nexus_tfrecords_raw', 'brazil', 2010, 272) finished in 26 min with state: COMPLETED\n",
      "Task ('drive_igor/nexus_tfrecords_raw', 'brazil', 2010, 273) finished in 26 min with state: COMPLETED\n"
     ]
    },
    {
     "name": "stderr",
     "output_type": "stream",
     "text": [
      " 40%|████      | 275/682 [24:46<01:58,  3.44it/s]"
     ]
    },
    {
     "name": "stdout",
     "output_type": "stream",
     "text": [
      "Task ('drive_igor/nexus_tfrecords_raw', 'brazil', 2010, 274) finished in 26 min with state: COMPLETED\n"
     ]
    },
    {
     "name": "stderr",
     "output_type": "stream",
     "text": [
      " 40%|████      | 276/682 [24:46<01:53,  3.57it/s]"
     ]
    },
    {
     "name": "stdout",
     "output_type": "stream",
     "text": [
      "Task ('drive_igor/nexus_tfrecords_raw', 'brazil', 2010, 275) finished in 27 min with state: COMPLETED\n"
     ]
    },
    {
     "name": "stderr",
     "output_type": "stream",
     "text": [
      " 41%|████      | 277/682 [24:47<01:53,  3.56it/s]"
     ]
    },
    {
     "name": "stdout",
     "output_type": "stream",
     "text": [
      "Task ('drive_igor/nexus_tfrecords_raw', 'brazil', 2010, 276) finished in 27 min with state: COMPLETED\n"
     ]
    },
    {
     "name": "stderr",
     "output_type": "stream",
     "text": [
      " 41%|████      | 278/682 [24:47<01:47,  3.77it/s]"
     ]
    },
    {
     "name": "stdout",
     "output_type": "stream",
     "text": [
      "Task ('drive_igor/nexus_tfrecords_raw', 'brazil', 2010, 277) finished in 27 min with state: COMPLETED\n"
     ]
    },
    {
     "name": "stderr",
     "output_type": "stream",
     "text": [
      " 41%|████      | 279/682 [24:47<01:47,  3.75it/s]"
     ]
    },
    {
     "name": "stdout",
     "output_type": "stream",
     "text": [
      "Task ('drive_igor/nexus_tfrecords_raw', 'brazil', 2010, 278) finished in 27 min with state: COMPLETED\n"
     ]
    },
    {
     "name": "stderr",
     "output_type": "stream",
     "text": [
      " 41%|████      | 280/682 [24:47<01:45,  3.79it/s]"
     ]
    },
    {
     "name": "stdout",
     "output_type": "stream",
     "text": [
      "Task ('drive_igor/nexus_tfrecords_raw', 'brazil', 2010, 279) finished in 27 min with state: COMPLETED\n"
     ]
    },
    {
     "name": "stderr",
     "output_type": "stream",
     "text": [
      " 41%|████▏     | 282/682 [24:48<01:34,  4.21it/s]"
     ]
    },
    {
     "name": "stdout",
     "output_type": "stream",
     "text": [
      "Task ('drive_igor/nexus_tfrecords_raw', 'brazil', 2010, 280) finished in 27 min with state: COMPLETED\n",
      "Task ('drive_igor/nexus_tfrecords_raw', 'brazil', 2010, 281) finished in 27 min with state: COMPLETED\n"
     ]
    },
    {
     "name": "stderr",
     "output_type": "stream",
     "text": [
      " 41%|████▏     | 283/682 [24:48<01:31,  4.34it/s]"
     ]
    },
    {
     "name": "stdout",
     "output_type": "stream",
     "text": [
      "Task ('drive_igor/nexus_tfrecords_raw', 'brazil', 2010, 282) finished in 27 min with state: COMPLETED\n"
     ]
    },
    {
     "name": "stderr",
     "output_type": "stream",
     "text": [
      " 42%|████▏     | 284/682 [27:19<4:59:50, 45.20s/it]"
     ]
    },
    {
     "name": "stdout",
     "output_type": "stream",
     "text": [
      "Task ('drive_igor/nexus_tfrecords_raw', 'brazil', 2010, 283) finished in 27 min with state: COMPLETED\n"
     ]
    },
    {
     "name": "stderr",
     "output_type": "stream",
     "text": [
      " 42%|████▏     | 285/682 [27:19<3:30:05, 31.75s/it]"
     ]
    },
    {
     "name": "stdout",
     "output_type": "stream",
     "text": [
      "Task ('drive_igor/nexus_tfrecords_raw', 'brazil', 2010, 284) finished in 27 min with state: COMPLETED\n"
     ]
    },
    {
     "name": "stderr",
     "output_type": "stream",
     "text": [
      " 42%|████▏     | 287/682 [27:19<1:43:17, 15.69s/it]"
     ]
    },
    {
     "name": "stdout",
     "output_type": "stream",
     "text": [
      "Task ('drive_igor/nexus_tfrecords_raw', 'brazil', 2010, 285) finished in 27 min with state: COMPLETED\n",
      "Task ('drive_igor/nexus_tfrecords_raw', 'brazil', 2010, 286) finished in 27 min with state: COMPLETED\n"
     ]
    },
    {
     "name": "stderr",
     "output_type": "stream",
     "text": [
      " 42%|████▏     | 288/682 [27:20<1:12:40, 11.07s/it]"
     ]
    },
    {
     "name": "stdout",
     "output_type": "stream",
     "text": [
      "Task ('drive_igor/nexus_tfrecords_raw', 'brazil', 2010, 287) finished in 27 min with state: COMPLETED\n"
     ]
    },
    {
     "name": "stderr",
     "output_type": "stream",
     "text": [
      " 43%|████▎     | 290/682 [27:20<36:10,  5.54s/it]  "
     ]
    },
    {
     "name": "stdout",
     "output_type": "stream",
     "text": [
      "Task ('drive_igor/nexus_tfrecords_raw', 'brazil', 2010, 288) finished in 27 min with state: COMPLETED\n",
      "Task ('drive_igor/nexus_tfrecords_raw', 'brazil', 2010, 289) finished in 28 min with state: COMPLETED\n"
     ]
    },
    {
     "name": "stderr",
     "output_type": "stream",
     "text": [
      " 43%|████▎     | 291/682 [27:20<25:38,  3.94s/it]"
     ]
    },
    {
     "name": "stdout",
     "output_type": "stream",
     "text": [
      "Task ('drive_igor/nexus_tfrecords_raw', 'brazil', 2010, 290) finished in 28 min with state: COMPLETED\n"
     ]
    },
    {
     "name": "stderr",
     "output_type": "stream",
     "text": [
      " 43%|████▎     | 292/682 [27:20<18:24,  2.83s/it]"
     ]
    },
    {
     "name": "stdout",
     "output_type": "stream",
     "text": [
      "Task ('drive_igor/nexus_tfrecords_raw', 'brazil', 2010, 291) finished in 28 min with state: COMPLETED\n"
     ]
    },
    {
     "name": "stderr",
     "output_type": "stream",
     "text": [
      " 43%|████▎     | 294/682 [27:21<09:41,  1.50s/it]"
     ]
    },
    {
     "name": "stdout",
     "output_type": "stream",
     "text": [
      "Task ('drive_igor/nexus_tfrecords_raw', 'brazil', 2010, 292) finished in 28 min with state: COMPLETED\n",
      "Task ('drive_igor/nexus_tfrecords_raw', 'brazil', 2010, 293) finished in 28 min with state: COMPLETED\n"
     ]
    },
    {
     "name": "stderr",
     "output_type": "stream",
     "text": [
      " 43%|████▎     | 295/682 [27:21<07:15,  1.12s/it]"
     ]
    },
    {
     "name": "stdout",
     "output_type": "stream",
     "text": [
      "Task ('drive_igor/nexus_tfrecords_raw', 'brazil', 2010, 294) finished in 28 min with state: COMPLETED\n"
     ]
    },
    {
     "name": "stderr",
     "output_type": "stream",
     "text": [
      " 43%|████▎     | 296/682 [27:21<05:34,  1.16it/s]"
     ]
    },
    {
     "name": "stdout",
     "output_type": "stream",
     "text": [
      "Task ('drive_igor/nexus_tfrecords_raw', 'brazil', 2010, 295) finished in 28 min with state: COMPLETED\n"
     ]
    },
    {
     "name": "stderr",
     "output_type": "stream",
     "text": [
      "                                                 \r"
     ]
    },
    {
     "name": "stdout",
     "output_type": "stream",
     "text": [
      "Task ('drive_igor/nexus_tfrecords_raw', 'brazil', 2010, 296) finished in 28 min with state: COMPLETED\n"
     ]
    },
    {
     "name": "stderr",
     "output_type": "stream",
     "text": [
      " 44%|████▍     | 300/682 [27:22<02:15,  2.82it/s]"
     ]
    },
    {
     "name": "stdout",
     "output_type": "stream",
     "text": [
      "Task ('drive_igor/nexus_tfrecords_raw', 'brazil', 2010, 297) finished in 28 min with state: COMPLETED\n",
      "Task ('drive_igor/nexus_tfrecords_raw', 'brazil', 2010, 298) finished in 28 min with state: COMPLETED\n",
      "Task ('drive_igor/nexus_tfrecords_raw', 'brazil', 2010, 299) finished in 28 min with state: COMPLETED\n"
     ]
    },
    {
     "name": "stderr",
     "output_type": "stream",
     "text": [
      " 44%|████▍     | 301/682 [27:22<02:05,  3.04it/s]"
     ]
    },
    {
     "name": "stdout",
     "output_type": "stream",
     "text": [
      "Task ('drive_igor/nexus_tfrecords_raw', 'brazil', 2010, 300) finished in 28 min with state: COMPLETED\n"
     ]
    },
    {
     "name": "stderr",
     "output_type": "stream",
     "text": [
      " 44%|████▍     | 302/682 [27:23<01:57,  3.23it/s]"
     ]
    },
    {
     "name": "stdout",
     "output_type": "stream",
     "text": [
      "Task ('drive_igor/nexus_tfrecords_raw', 'brazil', 2010, 301) finished in 28 min with state: COMPLETED\n"
     ]
    },
    {
     "name": "stderr",
     "output_type": "stream",
     "text": [
      " 45%|████▍     | 304/682 [27:23<01:38,  3.82it/s]"
     ]
    },
    {
     "name": "stdout",
     "output_type": "stream",
     "text": [
      "Task ('drive_igor/nexus_tfrecords_raw', 'brazil', 2010, 302) finished in 29 min with state: COMPLETED\n",
      "Task ('drive_igor/nexus_tfrecords_raw', 'brazil', 2010, 303) finished in 29 min with state: COMPLETED\n"
     ]
    },
    {
     "name": "stderr",
     "output_type": "stream",
     "text": [
      " 45%|████▍     | 305/682 [27:23<01:37,  3.87it/s]"
     ]
    },
    {
     "name": "stdout",
     "output_type": "stream",
     "text": [
      "Task ('drive_igor/nexus_tfrecords_raw', 'brazil', 2010, 304) finished in 29 min with state: COMPLETED\n"
     ]
    },
    {
     "name": "stderr",
     "output_type": "stream",
     "text": [
      " 45%|████▌     | 307/682 [27:24<01:29,  4.19it/s]"
     ]
    },
    {
     "name": "stdout",
     "output_type": "stream",
     "text": [
      "Task ('drive_igor/nexus_tfrecords_raw', 'brazil', 2010, 305) finished in 29 min with state: COMPLETED\n",
      "Task ('drive_igor/nexus_tfrecords_raw', 'brazil', 2010, 306) finished in 29 min with state: COMPLETED\n"
     ]
    },
    {
     "name": "stderr",
     "output_type": "stream",
     "text": [
      " 45%|████▌     | 308/682 [27:24<01:31,  4.09it/s]"
     ]
    },
    {
     "name": "stdout",
     "output_type": "stream",
     "text": [
      "Task ('drive_igor/nexus_tfrecords_raw', 'brazil', 2010, 307) finished in 29 min with state: COMPLETED\n"
     ]
    },
    {
     "name": "stderr",
     "output_type": "stream",
     "text": [
      " 45%|████▌     | 309/682 [27:24<01:34,  3.95it/s]"
     ]
    },
    {
     "name": "stdout",
     "output_type": "stream",
     "text": [
      "Task ('drive_igor/nexus_tfrecords_raw', 'brazil', 2010, 308) finished in 29 min with state: COMPLETED\n"
     ]
    },
    {
     "name": "stderr",
     "output_type": "stream",
     "text": [
      " 46%|████▌     | 311/682 [27:25<01:28,  4.21it/s]"
     ]
    },
    {
     "name": "stdout",
     "output_type": "stream",
     "text": [
      "Task ('drive_igor/nexus_tfrecords_raw', 'brazil', 2010, 309) finished in 29 min with state: COMPLETED\n",
      "Task ('drive_igor/nexus_tfrecords_raw', 'brazil', 2010, 310) finished in 29 min with state: COMPLETED\n"
     ]
    },
    {
     "name": "stderr",
     "output_type": "stream",
     "text": [
      " 46%|████▌     | 312/682 [27:25<01:23,  4.44it/s]"
     ]
    },
    {
     "name": "stdout",
     "output_type": "stream",
     "text": [
      "Task ('drive_igor/nexus_tfrecords_raw', 'brazil', 2010, 311) finished in 29 min with state: COMPLETED\n"
     ]
    },
    {
     "name": "stderr",
     "output_type": "stream",
     "text": [
      " 46%|████▌     | 313/682 [27:25<01:26,  4.27it/s]"
     ]
    },
    {
     "name": "stdout",
     "output_type": "stream",
     "text": [
      "Task ('drive_igor/nexus_tfrecords_raw', 'brazil', 2010, 312) finished in 29 min with state: COMPLETED\n"
     ]
    },
    {
     "name": "stderr",
     "output_type": "stream",
     "text": [
      " 46%|████▌     | 314/682 [27:26<01:30,  4.06it/s]"
     ]
    },
    {
     "name": "stdout",
     "output_type": "stream",
     "text": [
      "Task ('drive_igor/nexus_tfrecords_raw', 'brazil', 2010, 313) finished in 29 min with state: COMPLETED\n"
     ]
    },
    {
     "name": "stderr",
     "output_type": "stream",
     "text": [
      " 46%|████▌     | 315/682 [27:26<01:32,  3.99it/s]"
     ]
    },
    {
     "name": "stdout",
     "output_type": "stream",
     "text": [
      "Task ('drive_igor/nexus_tfrecords_raw', 'brazil', 2010, 314) finished in 29 min with state: COMPLETED\n"
     ]
    },
    {
     "name": "stderr",
     "output_type": "stream",
     "text": [
      " 46%|████▋     | 316/682 [29:50<4:24:59, 43.44s/it]"
     ]
    },
    {
     "name": "stdout",
     "output_type": "stream",
     "text": [
      "Task ('drive_igor/nexus_tfrecords_raw', 'brazil', 2010, 315) finished in 29 min with state: COMPLETED\n"
     ]
    },
    {
     "name": "stderr",
     "output_type": "stream",
     "text": [
      " 46%|████▋     | 317/682 [29:50<3:05:28, 30.49s/it]"
     ]
    },
    {
     "name": "stdout",
     "output_type": "stream",
     "text": [
      "Task ('drive_igor/nexus_tfrecords_raw', 'brazil', 2010, 316) finished in 29 min with state: COMPLETED\n"
     ]
    },
    {
     "name": "stderr",
     "output_type": "stream",
     "text": [
      " 47%|████▋     | 318/682 [29:51<2:09:56, 21.42s/it]"
     ]
    },
    {
     "name": "stdout",
     "output_type": "stream",
     "text": [
      "Task ('drive_igor/nexus_tfrecords_raw', 'brazil', 2010, 317) finished in 29 min with state: COMPLETED\n"
     ]
    },
    {
     "name": "stderr",
     "output_type": "stream",
     "text": [
      " 47%|████▋     | 320/682 [29:51<1:03:59, 10.61s/it]"
     ]
    },
    {
     "name": "stdout",
     "output_type": "stream",
     "text": [
      "Task ('drive_igor/nexus_tfrecords_raw', 'brazil', 2010, 318) finished in 29 min with state: COMPLETED\n",
      "Task ('drive_igor/nexus_tfrecords_raw', 'brazil', 2010, 319) finished in 29 min with state: COMPLETED\n"
     ]
    },
    {
     "name": "stderr",
     "output_type": "stream",
     "text": [
      " 47%|████▋     | 322/682 [29:52<31:53,  5.32s/it]  "
     ]
    },
    {
     "name": "stdout",
     "output_type": "stream",
     "text": [
      "Task ('drive_igor/nexus_tfrecords_raw', 'brazil', 2010, 320) finished in 29 min with state: COMPLETED\n",
      "Task ('drive_igor/nexus_tfrecords_raw', 'brazil', 2010, 321) finished in 30 min with state: COMPLETED\n"
     ]
    },
    {
     "name": "stderr",
     "output_type": "stream",
     "text": [
      " 47%|████▋     | 323/682 [29:52<22:43,  3.80s/it]"
     ]
    },
    {
     "name": "stdout",
     "output_type": "stream",
     "text": [
      "Task ('drive_igor/nexus_tfrecords_raw', 'brazil', 2010, 322) finished in 30 min with state: COMPLETED\n"
     ]
    },
    {
     "name": "stderr",
     "output_type": "stream",
     "text": [
      " 48%|████▊     | 324/682 [29:52<16:14,  2.72s/it]"
     ]
    },
    {
     "name": "stdout",
     "output_type": "stream",
     "text": [
      "Task ('drive_igor/nexus_tfrecords_raw', 'brazil', 2010, 323) finished in 30 min with state: COMPLETED\n"
     ]
    },
    {
     "name": "stderr",
     "output_type": "stream",
     "text": [
      " 48%|████▊     | 325/682 [29:52<11:48,  1.98s/it]"
     ]
    },
    {
     "name": "stdout",
     "output_type": "stream",
     "text": [
      "Task ('drive_igor/nexus_tfrecords_raw', 'brazil', 2010, 324) finished in 30 min with state: COMPLETED\n"
     ]
    },
    {
     "name": "stderr",
     "output_type": "stream",
     "text": [
      " 48%|████▊     | 326/682 [29:53<08:40,  1.46s/it]"
     ]
    },
    {
     "name": "stdout",
     "output_type": "stream",
     "text": [
      "Task ('drive_igor/nexus_tfrecords_raw', 'brazil', 2010, 325) finished in 30 min with state: COMPLETED\n"
     ]
    },
    {
     "name": "stderr",
     "output_type": "stream",
     "text": [
      " 48%|████▊     | 328/682 [29:53<04:51,  1.22it/s]"
     ]
    },
    {
     "name": "stdout",
     "output_type": "stream",
     "text": [
      "Task ('drive_igor/nexus_tfrecords_raw', 'brazil', 2010, 326) finished in 30 min with state: COMPLETED\n",
      "Task ('drive_igor/nexus_tfrecords_raw', 'brazil', 2010, 327) finished in 30 min with state: COMPLETED\n"
     ]
    },
    {
     "name": "stderr",
     "output_type": "stream",
     "text": [
      " 48%|████▊     | 330/682 [29:53<02:50,  2.07it/s]"
     ]
    },
    {
     "name": "stdout",
     "output_type": "stream",
     "text": [
      "Task ('drive_igor/nexus_tfrecords_raw', 'brazil', 2010, 328) finished in 30 min with state: COMPLETED\n",
      "Task ('drive_igor/nexus_tfrecords_raw', 'brazil', 2010, 329) finished in 30 min with state: COMPLETED\n"
     ]
    },
    {
     "name": "stderr",
     "output_type": "stream",
     "text": [
      " 49%|████▊     | 331/682 [29:54<02:25,  2.41it/s]"
     ]
    },
    {
     "name": "stdout",
     "output_type": "stream",
     "text": [
      "Task ('drive_igor/nexus_tfrecords_raw', 'brazil', 2010, 330) finished in 30 min with state: COMPLETED\n"
     ]
    },
    {
     "name": "stderr",
     "output_type": "stream",
     "text": [
      " 49%|████▊     | 332/682 [29:54<02:08,  2.72it/s]"
     ]
    },
    {
     "name": "stdout",
     "output_type": "stream",
     "text": [
      "Task ('drive_igor/nexus_tfrecords_raw', 'brazil', 2010, 331) finished in 30 min with state: COMPLETED\n"
     ]
    },
    {
     "name": "stderr",
     "output_type": "stream",
     "text": [
      " 49%|████▉     | 333/682 [29:54<01:57,  2.98it/s]"
     ]
    },
    {
     "name": "stdout",
     "output_type": "stream",
     "text": [
      "Task ('drive_igor/nexus_tfrecords_raw', 'brazil', 2010, 332) finished in 30 min with state: COMPLETED\n"
     ]
    },
    {
     "name": "stderr",
     "output_type": "stream",
     "text": [
      " 49%|████▉     | 334/682 [29:54<01:50,  3.14it/s]"
     ]
    },
    {
     "name": "stdout",
     "output_type": "stream",
     "text": [
      "Task ('drive_igor/nexus_tfrecords_raw', 'brazil', 2010, 333) finished in 31 min with state: COMPLETED\n"
     ]
    },
    {
     "name": "stderr",
     "output_type": "stream",
     "text": [
      " 49%|████▉     | 335/682 [29:55<01:44,  3.32it/s]"
     ]
    },
    {
     "name": "stdout",
     "output_type": "stream",
     "text": [
      "Task ('drive_igor/nexus_tfrecords_raw', 'brazil', 2010, 334) finished in 31 min with state: COMPLETED\n"
     ]
    },
    {
     "name": "stderr",
     "output_type": "stream",
     "text": [
      " 49%|████▉     | 336/682 [29:55<01:40,  3.45it/s]"
     ]
    },
    {
     "name": "stdout",
     "output_type": "stream",
     "text": [
      "Task ('drive_igor/nexus_tfrecords_raw', 'brazil', 2010, 335) finished in 31 min with state: COMPLETED\n"
     ]
    },
    {
     "name": "stderr",
     "output_type": "stream",
     "text": [
      " 49%|████▉     | 337/682 [29:55<01:37,  3.55it/s]"
     ]
    },
    {
     "name": "stdout",
     "output_type": "stream",
     "text": [
      "Task ('drive_igor/nexus_tfrecords_raw', 'brazil', 2010, 336) finished in 31 min with state: COMPLETED\n"
     ]
    },
    {
     "name": "stderr",
     "output_type": "stream",
     "text": [
      " 50%|████▉     | 338/682 [29:55<01:34,  3.65it/s]"
     ]
    },
    {
     "name": "stdout",
     "output_type": "stream",
     "text": [
      "Task ('drive_igor/nexus_tfrecords_raw', 'brazil', 2010, 337) finished in 31 min with state: COMPLETED\n"
     ]
    },
    {
     "name": "stderr",
     "output_type": "stream",
     "text": [
      " 50%|████▉     | 340/682 [29:56<01:20,  4.24it/s]"
     ]
    },
    {
     "name": "stdout",
     "output_type": "stream",
     "text": [
      "Task ('drive_igor/nexus_tfrecords_raw', 'brazil', 2010, 338) finished in 31 min with state: COMPLETED\n",
      "Task ('drive_igor/nexus_tfrecords_raw', 'brazil', 2010, 339) finished in 31 min with state: COMPLETED\n"
     ]
    },
    {
     "name": "stderr",
     "output_type": "stream",
     "text": [
      " 50%|█████     | 341/682 [29:56<01:17,  4.40it/s]"
     ]
    },
    {
     "name": "stdout",
     "output_type": "stream",
     "text": [
      "Task ('drive_igor/nexus_tfrecords_raw', 'brazil', 2010, 340) finished in 31 min with state: COMPLETED\n"
     ]
    },
    {
     "name": "stderr",
     "output_type": "stream",
     "text": [
      " 50%|█████     | 343/682 [29:56<01:15,  4.50it/s]"
     ]
    },
    {
     "name": "stdout",
     "output_type": "stream",
     "text": [
      "Task ('drive_igor/nexus_tfrecords_raw', 'brazil', 2010, 341) finished in 31 min with state: COMPLETED\n",
      "Task ('drive_igor/nexus_tfrecords_raw', 'brazil', 2010, 342) finished in 31 min with state: COMPLETED\n"
     ]
    },
    {
     "name": "stderr",
     "output_type": "stream",
     "text": [
      " 50%|█████     | 344/682 [29:57<01:12,  4.69it/s]"
     ]
    },
    {
     "name": "stdout",
     "output_type": "stream",
     "text": [
      "Task ('drive_igor/nexus_tfrecords_raw', 'brazil', 2010, 343) finished in 31 min with state: COMPLETED\n"
     ]
    },
    {
     "name": "stderr",
     "output_type": "stream",
     "text": [
      " 51%|█████     | 345/682 [29:57<01:22,  4.09it/s]"
     ]
    },
    {
     "name": "stdout",
     "output_type": "stream",
     "text": [
      "Task ('drive_igor/nexus_tfrecords_raw', 'brazil', 2010, 344) finished in 31 min with state: COMPLETED\n"
     ]
    },
    {
     "name": "stderr",
     "output_type": "stream",
     "text": [
      " 51%|█████     | 346/682 [29:57<01:20,  4.16it/s]"
     ]
    },
    {
     "name": "stdout",
     "output_type": "stream",
     "text": [
      "Task ('drive_igor/nexus_tfrecords_raw', 'brazil', 2010, 345) finished in 31 min with state: COMPLETED\n"
     ]
    },
    {
     "name": "stderr",
     "output_type": "stream",
     "text": [
      " 51%|█████     | 348/682 [29:57<01:21,  4.09it/s]"
     ]
    },
    {
     "name": "stdout",
     "output_type": "stream",
     "text": [
      "Task ('drive_igor/nexus_tfrecords_raw', 'brazil', 2010, 346) finished in 31 min with state: COMPLETED\n",
      "Task ('drive_igor/nexus_tfrecords_raw', 'brazil', 2010, 347) finished in 31 min with state: COMPLETED\n"
     ]
    },
    {
     "name": "stderr",
     "output_type": "stream",
     "text": [
      " 51%|█████     | 349/682 [29:58<01:05,  5.06it/s]"
     ]
    },
    {
     "name": "stdout",
     "output_type": "stream",
     "text": [
      "Task ('drive_igor/nexus_tfrecords_raw', 'brazil', 2010, 348) finished in 32 min with state: COMPLETED\n"
     ]
    },
    {
     "name": "stderr",
     "output_type": "stream",
     "text": [
      " 51%|█████▏    | 350/682 [29:58<01:11,  4.65it/s]"
     ]
    },
    {
     "name": "stdout",
     "output_type": "stream",
     "text": [
      "Task ('drive_igor/nexus_tfrecords_raw', 'brazil', 2010, 349) finished in 32 min with state: COMPLETED\n"
     ]
    },
    {
     "name": "stderr",
     "output_type": "stream",
     "text": [
      " 51%|█████▏    | 351/682 [29:58<01:14,  4.45it/s]"
     ]
    },
    {
     "name": "stdout",
     "output_type": "stream",
     "text": [
      "Task ('drive_igor/nexus_tfrecords_raw', 'brazil', 2010, 350) finished in 32 min with state: COMPLETED\n"
     ]
    },
    {
     "name": "stderr",
     "output_type": "stream",
     "text": [
      " 52%|█████▏    | 352/682 [29:58<01:17,  4.28it/s]"
     ]
    },
    {
     "name": "stdout",
     "output_type": "stream",
     "text": [
      "Task ('drive_igor/nexus_tfrecords_raw', 'brazil', 2010, 351) finished in 32 min with state: COMPLETED\n"
     ]
    },
    {
     "name": "stderr",
     "output_type": "stream",
     "text": [
      " 52%|█████▏    | 354/682 [32:10<2:24:33, 26.44s/it]"
     ]
    },
    {
     "name": "stdout",
     "output_type": "stream",
     "text": [
      "Task ('drive_igor/nexus_tfrecords_raw', 'brazil', 2010, 352) finished in 32 min with state: COMPLETED\n",
      "Task ('drive_igor/nexus_tfrecords_raw', 'brazil', 2010, 353) finished in 32 min with state: COMPLETED\n"
     ]
    },
    {
     "name": "stderr",
     "output_type": "stream",
     "text": [
      " 52%|█████▏    | 355/682 [32:10<1:42:42, 18.84s/it]"
     ]
    },
    {
     "name": "stdout",
     "output_type": "stream",
     "text": [
      "Task ('drive_igor/nexus_tfrecords_raw', 'brazil', 2010, 354) finished in 32 min with state: COMPLETED\n"
     ]
    },
    {
     "name": "stderr",
     "output_type": "stream",
     "text": [
      " 52%|█████▏    | 357/682 [32:11<51:24,  9.49s/it]  "
     ]
    },
    {
     "name": "stdout",
     "output_type": "stream",
     "text": [
      "Task ('drive_igor/nexus_tfrecords_raw', 'brazil', 2010, 355) finished in 32 min with state: COMPLETED\n",
      "Task ('drive_igor/nexus_tfrecords_raw', 'brazil', 2010, 356) finished in 32 min with state: COMPLETED\n"
     ]
    },
    {
     "name": "stderr",
     "output_type": "stream",
     "text": [
      " 53%|█████▎    | 359/682 [32:11<25:45,  4.79s/it]"
     ]
    },
    {
     "name": "stdout",
     "output_type": "stream",
     "text": [
      "Task ('drive_igor/nexus_tfrecords_raw', 'brazil', 2010, 357) finished in 32 min with state: COMPLETED\n",
      "Task ('drive_igor/nexus_tfrecords_raw', 'brazil', 2010, 358) finished in 32 min with state: COMPLETED\n"
     ]
    },
    {
     "name": "stderr",
     "output_type": "stream",
     "text": [
      " 53%|█████▎    | 361/682 [32:11<13:10,  2.46s/it]"
     ]
    },
    {
     "name": "stdout",
     "output_type": "stream",
     "text": [
      "Task ('drive_igor/nexus_tfrecords_raw', 'brazil', 2010, 359) finished in 32 min with state: COMPLETED\n",
      "Task ('drive_igor/nexus_tfrecords_raw', 'brazil', 2010, 360) finished in 33 min with state: COMPLETED\n"
     ]
    },
    {
     "name": "stderr",
     "output_type": "stream",
     "text": [
      " 53%|█████▎    | 363/682 [32:12<07:01,  1.32s/it]"
     ]
    },
    {
     "name": "stdout",
     "output_type": "stream",
     "text": [
      "Task ('drive_igor/nexus_tfrecords_raw', 'brazil', 2010, 361) finished in 33 min with state: COMPLETED\n",
      "Task ('drive_igor/nexus_tfrecords_raw', 'brazil', 2010, 362) finished in 33 min with state: COMPLETED\n"
     ]
    },
    {
     "name": "stderr",
     "output_type": "stream",
     "text": [
      " 54%|█████▎    | 365/682 [32:12<03:55,  1.35it/s]"
     ]
    },
    {
     "name": "stdout",
     "output_type": "stream",
     "text": [
      "Task ('drive_igor/nexus_tfrecords_raw', 'brazil', 2010, 363) finished in 33 min with state: COMPLETED\n",
      "Task ('drive_igor/nexus_tfrecords_raw', 'brazil', 2010, 364) finished in 33 min with state: COMPLETED\n"
     ]
    },
    {
     "name": "stderr",
     "output_type": "stream",
     "text": [
      " 54%|█████▎    | 366/682 [32:13<03:09,  1.67it/s]"
     ]
    },
    {
     "name": "stdout",
     "output_type": "stream",
     "text": [
      "Task ('drive_igor/nexus_tfrecords_raw', 'brazil', 2010, 365) finished in 33 min with state: COMPLETED\n"
     ]
    },
    {
     "name": "stderr",
     "output_type": "stream",
     "text": [
      " 54%|█████▍    | 367/682 [32:13<02:36,  2.01it/s]"
     ]
    },
    {
     "name": "stdout",
     "output_type": "stream",
     "text": [
      "Task ('drive_igor/nexus_tfrecords_raw', 'brazil', 2010, 366) finished in 33 min with state: COMPLETED\n"
     ]
    },
    {
     "name": "stderr",
     "output_type": "stream",
     "text": [
      " 54%|█████▍    | 369/682 [32:13<01:51,  2.81it/s]"
     ]
    },
    {
     "name": "stdout",
     "output_type": "stream",
     "text": [
      "Task ('drive_igor/nexus_tfrecords_raw', 'brazil', 2010, 367) finished in 33 min with state: COMPLETED\n",
      "Task ('drive_igor/nexus_tfrecords_raw', 'brazil', 2010, 368) finished in 34 min with state: COMPLETED\n"
     ]
    },
    {
     "name": "stderr",
     "output_type": "stream",
     "text": [
      " 54%|█████▍    | 370/682 [32:13<01:37,  3.19it/s]"
     ]
    },
    {
     "name": "stdout",
     "output_type": "stream",
     "text": [
      "Task ('drive_igor/nexus_tfrecords_raw', 'brazil', 2010, 369) finished in 34 min with state: COMPLETED\n"
     ]
    },
    {
     "name": "stderr",
     "output_type": "stream",
     "text": [
      " 55%|█████▍    | 372/682 [32:14<01:22,  3.76it/s]"
     ]
    },
    {
     "name": "stdout",
     "output_type": "stream",
     "text": [
      "Task ('drive_igor/nexus_tfrecords_raw', 'brazil', 2010, 370) finished in 34 min with state: COMPLETED\n",
      "Task ('drive_igor/nexus_tfrecords_raw', 'brazil', 2010, 371) finished in 34 min with state: COMPLETED\n"
     ]
    },
    {
     "name": "stderr",
     "output_type": "stream",
     "text": [
      " 55%|█████▍    | 373/682 [32:14<01:25,  3.60it/s]"
     ]
    },
    {
     "name": "stdout",
     "output_type": "stream",
     "text": [
      "Task ('drive_igor/nexus_tfrecords_raw', 'brazil', 2010, 372) finished in 34 min with state: COMPLETED\n"
     ]
    },
    {
     "name": "stderr",
     "output_type": "stream",
     "text": [
      " 55%|█████▍    | 374/682 [32:15<01:24,  3.66it/s]"
     ]
    },
    {
     "name": "stdout",
     "output_type": "stream",
     "text": [
      "Task ('drive_igor/nexus_tfrecords_raw', 'brazil', 2010, 373) finished in 34 min with state: COMPLETED\n"
     ]
    },
    {
     "name": "stderr",
     "output_type": "stream",
     "text": [
      " 55%|█████▍    | 375/682 [34:20<3:14:00, 37.92s/it]"
     ]
    },
    {
     "name": "stdout",
     "output_type": "stream",
     "text": [
      "Task ('drive_igor/nexus_tfrecords_raw', 'brazil', 2010, 374) finished in 34 min with state: COMPLETED\n"
     ]
    },
    {
     "name": "stderr",
     "output_type": "stream",
     "text": [
      " 55%|█████▌    | 376/682 [34:21<2:15:52, 26.64s/it]"
     ]
    },
    {
     "name": "stdout",
     "output_type": "stream",
     "text": [
      "Task ('drive_igor/nexus_tfrecords_raw', 'brazil', 2010, 375) finished in 34 min with state: COMPLETED\n"
     ]
    },
    {
     "name": "stderr",
     "output_type": "stream",
     "text": [
      " 55%|█████▌    | 377/682 [34:21<1:35:11, 18.73s/it]"
     ]
    },
    {
     "name": "stdout",
     "output_type": "stream",
     "text": [
      "Task ('drive_igor/nexus_tfrecords_raw', 'brazil', 2010, 376) finished in 34 min with state: COMPLETED\n"
     ]
    },
    {
     "name": "stderr",
     "output_type": "stream",
     "text": [
      " 55%|█████▌    | 378/682 [34:21<1:06:46, 13.18s/it]"
     ]
    },
    {
     "name": "stdout",
     "output_type": "stream",
     "text": [
      "Task ('drive_igor/nexus_tfrecords_raw', 'brazil', 2010, 377) finished in 34 min with state: COMPLETED\n"
     ]
    },
    {
     "name": "stderr",
     "output_type": "stream",
     "text": [
      " 56%|█████▌    | 380/682 [34:22<33:04,  6.57s/it]  "
     ]
    },
    {
     "name": "stdout",
     "output_type": "stream",
     "text": [
      "Task ('drive_igor/nexus_tfrecords_raw', 'brazil', 2010, 378) finished in 34 min with state: COMPLETED\n",
      "Task ('drive_igor/nexus_tfrecords_raw', 'brazil', 2010, 379) finished in 34 min with state: COMPLETED\n"
     ]
    },
    {
     "name": "stderr",
     "output_type": "stream",
     "text": [
      " 56%|█████▌    | 381/682 [34:22<23:27,  4.68s/it]"
     ]
    },
    {
     "name": "stdout",
     "output_type": "stream",
     "text": [
      "Task ('drive_igor/nexus_tfrecords_raw', 'brazil', 2010, 380) finished in 34 min with state: COMPLETED\n"
     ]
    },
    {
     "name": "stderr",
     "output_type": "stream",
     "text": [
      " 56%|█████▌    | 383/682 [34:22<11:58,  2.40s/it]"
     ]
    },
    {
     "name": "stdout",
     "output_type": "stream",
     "text": [
      "Task ('drive_igor/nexus_tfrecords_raw', 'brazil', 2010, 381) finished in 34 min with state: COMPLETED\n",
      "Task ('drive_igor/nexus_tfrecords_raw', 'brazil', 2010, 382) finished in 35 min with state: COMPLETED\n"
     ]
    },
    {
     "name": "stderr",
     "output_type": "stream",
     "text": [
      " 56%|█████▋    | 384/682 [34:22<08:40,  1.75s/it]"
     ]
    },
    {
     "name": "stdout",
     "output_type": "stream",
     "text": [
      "Task ('drive_igor/nexus_tfrecords_raw', 'brazil', 2010, 383) finished in 35 min with state: COMPLETED\n"
     ]
    },
    {
     "name": "stderr",
     "output_type": "stream",
     "text": [
      " 56%|█████▋    | 385/682 [34:23<06:22,  1.29s/it]"
     ]
    },
    {
     "name": "stdout",
     "output_type": "stream",
     "text": [
      "Task ('drive_igor/nexus_tfrecords_raw', 'brazil', 2010, 384) finished in 35 min with state: COMPLETED\n"
     ]
    },
    {
     "name": "stderr",
     "output_type": "stream",
     "text": [
      " 57%|█████▋    | 387/682 [34:23<03:40,  1.34it/s]"
     ]
    },
    {
     "name": "stdout",
     "output_type": "stream",
     "text": [
      "Task ('drive_igor/nexus_tfrecords_raw', 'brazil', 2010, 385) finished in 35 min with state: COMPLETED\n",
      "Task ('drive_igor/nexus_tfrecords_raw', 'brazil', 2010, 386) finished in 35 min with state: COMPLETED\n"
     ]
    },
    {
     "name": "stderr",
     "output_type": "stream",
     "text": [
      " 57%|█████▋    | 388/682 [34:23<02:51,  1.72it/s]"
     ]
    },
    {
     "name": "stdout",
     "output_type": "stream",
     "text": [
      "Task ('drive_igor/nexus_tfrecords_raw', 'brazil', 2010, 387) finished in 35 min with state: COMPLETED\n"
     ]
    },
    {
     "name": "stderr",
     "output_type": "stream",
     "text": [
      " 57%|█████▋    | 389/682 [34:24<02:17,  2.13it/s]"
     ]
    },
    {
     "name": "stdout",
     "output_type": "stream",
     "text": [
      "Task ('drive_igor/nexus_tfrecords_raw', 'brazil', 2010, 388) finished in 35 min with state: COMPLETED\n"
     ]
    },
    {
     "name": "stderr",
     "output_type": "stream",
     "text": [
      " 57%|█████▋    | 390/682 [34:24<01:55,  2.53it/s]"
     ]
    },
    {
     "name": "stdout",
     "output_type": "stream",
     "text": [
      "Task ('drive_igor/nexus_tfrecords_raw', 'brazil', 2010, 389) finished in 35 min with state: COMPLETED\n"
     ]
    },
    {
     "name": "stderr",
     "output_type": "stream",
     "text": [
      " 57%|█████▋    | 391/682 [34:24<02:21,  2.06it/s]"
     ]
    },
    {
     "name": "stdout",
     "output_type": "stream",
     "text": [
      "Task ('drive_igor/nexus_tfrecords_raw', 'brazil', 2010, 390) finished in 35 min with state: COMPLETED\n"
     ]
    },
    {
     "name": "stderr",
     "output_type": "stream",
     "text": [
      " 57%|█████▋    | 392/682 [34:25<02:01,  2.40it/s]"
     ]
    },
    {
     "name": "stdout",
     "output_type": "stream",
     "text": [
      "Task ('drive_igor/nexus_tfrecords_raw', 'brazil', 2010, 391) finished in 36 min with state: COMPLETED\n"
     ]
    },
    {
     "name": "stderr",
     "output_type": "stream",
     "text": [
      " 58%|█████▊    | 393/682 [34:25<01:46,  2.70it/s]"
     ]
    },
    {
     "name": "stdout",
     "output_type": "stream",
     "text": [
      "Task ('drive_igor/nexus_tfrecords_raw', 'brazil', 2010, 392) finished in 36 min with state: COMPLETED\n"
     ]
    },
    {
     "name": "stderr",
     "output_type": "stream",
     "text": [
      " 58%|█████▊    | 395/682 [34:25<01:23,  3.43it/s]"
     ]
    },
    {
     "name": "stdout",
     "output_type": "stream",
     "text": [
      "Task ('drive_igor/nexus_tfrecords_raw', 'brazil', 2010, 393) finished in 36 min with state: COMPLETED\n",
      "Task ('drive_igor/nexus_tfrecords_raw', 'brazil', 2010, 394) finished in 36 min with state: COMPLETED\n"
     ]
    },
    {
     "name": "stderr",
     "output_type": "stream",
     "text": [
      " 58%|█████▊    | 396/682 [34:26<01:18,  3.64it/s]"
     ]
    },
    {
     "name": "stdout",
     "output_type": "stream",
     "text": [
      "Task ('drive_igor/nexus_tfrecords_raw', 'brazil', 2010, 395) finished in 36 min with state: COMPLETED\n"
     ]
    },
    {
     "name": "stderr",
     "output_type": "stream",
     "text": [
      " 58%|█████▊    | 397/682 [34:26<01:15,  3.78it/s]"
     ]
    },
    {
     "name": "stdout",
     "output_type": "stream",
     "text": [
      "Task ('drive_igor/nexus_tfrecords_raw', 'brazil', 2010, 396) finished in 36 min with state: COMPLETED\n"
     ]
    },
    {
     "name": "stderr",
     "output_type": "stream",
     "text": [
      " 58%|█████▊    | 398/682 [36:30<2:56:44, 37.34s/it]"
     ]
    },
    {
     "name": "stdout",
     "output_type": "stream",
     "text": [
      "Task ('drive_igor/nexus_tfrecords_raw', 'brazil', 2010, 397) finished in 36 min with state: COMPLETED\n"
     ]
    },
    {
     "name": "stderr",
     "output_type": "stream",
     "text": [
      " 59%|█████▊    | 400/682 [36:30<2:03:09, 26.20s/it]"
     ]
    },
    {
     "name": "stdout",
     "output_type": "stream",
     "text": [
      "Task ('drive_igor/nexus_tfrecords_raw', 'brazil', 2010, 398) finished in 36 min with state: COMPLETED\n",
      "Task ('drive_igor/nexus_tfrecords_raw', 'brazil', 2010, 399) finished in 36 min with state: COMPLETED\n"
     ]
    },
    {
     "name": "stderr",
     "output_type": "stream",
     "text": [
      " 59%|█████▉    | 401/682 [36:30<1:06:24, 14.18s/it]"
     ]
    },
    {
     "name": "stdout",
     "output_type": "stream",
     "text": [
      "Task ('drive_igor/nexus_tfrecords_raw', 'brazil', 2010, 400) finished in 36 min with state: COMPLETED\n"
     ]
    },
    {
     "name": "stderr",
     "output_type": "stream",
     "text": [
      " 59%|█████▉    | 403/682 [36:31<36:57,  7.95s/it]  "
     ]
    },
    {
     "name": "stdout",
     "output_type": "stream",
     "text": [
      "Task ('drive_igor/nexus_tfrecords_raw', 'brazil', 2010, 401) finished in 36 min with state: COMPLETED\n",
      "Task ('drive_igor/nexus_tfrecords_raw', 'brazil', 2010, 402) finished in 36 min with state: COMPLETED\n"
     ]
    },
    {
     "name": "stderr",
     "output_type": "stream",
     "text": [
      " 59%|█████▉    | 405/682 [36:31<19:43,  4.27s/it]"
     ]
    },
    {
     "name": "stdout",
     "output_type": "stream",
     "text": [
      "Task ('drive_igor/nexus_tfrecords_raw', 'brazil', 2010, 403) finished in 37 min with state: COMPLETED\n",
      "Task ('drive_igor/nexus_tfrecords_raw', 'brazil', 2010, 404) finished in 37 min with state: COMPLETED\n"
     ]
    },
    {
     "name": "stderr",
     "output_type": "stream",
     "text": [
      " 60%|█████▉    | 407/682 [36:31<14:14,  3.11s/it]"
     ]
    },
    {
     "name": "stdout",
     "output_type": "stream",
     "text": [
      "Task ('drive_igor/nexus_tfrecords_raw', 'brazil', 2010, 405) finished in 37 min with state: COMPLETED\n",
      "Task ('drive_igor/nexus_tfrecords_raw', 'brazil', 2010, 406) finished in 37 min with state: COMPLETED\n"
     ]
    },
    {
     "name": "stderr",
     "output_type": "stream",
     "text": [
      " 60%|█████▉    | 408/682 [36:31<08:02,  1.76s/it]"
     ]
    },
    {
     "name": "stdout",
     "output_type": "stream",
     "text": [
      "Task ('drive_igor/nexus_tfrecords_raw', 'brazil', 2010, 407) finished in 37 min with state: COMPLETED\n"
     ]
    },
    {
     "name": "stderr",
     "output_type": "stream",
     "text": [
      " 60%|██████    | 410/682 [36:32<04:55,  1.09s/it]"
     ]
    },
    {
     "name": "stdout",
     "output_type": "stream",
     "text": [
      "Task ('drive_igor/nexus_tfrecords_raw', 'brazil', 2010, 408) finished in 37 min with state: COMPLETED\n",
      "Task ('drive_igor/nexus_tfrecords_raw', 'brazil', 2010, 409) finished in 37 min with state: COMPLETED\n"
     ]
    },
    {
     "name": "stderr",
     "output_type": "stream",
     "text": [
      " 60%|██████    | 412/682 [36:32<03:53,  1.16it/s]"
     ]
    },
    {
     "name": "stdout",
     "output_type": "stream",
     "text": [
      "Task ('drive_igor/nexus_tfrecords_raw', 'brazil', 2010, 410) finished in 37 min with state: COMPLETED\n",
      "Task ('drive_igor/nexus_tfrecords_raw', 'brazil', 2010, 411) finished in 37 min with state: COMPLETED\n"
     ]
    },
    {
     "name": "stderr",
     "output_type": "stream",
     "text": [
      " 61%|██████    | 414/682 [36:33<02:01,  2.20it/s]"
     ]
    },
    {
     "name": "stdout",
     "output_type": "stream",
     "text": [
      "Task ('drive_igor/nexus_tfrecords_raw', 'brazil', 2010, 412) finished in 38 min with state: COMPLETED\n",
      "Task ('drive_igor/nexus_tfrecords_raw', 'brazil', 2010, 413) finished in 37 min with state: COMPLETED\n"
     ]
    },
    {
     "name": "stderr",
     "output_type": "stream",
     "text": [
      " 61%|██████    | 416/682 [36:33<01:33,  2.86it/s]"
     ]
    },
    {
     "name": "stdout",
     "output_type": "stream",
     "text": [
      "Task ('drive_igor/nexus_tfrecords_raw', 'brazil', 2010, 414) finished in 37 min with state: COMPLETED\n",
      "Task ('drive_igor/nexus_tfrecords_raw', 'brazil', 2010, 415) finished in 37 min with state: COMPLETED\n"
     ]
    },
    {
     "name": "stderr",
     "output_type": "stream",
     "text": [
      " 61%|██████    | 417/682 [36:33<01:26,  3.07it/s]"
     ]
    },
    {
     "name": "stdout",
     "output_type": "stream",
     "text": [
      "Task ('drive_igor/nexus_tfrecords_raw', 'brazil', 2010, 416) finished in 37 min with state: COMPLETED\n"
     ]
    },
    {
     "name": "stderr",
     "output_type": "stream",
     "text": [
      " 61%|██████▏   | 418/682 [36:34<01:20,  3.27it/s]"
     ]
    },
    {
     "name": "stdout",
     "output_type": "stream",
     "text": [
      "Task ('drive_igor/nexus_tfrecords_raw', 'brazil', 2010, 417) finished in 37 min with state: COMPLETED\n"
     ]
    },
    {
     "name": "stderr",
     "output_type": "stream",
     "text": [
      " 61%|██████▏   | 419/682 [36:34<01:14,  3.53it/s]"
     ]
    },
    {
     "name": "stdout",
     "output_type": "stream",
     "text": [
      "Task ('drive_igor/nexus_tfrecords_raw', 'brazil', 2010, 418) finished in 37 min with state: COMPLETED\n"
     ]
    },
    {
     "name": "stderr",
     "output_type": "stream",
     "text": [
      " 62%|██████▏   | 420/682 [36:34<01:12,  3.63it/s]"
     ]
    },
    {
     "name": "stdout",
     "output_type": "stream",
     "text": [
      "Task ('drive_igor/nexus_tfrecords_raw', 'brazil', 2010, 419) finished in 37 min with state: COMPLETED\n"
     ]
    },
    {
     "name": "stderr",
     "output_type": "stream",
     "text": [
      " 62%|██████▏   | 421/682 [38:31<2:29:35, 34.39s/it]"
     ]
    },
    {
     "name": "stdout",
     "output_type": "stream",
     "text": [
      "Task ('drive_igor/nexus_tfrecords_raw', 'brazil', 2010, 420) finished in 38 min with state: COMPLETED\n"
     ]
    },
    {
     "name": "stderr",
     "output_type": "stream",
     "text": [
      " 62%|██████▏   | 423/682 [38:31<1:14:01, 17.15s/it]"
     ]
    },
    {
     "name": "stdout",
     "output_type": "stream",
     "text": [
      "Task ('drive_igor/nexus_tfrecords_raw', 'brazil', 2010, 421) finished in 38 min with state: COMPLETED\n",
      "Task ('drive_igor/nexus_tfrecords_raw', 'brazil', 2010, 422) finished in 39 min with state: COMPLETED\n"
     ]
    },
    {
     "name": "stderr",
     "output_type": "stream",
     "text": [
      " 62%|██████▏   | 424/682 [38:31<52:02, 12.10s/it]  "
     ]
    },
    {
     "name": "stdout",
     "output_type": "stream",
     "text": [
      "Task ('drive_igor/nexus_tfrecords_raw', 'brazil', 2010, 423) finished in 38 min with state: COMPLETED\n"
     ]
    },
    {
     "name": "stderr",
     "output_type": "stream",
     "text": [
      " 62%|██████▏   | 425/682 [38:31<36:42,  8.57s/it]"
     ]
    },
    {
     "name": "stdout",
     "output_type": "stream",
     "text": [
      "Task ('drive_igor/nexus_tfrecords_raw', 'brazil', 2010, 424) finished in 38 min with state: COMPLETED\n"
     ]
    },
    {
     "name": "stderr",
     "output_type": "stream",
     "text": [
      " 63%|██████▎   | 427/682 [38:32<18:22,  4.32s/it]"
     ]
    },
    {
     "name": "stdout",
     "output_type": "stream",
     "text": [
      "Task ('drive_igor/nexus_tfrecords_raw', 'brazil', 2010, 425) finished in 38 min with state: COMPLETED\n",
      "Task ('drive_igor/nexus_tfrecords_raw', 'brazil', 2010, 426) finished in 38 min with state: COMPLETED\n"
     ]
    },
    {
     "name": "stderr",
     "output_type": "stream",
     "text": [
      " 63%|██████▎   | 428/682 [38:32<13:04,  3.09s/it]"
     ]
    },
    {
     "name": "stdout",
     "output_type": "stream",
     "text": [
      "Task ('drive_igor/nexus_tfrecords_raw', 'brazil', 2010, 427) finished in 38 min with state: COMPLETED\n"
     ]
    },
    {
     "name": "stderr",
     "output_type": "stream",
     "text": [
      " 63%|██████▎   | 429/682 [38:32<09:28,  2.25s/it]"
     ]
    },
    {
     "name": "stdout",
     "output_type": "stream",
     "text": [
      "Task ('drive_igor/nexus_tfrecords_raw', 'brazil', 2010, 428) finished in 38 min with state: COMPLETED\n"
     ]
    },
    {
     "name": "stderr",
     "output_type": "stream",
     "text": [
      " 63%|██████▎   | 430/682 [38:33<06:51,  1.63s/it]"
     ]
    },
    {
     "name": "stdout",
     "output_type": "stream",
     "text": [
      "Task ('drive_igor/nexus_tfrecords_raw', 'brazil', 2010, 429) finished in 39 min with state: COMPLETED\n"
     ]
    },
    {
     "name": "stderr",
     "output_type": "stream",
     "text": [
      " 63%|██████▎   | 431/682 [38:33<05:03,  1.21s/it]"
     ]
    },
    {
     "name": "stdout",
     "output_type": "stream",
     "text": [
      "Task ('drive_igor/nexus_tfrecords_raw', 'brazil', 2010, 430) finished in 39 min with state: COMPLETED\n"
     ]
    },
    {
     "name": "stderr",
     "output_type": "stream",
     "text": [
      " 63%|██████▎   | 432/682 [38:33<03:46,  1.10it/s]"
     ]
    },
    {
     "name": "stdout",
     "output_type": "stream",
     "text": [
      "Task ('drive_igor/nexus_tfrecords_raw', 'brazil', 2010, 431) finished in 39 min with state: COMPLETED\n"
     ]
    },
    {
     "name": "stderr",
     "output_type": "stream",
     "text": [
      " 64%|██████▎   | 434/682 [38:34<02:18,  1.79it/s]"
     ]
    },
    {
     "name": "stdout",
     "output_type": "stream",
     "text": [
      "Task ('drive_igor/nexus_tfrecords_raw', 'brazil', 2010, 432) finished in 39 min with state: COMPLETED\n",
      "Task ('drive_igor/nexus_tfrecords_raw', 'brazil', 2010, 433) finished in 39 min with state: COMPLETED\n"
     ]
    },
    {
     "name": "stderr",
     "output_type": "stream",
     "text": [
      " 64%|██████▍   | 436/682 [38:34<01:31,  2.70it/s]"
     ]
    },
    {
     "name": "stdout",
     "output_type": "stream",
     "text": [
      "Task ('drive_igor/nexus_tfrecords_raw', 'brazil', 2010, 434) finished in 39 min with state: COMPLETED\n",
      "Task ('drive_igor/nexus_tfrecords_raw', 'brazil', 2010, 435) finished in 39 min with state: COMPLETED\n"
     ]
    },
    {
     "name": "stderr",
     "output_type": "stream",
     "text": [
      " 64%|██████▍   | 438/682 [38:34<01:11,  3.41it/s]"
     ]
    },
    {
     "name": "stdout",
     "output_type": "stream",
     "text": [
      "Task ('drive_igor/nexus_tfrecords_raw', 'brazil', 2010, 436) finished in 39 min with state: COMPLETED\n",
      "Task ('drive_igor/nexus_tfrecords_raw', 'brazil', 2010, 437) finished in 39 min with state: COMPLETED\n"
     ]
    },
    {
     "name": "stderr",
     "output_type": "stream",
     "text": [
      " 64%|██████▍   | 439/682 [38:35<01:03,  3.84it/s]"
     ]
    },
    {
     "name": "stdout",
     "output_type": "stream",
     "text": [
      "Task ('drive_igor/nexus_tfrecords_raw', 'brazil', 2010, 438) finished in 39 min with state: COMPLETED\n"
     ]
    },
    {
     "name": "stderr",
     "output_type": "stream",
     "text": [
      " 65%|██████▍   | 440/682 [38:35<01:00,  4.01it/s]"
     ]
    },
    {
     "name": "stdout",
     "output_type": "stream",
     "text": [
      "Task ('drive_igor/nexus_tfrecords_raw', 'brazil', 2010, 439) finished in 39 min with state: COMPLETED\n"
     ]
    },
    {
     "name": "stderr",
     "output_type": "stream",
     "text": [
      " 65%|██████▍   | 442/682 [38:35<00:56,  4.25it/s]"
     ]
    },
    {
     "name": "stdout",
     "output_type": "stream",
     "text": [
      "Task ('drive_igor/nexus_tfrecords_raw', 'brazil', 2010, 440) finished in 39 min with state: COMPLETED\n",
      "Task ('drive_igor/nexus_tfrecords_raw', 'brazil', 2010, 441) finished in 40 min with state: COMPLETED\n"
     ]
    },
    {
     "name": "stderr",
     "output_type": "stream",
     "text": [
      " 65%|██████▌   | 444/682 [38:36<00:53,  4.48it/s]"
     ]
    },
    {
     "name": "stdout",
     "output_type": "stream",
     "text": [
      "Task ('drive_igor/nexus_tfrecords_raw', 'brazil', 2010, 442) finished in 39 min with state: COMPLETED\n",
      "Task ('drive_igor/nexus_tfrecords_raw', 'brazil', 2010, 443) finished in 39 min with state: COMPLETED\n"
     ]
    },
    {
     "name": "stderr",
     "output_type": "stream",
     "text": [
      " 65%|██████▌   | 445/682 [38:36<00:55,  4.26it/s]"
     ]
    },
    {
     "name": "stdout",
     "output_type": "stream",
     "text": [
      "Task ('drive_igor/nexus_tfrecords_raw', 'brazil', 2010, 444) finished in 39 min with state: COMPLETED\n"
     ]
    },
    {
     "name": "stderr",
     "output_type": "stream",
     "text": [
      " 65%|██████▌   | 446/682 [38:36<00:56,  4.21it/s]"
     ]
    },
    {
     "name": "stdout",
     "output_type": "stream",
     "text": [
      "Task ('drive_igor/nexus_tfrecords_raw', 'brazil', 2010, 445) finished in 39 min with state: COMPLETED\n"
     ]
    },
    {
     "name": "stderr",
     "output_type": "stream",
     "text": [
      " 66%|██████▌   | 447/682 [38:36<00:58,  3.99it/s]"
     ]
    },
    {
     "name": "stdout",
     "output_type": "stream",
     "text": [
      "Task ('drive_igor/nexus_tfrecords_raw', 'brazil', 2010, 446) finished in 39 min with state: COMPLETED\n"
     ]
    },
    {
     "name": "stderr",
     "output_type": "stream",
     "text": [
      " 66%|██████▌   | 448/682 [38:37<00:58,  3.97it/s]"
     ]
    },
    {
     "name": "stdout",
     "output_type": "stream",
     "text": [
      "Task ('drive_igor/nexus_tfrecords_raw', 'brazil', 2010, 447) finished in 40 min with state: COMPLETED\n"
     ]
    },
    {
     "name": "stderr",
     "output_type": "stream",
     "text": [
      " 66%|██████▌   | 449/682 [38:37<01:00,  3.84it/s]"
     ]
    },
    {
     "name": "stdout",
     "output_type": "stream",
     "text": [
      "Task ('drive_igor/nexus_tfrecords_raw', 'brazil', 2010, 448) finished in 40 min with state: COMPLETED\n"
     ]
    },
    {
     "name": "stderr",
     "output_type": "stream",
     "text": [
      " 66%|██████▌   | 451/682 [40:33<1:34:17, 24.49s/it]"
     ]
    },
    {
     "name": "stdout",
     "output_type": "stream",
     "text": [
      "Task ('drive_igor/nexus_tfrecords_raw', 'brazil', 2010, 449) finished in 40 min with state: COMPLETED\n",
      "Task ('drive_igor/nexus_tfrecords_raw', 'brazil', 2010, 450) finished in 40 min with state: COMPLETED\n"
     ]
    },
    {
     "name": "stderr",
     "output_type": "stream",
     "text": [
      " 66%|██████▋   | 452/682 [40:33<1:06:04, 17.24s/it]"
     ]
    },
    {
     "name": "stdout",
     "output_type": "stream",
     "text": [
      "Task ('drive_igor/nexus_tfrecords_raw', 'brazil', 2010, 451) finished in 40 min with state: COMPLETED\n"
     ]
    },
    {
     "name": "stderr",
     "output_type": "stream",
     "text": [
      " 66%|██████▋   | 453/682 [40:33<46:18, 12.13s/it]  "
     ]
    },
    {
     "name": "stdout",
     "output_type": "stream",
     "text": [
      "Task ('drive_igor/nexus_tfrecords_raw', 'brazil', 2010, 452) finished in 40 min with state: COMPLETED\n"
     ]
    },
    {
     "name": "stderr",
     "output_type": "stream",
     "text": [
      " 67%|██████▋   | 455/682 [40:34<22:55,  6.06s/it]"
     ]
    },
    {
     "name": "stdout",
     "output_type": "stream",
     "text": [
      "Task ('drive_igor/nexus_tfrecords_raw', 'brazil', 2010, 453) finished in 40 min with state: COMPLETED\n",
      "Task ('drive_igor/nexus_tfrecords_raw', 'brazil', 2010, 454) finished in 40 min with state: COMPLETED\n"
     ]
    },
    {
     "name": "stderr",
     "output_type": "stream",
     "text": [
      " 67%|██████▋   | 457/682 [40:34<11:32,  3.08s/it]"
     ]
    },
    {
     "name": "stdout",
     "output_type": "stream",
     "text": [
      "Task ('drive_igor/nexus_tfrecords_raw', 'brazil', 2010, 455) finished in 40 min with state: COMPLETED\n",
      "Task ('drive_igor/nexus_tfrecords_raw', 'brazil', 2010, 456) finished in 40 min with state: COMPLETED\n"
     ]
    },
    {
     "name": "stderr",
     "output_type": "stream",
     "text": [
      " 67%|██████▋   | 459/682 [40:35<05:58,  1.61s/it]"
     ]
    },
    {
     "name": "stdout",
     "output_type": "stream",
     "text": [
      "Task ('drive_igor/nexus_tfrecords_raw', 'brazil', 2010, 457) finished in 40 min with state: COMPLETED\n",
      "Task ('drive_igor/nexus_tfrecords_raw', 'brazil', 2010, 458) finished in 40 min with state: COMPLETED\n"
     ]
    },
    {
     "name": "stderr",
     "output_type": "stream",
     "text": [
      " 67%|██████▋   | 460/682 [40:35<04:23,  1.19s/it]"
     ]
    },
    {
     "name": "stdout",
     "output_type": "stream",
     "text": [
      "Task ('drive_igor/nexus_tfrecords_raw', 'brazil', 2010, 459) finished in 40 min with state: COMPLETED\n"
     ]
    },
    {
     "name": "stderr",
     "output_type": "stream",
     "text": [
      " 68%|██████▊   | 461/682 [40:35<03:17,  1.12it/s]"
     ]
    },
    {
     "name": "stdout",
     "output_type": "stream",
     "text": [
      "Task ('drive_igor/nexus_tfrecords_raw', 'brazil', 2010, 460) finished in 41 min with state: COMPLETED\n"
     ]
    },
    {
     "name": "stderr",
     "output_type": "stream",
     "text": [
      " 68%|██████▊   | 463/682 [40:36<02:00,  1.82it/s]"
     ]
    },
    {
     "name": "stdout",
     "output_type": "stream",
     "text": [
      "Task ('drive_igor/nexus_tfrecords_raw', 'brazil', 2010, 461) finished in 41 min with state: COMPLETED\n",
      "Task ('drive_igor/nexus_tfrecords_raw', 'brazil', 2010, 462) finished in 41 min with state: COMPLETED\n"
     ]
    },
    {
     "name": "stderr",
     "output_type": "stream",
     "text": [
      " 68%|██████▊   | 464/682 [40:36<01:36,  2.26it/s]"
     ]
    },
    {
     "name": "stdout",
     "output_type": "stream",
     "text": [
      "Task ('drive_igor/nexus_tfrecords_raw', 'brazil', 2010, 463) finished in 41 min with state: COMPLETED\n"
     ]
    },
    {
     "name": "stderr",
     "output_type": "stream",
     "text": [
      " 68%|██████▊   | 466/682 [40:36<01:22,  2.60it/s]"
     ]
    },
    {
     "name": "stdout",
     "output_type": "stream",
     "text": [
      "Task ('drive_igor/nexus_tfrecords_raw', 'brazil', 2010, 464) finished in 41 min with state: COMPLETED\n",
      "Task ('drive_igor/nexus_tfrecords_raw', 'brazil', 2010, 465) finished in 41 min with state: COMPLETED\n"
     ]
    },
    {
     "name": "stderr",
     "output_type": "stream",
     "text": [
      " 68%|██████▊   | 467/682 [40:36<01:01,  3.52it/s]"
     ]
    },
    {
     "name": "stdout",
     "output_type": "stream",
     "text": [
      "Task ('drive_igor/nexus_tfrecords_raw', 'brazil', 2010, 466) finished in 41 min with state: COMPLETED\n"
     ]
    },
    {
     "name": "stderr",
     "output_type": "stream",
     "text": [
      " 69%|██████▊   | 468/682 [40:37<00:59,  3.57it/s]"
     ]
    },
    {
     "name": "stdout",
     "output_type": "stream",
     "text": [
      "Task ('drive_igor/nexus_tfrecords_raw', 'brazil', 2010, 467) finished in 41 min with state: COMPLETED\n"
     ]
    },
    {
     "name": "stderr",
     "output_type": "stream",
     "text": [
      " 69%|██████▉   | 469/682 [40:37<00:57,  3.72it/s]"
     ]
    },
    {
     "name": "stdout",
     "output_type": "stream",
     "text": [
      "Task ('drive_igor/nexus_tfrecords_raw', 'brazil', 2010, 468) finished in 41 min with state: COMPLETED\n"
     ]
    },
    {
     "name": "stderr",
     "output_type": "stream",
     "text": [
      " 69%|██████▉   | 470/682 [40:37<00:56,  3.77it/s]"
     ]
    },
    {
     "name": "stdout",
     "output_type": "stream",
     "text": [
      "Task ('drive_igor/nexus_tfrecords_raw', 'brazil', 2010, 469) finished in 41 min with state: COMPLETED\n"
     ]
    },
    {
     "name": "stderr",
     "output_type": "stream",
     "text": [
      " 69%|██████▉   | 471/682 [40:37<00:55,  3.78it/s]"
     ]
    },
    {
     "name": "stdout",
     "output_type": "stream",
     "text": [
      "Task ('drive_igor/nexus_tfrecords_raw', 'brazil', 2010, 470) finished in 41 min with state: COMPLETED\n"
     ]
    },
    {
     "name": "stderr",
     "output_type": "stream",
     "text": [
      " 69%|██████▉   | 472/682 [40:38<00:56,  3.73it/s]"
     ]
    },
    {
     "name": "stdout",
     "output_type": "stream",
     "text": [
      "Task ('drive_igor/nexus_tfrecords_raw', 'brazil', 2010, 471) finished in 41 min with state: COMPLETED\n"
     ]
    },
    {
     "name": "stderr",
     "output_type": "stream",
     "text": [
      " 69%|██████▉   | 473/682 [42:23<1:46:31, 30.58s/it]"
     ]
    },
    {
     "name": "stdout",
     "output_type": "stream",
     "text": [
      "Task ('drive_igor/nexus_tfrecords_raw', 'brazil', 2010, 472) finished in 42 min with state: COMPLETED\n"
     ]
    },
    {
     "name": "stderr",
     "output_type": "stream",
     "text": [
      " 70%|██████▉   | 474/682 [42:23<1:15:11, 21.69s/it]"
     ]
    },
    {
     "name": "stdout",
     "output_type": "stream",
     "text": [
      "Task ('drive_igor/nexus_tfrecords_raw', 'brazil', 2010, 473) finished in 42 min with state: COMPLETED\n"
     ]
    },
    {
     "name": "stderr",
     "output_type": "stream",
     "text": [
      " 70%|██████▉   | 476/682 [42:23<37:19, 10.87s/it]  "
     ]
    },
    {
     "name": "stdout",
     "output_type": "stream",
     "text": [
      "Task ('drive_igor/nexus_tfrecords_raw', 'brazil', 2010, 474) finished in 42 min with state: COMPLETED\n",
      "Task ('drive_igor/nexus_tfrecords_raw', 'brazil', 2010, 475) finished in 42 min with state: COMPLETED\n"
     ]
    },
    {
     "name": "stderr",
     "output_type": "stream",
     "text": [
      " 70%|██████▉   | 477/682 [42:23<26:17,  7.70s/it]"
     ]
    },
    {
     "name": "stdout",
     "output_type": "stream",
     "text": [
      "Task ('drive_igor/nexus_tfrecords_raw', 'brazil', 2010, 476) finished in 42 min with state: COMPLETED\n"
     ]
    },
    {
     "name": "stderr",
     "output_type": "stream",
     "text": [
      " 70%|███████   | 478/682 [42:24<18:37,  5.48s/it]"
     ]
    },
    {
     "name": "stdout",
     "output_type": "stream",
     "text": [
      "Task ('drive_igor/nexus_tfrecords_raw', 'brazil', 2010, 477) finished in 42 min with state: COMPLETED\n"
     ]
    },
    {
     "name": "stderr",
     "output_type": "stream",
     "text": [
      " 70%|███████   | 480/682 [42:24<09:26,  2.80s/it]"
     ]
    },
    {
     "name": "stdout",
     "output_type": "stream",
     "text": [
      "Task ('drive_igor/nexus_tfrecords_raw', 'brazil', 2010, 478) finished in 42 min with state: COMPLETED\n",
      "Task ('drive_igor/nexus_tfrecords_raw', 'brazil', 2010, 479) finished in 42 min with state: COMPLETED\n"
     ]
    },
    {
     "name": "stderr",
     "output_type": "stream",
     "text": [
      " 71%|███████   | 482/682 [42:24<04:51,  1.46s/it]"
     ]
    },
    {
     "name": "stdout",
     "output_type": "stream",
     "text": [
      "Task ('drive_igor/nexus_tfrecords_raw', 'brazil', 2010, 480) finished in 42 min with state: COMPLETED\n",
      "Task ('drive_igor/nexus_tfrecords_raw', 'brazil', 2010, 481) finished in 42 min with state: COMPLETED\n"
     ]
    },
    {
     "name": "stderr",
     "output_type": "stream",
     "text": [
      " 71%|███████   | 483/682 [42:25<03:35,  1.08s/it]"
     ]
    },
    {
     "name": "stdout",
     "output_type": "stream",
     "text": [
      "Task ('drive_igor/nexus_tfrecords_raw', 'brazil', 2010, 482) finished in 42 min with state: COMPLETED\n"
     ]
    },
    {
     "name": "stderr",
     "output_type": "stream",
     "text": [
      " 71%|███████   | 484/682 [42:25<02:42,  1.22it/s]"
     ]
    },
    {
     "name": "stdout",
     "output_type": "stream",
     "text": [
      "Task ('drive_igor/nexus_tfrecords_raw', 'brazil', 2010, 483) finished in 42 min with state: COMPLETED\n"
     ]
    },
    {
     "name": "stderr",
     "output_type": "stream",
     "text": [
      " 71%|███████▏  | 486/682 [42:25<01:41,  1.94it/s]"
     ]
    },
    {
     "name": "stdout",
     "output_type": "stream",
     "text": [
      "Task ('drive_igor/nexus_tfrecords_raw', 'brazil', 2010, 484) finished in 42 min with state: COMPLETED\n",
      "Task ('drive_igor/nexus_tfrecords_raw', 'brazil', 2010, 485) finished in 42 min with state: COMPLETED\n"
     ]
    },
    {
     "name": "stderr",
     "output_type": "stream",
     "text": [
      " 71%|███████▏  | 487/682 [42:26<01:27,  2.22it/s]"
     ]
    },
    {
     "name": "stdout",
     "output_type": "stream",
     "text": [
      "Task ('drive_igor/nexus_tfrecords_raw', 'brazil', 2010, 486) finished in 42 min with state: COMPLETED\n"
     ]
    },
    {
     "name": "stderr",
     "output_type": "stream",
     "text": [
      " 72%|███████▏  | 488/682 [42:26<01:13,  2.64it/s]"
     ]
    },
    {
     "name": "stdout",
     "output_type": "stream",
     "text": [
      "Task ('drive_igor/nexus_tfrecords_raw', 'brazil', 2010, 487) finished in 42 min with state: COMPLETED\n"
     ]
    },
    {
     "name": "stderr",
     "output_type": "stream",
     "text": [
      " 72%|███████▏  | 489/682 [42:26<01:03,  3.05it/s]"
     ]
    },
    {
     "name": "stdout",
     "output_type": "stream",
     "text": [
      "Task ('drive_igor/nexus_tfrecords_raw', 'brazil', 2010, 488) finished in 42 min with state: COMPLETED\n"
     ]
    },
    {
     "name": "stderr",
     "output_type": "stream",
     "text": [
      " 72%|███████▏  | 491/682 [42:27<00:52,  3.65it/s]"
     ]
    },
    {
     "name": "stdout",
     "output_type": "stream",
     "text": [
      "Task ('drive_igor/nexus_tfrecords_raw', 'brazil', 2010, 489) finished in 42 min with state: COMPLETED\n",
      "Task ('drive_igor/nexus_tfrecords_raw', 'brazil', 2010, 490) finished in 42 min with state: COMPLETED\n"
     ]
    },
    {
     "name": "stderr",
     "output_type": "stream",
     "text": [
      " 72%|███████▏  | 492/682 [42:27<00:51,  3.72it/s]"
     ]
    },
    {
     "name": "stdout",
     "output_type": "stream",
     "text": [
      "Task ('drive_igor/nexus_tfrecords_raw', 'brazil', 2010, 491) finished in 43 min with state: COMPLETED\n"
     ]
    },
    {
     "name": "stderr",
     "output_type": "stream",
     "text": [
      " 72%|███████▏  | 493/682 [42:27<00:50,  3.77it/s]"
     ]
    },
    {
     "name": "stdout",
     "output_type": "stream",
     "text": [
      "Task ('drive_igor/nexus_tfrecords_raw', 'brazil', 2010, 492) finished in 43 min with state: COMPLETED\n"
     ]
    },
    {
     "name": "stderr",
     "output_type": "stream",
     "text": [
      " 73%|███████▎  | 495/682 [42:28<00:46,  4.06it/s]"
     ]
    },
    {
     "name": "stdout",
     "output_type": "stream",
     "text": [
      "Task ('drive_igor/nexus_tfrecords_raw', 'brazil', 2010, 493) finished in 43 min with state: COMPLETED\n",
      "Task ('drive_igor/nexus_tfrecords_raw', 'brazil', 2010, 494) finished in 43 min with state: COMPLETED\n"
     ]
    },
    {
     "name": "stderr",
     "output_type": "stream",
     "text": [
      " 73%|███████▎  | 496/682 [42:28<00:43,  4.31it/s]"
     ]
    },
    {
     "name": "stdout",
     "output_type": "stream",
     "text": [
      "Task ('drive_igor/nexus_tfrecords_raw', 'brazil', 2010, 495) finished in 43 min with state: COMPLETED\n"
     ]
    },
    {
     "name": "stderr",
     "output_type": "stream",
     "text": [
      " 73%|███████▎  | 497/682 [42:28<00:44,  4.12it/s]"
     ]
    },
    {
     "name": "stdout",
     "output_type": "stream",
     "text": [
      "Task ('drive_igor/nexus_tfrecords_raw', 'brazil', 2010, 496) finished in 43 min with state: COMPLETED\n"
     ]
    },
    {
     "name": "stderr",
     "output_type": "stream",
     "text": [
      " 73%|███████▎  | 498/682 [42:28<00:44,  4.11it/s]"
     ]
    },
    {
     "name": "stdout",
     "output_type": "stream",
     "text": [
      "Task ('drive_igor/nexus_tfrecords_raw', 'brazil', 2010, 497) finished in 43 min with state: COMPLETED\n"
     ]
    },
    {
     "name": "stderr",
     "output_type": "stream",
     "text": [
      " 73%|███████▎  | 500/682 [44:09<1:32:32, 30.51s/it]"
     ]
    },
    {
     "name": "stdout",
     "output_type": "stream",
     "text": [
      "Task ('drive_igor/nexus_tfrecords_raw', 'brazil', 2010, 498) finished in 44 min with state: COMPLETED\n",
      "Task ('drive_igor/nexus_tfrecords_raw', 'brazil', 2010, 499) finished in 44 min with state: COMPLETED\n"
     ]
    },
    {
     "name": "stderr",
     "output_type": "stream",
     "text": [
      " 74%|███████▎  | 502/682 [44:10<37:20, 12.45s/it]  "
     ]
    },
    {
     "name": "stdout",
     "output_type": "stream",
     "text": [
      "Task ('drive_igor/nexus_tfrecords_raw', 'brazil', 2010, 500) finished in 44 min with state: COMPLETED\n",
      "Task ('drive_igor/nexus_tfrecords_raw', 'brazil', 2010, 501) finished in 44 min with state: COMPLETED\n"
     ]
    },
    {
     "name": "stderr",
     "output_type": "stream",
     "text": [
      " 74%|███████▍  | 503/682 [44:10<27:38,  9.27s/it]"
     ]
    },
    {
     "name": "stdout",
     "output_type": "stream",
     "text": [
      "Task ('drive_igor/nexus_tfrecords_raw', 'brazil', 2010, 502) finished in 44 min with state: COMPLETED\n"
     ]
    },
    {
     "name": "stderr",
     "output_type": "stream",
     "text": [
      " 74%|███████▍  | 505/682 [44:11<14:38,  4.97s/it]"
     ]
    },
    {
     "name": "stdout",
     "output_type": "stream",
     "text": [
      "Task ('drive_igor/nexus_tfrecords_raw', 'brazil', 2010, 503) finished in 44 min with state: COMPLETED\n",
      "Task ('drive_igor/nexus_tfrecords_raw', 'brazil', 2010, 504) finished in 44 min with state: COMPLETED\n"
     ]
    },
    {
     "name": "stderr",
     "output_type": "stream",
     "text": [
      " 74%|███████▍  | 507/682 [44:11<07:34,  2.59s/it]"
     ]
    },
    {
     "name": "stdout",
     "output_type": "stream",
     "text": [
      "Task ('drive_igor/nexus_tfrecords_raw', 'brazil', 2010, 505) finished in 44 min with state: COMPLETED\n",
      "Task ('drive_igor/nexus_tfrecords_raw', 'brazil', 2010, 506) finished in 44 min with state: COMPLETED\n"
     ]
    },
    {
     "name": "stderr",
     "output_type": "stream",
     "text": [
      " 74%|███████▍  | 508/682 [44:11<05:29,  1.90s/it]"
     ]
    },
    {
     "name": "stdout",
     "output_type": "stream",
     "text": [
      "Task ('drive_igor/nexus_tfrecords_raw', 'brazil', 2010, 507) finished in 44 min with state: COMPLETED\n"
     ]
    },
    {
     "name": "stderr",
     "output_type": "stream",
     "text": [
      " 75%|███████▍  | 510/682 [44:12<03:00,  1.05s/it]"
     ]
    },
    {
     "name": "stdout",
     "output_type": "stream",
     "text": [
      "Task ('drive_igor/nexus_tfrecords_raw', 'brazil', 2010, 508) finished in 44 min with state: COMPLETED\n",
      "Task ('drive_igor/nexus_tfrecords_raw', 'brazil', 2010, 509) finished in 44 min with state: COMPLETED\n"
     ]
    },
    {
     "name": "stderr",
     "output_type": "stream",
     "text": [
      " 75%|███████▍  | 511/682 [44:12<02:12,  1.29it/s]"
     ]
    },
    {
     "name": "stdout",
     "output_type": "stream",
     "text": [
      "Task ('drive_igor/nexus_tfrecords_raw', 'brazil', 2010, 510) finished in 44 min with state: COMPLETED\n"
     ]
    },
    {
     "name": "stderr",
     "output_type": "stream",
     "text": [
      " 75%|███████▌  | 512/682 [44:12<01:42,  1.65it/s]"
     ]
    },
    {
     "name": "stdout",
     "output_type": "stream",
     "text": [
      "Task ('drive_igor/nexus_tfrecords_raw', 'brazil', 2010, 511) finished in 44 min with state: COMPLETED\n"
     ]
    },
    {
     "name": "stderr",
     "output_type": "stream",
     "text": [
      " 75%|███████▌  | 514/682 [44:12<01:03,  2.64it/s]"
     ]
    },
    {
     "name": "stdout",
     "output_type": "stream",
     "text": [
      "Task ('drive_igor/nexus_tfrecords_raw', 'brazil', 2010, 512) finished in 44 min with state: COMPLETED\n",
      "Task ('drive_igor/nexus_tfrecords_raw', 'brazil', 2010, 513) finished in 45 min with state: COMPLETED\n"
     ]
    },
    {
     "name": "stderr",
     "output_type": "stream",
     "text": [
      " 76%|███████▌  | 515/682 [44:12<00:54,  3.08it/s]"
     ]
    },
    {
     "name": "stdout",
     "output_type": "stream",
     "text": [
      "Task ('drive_igor/nexus_tfrecords_raw', 'brazil', 2010, 514) finished in 44 min with state: COMPLETED\n"
     ]
    },
    {
     "name": "stderr",
     "output_type": "stream",
     "text": [
      " 76%|███████▌  | 517/682 [44:13<00:43,  3.83it/s]"
     ]
    },
    {
     "name": "stdout",
     "output_type": "stream",
     "text": [
      "Task ('drive_igor/nexus_tfrecords_raw', 'brazil', 2010, 515) finished in 45 min with state: COMPLETED\n",
      "Task ('drive_igor/nexus_tfrecords_raw', 'brazil', 2010, 516) finished in 45 min with state: COMPLETED\n"
     ]
    },
    {
     "name": "stderr",
     "output_type": "stream",
     "text": [
      " 76%|███████▌  | 518/682 [44:13<00:42,  3.82it/s]"
     ]
    },
    {
     "name": "stdout",
     "output_type": "stream",
     "text": [
      "Task ('drive_igor/nexus_tfrecords_raw', 'brazil', 2010, 517) finished in 45 min with state: COMPLETED\n"
     ]
    },
    {
     "name": "stderr",
     "output_type": "stream",
     "text": [
      " 76%|███████▌  | 519/682 [44:13<00:43,  3.78it/s]"
     ]
    },
    {
     "name": "stdout",
     "output_type": "stream",
     "text": [
      "Task ('drive_igor/nexus_tfrecords_raw', 'brazil', 2010, 518) finished in 45 min with state: COMPLETED\n"
     ]
    },
    {
     "name": "stderr",
     "output_type": "stream",
     "text": [
      " 76%|███████▌  | 520/682 [44:14<00:44,  3.64it/s]"
     ]
    },
    {
     "name": "stdout",
     "output_type": "stream",
     "text": [
      "Task ('drive_igor/nexus_tfrecords_raw', 'brazil', 2010, 519) finished in 45 min with state: COMPLETED\n"
     ]
    },
    {
     "name": "stderr",
     "output_type": "stream",
     "text": [
      " 76%|███████▋  | 521/682 [44:14<00:43,  3.68it/s]"
     ]
    },
    {
     "name": "stdout",
     "output_type": "stream",
     "text": [
      "Task ('drive_igor/nexus_tfrecords_raw', 'brazil', 2010, 520) finished in 45 min with state: COMPLETED\n"
     ]
    },
    {
     "name": "stderr",
     "output_type": "stream",
     "text": [
      " 77%|███████▋  | 523/682 [45:50<53:58, 20.37s/it]  "
     ]
    },
    {
     "name": "stdout",
     "output_type": "stream",
     "text": [
      "Task ('drive_igor/nexus_tfrecords_raw', 'brazil', 2010, 521) finished in 45 min with state: COMPLETED\n",
      "Task ('drive_igor/nexus_tfrecords_raw', 'brazil', 2010, 522) finished in 45 min with state: COMPLETED\n"
     ]
    },
    {
     "name": "stderr",
     "output_type": "stream",
     "text": [
      " 77%|███████▋  | 524/682 [45:50<37:42, 14.32s/it]"
     ]
    },
    {
     "name": "stdout",
     "output_type": "stream",
     "text": [
      "Task ('drive_igor/nexus_tfrecords_raw', 'brazil', 2010, 523) finished in 45 min with state: COMPLETED\n"
     ]
    },
    {
     "name": "stderr",
     "output_type": "stream",
     "text": [
      " 77%|███████▋  | 526/682 [45:51<18:30,  7.12s/it]"
     ]
    },
    {
     "name": "stdout",
     "output_type": "stream",
     "text": [
      "Task ('drive_igor/nexus_tfrecords_raw', 'brazil', 2010, 524) finished in 45 min with state: COMPLETED\n",
      "Task ('drive_igor/nexus_tfrecords_raw', 'brazil', 2010, 525) finished in 45 min with state: COMPLETED\n"
     ]
    },
    {
     "name": "stderr",
     "output_type": "stream",
     "text": [
      " 77%|███████▋  | 528/682 [45:51<09:12,  3.59s/it]"
     ]
    },
    {
     "name": "stdout",
     "output_type": "stream",
     "text": [
      "Task ('drive_igor/nexus_tfrecords_raw', 'brazil', 2010, 526) finished in 45 min with state: COMPLETED\n",
      "Task ('drive_igor/nexus_tfrecords_raw', 'brazil', 2010, 527) finished in 45 min with state: COMPLETED\n"
     ]
    },
    {
     "name": "stderr",
     "output_type": "stream",
     "text": [
      " 78%|███████▊  | 529/682 [45:51<06:34,  2.58s/it]"
     ]
    },
    {
     "name": "stdout",
     "output_type": "stream",
     "text": [
      "Task ('drive_igor/nexus_tfrecords_raw', 'brazil', 2010, 528) finished in 45 min with state: COMPLETED\n"
     ]
    },
    {
     "name": "stderr",
     "output_type": "stream",
     "text": [
      " 78%|███████▊  | 531/682 [45:52<03:27,  1.37s/it]"
     ]
    },
    {
     "name": "stdout",
     "output_type": "stream",
     "text": [
      "Task ('drive_igor/nexus_tfrecords_raw', 'brazil', 2010, 529) finished in 45 min with state: COMPLETED\n",
      "Task ('drive_igor/nexus_tfrecords_raw', 'brazil', 2010, 530) finished in 45 min with state: COMPLETED\n"
     ]
    },
    {
     "name": "stderr",
     "output_type": "stream",
     "text": [
      " 78%|███████▊  | 533/682 [45:52<01:55,  1.29it/s]"
     ]
    },
    {
     "name": "stdout",
     "output_type": "stream",
     "text": [
      "Task ('drive_igor/nexus_tfrecords_raw', 'brazil', 2010, 531) finished in 45 min with state: COMPLETED\n",
      "Task ('drive_igor/nexus_tfrecords_raw', 'brazil', 2010, 532) finished in 45 min with state: COMPLETED\n"
     ]
    },
    {
     "name": "stderr",
     "output_type": "stream",
     "text": [
      " 78%|███████▊  | 534/682 [45:53<01:31,  1.62it/s]"
     ]
    },
    {
     "name": "stdout",
     "output_type": "stream",
     "text": [
      "Task ('drive_igor/nexus_tfrecords_raw', 'brazil', 2010, 533) finished in 45 min with state: COMPLETED\n"
     ]
    },
    {
     "name": "stderr",
     "output_type": "stream",
     "text": [
      " 79%|███████▊  | 536/682 [45:53<01:00,  2.42it/s]"
     ]
    },
    {
     "name": "stdout",
     "output_type": "stream",
     "text": [
      "Task ('drive_igor/nexus_tfrecords_raw', 'brazil', 2010, 534) finished in 46 min with state: COMPLETED\n",
      "Task ('drive_igor/nexus_tfrecords_raw', 'brazil', 2010, 535) finished in 46 min with state: COMPLETED\n"
     ]
    },
    {
     "name": "stderr",
     "output_type": "stream",
     "text": [
      " 79%|███████▉  | 538/682 [45:53<00:43,  3.33it/s]"
     ]
    },
    {
     "name": "stdout",
     "output_type": "stream",
     "text": [
      "Task ('drive_igor/nexus_tfrecords_raw', 'brazil', 2010, 536) finished in 46 min with state: COMPLETED\n",
      "Task ('drive_igor/nexus_tfrecords_raw', 'brazil', 2010, 537) finished in 46 min with state: COMPLETED\n"
     ]
    },
    {
     "name": "stderr",
     "output_type": "stream",
     "text": [
      " 79%|███████▉  | 540/682 [45:54<00:36,  3.86it/s]"
     ]
    },
    {
     "name": "stdout",
     "output_type": "stream",
     "text": [
      "Task ('drive_igor/nexus_tfrecords_raw', 'brazil', 2010, 538) finished in 46 min with state: COMPLETED\n",
      "Task ('drive_igor/nexus_tfrecords_raw', 'brazil', 2010, 539) finished in 46 min with state: COMPLETED\n"
     ]
    },
    {
     "name": "stderr",
     "output_type": "stream",
     "text": [
      " 79%|███████▉  | 541/682 [45:54<00:33,  4.16it/s]"
     ]
    },
    {
     "name": "stdout",
     "output_type": "stream",
     "text": [
      "Task ('drive_igor/nexus_tfrecords_raw', 'brazil', 2010, 540) finished in 46 min with state: COMPLETED\n"
     ]
    },
    {
     "name": "stderr",
     "output_type": "stream",
     "text": [
      " 80%|███████▉  | 543/682 [45:54<00:32,  4.29it/s]"
     ]
    },
    {
     "name": "stdout",
     "output_type": "stream",
     "text": [
      "Task ('drive_igor/nexus_tfrecords_raw', 'brazil', 2010, 541) finished in 46 min with state: COMPLETED\n",
      "Task ('drive_igor/nexus_tfrecords_raw', 'brazil', 2010, 542) finished in 46 min with state: COMPLETED\n"
     ]
    },
    {
     "name": "stderr",
     "output_type": "stream",
     "text": [
      " 80%|███████▉  | 545/682 [47:26<44:25, 19.45s/it]  "
     ]
    },
    {
     "name": "stdout",
     "output_type": "stream",
     "text": [
      "Task ('drive_igor/nexus_tfrecords_raw', 'brazil', 2010, 543) finished in 46 min with state: COMPLETED\n",
      "Task ('drive_igor/nexus_tfrecords_raw', 'brazil', 2010, 544) finished in 46 min with state: COMPLETED\n"
     ]
    },
    {
     "name": "stderr",
     "output_type": "stream",
     "text": [
      " 80%|████████  | 546/682 [47:27<31:00, 13.68s/it]"
     ]
    },
    {
     "name": "stdout",
     "output_type": "stream",
     "text": [
      "Task ('drive_igor/nexus_tfrecords_raw', 'brazil', 2010, 545) finished in 46 min with state: COMPLETED\n"
     ]
    },
    {
     "name": "stderr",
     "output_type": "stream",
     "text": [
      " 80%|████████  | 547/682 [47:27<21:44,  9.66s/it]"
     ]
    },
    {
     "name": "stdout",
     "output_type": "stream",
     "text": [
      "Task ('drive_igor/nexus_tfrecords_raw', 'brazil', 2010, 546) finished in 46 min with state: COMPLETED\n"
     ]
    },
    {
     "name": "stderr",
     "output_type": "stream",
     "text": [
      " 80%|████████  | 548/682 [47:27<15:16,  6.84s/it]"
     ]
    },
    {
     "name": "stdout",
     "output_type": "stream",
     "text": [
      "Task ('drive_igor/nexus_tfrecords_raw', 'brazil', 2010, 547) finished in 46 min with state: COMPLETED\n"
     ]
    },
    {
     "name": "stderr",
     "output_type": "stream",
     "text": [
      " 81%|████████  | 550/682 [47:28<07:37,  3.46s/it]"
     ]
    },
    {
     "name": "stdout",
     "output_type": "stream",
     "text": [
      "Task ('drive_igor/nexus_tfrecords_raw', 'brazil', 2010, 548) finished in 47 min with state: COMPLETED\n",
      "Task ('drive_igor/nexus_tfrecords_raw', 'brazil', 2010, 549) finished in 47 min with state: COMPLETED\n"
     ]
    },
    {
     "name": "stderr",
     "output_type": "stream",
     "text": [
      " 81%|████████  | 552/682 [47:28<03:55,  1.81s/it]"
     ]
    },
    {
     "name": "stdout",
     "output_type": "stream",
     "text": [
      "Task ('drive_igor/nexus_tfrecords_raw', 'brazil', 2010, 550) finished in 47 min with state: COMPLETED\n",
      "Task ('drive_igor/nexus_tfrecords_raw', 'brazil', 2010, 551) finished in 47 min with state: COMPLETED\n"
     ]
    },
    {
     "name": "stderr",
     "output_type": "stream",
     "text": [
      " 81%|████████  | 554/682 [47:29<02:07,  1.00it/s]"
     ]
    },
    {
     "name": "stdout",
     "output_type": "stream",
     "text": [
      "Task ('drive_igor/nexus_tfrecords_raw', 'brazil', 2010, 552) finished in 47 min with state: COMPLETED\n",
      "Task ('drive_igor/nexus_tfrecords_raw', 'brazil', 2010, 553) finished in 47 min with state: COMPLETED\n"
     ]
    },
    {
     "name": "stderr",
     "output_type": "stream",
     "text": [
      " 81%|████████▏ | 555/682 [47:29<01:36,  1.32it/s]"
     ]
    },
    {
     "name": "stdout",
     "output_type": "stream",
     "text": [
      "Task ('drive_igor/nexus_tfrecords_raw', 'brazil', 2010, 554) finished in 47 min with state: COMPLETED\n"
     ]
    },
    {
     "name": "stderr",
     "output_type": "stream",
     "text": [
      " 82%|████████▏ | 557/682 [47:29<01:00,  2.08it/s]"
     ]
    },
    {
     "name": "stdout",
     "output_type": "stream",
     "text": [
      "Task ('drive_igor/nexus_tfrecords_raw', 'brazil', 2010, 555) finished in 47 min with state: COMPLETED\n",
      "Task ('drive_igor/nexus_tfrecords_raw', 'brazil', 2010, 556) finished in 47 min with state: COMPLETED\n"
     ]
    },
    {
     "name": "stderr",
     "output_type": "stream",
     "text": [
      " 82%|████████▏ | 558/682 [47:29<00:51,  2.42it/s]"
     ]
    },
    {
     "name": "stdout",
     "output_type": "stream",
     "text": [
      "Task ('drive_igor/nexus_tfrecords_raw', 'brazil', 2010, 557) finished in 47 min with state: COMPLETED\n"
     ]
    },
    {
     "name": "stderr",
     "output_type": "stream",
     "text": [
      " 82%|████████▏ | 559/682 [47:30<00:43,  2.85it/s]"
     ]
    },
    {
     "name": "stdout",
     "output_type": "stream",
     "text": [
      "Task ('drive_igor/nexus_tfrecords_raw', 'brazil', 2010, 558) finished in 47 min with state: COMPLETED\n"
     ]
    },
    {
     "name": "stderr",
     "output_type": "stream",
     "text": [
      " 82%|████████▏ | 560/682 [47:30<00:39,  3.08it/s]"
     ]
    },
    {
     "name": "stdout",
     "output_type": "stream",
     "text": [
      "Task ('drive_igor/nexus_tfrecords_raw', 'brazil', 2010, 559) finished in 47 min with state: COMPLETED\n"
     ]
    },
    {
     "name": "stderr",
     "output_type": "stream",
     "text": [
      " 82%|████████▏ | 561/682 [47:30<00:35,  3.42it/s]"
     ]
    },
    {
     "name": "stdout",
     "output_type": "stream",
     "text": [
      "Task ('drive_igor/nexus_tfrecords_raw', 'brazil', 2010, 560) finished in 47 min with state: COMPLETED\n"
     ]
    },
    {
     "name": "stderr",
     "output_type": "stream",
     "text": [
      " 82%|████████▏ | 562/682 [47:30<00:31,  3.76it/s]"
     ]
    },
    {
     "name": "stdout",
     "output_type": "stream",
     "text": [
      "Task ('drive_igor/nexus_tfrecords_raw', 'brazil', 2010, 561) finished in 47 min with state: COMPLETED\n"
     ]
    },
    {
     "name": "stderr",
     "output_type": "stream",
     "text": [
      " 83%|████████▎ | 564/682 [47:31<00:31,  3.77it/s]"
     ]
    },
    {
     "name": "stdout",
     "output_type": "stream",
     "text": [
      "Task ('drive_igor/nexus_tfrecords_raw', 'brazil', 2010, 562) finished in 47 min with state: COMPLETED\n",
      "Task ('drive_igor/nexus_tfrecords_raw', 'brazil', 2010, 563) finished in 48 min with state: COMPLETED\n"
     ]
    },
    {
     "name": "stderr",
     "output_type": "stream",
     "text": [
      " 83%|████████▎ | 566/682 [47:31<00:22,  5.18it/s]"
     ]
    },
    {
     "name": "stdout",
     "output_type": "stream",
     "text": [
      "Task ('drive_igor/nexus_tfrecords_raw', 'brazil', 2010, 564) finished in 47 min with state: COMPLETED\n",
      "Task ('drive_igor/nexus_tfrecords_raw', 'brazil', 2010, 565) finished in 47 min with state: COMPLETED\n"
     ]
    },
    {
     "name": "stderr",
     "output_type": "stream",
     "text": [
      " 83%|████████▎ | 567/682 [47:31<00:22,  5.17it/s]"
     ]
    },
    {
     "name": "stdout",
     "output_type": "stream",
     "text": [
      "Task ('drive_igor/nexus_tfrecords_raw', 'brazil', 2010, 566) finished in 47 min with state: COMPLETED\n"
     ]
    },
    {
     "name": "stderr",
     "output_type": "stream",
     "text": [
      " 83%|████████▎ | 568/682 [47:31<00:24,  4.73it/s]"
     ]
    },
    {
     "name": "stdout",
     "output_type": "stream",
     "text": [
      "Task ('drive_igor/nexus_tfrecords_raw', 'brazil', 2010, 567) finished in 47 min with state: COMPLETED\n"
     ]
    },
    {
     "name": "stderr",
     "output_type": "stream",
     "text": [
      " 84%|████████▎ | 570/682 [47:32<00:24,  4.59it/s]"
     ]
    },
    {
     "name": "stdout",
     "output_type": "stream",
     "text": [
      "Task ('drive_igor/nexus_tfrecords_raw', 'brazil', 2010, 568) finished in 47 min with state: COMPLETED\n",
      "Task ('drive_igor/nexus_tfrecords_raw', 'brazil', 2010, 569) finished in 48 min with state: COMPLETED\n"
     ]
    },
    {
     "name": "stderr",
     "output_type": "stream",
     "text": [
      " 84%|████████▎ | 571/682 [47:32<00:25,  4.33it/s]"
     ]
    },
    {
     "name": "stdout",
     "output_type": "stream",
     "text": [
      "Task ('drive_igor/nexus_tfrecords_raw', 'brazil', 2010, 570) finished in 48 min with state: COMPLETED\n"
     ]
    },
    {
     "name": "stderr",
     "output_type": "stream",
     "text": [
      " 84%|████████▍ | 573/682 [47:33<00:23,  4.70it/s]"
     ]
    },
    {
     "name": "stdout",
     "output_type": "stream",
     "text": [
      "Task ('drive_igor/nexus_tfrecords_raw', 'brazil', 2010, 571) finished in 48 min with state: COMPLETED\n",
      "Task ('drive_igor/nexus_tfrecords_raw', 'brazil', 2010, 572) finished in 48 min with state: COMPLETED\n"
     ]
    },
    {
     "name": "stderr",
     "output_type": "stream",
     "text": [
      " 84%|████████▍ | 574/682 [47:33<00:24,  4.39it/s]"
     ]
    },
    {
     "name": "stdout",
     "output_type": "stream",
     "text": [
      "Task ('drive_igor/nexus_tfrecords_raw', 'brazil', 2010, 573) finished in 48 min with state: COMPLETED\n"
     ]
    },
    {
     "name": "stderr",
     "output_type": "stream",
     "text": [
      " 84%|████████▍ | 575/682 [48:58<45:19, 25.42s/it]"
     ]
    },
    {
     "name": "stdout",
     "output_type": "stream",
     "text": [
      "Task ('drive_igor/nexus_tfrecords_raw', 'brazil', 2010, 574) finished in 48 min with state: COMPLETED\n"
     ]
    },
    {
     "name": "stderr",
     "output_type": "stream",
     "text": [
      " 85%|████████▍ | 577/682 [48:58<22:02, 12.60s/it]"
     ]
    },
    {
     "name": "stdout",
     "output_type": "stream",
     "text": [
      "Task ('drive_igor/nexus_tfrecords_raw', 'brazil', 2010, 575) finished in 48 min with state: COMPLETED\n",
      "Task ('drive_igor/nexus_tfrecords_raw', 'brazil', 2010, 576) finished in 48 min with state: COMPLETED\n"
     ]
    },
    {
     "name": "stderr",
     "output_type": "stream",
     "text": [
      "                                                 \r"
     ]
    },
    {
     "name": "stdout",
     "output_type": "stream",
     "text": [
      "Task ('drive_igor/nexus_tfrecords_raw', 'brazil', 2010, 577) finished in 48 min with state: COMPLETED\n"
     ]
    },
    {
     "name": "stderr",
     "output_type": "stream",
     "text": [
      " 85%|████████▍ | 579/682 [48:59<10:49,  6.30s/it]"
     ]
    },
    {
     "name": "stdout",
     "output_type": "stream",
     "text": [
      "Task ('drive_igor/nexus_tfrecords_raw', 'brazil', 2010, 578) finished in 48 min with state: COMPLETED\n"
     ]
    },
    {
     "name": "stderr",
     "output_type": "stream",
     "text": [
      " 85%|████████▌ | 581/682 [48:59<05:23,  3.20s/it]"
     ]
    },
    {
     "name": "stdout",
     "output_type": "stream",
     "text": [
      "Task ('drive_igor/nexus_tfrecords_raw', 'brazil', 2010, 579) finished in 48 min with state: COMPLETED\n",
      "Task ('drive_igor/nexus_tfrecords_raw', 'brazil', 2010, 580) finished in 48 min with state: COMPLETED\n"
     ]
    },
    {
     "name": "stderr",
     "output_type": "stream",
     "text": [
      " 85%|████████▌ | 582/682 [48:59<03:52,  2.32s/it]"
     ]
    },
    {
     "name": "stdout",
     "output_type": "stream",
     "text": [
      "Task ('drive_igor/nexus_tfrecords_raw', 'brazil', 2010, 581) finished in 48 min with state: COMPLETED\n"
     ]
    },
    {
     "name": "stderr",
     "output_type": "stream",
     "text": [
      " 85%|████████▌ | 583/682 [49:00<02:48,  1.70s/it]"
     ]
    },
    {
     "name": "stdout",
     "output_type": "stream",
     "text": [
      "Task ('drive_igor/nexus_tfrecords_raw', 'brazil', 2010, 582) finished in 49 min with state: COMPLETED\n"
     ]
    },
    {
     "name": "stderr",
     "output_type": "stream",
     "text": [
      " 86%|████████▌ | 585/682 [49:00<02:02,  1.27s/it]"
     ]
    },
    {
     "name": "stdout",
     "output_type": "stream",
     "text": [
      "Task ('drive_igor/nexus_tfrecords_raw', 'brazil', 2010, 583) finished in 49 min with state: COMPLETED\n",
      "Task ('drive_igor/nexus_tfrecords_raw', 'brazil', 2010, 584) finished in 49 min with state: COMPLETED\n"
     ]
    },
    {
     "name": "stderr",
     "output_type": "stream",
     "text": [
      " 86%|████████▌ | 586/682 [49:00<01:11,  1.35it/s]"
     ]
    },
    {
     "name": "stdout",
     "output_type": "stream",
     "text": [
      "Task ('drive_igor/nexus_tfrecords_raw', 'brazil', 2010, 585) finished in 49 min with state: COMPLETED\n"
     ]
    },
    {
     "name": "stderr",
     "output_type": "stream",
     "text": [
      " 86%|████████▌ | 587/682 [49:00<00:58,  1.63it/s]"
     ]
    },
    {
     "name": "stdout",
     "output_type": "stream",
     "text": [
      "Task ('drive_igor/nexus_tfrecords_raw', 'brazil', 2010, 586) finished in 49 min with state: COMPLETED\n"
     ]
    },
    {
     "name": "stderr",
     "output_type": "stream",
     "text": [
      " 86%|████████▋ | 589/682 [49:01<00:40,  2.31it/s]"
     ]
    },
    {
     "name": "stdout",
     "output_type": "stream",
     "text": [
      "Task ('drive_igor/nexus_tfrecords_raw', 'brazil', 2010, 587) finished in 49 min with state: COMPLETED\n",
      "Task ('drive_igor/nexus_tfrecords_raw', 'brazil', 2010, 588) finished in 49 min with state: COMPLETED\n"
     ]
    },
    {
     "name": "stderr",
     "output_type": "stream",
     "text": [
      " 87%|████████▋ | 590/682 [49:02<00:50,  1.84it/s]"
     ]
    },
    {
     "name": "stdout",
     "output_type": "stream",
     "text": [
      "Task ('drive_igor/nexus_tfrecords_raw', 'brazil', 2010, 592) finished in 49 min with state: COMPLETED\n"
     ]
    },
    {
     "name": "stderr",
     "output_type": "stream",
     "text": [
      " 87%|████████▋ | 591/682 [50:22<35:33, 23.45s/it]"
     ]
    },
    {
     "name": "stdout",
     "output_type": "stream",
     "text": [
      "Task ('drive_igor/nexus_tfrecords_raw', 'brazil', 2010, 589) finished in 49 min with state: COMPLETED\n"
     ]
    },
    {
     "name": "stderr",
     "output_type": "stream",
     "text": [
      " 87%|████████▋ | 593/682 [50:23<17:38, 11.89s/it]"
     ]
    },
    {
     "name": "stdout",
     "output_type": "stream",
     "text": [
      "Task ('drive_igor/nexus_tfrecords_raw', 'brazil', 2010, 590) finished in 49 min with state: COMPLETED\n",
      "Task ('drive_igor/nexus_tfrecords_raw', 'brazil', 2010, 591) finished in 49 min with state: COMPLETED\n"
     ]
    },
    {
     "name": "stderr",
     "output_type": "stream",
     "text": [
      " 87%|████████▋ | 595/682 [50:23<12:14,  8.44s/it]"
     ]
    },
    {
     "name": "stdout",
     "output_type": "stream",
     "text": [
      "Task ('drive_igor/nexus_tfrecords_raw', 'brazil', 2010, 593) finished in 49 min with state: COMPLETED\n",
      "Task ('drive_igor/nexus_tfrecords_raw', 'brazil', 2010, 594) finished in 49 min with state: COMPLETED\n"
     ]
    },
    {
     "name": "stderr",
     "output_type": "stream",
     "text": [
      " 87%|████████▋ | 596/682 [50:23<06:39,  4.64s/it]"
     ]
    },
    {
     "name": "stdout",
     "output_type": "stream",
     "text": [
      "Task ('drive_igor/nexus_tfrecords_raw', 'brazil', 2010, 595) finished in 49 min with state: COMPLETED\n"
     ]
    },
    {
     "name": "stderr",
     "output_type": "stream",
     "text": [
      " 88%|████████▊ | 598/682 [50:24<03:43,  2.66s/it]"
     ]
    },
    {
     "name": "stdout",
     "output_type": "stream",
     "text": [
      "Task ('drive_igor/nexus_tfrecords_raw', 'brazil', 2010, 596) finished in 49 min with state: COMPLETED\n",
      "Task ('drive_igor/nexus_tfrecords_raw', 'brazil', 2010, 597) finished in 49 min with state: COMPLETED\n"
     ]
    },
    {
     "name": "stderr",
     "output_type": "stream",
     "text": [
      " 88%|████████▊ | 599/682 [50:24<02:45,  1.99s/it]"
     ]
    },
    {
     "name": "stdout",
     "output_type": "stream",
     "text": [
      "Task ('drive_igor/nexus_tfrecords_raw', 'brazil', 2010, 598) finished in 49 min with state: COMPLETED\n"
     ]
    },
    {
     "name": "stderr",
     "output_type": "stream",
     "text": [
      " 88%|████████▊ | 600/682 [50:24<02:03,  1.51s/it]"
     ]
    },
    {
     "name": "stdout",
     "output_type": "stream",
     "text": [
      "Task ('drive_igor/nexus_tfrecords_raw', 'brazil', 2010, 599) finished in 49 min with state: COMPLETED\n"
     ]
    },
    {
     "name": "stderr",
     "output_type": "stream",
     "text": [
      " 88%|████████▊ | 601/682 [50:24<01:32,  1.14s/it]"
     ]
    },
    {
     "name": "stdout",
     "output_type": "stream",
     "text": [
      "Task ('drive_igor/nexus_tfrecords_raw', 'brazil', 2010, 600) finished in 49 min with state: COMPLETED\n"
     ]
    },
    {
     "name": "stderr",
     "output_type": "stream",
     "text": [
      " 88%|████████▊ | 603/682 [50:25<00:52,  1.49it/s]"
     ]
    },
    {
     "name": "stdout",
     "output_type": "stream",
     "text": [
      "Task ('drive_igor/nexus_tfrecords_raw', 'brazil', 2010, 601) finished in 50 min with state: COMPLETED\n",
      "Task ('drive_igor/nexus_tfrecords_raw', 'brazil', 2010, 602) finished in 50 min with state: COMPLETED\n"
     ]
    },
    {
     "name": "stderr",
     "output_type": "stream",
     "text": [
      " 89%|████████▊ | 604/682 [50:25<00:42,  1.82it/s]"
     ]
    },
    {
     "name": "stdout",
     "output_type": "stream",
     "text": [
      "Task ('drive_igor/nexus_tfrecords_raw', 'brazil', 2010, 603) finished in 50 min with state: COMPLETED\n"
     ]
    },
    {
     "name": "stderr",
     "output_type": "stream",
     "text": [
      " 89%|████████▊ | 605/682 [50:25<00:35,  2.16it/s]"
     ]
    },
    {
     "name": "stdout",
     "output_type": "stream",
     "text": [
      "Task ('drive_igor/nexus_tfrecords_raw', 'brazil', 2010, 604) finished in 50 min with state: COMPLETED\n"
     ]
    },
    {
     "name": "stderr",
     "output_type": "stream",
     "text": [
      " 89%|████████▉ | 606/682 [50:25<00:29,  2.57it/s]"
     ]
    },
    {
     "name": "stdout",
     "output_type": "stream",
     "text": [
      "Task ('drive_igor/nexus_tfrecords_raw', 'brazil', 2010, 605) finished in 50 min with state: COMPLETED\n"
     ]
    },
    {
     "name": "stderr",
     "output_type": "stream",
     "text": [
      " 89%|████████▉ | 608/682 [50:26<00:22,  3.28it/s]"
     ]
    },
    {
     "name": "stdout",
     "output_type": "stream",
     "text": [
      "Task ('drive_igor/nexus_tfrecords_raw', 'brazil', 2010, 606) finished in 50 min with state: COMPLETED\n",
      "Task ('drive_igor/nexus_tfrecords_raw', 'brazil', 2010, 607) finished in 50 min with state: COMPLETED\n"
     ]
    },
    {
     "name": "stderr",
     "output_type": "stream",
     "text": [
      " 89%|████████▉ | 610/682 [50:26<00:19,  3.67it/s]"
     ]
    },
    {
     "name": "stdout",
     "output_type": "stream",
     "text": [
      "Task ('drive_igor/nexus_tfrecords_raw', 'brazil', 2010, 608) finished in 50 min with state: COMPLETED\n",
      "Task ('drive_igor/nexus_tfrecords_raw', 'brazil', 2010, 609) finished in 50 min with state: COMPLETED\n"
     ]
    },
    {
     "name": "stderr",
     "output_type": "stream",
     "text": [
      " 90%|████████▉ | 611/682 [50:26<00:14,  4.83it/s]"
     ]
    },
    {
     "name": "stdout",
     "output_type": "stream",
     "text": [
      "Task ('drive_igor/nexus_tfrecords_raw', 'brazil', 2010, 610) finished in 50 min with state: COMPLETED\n"
     ]
    },
    {
     "name": "stderr",
     "output_type": "stream",
     "text": [
      " 90%|████████▉ | 613/682 [50:27<00:14,  4.80it/s]"
     ]
    },
    {
     "name": "stdout",
     "output_type": "stream",
     "text": [
      "Task ('drive_igor/nexus_tfrecords_raw', 'brazil', 2010, 611) finished in 50 min with state: COMPLETED\n",
      "Task ('drive_igor/nexus_tfrecords_raw', 'brazil', 2010, 612) finished in 50 min with state: COMPLETED\n"
     ]
    },
    {
     "name": "stderr",
     "output_type": "stream",
     "text": [
      " 90%|█████████ | 614/682 [50:27<00:13,  4.87it/s]"
     ]
    },
    {
     "name": "stdout",
     "output_type": "stream",
     "text": [
      "Task ('drive_igor/nexus_tfrecords_raw', 'brazil', 2010, 613) finished in 50 min with state: COMPLETED\n"
     ]
    },
    {
     "name": "stderr",
     "output_type": "stream",
     "text": [
      " 90%|█████████ | 616/682 [50:27<00:14,  4.65it/s]"
     ]
    },
    {
     "name": "stdout",
     "output_type": "stream",
     "text": [
      "Task ('drive_igor/nexus_tfrecords_raw', 'brazil', 2010, 614) finished in 50 min with state: COMPLETED\n",
      "Task ('drive_igor/nexus_tfrecords_raw', 'brazil', 2010, 615) finished in 50 min with state: COMPLETED\n"
     ]
    },
    {
     "name": "stderr",
     "output_type": "stream",
     "text": [
      " 90%|█████████ | 617/682 [50:27<00:11,  5.59it/s]"
     ]
    },
    {
     "name": "stdout",
     "output_type": "stream",
     "text": [
      "Task ('drive_igor/nexus_tfrecords_raw', 'brazil', 2010, 616) finished in 50 min with state: COMPLETED\n"
     ]
    },
    {
     "name": "stderr",
     "output_type": "stream",
     "text": [
      " 91%|█████████ | 618/682 [50:28<00:12,  5.04it/s]"
     ]
    },
    {
     "name": "stdout",
     "output_type": "stream",
     "text": [
      "Task ('drive_igor/nexus_tfrecords_raw', 'brazil', 2010, 617) finished in 50 min with state: COMPLETED\n"
     ]
    },
    {
     "name": "stderr",
     "output_type": "stream",
     "text": [
      " 91%|█████████ | 619/682 [50:28<00:13,  4.68it/s]"
     ]
    },
    {
     "name": "stdout",
     "output_type": "stream",
     "text": [
      "Task ('drive_igor/nexus_tfrecords_raw', 'brazil', 2010, 618) finished in 50 min with state: COMPLETED\n"
     ]
    },
    {
     "name": "stderr",
     "output_type": "stream",
     "text": [
      " 91%|█████████ | 621/682 [51:43<14:52, 14.64s/it]"
     ]
    },
    {
     "name": "stdout",
     "output_type": "stream",
     "text": [
      "Task ('drive_igor/nexus_tfrecords_raw', 'brazil', 2010, 619) finished in 51 min with state: COMPLETED\n",
      "Task ('drive_igor/nexus_tfrecords_raw', 'brazil', 2010, 620) finished in 51 min with state: COMPLETED\n"
     ]
    },
    {
     "name": "stderr",
     "output_type": "stream",
     "text": [
      " 91%|█████████ | 622/682 [51:43<10:32, 10.55s/it]"
     ]
    },
    {
     "name": "stdout",
     "output_type": "stream",
     "text": [
      "Task ('drive_igor/nexus_tfrecords_raw', 'brazil', 2010, 621) finished in 51 min with state: COMPLETED\n"
     ]
    },
    {
     "name": "stderr",
     "output_type": "stream",
     "text": [
      " 91%|█████████▏| 623/682 [51:43<07:27,  7.59s/it]"
     ]
    },
    {
     "name": "stdout",
     "output_type": "stream",
     "text": [
      "Task ('drive_igor/nexus_tfrecords_raw', 'brazil', 2010, 622) finished in 51 min with state: COMPLETED\n"
     ]
    },
    {
     "name": "stderr",
     "output_type": "stream",
     "text": [
      " 91%|█████████▏| 624/682 [51:44<05:16,  5.46s/it]"
     ]
    },
    {
     "name": "stdout",
     "output_type": "stream",
     "text": [
      "Task ('drive_igor/nexus_tfrecords_raw', 'brazil', 2010, 623) finished in 51 min with state: COMPLETED\n"
     ]
    },
    {
     "name": "stderr",
     "output_type": "stream",
     "text": [
      " 92%|█████████▏| 625/682 [51:44<03:43,  3.92s/it]"
     ]
    },
    {
     "name": "stdout",
     "output_type": "stream",
     "text": [
      "Task ('drive_igor/nexus_tfrecords_raw', 'brazil', 2010, 624) finished in 51 min with state: COMPLETED\n"
     ]
    },
    {
     "name": "stderr",
     "output_type": "stream",
     "text": [
      " 92%|█████████▏| 626/682 [51:44<02:38,  2.83s/it]"
     ]
    },
    {
     "name": "stdout",
     "output_type": "stream",
     "text": [
      "Task ('drive_igor/nexus_tfrecords_raw', 'brazil', 2010, 625) finished in 51 min with state: COMPLETED\n"
     ]
    },
    {
     "name": "stderr",
     "output_type": "stream",
     "text": [
      " 92%|█████████▏| 627/682 [51:44<01:54,  2.08s/it]"
     ]
    },
    {
     "name": "stdout",
     "output_type": "stream",
     "text": [
      "Task ('drive_igor/nexus_tfrecords_raw', 'brazil', 2010, 626) finished in 51 min with state: COMPLETED\n"
     ]
    },
    {
     "name": "stderr",
     "output_type": "stream",
     "text": [
      " 92%|█████████▏| 628/682 [51:45<01:23,  1.54s/it]"
     ]
    },
    {
     "name": "stdout",
     "output_type": "stream",
     "text": [
      "Task ('drive_igor/nexus_tfrecords_raw', 'brazil', 2010, 627) finished in 51 min with state: COMPLETED\n"
     ]
    },
    {
     "name": "stderr",
     "output_type": "stream",
     "text": [
      " 92%|█████████▏| 629/682 [51:45<01:01,  1.16s/it]"
     ]
    },
    {
     "name": "stdout",
     "output_type": "stream",
     "text": [
      "Task ('drive_igor/nexus_tfrecords_raw', 'brazil', 2010, 628) finished in 51 min with state: COMPLETED\n"
     ]
    },
    {
     "name": "stderr",
     "output_type": "stream",
     "text": [
      " 92%|█████████▏| 630/682 [51:45<00:46,  1.12it/s]"
     ]
    },
    {
     "name": "stdout",
     "output_type": "stream",
     "text": [
      "Task ('drive_igor/nexus_tfrecords_raw', 'brazil', 2010, 629) finished in 51 min with state: COMPLETED\n"
     ]
    },
    {
     "name": "stderr",
     "output_type": "stream",
     "text": [
      " 93%|█████████▎| 632/682 [51:46<00:35,  1.42it/s]"
     ]
    },
    {
     "name": "stdout",
     "output_type": "stream",
     "text": [
      "Task ('drive_igor/nexus_tfrecords_raw', 'brazil', 2010, 630) finished in 51 min with state: COMPLETED\n",
      "Task ('drive_igor/nexus_tfrecords_raw', 'brazil', 2010, 631) finished in 51 min with state: COMPLETED\n"
     ]
    },
    {
     "name": "stderr",
     "output_type": "stream",
     "text": [
      " 93%|█████████▎| 633/682 [51:46<00:22,  2.19it/s]"
     ]
    },
    {
     "name": "stdout",
     "output_type": "stream",
     "text": [
      "Task ('drive_igor/nexus_tfrecords_raw', 'brazil', 2010, 632) finished in 51 min with state: COMPLETED\n"
     ]
    },
    {
     "name": "stderr",
     "output_type": "stream",
     "text": [
      " 93%|█████████▎| 634/682 [51:46<00:19,  2.52it/s]"
     ]
    },
    {
     "name": "stdout",
     "output_type": "stream",
     "text": [
      "Task ('drive_igor/nexus_tfrecords_raw', 'brazil', 2010, 633) finished in 51 min with state: COMPLETED\n"
     ]
    },
    {
     "name": "stderr",
     "output_type": "stream",
     "text": [
      " 93%|█████████▎| 635/682 [51:46<00:16,  2.87it/s]"
     ]
    },
    {
     "name": "stdout",
     "output_type": "stream",
     "text": [
      "Task ('drive_igor/nexus_tfrecords_raw', 'brazil', 2010, 634) finished in 51 min with state: COMPLETED\n"
     ]
    },
    {
     "name": "stderr",
     "output_type": "stream",
     "text": [
      " 93%|█████████▎| 636/682 [51:46<00:14,  3.09it/s]"
     ]
    },
    {
     "name": "stdout",
     "output_type": "stream",
     "text": [
      "Task ('drive_igor/nexus_tfrecords_raw', 'brazil', 2010, 635) finished in 51 min with state: COMPLETED\n"
     ]
    },
    {
     "name": "stderr",
     "output_type": "stream",
     "text": [
      " 94%|█████████▎| 638/682 [51:47<00:12,  3.62it/s]"
     ]
    },
    {
     "name": "stdout",
     "output_type": "stream",
     "text": [
      "Task ('drive_igor/nexus_tfrecords_raw', 'brazil', 2010, 636) finished in 51 min with state: COMPLETED\n",
      "Task ('drive_igor/nexus_tfrecords_raw', 'brazil', 2010, 637) finished in 51 min with state: COMPLETED\n"
     ]
    },
    {
     "name": "stderr",
     "output_type": "stream",
     "text": [
      " 94%|█████████▎| 639/682 [51:47<00:11,  3.62it/s]"
     ]
    },
    {
     "name": "stdout",
     "output_type": "stream",
     "text": [
      "Task ('drive_igor/nexus_tfrecords_raw', 'brazil', 2010, 638) finished in 51 min with state: COMPLETED\n"
     ]
    },
    {
     "name": "stderr",
     "output_type": "stream",
     "text": [
      "                                                 \r"
     ]
    },
    {
     "name": "stdout",
     "output_type": "stream",
     "text": [
      "Task ('drive_igor/nexus_tfrecords_raw', 'brazil', 2010, 639) finished in 52 min with state: COMPLETED\n",
      "Task ('drive_igor/nexus_tfrecords_raw', 'brazil', 2010, 640) finished in 52 min with state: COMPLETED\n"
     ]
    },
    {
     "name": "stderr",
     "output_type": "stream",
     "text": [
      " 94%|█████████▍| 642/682 [52:59<07:02, 10.55s/it]"
     ]
    },
    {
     "name": "stdout",
     "output_type": "stream",
     "text": [
      "Task ('drive_igor/nexus_tfrecords_raw', 'brazil', 2010, 641) finished in 52 min with state: COMPLETED\n"
     ]
    },
    {
     "name": "stderr",
     "output_type": "stream",
     "text": [
      " 94%|█████████▍| 643/682 [52:59<04:51,  7.48s/it]"
     ]
    },
    {
     "name": "stdout",
     "output_type": "stream",
     "text": [
      "Task ('drive_igor/nexus_tfrecords_raw', 'brazil', 2010, 642) finished in 52 min with state: COMPLETED\n"
     ]
    },
    {
     "name": "stderr",
     "output_type": "stream",
     "text": [
      " 94%|█████████▍| 644/682 [52:59<03:22,  5.33s/it]"
     ]
    },
    {
     "name": "stdout",
     "output_type": "stream",
     "text": [
      "Task ('drive_igor/nexus_tfrecords_raw', 'brazil', 2010, 643) finished in 52 min with state: COMPLETED\n"
     ]
    },
    {
     "name": "stderr",
     "output_type": "stream",
     "text": [
      " 95%|█████████▍| 645/682 [53:00<02:21,  3.82s/it]"
     ]
    },
    {
     "name": "stdout",
     "output_type": "stream",
     "text": [
      "Task ('drive_igor/nexus_tfrecords_raw', 'brazil', 2010, 644) finished in 52 min with state: COMPLETED\n"
     ]
    },
    {
     "name": "stderr",
     "output_type": "stream",
     "text": [
      " 95%|█████████▍| 646/682 [53:00<01:39,  2.76s/it]"
     ]
    },
    {
     "name": "stdout",
     "output_type": "stream",
     "text": [
      "Task ('drive_igor/nexus_tfrecords_raw', 'brazil', 2010, 645) finished in 52 min with state: COMPLETED\n"
     ]
    },
    {
     "name": "stderr",
     "output_type": "stream",
     "text": [
      " 95%|█████████▌| 648/682 [53:00<00:49,  1.46s/it]"
     ]
    },
    {
     "name": "stdout",
     "output_type": "stream",
     "text": [
      "Task ('drive_igor/nexus_tfrecords_raw', 'brazil', 2010, 646) finished in 52 min with state: COMPLETED\n",
      "Task ('drive_igor/nexus_tfrecords_raw', 'brazil', 2010, 647) finished in 52 min with state: COMPLETED\n"
     ]
    },
    {
     "name": "stderr",
     "output_type": "stream",
     "text": [
      " 95%|█████████▌| 649/682 [53:01<00:36,  1.10s/it]"
     ]
    },
    {
     "name": "stdout",
     "output_type": "stream",
     "text": [
      "Task ('drive_igor/nexus_tfrecords_raw', 'brazil', 2010, 648) finished in 52 min with state: COMPLETED\n"
     ]
    },
    {
     "name": "stderr",
     "output_type": "stream",
     "text": [
      " 95%|█████████▌| 651/682 [53:01<00:20,  1.55it/s]"
     ]
    },
    {
     "name": "stdout",
     "output_type": "stream",
     "text": [
      "Task ('drive_igor/nexus_tfrecords_raw', 'brazil', 2010, 649) finished in 52 min with state: COMPLETED\n",
      "Task ('drive_igor/nexus_tfrecords_raw', 'brazil', 2010, 650) finished in 52 min with state: COMPLETED\n"
     ]
    },
    {
     "name": "stderr",
     "output_type": "stream",
     "text": [
      " 96%|█████████▌| 652/682 [53:01<00:14,  2.07it/s]"
     ]
    },
    {
     "name": "stdout",
     "output_type": "stream",
     "text": [
      "Task ('drive_igor/nexus_tfrecords_raw', 'brazil', 2010, 651) finished in 52 min with state: COMPLETED\n"
     ]
    },
    {
     "name": "stderr",
     "output_type": "stream",
     "text": [
      " 96%|█████████▌| 653/682 [53:01<00:12,  2.36it/s]"
     ]
    },
    {
     "name": "stdout",
     "output_type": "stream",
     "text": [
      "Task ('drive_igor/nexus_tfrecords_raw', 'brazil', 2010, 652) finished in 52 min with state: COMPLETED\n"
     ]
    },
    {
     "name": "stderr",
     "output_type": "stream",
     "text": [
      " 96%|█████████▌| 654/682 [53:02<00:10,  2.61it/s]"
     ]
    },
    {
     "name": "stdout",
     "output_type": "stream",
     "text": [
      "Task ('drive_igor/nexus_tfrecords_raw', 'brazil', 2010, 653) finished in 52 min with state: COMPLETED\n"
     ]
    },
    {
     "name": "stderr",
     "output_type": "stream",
     "text": [
      " 96%|█████████▌| 656/682 [53:02<00:07,  3.28it/s]"
     ]
    },
    {
     "name": "stdout",
     "output_type": "stream",
     "text": [
      "Task ('drive_igor/nexus_tfrecords_raw', 'brazil', 2010, 654) finished in 52 min with state: COMPLETED\n",
      "Task ('drive_igor/nexus_tfrecords_raw', 'brazil', 2010, 655) finished in 52 min with state: COMPLETED\n"
     ]
    },
    {
     "name": "stderr",
     "output_type": "stream",
     "text": [
      " 96%|█████████▋| 657/682 [53:02<00:07,  3.42it/s]"
     ]
    },
    {
     "name": "stdout",
     "output_type": "stream",
     "text": [
      "Task ('drive_igor/nexus_tfrecords_raw', 'brazil', 2010, 656) finished in 52 min with state: COMPLETED\n"
     ]
    },
    {
     "name": "stderr",
     "output_type": "stream",
     "text": [
      " 96%|█████████▋| 658/682 [53:03<00:06,  3.48it/s]"
     ]
    },
    {
     "name": "stdout",
     "output_type": "stream",
     "text": [
      "Task ('drive_igor/nexus_tfrecords_raw', 'brazil', 2010, 657) finished in 53 min with state: COMPLETED\n"
     ]
    },
    {
     "name": "stderr",
     "output_type": "stream",
     "text": [
      " 97%|█████████▋| 660/682 [53:03<00:05,  3.98it/s]"
     ]
    },
    {
     "name": "stdout",
     "output_type": "stream",
     "text": [
      "Task ('drive_igor/nexus_tfrecords_raw', 'brazil', 2010, 658) finished in 53 min with state: COMPLETED\n",
      "Task ('drive_igor/nexus_tfrecords_raw', 'brazil', 2010, 659) finished in 53 min with state: COMPLETED\n"
     ]
    },
    {
     "name": "stderr",
     "output_type": "stream",
     "text": [
      " 97%|█████████▋| 661/682 [53:04<00:08,  2.47it/s]"
     ]
    },
    {
     "name": "stdout",
     "output_type": "stream",
     "text": [
      "Task ('drive_igor/nexus_tfrecords_raw', 'brazil', 2010, 662) finished in 53 min with state: COMPLETED\n"
     ]
    },
    {
     "name": "stderr",
     "output_type": "stream",
     "text": [
      "                                                 "
     ]
    },
    {
     "name": "stdout",
     "output_type": "stream",
     "text": [
      "Task ('drive_igor/nexus_tfrecords_raw', 'brazil', 2010, 660) finished in 53 min with state: COMPLETED\n"
     ]
    },
    {
     "name": "stderr",
     "output_type": "stream",
     "text": [
      " 97%|█████████▋| 663/682 [54:08<04:21, 13.78s/it]"
     ]
    },
    {
     "name": "stdout",
     "output_type": "stream",
     "text": [
      "Task ('drive_igor/nexus_tfrecords_raw', 'brazil', 2010, 661) finished in 53 min with state: COMPLETED\n"
     ]
    },
    {
     "name": "stderr",
     "output_type": "stream",
     "text": [
      " 97%|█████████▋| 664/682 [54:09<02:55,  9.73s/it]"
     ]
    },
    {
     "name": "stdout",
     "output_type": "stream",
     "text": [
      "Task ('drive_igor/nexus_tfrecords_raw', 'brazil', 2010, 663) finished in 53 min with state: COMPLETED\n"
     ]
    },
    {
     "name": "stderr",
     "output_type": "stream",
     "text": [
      " 98%|█████████▊| 665/682 [54:09<01:56,  6.87s/it]"
     ]
    },
    {
     "name": "stdout",
     "output_type": "stream",
     "text": [
      "Task ('drive_igor/nexus_tfrecords_raw', 'brazil', 2010, 664) finished in 53 min with state: COMPLETED\n"
     ]
    },
    {
     "name": "stderr",
     "output_type": "stream",
     "text": [
      " 98%|█████████▊| 667/682 [54:09<00:52,  3.48s/it]"
     ]
    },
    {
     "name": "stdout",
     "output_type": "stream",
     "text": [
      "Task ('drive_igor/nexus_tfrecords_raw', 'brazil', 2010, 665) finished in 53 min with state: COMPLETED\n",
      "Task ('drive_igor/nexus_tfrecords_raw', 'brazil', 2010, 666) finished in 53 min with state: COMPLETED\n"
     ]
    },
    {
     "name": "stderr",
     "output_type": "stream",
     "text": [
      " 98%|█████████▊| 668/682 [54:10<00:35,  2.52s/it]"
     ]
    },
    {
     "name": "stdout",
     "output_type": "stream",
     "text": [
      "Task ('drive_igor/nexus_tfrecords_raw', 'brazil', 2010, 667) finished in 53 min with state: COMPLETED\n"
     ]
    },
    {
     "name": "stderr",
     "output_type": "stream",
     "text": [
      " 98%|█████████▊| 670/682 [54:10<00:16,  1.34s/it]"
     ]
    },
    {
     "name": "stdout",
     "output_type": "stream",
     "text": [
      "Task ('drive_igor/nexus_tfrecords_raw', 'brazil', 2010, 668) finished in 53 min with state: COMPLETED\n",
      "Task ('drive_igor/nexus_tfrecords_raw', 'brazil', 2010, 669) finished in 53 min with state: COMPLETED\n"
     ]
    },
    {
     "name": "stderr",
     "output_type": "stream",
     "text": [
      " 99%|█████████▊| 672/682 [54:11<00:07,  1.29it/s]"
     ]
    },
    {
     "name": "stdout",
     "output_type": "stream",
     "text": [
      "Task ('drive_igor/nexus_tfrecords_raw', 'brazil', 2010, 670) finished in 54 min with state: COMPLETED\n",
      "Task ('drive_igor/nexus_tfrecords_raw', 'brazil', 2010, 671) finished in 54 min with state: COMPLETED\n"
     ]
    },
    {
     "name": "stderr",
     "output_type": "stream",
     "text": [
      " 99%|█████████▊| 673/682 [54:11<00:05,  1.61it/s]"
     ]
    },
    {
     "name": "stdout",
     "output_type": "stream",
     "text": [
      "Task ('drive_igor/nexus_tfrecords_raw', 'brazil', 2010, 672) finished in 54 min with state: COMPLETED\n"
     ]
    },
    {
     "name": "stderr",
     "output_type": "stream",
     "text": [
      " 99%|█████████▉| 674/682 [54:11<00:04,  1.97it/s]"
     ]
    },
    {
     "name": "stdout",
     "output_type": "stream",
     "text": [
      "Task ('drive_igor/nexus_tfrecords_raw', 'brazil', 2010, 673) finished in 54 min with state: COMPLETED\n"
     ]
    },
    {
     "name": "stderr",
     "output_type": "stream",
     "text": [
      " 99%|█████████▉| 675/682 [55:13<02:13, 19.01s/it]"
     ]
    },
    {
     "name": "stdout",
     "output_type": "stream",
     "text": [
      "Task ('drive_igor/nexus_tfrecords_raw', 'brazil', 2010, 674) finished in 54 min with state: COMPLETED\n"
     ]
    },
    {
     "name": "stderr",
     "output_type": "stream",
     "text": [
      " 99%|█████████▉| 676/682 [55:13<01:20, 13.37s/it]"
     ]
    },
    {
     "name": "stdout",
     "output_type": "stream",
     "text": [
      "Task ('drive_igor/nexus_tfrecords_raw', 'brazil', 2010, 675) finished in 54 min with state: COMPLETED\n"
     ]
    },
    {
     "name": "stderr",
     "output_type": "stream",
     "text": [
      " 99%|█████████▉| 678/682 [55:14<00:26,  6.66s/it]"
     ]
    },
    {
     "name": "stdout",
     "output_type": "stream",
     "text": [
      "Task ('drive_igor/nexus_tfrecords_raw', 'brazil', 2010, 676) finished in 54 min with state: COMPLETED\n",
      "Task ('drive_igor/nexus_tfrecords_raw', 'brazil', 2010, 677) finished in 54 min with state: COMPLETED\n"
     ]
    },
    {
     "name": "stderr",
     "output_type": "stream",
     "text": [
      "100%|█████████▉| 679/682 [55:14<00:14,  4.73s/it]"
     ]
    },
    {
     "name": "stdout",
     "output_type": "stream",
     "text": [
      "Task ('drive_igor/nexus_tfrecords_raw', 'brazil', 2010, 678) finished in 54 min with state: COMPLETED\n"
     ]
    },
    {
     "name": "stderr",
     "output_type": "stream",
     "text": [
      "100%|█████████▉| 680/682 [55:14<00:06,  3.40s/it]"
     ]
    },
    {
     "name": "stdout",
     "output_type": "stream",
     "text": [
      "Task ('drive_igor/nexus_tfrecords_raw', 'brazil', 2010, 679) finished in 54 min with state: COMPLETED\n"
     ]
    },
    {
     "name": "stderr",
     "output_type": "stream",
     "text": [
      "100%|█████████▉| 681/682 [55:15<00:02,  2.46s/it]"
     ]
    },
    {
     "name": "stdout",
     "output_type": "stream",
     "text": [
      "Task ('drive_igor/nexus_tfrecords_raw', 'brazil', 2010, 680) finished in 54 min with state: COMPLETED\n"
     ]
    },
    {
     "name": "stderr",
     "output_type": "stream",
     "text": [
      "100%|██████████| 682/682 [55:15<00:00,  1.78s/it]"
     ]
    },
    {
     "name": "stdout",
     "output_type": "stream",
     "text": [
      "Task ('drive_igor/nexus_tfrecords_raw', 'brazil', 2010, 681) finished in 54 min with state: COMPLETED\n"
     ]
    },
    {
     "name": "stderr",
     "output_type": "stream",
     "text": [
      "100%|██████████| 682/682 [56:15<00:00,  4.95s/it]\n"
     ]
    }
   ],
   "source": [
    "ee_utils.wait_on_tasks(tasks, poll_interval=60)"
   ]
  }
 ],
 "metadata": {
  "colab": {
   "collapsed_sections": [],
   "provenance": [],
   "toc_visible": true
  },
  "instance_type": "ml.m5.4xlarge",
  "kernelspec": {
   "display_name": "Python 3 (TensorFlow 1.15 Python 3.7 CPU Optimized)",
   "language": "python",
   "name": "python3__SAGEMAKER_INTERNAL__arn:aws:sagemaker:us-east-1:081325390199:image/tensorflow-1.15-cpu-py37-ubuntu18.04-v7"
  },
  "language_info": {
   "codemirror_mode": {
    "name": "ipython",
    "version": 3
   },
   "file_extension": ".py",
   "mimetype": "text/x-python",
   "name": "python",
   "nbconvert_exporter": "python",
   "pygments_lexer": "ipython3",
   "version": "3.7.10"
  },
  "widgets": {
   "application/vnd.jupyter.widget-state+json": {
    "1d74e92576af4913bab59ff0a6e2db69": {
     "model_module": "@jupyter-widgets/controls",
     "model_module_version": "1.5.0",
     "model_name": "FloatProgressModel",
     "state": {
      "_dom_classes": [],
      "_model_module": "@jupyter-widgets/controls",
      "_model_module_version": "1.5.0",
      "_model_name": "FloatProgressModel",
      "_view_count": null,
      "_view_module": "@jupyter-widgets/controls",
      "_view_module_version": "1.5.0",
      "_view_name": "ProgressView",
      "bar_style": "success",
      "description": "",
      "description_tooltip": null,
      "layout": "IPY_MODEL_22fd86ac0c5c4907a2cb48500fc65060",
      "max": 682,
      "min": 0,
      "orientation": "horizontal",
      "style": "IPY_MODEL_24ad76b8a2b04d9196427ad61e4cef01",
      "value": 682
     }
    },
    "22fd86ac0c5c4907a2cb48500fc65060": {
     "model_module": "@jupyter-widgets/base",
     "model_module_version": "1.2.0",
     "model_name": "LayoutModel",
     "state": {
      "_model_module": "@jupyter-widgets/base",
      "_model_module_version": "1.2.0",
      "_model_name": "LayoutModel",
      "_view_count": null,
      "_view_module": "@jupyter-widgets/base",
      "_view_module_version": "1.2.0",
      "_view_name": "LayoutView",
      "align_content": null,
      "align_items": null,
      "align_self": null,
      "border": null,
      "bottom": null,
      "display": null,
      "flex": null,
      "flex_flow": null,
      "grid_area": null,
      "grid_auto_columns": null,
      "grid_auto_flow": null,
      "grid_auto_rows": null,
      "grid_column": null,
      "grid_gap": null,
      "grid_row": null,
      "grid_template_areas": null,
      "grid_template_columns": null,
      "grid_template_rows": null,
      "height": null,
      "justify_content": null,
      "justify_items": null,
      "left": null,
      "margin": null,
      "max_height": null,
      "max_width": null,
      "min_height": null,
      "min_width": null,
      "object_fit": null,
      "object_position": null,
      "order": null,
      "overflow": null,
      "overflow_x": null,
      "overflow_y": null,
      "padding": null,
      "right": null,
      "top": null,
      "visibility": null,
      "width": null
     }
    },
    "24ad76b8a2b04d9196427ad61e4cef01": {
     "model_module": "@jupyter-widgets/controls",
     "model_module_version": "1.5.0",
     "model_name": "ProgressStyleModel",
     "state": {
      "_model_module": "@jupyter-widgets/controls",
      "_model_module_version": "1.5.0",
      "_model_name": "ProgressStyleModel",
      "_view_count": null,
      "_view_module": "@jupyter-widgets/base",
      "_view_module_version": "1.2.0",
      "_view_name": "StyleView",
      "bar_color": null,
      "description_width": ""
     }
    },
    "4bf46639f9774433b4c6a9f2033bcfd9": {
     "model_module": "@jupyter-widgets/controls",
     "model_module_version": "1.5.0",
     "model_name": "HBoxModel",
     "state": {
      "_dom_classes": [],
      "_model_module": "@jupyter-widgets/controls",
      "_model_module_version": "1.5.0",
      "_model_name": "HBoxModel",
      "_view_count": null,
      "_view_module": "@jupyter-widgets/controls",
      "_view_module_version": "1.5.0",
      "_view_name": "HBoxView",
      "box_style": "",
      "children": [
       "IPY_MODEL_eb4dd78f816b4fe0af235302d6e3494c",
       "IPY_MODEL_1d74e92576af4913bab59ff0a6e2db69",
       "IPY_MODEL_6b8de5f65a06499c9a0bf287a73c022b"
      ],
      "layout": "IPY_MODEL_54fc0d71af5b4727b79a79f161cf5af6"
     }
    },
    "54fc0d71af5b4727b79a79f161cf5af6": {
     "model_module": "@jupyter-widgets/base",
     "model_module_version": "1.2.0",
     "model_name": "LayoutModel",
     "state": {
      "_model_module": "@jupyter-widgets/base",
      "_model_module_version": "1.2.0",
      "_model_name": "LayoutModel",
      "_view_count": null,
      "_view_module": "@jupyter-widgets/base",
      "_view_module_version": "1.2.0",
      "_view_name": "LayoutView",
      "align_content": null,
      "align_items": null,
      "align_self": null,
      "border": null,
      "bottom": null,
      "display": null,
      "flex": null,
      "flex_flow": null,
      "grid_area": null,
      "grid_auto_columns": null,
      "grid_auto_flow": null,
      "grid_auto_rows": null,
      "grid_column": null,
      "grid_gap": null,
      "grid_row": null,
      "grid_template_areas": null,
      "grid_template_columns": null,
      "grid_template_rows": null,
      "height": null,
      "justify_content": null,
      "justify_items": null,
      "left": null,
      "margin": null,
      "max_height": null,
      "max_width": null,
      "min_height": null,
      "min_width": null,
      "object_fit": null,
      "object_position": null,
      "order": null,
      "overflow": null,
      "overflow_x": null,
      "overflow_y": null,
      "padding": null,
      "right": null,
      "top": null,
      "visibility": null,
      "width": null
     }
    },
    "6b8de5f65a06499c9a0bf287a73c022b": {
     "model_module": "@jupyter-widgets/controls",
     "model_module_version": "1.5.0",
     "model_name": "HTMLModel",
     "state": {
      "_dom_classes": [],
      "_model_module": "@jupyter-widgets/controls",
      "_model_module_version": "1.5.0",
      "_model_name": "HTMLModel",
      "_view_count": null,
      "_view_module": "@jupyter-widgets/controls",
      "_view_module_version": "1.5.0",
      "_view_name": "HTMLView",
      "description": "",
      "description_tooltip": null,
      "layout": "IPY_MODEL_8f3816af1c284da7b20f99c33c34eac5",
      "placeholder": "​",
      "style": "IPY_MODEL_e8e62438e5bc483ea693a9ea907bb2be",
      "value": " 682/682 [8:28:55&lt;00:00, 27.81s/it]"
     }
    },
    "8f3816af1c284da7b20f99c33c34eac5": {
     "model_module": "@jupyter-widgets/base",
     "model_module_version": "1.2.0",
     "model_name": "LayoutModel",
     "state": {
      "_model_module": "@jupyter-widgets/base",
      "_model_module_version": "1.2.0",
      "_model_name": "LayoutModel",
      "_view_count": null,
      "_view_module": "@jupyter-widgets/base",
      "_view_module_version": "1.2.0",
      "_view_name": "LayoutView",
      "align_content": null,
      "align_items": null,
      "align_self": null,
      "border": null,
      "bottom": null,
      "display": null,
      "flex": null,
      "flex_flow": null,
      "grid_area": null,
      "grid_auto_columns": null,
      "grid_auto_flow": null,
      "grid_auto_rows": null,
      "grid_column": null,
      "grid_gap": null,
      "grid_row": null,
      "grid_template_areas": null,
      "grid_template_columns": null,
      "grid_template_rows": null,
      "height": null,
      "justify_content": null,
      "justify_items": null,
      "left": null,
      "margin": null,
      "max_height": null,
      "max_width": null,
      "min_height": null,
      "min_width": null,
      "object_fit": null,
      "object_position": null,
      "order": null,
      "overflow": null,
      "overflow_x": null,
      "overflow_y": null,
      "padding": null,
      "right": null,
      "top": null,
      "visibility": null,
      "width": null
     }
    },
    "9f46ddf0aea14b0ab8f152168ab910e2": {
     "model_module": "@jupyter-widgets/base",
     "model_module_version": "1.2.0",
     "model_name": "LayoutModel",
     "state": {
      "_model_module": "@jupyter-widgets/base",
      "_model_module_version": "1.2.0",
      "_model_name": "LayoutModel",
      "_view_count": null,
      "_view_module": "@jupyter-widgets/base",
      "_view_module_version": "1.2.0",
      "_view_name": "LayoutView",
      "align_content": null,
      "align_items": null,
      "align_self": null,
      "border": null,
      "bottom": null,
      "display": null,
      "flex": null,
      "flex_flow": null,
      "grid_area": null,
      "grid_auto_columns": null,
      "grid_auto_flow": null,
      "grid_auto_rows": null,
      "grid_column": null,
      "grid_gap": null,
      "grid_row": null,
      "grid_template_areas": null,
      "grid_template_columns": null,
      "grid_template_rows": null,
      "height": null,
      "justify_content": null,
      "justify_items": null,
      "left": null,
      "margin": null,
      "max_height": null,
      "max_width": null,
      "min_height": null,
      "min_width": null,
      "object_fit": null,
      "object_position": null,
      "order": null,
      "overflow": null,
      "overflow_x": null,
      "overflow_y": null,
      "padding": null,
      "right": null,
      "top": null,
      "visibility": null,
      "width": null
     }
    },
    "ca21f6e0466c46c0a724041dfb225bb0": {
     "model_module": "@jupyter-widgets/controls",
     "model_module_version": "1.5.0",
     "model_name": "DescriptionStyleModel",
     "state": {
      "_model_module": "@jupyter-widgets/controls",
      "_model_module_version": "1.5.0",
      "_model_name": "DescriptionStyleModel",
      "_view_count": null,
      "_view_module": "@jupyter-widgets/base",
      "_view_module_version": "1.2.0",
      "_view_name": "StyleView",
      "description_width": ""
     }
    },
    "e8e62438e5bc483ea693a9ea907bb2be": {
     "model_module": "@jupyter-widgets/controls",
     "model_module_version": "1.5.0",
     "model_name": "DescriptionStyleModel",
     "state": {
      "_model_module": "@jupyter-widgets/controls",
      "_model_module_version": "1.5.0",
      "_model_name": "DescriptionStyleModel",
      "_view_count": null,
      "_view_module": "@jupyter-widgets/base",
      "_view_module_version": "1.2.0",
      "_view_name": "StyleView",
      "description_width": ""
     }
    },
    "eb4dd78f816b4fe0af235302d6e3494c": {
     "model_module": "@jupyter-widgets/controls",
     "model_module_version": "1.5.0",
     "model_name": "HTMLModel",
     "state": {
      "_dom_classes": [],
      "_model_module": "@jupyter-widgets/controls",
      "_model_module_version": "1.5.0",
      "_model_name": "HTMLModel",
      "_view_count": null,
      "_view_module": "@jupyter-widgets/controls",
      "_view_module_version": "1.5.0",
      "_view_name": "HTMLView",
      "description": "",
      "description_tooltip": null,
      "layout": "IPY_MODEL_9f46ddf0aea14b0ab8f152168ab910e2",
      "placeholder": "​",
      "style": "IPY_MODEL_ca21f6e0466c46c0a724041dfb225bb0",
      "value": "100%"
     }
    }
   }
  }
 },
 "nbformat": 4,
 "nbformat_minor": 4
}
